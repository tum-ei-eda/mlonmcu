{
 "cells": [
  {
   "cell_type": "markdown",
   "id": "afe8380d",
   "metadata": {
    "tags": [
     "papermill-error-cell-tag"
    ]
   },
   "source": [
    "<span style=\"color:red; font-family:Helvetica Neue, Helvetica, Arial, sans-serif; font-size:2em;\">An Exception was encountered at '<a href=\"#papermill-error-cell\">In [27]</a>'.</span>"
   ]
  },
  {
   "cell_type": "markdown",
   "id": "9478e4b0",
   "metadata": {
    "papermill": {
     "duration": 0.008762,
     "end_time": "2024-10-02T08:03:03.916558",
     "exception": false,
     "start_time": "2024-10-02T08:03:03.907796",
     "status": "completed"
    },
    "tags": []
   },
   "source": [
    "# MLonMCU"
   ]
  },
  {
   "cell_type": "markdown",
   "id": "32435a5e",
   "metadata": {
    "papermill": {
     "duration": 0.008,
     "end_time": "2024-10-02T08:03:03.932757",
     "exception": false,
     "start_time": "2024-10-02T08:03:03.924757",
     "status": "completed"
    },
    "tags": []
   },
   "source": [
    "<table class=\"tfo-notebook-buttons\" align=\"left\">\n",
    "  <td>\n",
    "    <a target=\"_blank\" href=\"https://colab.research.google.com/github/tum-ei-eda/mlonmcu/blob/main/ipynb/Demo.ipynb\"><img src=\"https://quantumai.google/site-assets/images/buttons/colab_logo_1x.png\" />Run in Google Colab</a>\n",
    "  </td>\n",
    "  <td>\n",
    "    <a target=\"_blank\" href=\"https://github.com/tum-ei-eda/mlonmcu/blob/main/ipynb/Demo.ipynb\"><img src=\"https://quantumai.google/site-assets/images/buttons/github_logo_1x.png\" />View source on GitHub</a>\n",
    "  </td>\n",
    "</table>"
   ]
  },
  {
   "cell_type": "markdown",
   "id": "8f7d087d",
   "metadata": {
    "papermill": {
     "duration": 0.007812,
     "end_time": "2024-10-02T08:03:03.948463",
     "exception": false,
     "start_time": "2024-10-02T08:03:03.940651",
     "status": "completed"
    },
    "tags": []
   },
   "source": [
    "## Prerequisites"
   ]
  },
  {
   "cell_type": "markdown",
   "id": "f5afa492",
   "metadata": {
    "papermill": {
     "duration": 0.007781,
     "end_time": "2024-10-02T08:03:03.964070",
     "exception": false,
     "start_time": "2024-10-02T08:03:03.956289",
     "status": "completed"
    },
    "tags": []
   },
   "source": [
    "Before running this notebook, make sure to run the following steps:\n",
    "\n",
    "1. Install the required software for your distribution:\n",
    "\n",
    "   See main `README.md` file!\n",
    "   \n",
    "2. Clone this repository\n",
    "\n",
    "   ```\n",
    "   git clone https://github.com/tum-ei-eda/mlonmcu.git\n",
    "   cd mlonmcu  # enter cloned repository\n",
    "   ```\n",
    "   \n",
    "3. Setup and enter a new virtualenv (Python 3.7+) for using `mlonmcu`:\n",
    "\n",
    "   ```\n",
    "   python -m venv .venv\n",
    "   source .venv/bin/activate\n",
    "   ```\n",
    "   \n",
    "   Hint: You can also use a `conda` environment for this.\n",
    "   \n",
    "4. Install mlonmcu package\n",
    "\n",
    "   ```\n",
    "   make install  # alternative: python setup.py install\n",
    "   ```\n",
    "   \n",
    "5. Install the required python packages:\n",
    "\n",
    "   ```\n",
    "   # pip install -r requirements.txt  # Done automatically via setup.py?\n",
    "   pip install -r ipynb/requirements.txt\n",
    "   ```\n",
    "   \n",
    "6. Launch this notebook in jupyter:\n",
    "\n",
    "   ```\n",
    "   jupyter notebook ipynb/Demo.ipynb\n",
    "   ```"
   ]
  },
  {
   "cell_type": "markdown",
   "id": "ade663bb",
   "metadata": {
    "papermill": {
     "duration": 0.007884,
     "end_time": "2024-10-02T08:03:03.979786",
     "exception": false,
     "start_time": "2024-10-02T08:03:03.971902",
     "status": "completed"
    },
    "tags": []
   },
   "source": [
    "*Hint for Developers:* If you do not want to install MLonMCU first, you can just replace `mlonmcu` with `python -m mlonmcu.cli.main` in every command to just use the latest development version."
   ]
  },
  {
   "cell_type": "markdown",
   "id": "b6d2c1cf",
   "metadata": {
    "papermill": {
     "duration": 0.007924,
     "end_time": "2024-10-02T08:03:03.995520",
     "exception": false,
     "start_time": "2024-10-02T08:03:03.987596",
     "status": "completed"
    },
    "tags": []
   },
   "source": [
    "## Demonstration (Command Line)"
   ]
  },
  {
   "cell_type": "markdown",
   "id": "0a460dde",
   "metadata": {
    "papermill": {
     "duration": 0.007767,
     "end_time": "2024-10-02T08:03:04.011167",
     "exception": false,
     "start_time": "2024-10-02T08:03:04.003400",
     "status": "completed"
    },
    "tags": []
   },
   "source": [
    "### Preface"
   ]
  },
  {
   "cell_type": "markdown",
   "id": "71105f6a",
   "metadata": {
    "papermill": {
     "duration": 0.007647,
     "end_time": "2024-10-02T08:03:04.026549",
     "exception": false,
     "start_time": "2024-10-02T08:03:04.018902",
     "status": "completed"
    },
    "tags": []
   },
   "source": [
    "This guide should give an idea on the required steps to setup and use MLonMCU using the command line interface. Usage examples are provided as well."
   ]
  },
  {
   "cell_type": "markdown",
   "id": "3744822c",
   "metadata": {
    "papermill": {
     "duration": 0.007721,
     "end_time": "2024-10-02T08:03:04.042081",
     "exception": false,
     "start_time": "2024-10-02T08:03:04.034360",
     "status": "completed"
    },
    "tags": []
   },
   "source": [
    "### Initialize a MLonMCU environment"
   ]
  },
  {
   "cell_type": "markdown",
   "id": "7113f996",
   "metadata": {
    "papermill": {
     "duration": 0.007685,
     "end_time": "2024-10-02T08:03:04.057467",
     "exception": false,
     "start_time": "2024-10-02T08:03:04.049782",
     "status": "completed"
    },
    "tags": []
   },
   "source": [
    "As MLonMCU requires a directory where dependencies, configurations, intermediate artifacts and results are stored, an environment needs to be initialized first. This also allows to use different configuration (e.g. enabled backends or supported features) for multiple environments."
   ]
  },
  {
   "cell_type": "markdown",
   "id": "23edf711",
   "metadata": {
    "papermill": {
     "duration": 0.007699,
     "end_time": "2024-10-02T08:03:04.072846",
     "exception": false,
     "start_time": "2024-10-02T08:03:04.065147",
     "status": "completed"
    },
    "tags": []
   },
   "source": [
    "Create and enter an environment diretcory first to initialize it afterwards:"
   ]
  },
  {
   "cell_type": "code",
   "execution_count": 1,
   "id": "167656d8",
   "metadata": {
    "execution": {
     "iopub.execute_input": "2024-10-02T08:03:04.089657Z",
     "iopub.status.busy": "2024-10-02T08:03:04.089383Z",
     "iopub.status.idle": "2024-10-02T08:03:08.135640Z",
     "shell.execute_reply": "2024-10-02T08:03:08.134958Z"
    },
    "papermill": {
     "duration": 4.056305,
     "end_time": "2024-10-02T08:03:08.136917",
     "exception": false,
     "start_time": "2024-10-02T08:03:04.080612",
     "status": "completed"
    },
    "tags": []
   },
   "outputs": [
    {
     "name": "stdout",
     "output_type": "stream",
     "text": [
      "Initializing ML on MCU environment\r\n",
      "Selected target directory: /tmp/mlonmcu_env\r\n",
      "The directory does not exist! - Created directory.\r\n",
      "Creating environment.yml based on template 'default'.\r\n",
      "Skipping creation of virtual environment. (already inside one)\r\n"
     ]
    },
    {
     "name": "stdout",
     "output_type": "stream",
     "text": [
      "Initializing directories in environment: deps plugins\r\n",
      "Finished. Please add `export MLONMCU_HOME=/tmp/mlonmcu_env` to your shell configuration to use it anywhere\r\n",
      "Recommended next step: `mlonmcu setup` inside your virtual environment.\r\n",
      "Optional: `mlonmcu setup -g`\r\n"
     ]
    }
   ],
   "source": [
    "# WARNING: execute this only once! Alternatively remove the environment directory beforehand to start from scratch.\n",
    "!test -d /tmp/mlonmcu_env && echo \"Skipped initialization of environment\" \\\n",
    "  || mlonmcu init /tmp/mlonmcu_env --non-interactive"
   ]
  },
  {
   "cell_type": "markdown",
   "id": "099ed602",
   "metadata": {
    "papermill": {
     "duration": 0.008058,
     "end_time": "2024-10-02T08:03:08.153570",
     "exception": false,
     "start_time": "2024-10-02T08:03:08.145512",
     "status": "completed"
    },
    "tags": []
   },
   "source": [
    "When not using a notebook, the option `--non-interactive` can be omitted which allows to customize the initialization process interactively."
   ]
  },
  {
   "cell_type": "markdown",
   "id": "cc331474",
   "metadata": {
    "papermill": {
     "duration": 0.007776,
     "end_time": "2024-10-02T08:03:08.169268",
     "exception": false,
     "start_time": "2024-10-02T08:03:08.161492",
     "status": "completed"
    },
    "tags": []
   },
   "source": [
    "If the environment directory is not passed to the `mlonmcu` script, it will try to setup a `default` environment in the users home directory (On Ubuntu: `~/.config/mlonmcu/environments/default/`) instead. By providing a `--name` of the virtual environment if will be automatically registered in `~/.config/mlonmcy/environments.ini` for the current user which helps to find and distinguish multiple installed environments on a machine."
   ]
  },
  {
   "cell_type": "markdown",
   "id": "be4527e6",
   "metadata": {
    "papermill": {
     "duration": 0.00785,
     "end_time": "2024-10-02T08:03:08.185433",
     "exception": false,
     "start_time": "2024-10-02T08:03:08.177583",
     "status": "completed"
    },
    "tags": []
   },
   "source": [
    "In the following the actual environment which should be used by the `mlonmcu` program has to be defined by the user either by defining the environment variable `MLONMCU_HOME` or by using the `-H` (`--home` or `--hint`) command line option. If none of this was done, the following rules are following to look for a suitable environment:\n",
    "\n",
    "1. Check if `$MLONMCU_HOME` points to a valid environment\n",
    "2. Use environment provided via the `-H` flag (path or registered name) if available\n",
    "3. If the local working directory is the root of an environment, use this directory\n",
    "4. If there is a default environment for the current user, fall back to this one instead"
   ]
  },
  {
   "cell_type": "code",
   "execution_count": 2,
   "id": "43e841d3",
   "metadata": {
    "execution": {
     "iopub.execute_input": "2024-10-02T08:03:08.202428Z",
     "iopub.status.busy": "2024-10-02T08:03:08.201948Z",
     "iopub.status.idle": "2024-10-02T08:03:08.205895Z",
     "shell.execute_reply": "2024-10-02T08:03:08.205344Z"
    },
    "papermill": {
     "duration": 0.013498,
     "end_time": "2024-10-02T08:03:08.206837",
     "exception": false,
     "start_time": "2024-10-02T08:03:08.193339",
     "status": "completed"
    },
    "tags": []
   },
   "outputs": [
    {
     "name": "stdout",
     "output_type": "stream",
     "text": [
      "env: MLONMCU_HOME=/tmp/mlonmcu_env\n"
     ]
    }
   ],
   "source": [
    "# Use this for bash: `export MLONMCU_HOME=/tmp/mlonmcu_env`\n",
    "%env MLONMCU_HOME=/tmp/mlonmcu_env"
   ]
  },
  {
   "cell_type": "markdown",
   "id": "9f59427f",
   "metadata": {
    "papermill": {
     "duration": 0.007951,
     "end_time": "2024-10-02T08:03:08.222856",
     "exception": false,
     "start_time": "2024-10-02T08:03:08.214905",
     "status": "completed"
    },
    "tags": []
   },
   "source": [
    "Registered environment can be listed via the command `mlonmcu env`. In addition there are possibilities to manually update entires in the environments file."
   ]
  },
  {
   "cell_type": "code",
   "execution_count": 3,
   "id": "8838f071",
   "metadata": {
    "execution": {
     "iopub.execute_input": "2024-10-02T08:03:08.239898Z",
     "iopub.status.busy": "2024-10-02T08:03:08.239472Z",
     "iopub.status.idle": "2024-10-02T08:03:09.419960Z",
     "shell.execute_reply": "2024-10-02T08:03:09.419143Z"
    },
    "papermill": {
     "duration": 1.190555,
     "end_time": "2024-10-02T08:03:09.421395",
     "exception": false,
     "start_time": "2024-10-02T08:03:08.230840",
     "status": "completed"
    },
    "tags": []
   },
   "outputs": [
    {
     "name": "stdout",
     "output_type": "stream",
     "text": [
      "Looking for user environments config file: /home/runner/.config/mlonmcu/environments.ini\r\n",
      "No mlonmcu environments were found for the current user. You can create a new one using `mlonmcu init`\r\n"
     ]
    }
   ],
   "source": [
    "!mlonmcu env"
   ]
  },
  {
   "cell_type": "markdown",
   "id": "789b567d",
   "metadata": {
    "papermill": {
     "duration": 0.008157,
     "end_time": "2024-10-02T08:03:09.454885",
     "exception": false,
     "start_time": "2024-10-02T08:03:09.446728",
     "status": "completed"
    },
    "tags": []
   },
   "source": [
    "### Customizing the created MLonMCU environment (optional)"
   ]
  },
  {
   "cell_type": "markdown",
   "id": "404b3bb1",
   "metadata": {
    "papermill": {
     "duration": 0.008094,
     "end_time": "2024-10-02T08:03:09.471257",
     "exception": false,
     "start_time": "2024-10-02T08:03:09.463163",
     "status": "completed"
    },
    "tags": []
   },
   "source": [
    "The environment was initialized by a template which can be found in the `templates/` directory of the repository chosen via the `--template` flag. Lets inspect the generated configuration file first:"
   ]
  },
  {
   "cell_type": "code",
   "execution_count": 4,
   "id": "64f1a4d5",
   "metadata": {
    "execution": {
     "iopub.execute_input": "2024-10-02T08:03:09.488778Z",
     "iopub.status.busy": "2024-10-02T08:03:09.488486Z",
     "iopub.status.idle": "2024-10-02T08:03:09.600086Z",
     "shell.execute_reply": "2024-10-02T08:03:09.599428Z"
    },
    "papermill": {
     "duration": 0.121677,
     "end_time": "2024-10-02T08:03:09.601097",
     "exception": false,
     "start_time": "2024-10-02T08:03:09.479420",
     "status": "completed"
    },
    "scrolled": true,
    "tags": []
   },
   "outputs": [
    {
     "name": "stdout",
     "output_type": "stream",
     "text": [
      "---\r\n",
      "# The MLONMCU_HOME is filled in automatically when creating the environment\r\n",
      "home: \"/tmp/mlonmcu_env\"\r\n",
      "logging:\r\n",
      "  level: DEBUG\r\n",
      "  to_file: false\r\n",
      "  rotate: false\r\n",
      "cleanup:\r\n",
      "  auto: true\r\n",
      "  keep: 50\r\n",
      "# Default locations for certain directoriescan be changed here\r\n",
      "# Non-absolute paths will always be threated relative to the MLONMCU_HOME\r\n",
      "paths:\r\n",
      "  # Where the dependencies are downloaded and installed\r\n",
      "  deps: deps\r\n",
      "  # If logging to file is used keep logs in this directory\r\n",
      "  logs: logs\r\n",
      "  # Location where reports and artifacts are written to\r\n",
      "  results: results\r\n",
      "  # Directory where custom extensions can be integrated\r\n",
      "  plugins: plugins\r\n",
      "  # Directory for intermediate build products, should be located on a large enough drive\r\n",
      "  temp: temp\r\n",
      "  # A collection of models which will be used to look for models\r\n",
      "  # The paths will be checked in the order defined here stopping at the first match\r\n",
      "  # Non-existant paths will be skipped without throwing an error\r\n",
      "  models:\r\n",
      "    - \"/tmp/mlonmcu_env/models\"\r\n",
      "    - \"/home/runner/.config/mlonmcu/models\"\r\n",
      "# Here default clone_urls\r\n",
      "repos:\r\n",
      "  tensorflow:\r\n",
      "    url: \"https://github.com/tensorflow/tflite-micro.git\"\r\n",
      "    ref: 93d4b1ccc6e0d1a9062acb1d79f21505daf9d940\r\n",
      "  tvm:\r\n",
      "    url: \"https://github.com/apache/tvm.git\"\r\n",
      "    # ref: de6d8067754d746d88262c530b5241b5577b9aae\r\n",
      "    ref: a9fcac1a47f4b57c1d9d828c7ed1d77452b02cc5\r\n",
      "    options:\r\n",
      "      recursive: true\r\n",
      "  tvm_extensions:\r\n",
      "    url: \"https://github.com/tum-ei-eda/tvm_extensions.git\"\r\n",
      "    ref: 859bbc89519b610d8adcdba0869d8b087887aabd\r\n",
      "  muriscvnn:\r\n",
      "    url: \"https://github.com/tum-ei-eda/muriscv-nn.git\"\r\n",
      "    ref: 71800396c2a07202265a8f92c85c33845a369494  # TODO: tag release\r\n",
      "  etiss:\r\n",
      "    url: \"https://github.com/tum-ei-eda/etiss.git\"\r\n",
      "    ref: 739573d5f12798074bc7d375a46c005f23f59f67  # develop, 23.01.2024\r\n",
      "  spike:\r\n",
      "    url: \"https://github.com/riscv-software-src/riscv-isa-sim.git\"\r\n",
      "    ref: 0bc176b3fca43560b9e8586cdbc41cfde073e17a\r\n",
      "  spikepk:\r\n",
      "    url: \"https://github.com/riscv-software-src/riscv-pk.git\"\r\n",
      "    ref: 7e9b671c0415dfd7b562ac934feb9380075d4aa2\r\n",
      "  cmsis:\r\n",
      "    # url: \"https://github.com/PhilippvK/CMSIS_5.git\"\r\n",
      "    url: \"https://github.com/ARM-software/CMSIS_5.git\"\r\n",
      "    ref: a75f01746df18bb5b929dfb8dc6c9407fac3a0f3\r\n",
      "    # ref: a75f01746df18bb5b929dfb8dc6c9407fac3a0f3\r\n",
      "  cmsisnn:\r\n",
      "    # url: \"https://github.com/PhilippvK/CMSIS-NN.git\"\r\n",
      "    url: \"https://github.com/ARM-software/CMSIS-NN.git\"\r\n",
      "    # ref: 35ce20560794ddc9e6d87006cad7a3bc665f8319  # v4.0.0 + portability patch\r\n",
      "    ref: 040da18234b597867bd54d736ca4ceae545b2853\r\n",
      "  mlif:\r\n",
      "    url: \"https://github.com/tum-ei-eda/mlonmcu-sw.git\"\r\n",
      "    ref: d0a79d92b5a8e767b947b214bda8743ec6318741\r\n",
      "  espidf:\r\n",
      "    url: \"https://github.com/espressif/esp-idf.git\"\r\n",
      "    ref: release/v4.4  # TODO: v5.2\r\n",
      "    options:\r\n",
      "      recursive: true\r\n",
      "  microtvm_etiss:\r\n",
      "    url: \"https://github.com/PhilippvK/microtvm-etiss-template.git\"\r\n",
      "    ref: b1e53bdae24bb35e53d7cdad2917a9090f7fa933\r\n",
      "  microtvm_spike:\r\n",
      "    url: \"https://github.com/PhilippvK/microtvm-spike-template.git\"\r\n",
      "    ref: ffba460345f5b8682e2a6cb315699ff872c6221e\r\n",
      "  zephyr:\r\n",
      "    url: \"https://github.com/zephyrproject-rtos/zephyr.git\"\r\n",
      "    ref: v3.2.0\r\n",
      "  tflite_pack:\r\n",
      "    url: \"https://github.com/tum-ei-eda/tflite-pack.git\"\r\n",
      "    ref: 2d31cafc941d3889b042af9c0a72b5f768ac4606\r\n",
      "  layergen:\r\n",
      "    url: \"https://github.com/PhilippvK/ml-layer-gen.git\"\r\n",
      "    ref: 8d27988fe3a50838521e7c7fb42193da717c5830\r\n",
      "  dtc:\r\n",
      "    url: \"https://github.com/dgibson/dtc.git\"\r\n",
      "    ref: main\r\n",
      "# Here all supported frameworks with their specific features are defined\r\n",
      "# Optionally disable unwanted or incomatible backends or features here\r\n",
      "# The configured defaults are used if no backend was specified in the command line options\r\n",
      "frameworks:\r\n",
      "  default: tvm\r\n",
      "  tflm:\r\n",
      "    enabled: true\r\n",
      "    backends:\r\n",
      "      default: tflmi\r\n",
      "      tflmi:\r\n",
      "        enabled: true\r\n",
      "        features:\r\n",
      "          debug_arena: true\r\n",
      "    features:\r\n",
      "      muriscvnn: true\r\n",
      "      cmsisnn: false\r\n",
      "  tvm:\r\n",
      "    enabled: true\r\n",
      "    backends:\r\n",
      "      default: tvmaot\r\n",
      "      tvmrt:\r\n",
      "        enabled: true\r\n",
      "        features:\r\n",
      "          debug_arena: true\r\n",
      "          disable_legalize: false\r\n",
      "          autotuned: true\r\n",
      "          moiopt: true\r\n",
      "      tvmaot:\r\n",
      "        enabled: true\r\n",
      "        features:\r\n",
      "          debug_arena: true\r\n",
      "          unpacked_api: true\r\n",
      "          usmp: true\r\n",
      "          disable_legalize: false\r\n",
      "          autotuned: true\r\n",
      "          moiopt: true\r\n",
      "      tvmaotplus:\r\n",
      "        enabled: true\r\n",
      "        features:\r\n",
      "          debug_arena: true\r\n",
      "          disable_legalize: false\r\n",
      "          autotuned: true\r\n",
      "          moiopt: true\r\n",
      "      tvmllvm:\r\n",
      "        enabled: true\r\n",
      "        features:\r\n",
      "          # unpacked_api: true\r\n",
      "          disable_legalize: false\r\n",
      "          autotuned: true\r\n",
      "          moiopt: true\r\n",
      "    features:\r\n",
      "      cmsisnnbyoc: false\r\n",
      "      muriscvnnbyoc: false\r\n",
      "# Some frontends are experimental and therefore disabled here\r\n",
      "# Features like packing are only available in certain environments\r\n",
      "frontends:\r\n",
      "  tflite:\r\n",
      "    enabled: true\r\n",
      "    features:\r\n",
      "      validate: true\r\n",
      "      visualize: true\r\n",
      "      split_layers: false\r\n",
      "  relay:\r\n",
      "    enabled: true\r\n",
      "    features:\r\n",
      "      relayviz: true\r\n",
      "  packed:\r\n",
      "    enabled: false\r\n",
      "    features:\r\n",
      "      packing: true\r\n",
      "      packed: true\r\n",
      "  onnx:\r\n",
      "    enabled: true\r\n",
      "  pb:\r\n",
      "    enabled: true\r\n",
      "  paddle:\r\n",
      "    enabled: true\r\n",
      "  layergen:\r\n",
      "    enabled: true\r\n",
      "  # TODO: saved_model (TF->TFLITE), ipynb (IPYNB->?)\r\n",
      "# Some targets/platforms support multiple toolchains\r\n",
      "toolchains:\r\n",
      "  gcc: true\r\n",
      "  llvm: true\r\n",
      "# Platform extend the number of supported targets\r\n",
      "platforms:\r\n",
      "  mlif:\r\n",
      "    enabled: true\r\n",
      "    features:\r\n",
      "      debug: true\r\n",
      "      validate: true\r\n",
      "      benchmark: true\r\n",
      "  espidf:\r\n",
      "    enabled: false\r\n",
      "    features:\r\n",
      "      debug: true\r\n",
      "  zephyr:\r\n",
      "    enabled: false\r\n",
      "    features:\r\n",
      "      debug: true\r\n",
      "  tvm:\r\n",
      "    enabled: true\r\n",
      "    features:\r\n",
      "      benchmark: true\r\n",
      "      tvm_rpc: true\r\n",
      "      autotune: true\r\n",
      "      tvm_profile: true\r\n",
      "  microtvm:\r\n",
      "    enabled: true\r\n",
      "    features: []\r\n",
      "      # validate: true\r\n",
      "# List of supported targets in the environment\r\n",
      "targets:\r\n",
      "  default: etiss\r\n",
      "  etiss_pulpino:\r\n",
      "    enabled: true\r\n",
      "    features:\r\n",
      "      gdbserver: true\r\n",
      "      etissdbg: true\r\n",
      "      trace: true\r\n",
      "      log_instrs: true\r\n",
      "      # vext: true\r\n",
      "      # pext: true\r\n",
      "  etiss:\r\n",
      "    enabled: true\r\n",
      "    features:\r\n",
      "      gdbserver: true\r\n",
      "      etissdbg: true\r\n",
      "      trace: true\r\n",
      "      log_instrs: true\r\n",
      "      # vext: true\r\n",
      "      # pext: true\r\n",
      "  host_x86:\r\n",
      "    enabled: true\r\n",
      "    features:\r\n",
      "      gdbserver: true\r\n",
      "  spike:\r\n",
      "    enabled: true\r\n",
      "    features:\r\n",
      "      vext: false\r\n",
      "      pext: false\r\n",
      "      cachesim: true\r\n",
      "      log_instrs: true\r\n",
      "  ovpsim:\r\n",
      "    enabled: false\r\n",
      "    features:\r\n",
      "      vext: false\r\n",
      "      pext: false\r\n",
      "      log_instrs: true\r\n",
      "  corstone300:\r\n",
      "    enabled: false\r\n",
      "    features:\r\n",
      "      ethosu: false\r\n",
      "      arm_mvei: true\r\n",
      "      arm_dsp: true\r\n",
      "  riscv_qemu:\r\n",
      "    enabled: true\r\n",
      "    features:\r\n",
      "      vext: false\r\n",
      "  microtvm_host:\r\n",
      "    enabled: true\r\n",
      "  microtvm_spike:\r\n",
      "    enabled: true\r\n",
      "  microtvm_zephyr:\r\n",
      "    enabled: false\r\n",
      "  microtvm_arduino:\r\n",
      "    enabled: false\r\n",
      "  microtvm_etiss:\r\n",
      "    enabled: true\r\n",
      "  microtvm_espidf:\r\n",
      "    enabled: false\r\n",
      "  tvm_cpu:\r\n",
      "    enabled: true\r\n",
      "postprocesses:\r\n",
      "  use:\r\n",
      "  # - detailed_cycles\r\n",
      "  # - average_cycles\r\n",
      "  # - filter_cols\r\n",
      "  # - features2cols\r\n",
      "  # - config2cols\r\n",
      "  # - bytes2kb\r\n",
      "  # - visualize\r\n",
      "# This is where further options such as specific versions of dependencies can be set in the furture\r\n",
      "vars:\r\n",
      "  allow_extensions: false\r\n",
      "  runs_per_stage: true\r\n",
      "  # tvm.make_tool: \"ninja\"\r\n",
      "  riscv_gcc.dl_url: \"https://syncandshare.lrz.de/dl/fiWBtDLWz17RBc1Yd4VDW7/GCC/default/2023.11.27/Ubuntu/20.04/rv32gc_ilp32d.tar.xz\"\r\n",
      "  riscv_gcc.dl_url_vext: \"https://syncandshare.lrz.de/dl/fiWBtDLWz17RBc1Yd4VDW7/GCC/default/2023.11.27/Ubuntu/20.04/rv32gcv_ilp32d.tar.xz\"\r\n",
      "  riscv_gcc.dl_url_pext: \"https://syncandshare.lrz.de/dl/fiWBtDLWz17RBc1Yd4VDW7/GCC/pext/2022.04.28/Ubuntu/20.04/rv32gcp_ilp32d.tar.xz\"\r\n",
      "flags:\r\n",
      "  tflmc.exe:\r\n",
      "  - x86"
     ]
    }
   ],
   "source": [
    "!cat $MLONMCU_HOME/environment.yml"
   ]
  },
  {
   "cell_type": "markdown",
   "id": "78b9eb23",
   "metadata": {
    "papermill": {
     "duration": 0.00845,
     "end_time": "2024-10-02T08:03:09.618254",
     "exception": false,
     "start_time": "2024-10-02T08:03:09.609804",
     "status": "completed"
    },
    "tags": []
   },
   "source": [
    "The environment should work out of the box, but feel free to update the contents of the `environment.yml` file to achieve one of the following:\n",
    "\n",
    "- Change the default paths used for dependencies, results, models,...\n",
    "- Use different forks/versions of a repository\n",
    "- Disable certain frameworks/backends to reduce the installation time in the next step.\n",
    "- Define which features are supported for the given repositories\n",
    "- Set default backends and targets\n",
    "- Define a set of default configuration variables\n",
    "\n",
    "To learn more about this, check out this document: `ENVIRONMENTS.md`"
   ]
  },
  {
   "cell_type": "markdown",
   "id": "10e74d0f",
   "metadata": {
    "papermill": {
     "duration": 0.008341,
     "end_time": "2024-10-02T08:03:09.635079",
     "exception": false,
     "start_time": "2024-10-02T08:03:09.626738",
     "status": "completed"
    },
    "tags": []
   },
   "source": [
    "### Setting up all MLonMCU dependencies"
   ]
  },
  {
   "cell_type": "markdown",
   "id": "fbc32554",
   "metadata": {
    "papermill": {
     "duration": 0.008295,
     "end_time": "2024-10-02T08:03:09.651876",
     "exception": false,
     "start_time": "2024-10-02T08:03:09.643581",
     "status": "completed"
    },
    "tags": []
   },
   "source": [
    "Depending on the enabled backends and features, a different set of dependencies has to be installed. To reduce the management effort for the user, all these versions are installed and managed automatically using MLonMCU. To trigger this process, run the following in the command line. (This will take a very long time with all frameworks/targets/features enabled when invoked for the first time)"
   ]
  },
  {
   "cell_type": "code",
   "execution_count": 5,
   "id": "6ecce763",
   "metadata": {
    "execution": {
     "iopub.execute_input": "2024-10-02T08:03:09.669922Z",
     "iopub.status.busy": "2024-10-02T08:03:09.669363Z",
     "iopub.status.idle": "2024-10-02T08:39:34.656479Z",
     "shell.execute_reply": "2024-10-02T08:39:34.655791Z"
    },
    "papermill": {
     "duration": 2184.997512,
     "end_time": "2024-10-02T08:39:34.657754",
     "exception": false,
     "start_time": "2024-10-02T08:03:09.660242",
     "status": "completed"
    },
    "scrolled": true,
    "tags": []
   },
   "outputs": [
    {
     "name": "stdout",
     "output_type": "stream",
     "text": [
      "INFO - No cache found in deps directory\r\n",
      "INFO - Installing dependencies...\r\n",
      "INFO - Processing task: clone_espidf\r\n"
     ]
    },
    {
     "name": "stdout",
     "output_type": "stream",
     "text": [
      "INFO - Processing task: clone_etiss\r\n"
     ]
    },
    {
     "name": "stdout",
     "output_type": "stream",
     "text": [
      "INFO - Processing task: clone_muriscvnn\r\n"
     ]
    },
    {
     "name": "stdout",
     "output_type": "stream",
     "text": [
      "INFO - Processing task: install_riscv_gcc{'pext': False, 'vext': False}\r\n"
     ]
    },
    {
     "name": "stdout",
     "output_type": "stream",
     "text": [
      "INFO - Processing task: clone_spike_pk\r\n"
     ]
    },
    {
     "name": "stdout",
     "output_type": "stream",
     "text": [
      "INFO - Processing task: clone_spike\r\n"
     ]
    },
    {
     "name": "stdout",
     "output_type": "stream",
     "text": [
      "INFO - Processing task: clone_tensorflow\r\n"
     ]
    },
    {
     "name": "stdout",
     "output_type": "stream",
     "text": [
      "INFO - Processing task: clone_tflite_pack\r\n"
     ]
    },
    {
     "name": "stdout",
     "output_type": "stream",
     "text": [
      "INFO - Processing task: clone_cmsisnn\r\n"
     ]
    },
    {
     "name": "stdout",
     "output_type": "stream",
     "text": [
      "INFO - Processing task: clone_tflite_micro_compiler\r\n"
     ]
    },
    {
     "name": "stdout",
     "output_type": "stream",
     "text": [
      "INFO - Processing task: clone_tvm_extensions\r\n"
     ]
    },
    {
     "name": "stdout",
     "output_type": "stream",
     "text": [
      "INFO - Processing task: install_llvm\r\n"
     ]
    },
    {
     "name": "stdout",
     "output_type": "stream",
     "text": [
      "INFO - Processing task: clone_utvm_staticrt_codegen\r\n"
     ]
    },
    {
     "name": "stdout",
     "output_type": "stream",
     "text": [
      "INFO - Processing task: clone_pulp_freertos\r\n"
     ]
    },
    {
     "name": "stdout",
     "output_type": "stream",
     "text": [
      "INFO - Processing task: clone_cv32e40p\r\n"
     ]
    },
    {
     "name": "stdout",
     "output_type": "stream",
     "text": [
      "INFO - Processing task: clone_corevverif\r\n"
     ]
    },
    {
     "name": "stdout",
     "output_type": "stream",
     "text": [
      "INFO - Processing task: clone_verilator\r\n"
     ]
    },
    {
     "name": "stdout",
     "output_type": "stream",
     "text": [
      "INFO - Processing task: clone_srecord\r\n"
     ]
    },
    {
     "name": "stdout",
     "output_type": "stream",
     "text": [
      "INFO - Processing task: clone_dtc\r\n"
     ]
    },
    {
     "name": "stdout",
     "output_type": "stream",
     "text": [
      "INFO - Processing task: install_corstone300\r\n"
     ]
    },
    {
     "name": "stdout",
     "output_type": "stream",
     "text": [
      "INFO - Processing task: install_arm_gcc\r\n"
     ]
    },
    {
     "name": "stdout",
     "output_type": "stream",
     "text": [
      "INFO - Processing task: clone_cmsis\r\n"
     ]
    },
    {
     "name": "stdout",
     "output_type": "stream",
     "text": [
      "INFO - Processing task: clone_ethosu_platform\r\n"
     ]
    },
    {
     "name": "stdout",
     "output_type": "stream",
     "text": [
      "INFO - Processing task: clone_microtvm_etiss\r\n"
     ]
    },
    {
     "name": "stdout",
     "output_type": "stream",
     "text": [
      "INFO - Processing task: clone_mlif\r\n"
     ]
    },
    {
     "name": "stdout",
     "output_type": "stream",
     "text": [
      "INFO - Processing task: clone_ara\r\n"
     ]
    },
    {
     "name": "stdout",
     "output_type": "stream",
     "text": [
      "INFO - Processing task: clone_microtvm_spike\r\n"
     ]
    },
    {
     "name": "stdout",
     "output_type": "stream",
     "text": [
      "INFO - Processing task: download_tflite_vizualize\r\n"
     ]
    },
    {
     "name": "stdout",
     "output_type": "stream",
     "text": [
      "INFO - Processing task: install_zephyr\r\n"
     ]
    },
    {
     "name": "stdout",
     "output_type": "stream",
     "text": [
      "INFO - Processing task: install_pulp_gcc\r\n"
     ]
    },
    {
     "name": "stdout",
     "output_type": "stream",
     "text": [
      "INFO - Processing task: clone_hannah_tvm\r\n"
     ]
    },
    {
     "name": "stdout",
     "output_type": "stream",
     "text": [
      "INFO - Processing task: install_corev_ovpsim\r\n"
     ]
    },
    {
     "name": "stdout",
     "output_type": "stream",
     "text": [
      "INFO - Processing task: clone_vicuna\r\n"
     ]
    },
    {
     "name": "stdout",
     "output_type": "stream",
     "text": [
      "INFO - Processing task: clone_benchmarks\r\n"
     ]
    },
    {
     "name": "stdout",
     "output_type": "stream",
     "text": [
      "INFO - Processing task: clone_layergen\r\n"
     ]
    },
    {
     "name": "stdout",
     "output_type": "stream",
     "text": [
      "INFO - Processing task: install_espidf\r\n"
     ]
    },
    {
     "name": "stdout",
     "output_type": "stream",
     "text": [
      "INFO - Processing task: clone_etiss_accelerator_plugins\r\n"
     ]
    },
    {
     "name": "stdout",
     "output_type": "stream",
     "text": [
      "INFO - Processing task: build_muriscvnn\r\n"
     ]
    },
    {
     "name": "stdout",
     "output_type": "stream",
     "text": [
      "INFO - Processing task: build_spike_pk{'arch': 'default'}\r\n"
     ]
    },
    {
     "name": "stdout",
     "output_type": "stream",
     "text": [
      "INFO - Processing task: build_spike\r\n"
     ]
    },
    {
     "name": "stdout",
     "output_type": "stream",
     "text": [
      "INFO - Processing task: build_tensorflow{'dbg': True}\r\n"
     ]
    },
    {
     "name": "stdout",
     "output_type": "stream",
     "text": [
      "INFO - Processing task: install_tflite_pack\r\n"
     ]
    },
    {
     "name": "stdout",
     "output_type": "stream",
     "text": [
      "INFO - Processing task: clone_tvm{'patch': False}\r\n"
     ]
    },
    {
     "name": "stdout",
     "output_type": "stream",
     "text": [
      "INFO - Processing task: install_gvsoc\r\n"
     ]
    },
    {
     "name": "stdout",
     "output_type": "stream",
     "text": [
      "INFO - Processing task: build_verilator\r\n"
     ]
    },
    {
     "name": "stdout",
     "output_type": "stream",
     "text": [
      "INFO - Processing task: build_srecord\r\n"
     ]
    },
    {
     "name": "stdout",
     "output_type": "stream",
     "text": [
      "INFO - Processing task: build_dtc\r\n"
     ]
    },
    {
     "name": "stdout",
     "output_type": "stream",
     "text": [
      "INFO - Processing task: build_etiss{'dbg': False}\r\n"
     ]
    },
    {
     "name": "stdout",
     "output_type": "stream",
     "text": [
      "INFO - Processing task: build_etiss{'dbg': True}\r\n"
     ]
    },
    {
     "name": "stdout",
     "output_type": "stream",
     "text": [
      "INFO - Processing task: build_tflite_micro_compiler\r\n"
     ]
    },
    {
     "name": "stdout",
     "output_type": "stream",
     "text": [
      "INFO - Processing task: clean_spike\r\n"
     ]
    },
    {
     "name": "stdout",
     "output_type": "stream",
     "text": [
      "INFO - Processing task: build_tvm{'cmsisnn': True, 'dbg': False}\r\n"
     ]
    },
    {
     "name": "stdout",
     "output_type": "stream",
     "text": [
      "WARNING - DEPRECATED: Please use utils.execute(..., ignore_output=True) instead of utils.exec(...)\r\n",
      "WARNING - DEPRECATED: Please use utils.execute(..., ignore_output=True) instead of utils.exec(...)\r\n",
      "WARNING - DEPRECATED: Please use utils.execute(..., ignore_output=True) instead of utils.exec(...)\r\n",
      "WARNING - DEPRECATED: Please use utils.execute(..., ignore_output=True) instead of utils.exec(...)\r\n",
      "WARNING - DEPRECATED: Please use utils.execute(..., ignore_output=True) instead of utils.exec(...)\r\n"
     ]
    },
    {
     "name": "stdout",
     "output_type": "stream",
     "text": [
      "INFO - Processing task: build_utvm_staticrt_codegen\r\n"
     ]
    },
    {
     "name": "stdout",
     "output_type": "stream",
     "text": [
      "INFO - Processing task: install_verilator\r\n"
     ]
    },
    {
     "name": "stdout",
     "output_type": "stream",
     "text": [
      "INFO - Processing task: install_etiss{'dbg': False}\r\n"
     ]
    },
    {
     "name": "stdout",
     "output_type": "stream",
     "text": [
      "INFO - Processing task: install_etiss{'dbg': True}\r\n"
     ]
    },
    {
     "name": "stdout",
     "output_type": "stream",
     "text": [
      "INFO - Processing task: install_tvm\r\n"
     ]
    },
    {
     "name": "stdout",
     "output_type": "stream",
     "text": [
      "INFO - Processing task: build_cv32e40p\r\n"
     ]
    },
    {
     "name": "stdout",
     "output_type": "stream",
     "text": [
      "INFO - Processing task: clean_etiss\r\n"
     ]
    },
    {
     "name": "stdout",
     "output_type": "stream",
     "text": [
      "INFO - Finished installing dependencies\r\n"
     ]
    }
   ],
   "source": [
    "!mlonmcu setup"
   ]
  },
  {
   "cell_type": "markdown",
   "id": "5b47bbba",
   "metadata": {
    "papermill": {
     "duration": 0.010827,
     "end_time": "2024-10-02T08:39:34.680080",
     "exception": false,
     "start_time": "2024-10-02T08:39:34.669253",
     "status": "completed"
    },
    "tags": []
   },
   "source": [
    "Some things need to be considered here:\n",
    "- Repositories are only cloned once, so upstream changes or updated urls/branches in the `environments.yml` are not detected automatically\n",
    "- The flag `--rebuild` can be passed to `mlonmcu setup` to ensure that the setup routine of every dependency is triggered again. However this does not guarentee that all artifacts are properly updated. Also there is a `--task` option which allows to invoke individual tasks manually.\n",
    "- To guarantee that the latest versions of a dependency are installed you can remove the `deps` directory manually or alternative use the provided `mlonmcu cleanup` utility. (Execute `mlonmcu cleanup --help` to learn more)\n",
    "- In addition to the installed dependencies, a file named `cache.ini` can be found in the environments `deps/` directory. Here all paths to relevant dependencies are stored with their different sets of flags."
   ]
  },
  {
   "cell_type": "markdown",
   "id": "8daa9d4a",
   "metadata": {
    "papermill": {
     "duration": 0.010752,
     "end_time": "2024-10-02T08:39:34.701616",
     "exception": false,
     "start_time": "2024-10-02T08:39:34.690864",
     "status": "completed"
    },
    "tags": []
   },
   "source": [
    "### Adding models to MLonMCU"
   ]
  },
  {
   "cell_type": "markdown",
   "id": "55518b0e",
   "metadata": {
    "papermill": {
     "duration": 0.010691,
     "end_time": "2024-10-02T08:39:34.723113",
     "exception": false,
     "start_time": "2024-10-02T08:39:34.712422",
     "status": "completed"
    },
    "tags": []
   },
   "source": [
    "By default, the `mlonmcu-models` repository (https://github.com/tum-ei-eda/mlonmcu-models) is cloned to each environment as its contents are designed to perfectly integrate into the MLonMCU flow. In addition a location in the users home directory (`~/.config/mlonmcu/models/` for Ubuntu) is also added to the search path as defined in the `environments.yml`. Feel free to add further model manually or alternatively clone a model-zoo (e.g. https://github.com/ARM-software/ML-zoo) to a random location on the disc and updating the list of model-paths in the environments' config file."
   ]
  },
  {
   "cell_type": "markdown",
   "id": "25d49e86",
   "metadata": {
    "papermill": {
     "duration": 0.010786,
     "end_time": "2024-10-02T08:39:34.744692",
     "exception": false,
     "start_time": "2024-10-02T08:39:34.733906",
     "status": "completed"
    },
    "tags": []
   },
   "source": [
    "To list all available models in a environment, the `mlonmcu models` subcommand can be used:"
   ]
  },
  {
   "cell_type": "code",
   "execution_count": 6,
   "id": "32db9a74",
   "metadata": {
    "execution": {
     "iopub.execute_input": "2024-10-02T08:39:34.767556Z",
     "iopub.status.busy": "2024-10-02T08:39:34.767026Z",
     "iopub.status.idle": "2024-10-02T08:39:36.054996Z",
     "shell.execute_reply": "2024-10-02T08:39:36.054140Z"
    },
    "papermill": {
     "duration": 1.300722,
     "end_time": "2024-10-02T08:39:36.056292",
     "exception": false,
     "start_time": "2024-10-02T08:39:34.755570",
     "status": "completed"
    },
    "scrolled": true,
    "tags": []
   },
   "outputs": [
    {
     "name": "stdout",
     "output_type": "stream",
     "text": [
      "INFO - Loading environment cache from file\r\n",
      "INFO - Successfully initialized cache\r\n"
     ]
    },
    {
     "name": "stdout",
     "output_type": "stream",
     "text": [
      "Models Summary\r\n",
      "\r\n",
      "Paths:\r\n",
      "    /tmp/mlonmcu_env/models\r\n",
      "    /home/runner/.config/mlonmcu/models\r\n",
      "\r\n",
      "Models:\r\n",
      "    MobileNetV2\r\n",
      "    MobileNetV2/MobileNet_V2\r\n",
      "    SMD_Ori_tflite\r\n",
      "    aww\r\n",
      "    bigsine_quant\r\n",
      "    catdog\r\n",
      "    catdog/CNN_2L_model_quantized\r\n",
      "    catdog/CNN_full_quantized\r\n",
      "    catdog/CNN_full_quantized_70_\r\n",
      "    catdog/CNN_model\r\n",
      "    catdog2\r\n",
      "    cifar10\r\n",
      "    cnn_s_quantized\r\n",
      "    layers/aww_layer0\r\n",
      "    layers/aww_layer1\r\n",
      "    layers/aww_layer10\r\n",
      "    layers/aww_layer11\r\n",
      "    layers/aww_layer12\r\n",
      "    layers/aww_layer2\r\n",
      "    layers/aww_layer3\r\n",
      "    layers/aww_layer4\r\n",
      "    layers/aww_layer5\r\n",
      "    layers/aww_layer6\r\n",
      "    layers/aww_layer7\r\n",
      "    layers/aww_layer8\r\n",
      "    layers/aww_layer9\r\n",
      "    layers/resnet_layer0\r\n",
      "    layers/resnet_layer1\r\n",
      "    layers/resnet_layer10\r\n",
      "    layers/resnet_layer11\r\n",
      "    layers/resnet_layer12\r\n",
      "    layers/resnet_layer13\r\n",
      "    layers/resnet_layer14\r\n",
      "    layers/resnet_layer15\r\n",
      "    layers/resnet_layer2\r\n",
      "    layers/resnet_layer3\r\n",
      "    layers/resnet_layer4\r\n",
      "    layers/resnet_layer5\r\n",
      "    layers/resnet_layer6\r\n",
      "    layers/resnet_layer7\r\n",
      "    layers/resnet_layer8\r\n",
      "    layers/resnet_layer9\r\n",
      "    layers/toycar_layer0\r\n",
      "    layers/toycar_layer1\r\n",
      "    layers/toycar_layer2\r\n",
      "    layers/toycar_layer3\r\n",
      "    layers/toycar_layer4\r\n",
      "    layers/toycar_layer5\r\n",
      "    layers/toycar_layer6\r\n",
      "    layers/toycar_layer7\r\n",
      "    layers/toycar_layer8\r\n",
      "    layers/toycar_layer9\r\n",
      "    layers/vww_layer0\r\n",
      "    layers/vww_layer1\r\n",
      "    layers/vww_layer10\r\n",
      "    layers/vww_layer11\r\n",
      "    layers/vww_layer12\r\n",
      "    layers/vww_layer13\r\n",
      "    layers/vww_layer14\r\n",
      "    layers/vww_layer15\r\n",
      "    layers/vww_layer16\r\n",
      "    layers/vww_layer17\r\n",
      "    layers/vww_layer18\r\n",
      "    layers/vww_layer19\r\n",
      "    layers/vww_layer2\r\n",
      "    layers/vww_layer20\r\n",
      "    layers/vww_layer21\r\n",
      "    layers/vww_layer22\r\n",
      "    layers/vww_layer23\r\n",
      "    layers/vww_layer24\r\n",
      "    layers/vww_layer25\r\n",
      "    layers/vww_layer26\r\n",
      "    layers/vww_layer27\r\n",
      "    layers/vww_layer28\r\n",
      "    layers/vww_layer29\r\n",
      "    layers/vww_layer3\r\n",
      "    layers/vww_layer30\r\n",
      "    layers/vww_layer4\r\n",
      "    layers/vww_layer5\r\n",
      "    layers/vww_layer6\r\n",
      "    layers/vww_layer7\r\n",
      "    layers/vww_layer8\r\n",
      "    layers/vww_layer9\r\n",
      "    lstm2\r\n",
      "    magic_wand\r\n",
      "    micro_kws_m_fp32\r\n",
      "    micro_kws_m_quantized\r\n",
      "    micro_speech\r\n",
      "    micro_speech_custom\r\n",
      "    micro_speech_custom_lr\r\n",
      "    micro_speech_custom_ud\r\n",
      "    mobilenet_v1_0_25_128\r\n",
      "    mobilenet_v1_10_224\r\n",
      "    mobilenet_v1_1_0_224_quant\r\n",
      "    mobilenetv1\r\n",
      "    person_detect\r\n",
      "    qnn_model\r\n",
      "    resnet\r\n",
      "    simple_mnist\r\n",
      "    simple_mnist/MNIST_best_model\r\n",
      "    simple_mnist/MNIST_model\r\n",
      "    simple_mnist/MNIST_model_quantized\r\n",
      "    simple_mnist/model_data\r\n",
      "    simple_mnist/model_data_pruned\r\n",
      "    simple_mnist/model_data_size_optimized\r\n",
      "    sine_model\r\n",
      "    sine_model/hello_world\r\n",
      "    ssd\r\n",
      "    text_class\r\n",
      "    toycar\r\n",
      "    umatest\r\n",
      "    vww\r\n",
      "\r\n",
      "Groups:\r\n",
      "    tinymlperf [4 models]\r\n",
      "    minimal [1 models]\r\n",
      "    tinymlbook [3 models]\r\n",
      "    embench [22 models]\r\n",
      "    taclebench [57 models]\r\n",
      "    polybench [30 models]\r\n",
      "    mathis [21 models]\r\n",
      "    mibench [10 models]\r\n"
     ]
    }
   ],
   "source": [
    "!mlonmcu models"
   ]
  },
  {
   "cell_type": "markdown",
   "id": "c38632a4",
   "metadata": {
    "papermill": {
     "duration": 0.011026,
     "end_time": "2024-10-02T08:39:36.078855",
     "exception": false,
     "start_time": "2024-10-02T08:39:36.067829",
     "status": "completed"
    },
    "tags": []
   },
   "source": [
    "The listed \"Paths\" should match the search paths defined in the `environments.yml` and are processed in the provided order. If there are multiple models of the same name, only the first one will be added to MLonMCU. By passing the `--detailed` flag to the command, additional information will be shown for each entry.\n",
    "\n",
    "TODO: allow to search/filter for models by passing an extra arg"
   ]
  },
  {
   "cell_type": "markdown",
   "id": "7feedc70",
   "metadata": {
    "papermill": {
     "duration": 0.010923,
     "end_time": "2024-10-02T08:39:36.100874",
     "exception": false,
     "start_time": "2024-10-02T08:39:36.089951",
     "status": "completed"
    },
    "tags": []
   },
   "source": [
    "In addition to individual models, predefined model-groups are also available. I.e. the MLPerf Tiny benchmark defined here:"
   ]
  },
  {
   "cell_type": "code",
   "execution_count": 7,
   "id": "aa765c5a",
   "metadata": {
    "execution": {
     "iopub.execute_input": "2024-10-02T08:39:36.124534Z",
     "iopub.status.busy": "2024-10-02T08:39:36.123996Z",
     "iopub.status.idle": "2024-10-02T08:39:36.235639Z",
     "shell.execute_reply": "2024-10-02T08:39:36.234815Z"
    },
    "papermill": {
     "duration": 0.125007,
     "end_time": "2024-10-02T08:39:36.236916",
     "exception": false,
     "start_time": "2024-10-02T08:39:36.111909",
     "status": "completed"
    },
    "tags": []
   },
   "outputs": [
    {
     "name": "stdout",
     "output_type": "stream",
     "text": [
      "---\r\n",
      "tinymlperf:\r\n",
      "  - aww\r\n",
      "  - vww\r\n",
      "  - resnet\r\n",
      "  - toycar\r\n",
      "\r\n",
      "minimal:\r\n",
      "  - sine_model\r\n",
      "\r\n",
      "tinymlbook:\r\n",
      "  - sine_model  # hello_world\r\n",
      "  - micro_speech\r\n",
      "  - magic_wand\r\n",
      "\r\n",
      "embench:\r\n",
      "  - edn\r\n",
      "  - crc32\r\n",
      "  - wikisort\r\n",
      "  - slre\r\n",
      "  - qrduino\r\n",
      "  - minver\r\n",
      "  - picojpeg\r\n",
      "  - tarfind\r\n",
      "  - st\r\n",
      "  - nsichneu\r\n",
      "  - statemate\r\n",
      "  - primecount\r\n",
      "  - md5sum\r\n",
      "  - nettle-sha256\r\n",
      "  - nettle-aes\r\n",
      "  - ud\r\n",
      "  - matmult-int\r\n",
      "  - aha-mont64\r\n",
      "  - huffbench\r\n",
      "  - cubic\r\n",
      "  - nbody\r\n",
      "  - sglib-combined\r\n",
      "\r\n",
      "taclebench:\r\n",
      "  - app/powerwindow\r\n",
      "  - app/lift\r\n",
      "  - sequential/epic\r\n",
      "  - sequential/huff_dec\r\n",
      "  - sequential/fmref\r\n",
      "  - sequential/h264_dec\r\n",
      "  - sequential/dijkstra\r\n",
      "  - sequential/adpcm_dec\r\n",
      "  - sequential/adpcm_enc\r\n",
      "  - sequential/gsm_dec\r\n",
      "  - sequential/rijndael_dec\r\n",
      "  - sequential/g723_enc\r\n",
      "  - sequential/huff_enc\r\n",
      "  - sequential/statemate\r\n",
      "  - sequential/susan\r\n",
      "  - sequential/gsm_enc\r\n",
      "  - sequential/ndes\r\n",
      "  - sequential/audiobeam\r\n",
      "  - sequential/rijndael_enc\r\n",
      "  - sequential/cjpeg_transupp\r\n",
      "  - sequential/ammunition\r\n",
      "  - sequential/mpeg2\r\n",
      "  - sequential/anagram\r\n",
      "  - sequential/cjpeg_wrbmp\r\n",
      "  - sequential/petrinet\r\n",
      "  - test/test3\r\n",
      "  - test/cover\r\n",
      "  - test/duff\r\n",
      "  - kernel/deg2rad\r\n",
      "  - kernel/matrix1\r\n",
      "  - kernel/binarysearch\r\n",
      "  - kernel/pm\r\n",
      "  - kernel/sha\r\n",
      "  - kernel/filterbank\r\n",
      "  - kernel/md5\r\n",
      "  - kernel/fir2dim\r\n",
      "  - kernel/fft\r\n",
      "  - kernel/minver\r\n",
      "  - kernel/lms\r\n",
      "  - kernel/bitcount\r\n",
      "  - kernel/st\r\n",
      "  - kernel/bsort\r\n",
      "  - kernel/bitonic\r\n",
      "  - kernel/iir\r\n",
      "  - kernel/prime\r\n",
      "  - kernel/jfdctint\r\n",
      "  - kernel/recursion\r\n",
      "  - kernel/complex_updates\r\n",
      "  - kernel/cosf\r\n",
      "  - kernel/insertsort\r\n",
      "  - kernel/fac\r\n",
      "  - kernel/rad2deg\r\n",
      "  - kernel/isqrt\r\n",
      "  - kernel/cubic\r\n",
      "  - kernel/ludcmp\r\n",
      "  - kernel/quicksort\r\n",
      "  - kernel/countnegative\r\n",
      "\r\n",
      "polybench:\r\n",
      "  - linear-algebra/solvers/gramschmidt\r\n",
      "  - linear-algebra/solvers/ludcmp\r\n",
      "  - linear-algebra/solvers/trisolv\r\n",
      "  - linear-algebra/solvers/durbin\r\n",
      "  - linear-algebra/solvers/lu\r\n",
      "  - linear-algebra/solvers/cholesky\r\n",
      "  - linear-algebra/kernels/atax\r\n",
      "  - linear-algebra/kernels/3mm\r\n",
      "  - linear-algebra/kernels/mvt\r\n",
      "  - linear-algebra/kernels/2mm\r\n",
      "  - linear-algebra/kernels/bicg\r\n",
      "  - linear-algebra/kernels/doitgen\r\n",
      "  - linear-algebra/blas/trmm\r\n",
      "  - linear-algebra/blas/gemver\r\n",
      "  - linear-algebra/blas/syrk\r\n",
      "  - linear-algebra/blas/gesummv\r\n",
      "  - linear-algebra/blas/syr2k\r\n",
      "  - linear-algebra/blas/symm\r\n",
      "  - linear-algebra/blas/gemm\r\n",
      "  - stencils/fdtd-2d\r\n",
      "  - stencils/seidel-2d\r\n",
      "  - stencils/adi\r\n",
      "  - stencils/jacobi-1d\r\n",
      "  - stencils/jacobi-2d\r\n",
      "  - stencils/heat-3d\r\n",
      "  - datamining/covariance\r\n",
      "  - datamining/correlation\r\n",
      "  - medley/deriche\r\n",
      "  - medley/nussinov\r\n",
      "  - medley/floyd-warshall\r\n",
      "\r\n",
      "mathis:\r\n",
      "  - to_upper\r\n",
      "  - add8\r\n",
      "  - add16\r\n",
      "  - gather_add8\r\n",
      "  - gather_add16\r\n",
      "  - scatter_add8\r\n",
      "  - scatter_add16\r\n",
      "  - dot8\r\n",
      "  - dot16\r\n",
      "  - saxpy8\r\n",
      "  - saxpy16\r\n",
      "  - matmul8\r\n",
      "  - matmul16\r\n",
      "  - matmul8_a\r\n",
      "  - matmul16_a\r\n",
      "  - transposed_matmul8\r\n",
      "  - transposed_matmul16\r\n",
      "  - transposed_matmul8_a\r\n",
      "  - transposed_matmul16_a\r\n",
      "  - transposed_matmul8_b\r\n",
      "  - transposed_matmul16_b\r\n",
      "\r\n",
      "mibench:\r\n",
      "  - telecomm/FFT\r\n",
      "  - telecomm/CRC32\r\n",
      "  - automotive/susan\r\n",
      "  - automotive/basicmath\r\n",
      "  - automotive/bitcount\r\n",
      "  - automotive/qsort\r\n",
      "  - security/sha\r\n",
      "  - security/rijndael\r\n",
      "  - network/dijkstra\r\n",
      "  - office/stringsearch\r\n"
     ]
    }
   ],
   "source": [
    "!cat $MLONMCU_HOME/models/modelgroups.yml"
   ]
  },
  {
   "cell_type": "markdown",
   "id": "fcf550a9",
   "metadata": {
    "papermill": {
     "duration": 0.011221,
     "end_time": "2024-10-02T08:39:36.259855",
     "exception": false,
     "start_time": "2024-10-02T08:39:36.248634",
     "status": "completed"
    },
    "tags": []
   },
   "source": [
    "Feel free to manualy define further model-groups for your needs."
   ]
  },
  {
   "cell_type": "markdown",
   "id": "eda64a8c",
   "metadata": {
    "papermill": {
     "duration": 0.011097,
     "end_time": "2024-10-02T08:39:36.282218",
     "exception": false,
     "start_time": "2024-10-02T08:39:36.271121",
     "status": "completed"
    },
    "tags": []
   },
   "source": [
    "### Running the MLonMCU flow"
   ]
  },
  {
   "cell_type": "markdown",
   "id": "15f53550",
   "metadata": {
    "papermill": {
     "duration": 0.011027,
     "end_time": "2024-10-02T08:39:36.304355",
     "exception": false,
     "start_time": "2024-10-02T08:39:36.293328",
     "status": "completed"
    },
    "tags": []
   },
   "source": [
    "The MLonMCU flow is a major part of the tool and therefore explained by several examples, starting with minimal use cases before discussing more complex examples later."
   ]
  },
  {
   "cell_type": "markdown",
   "id": "b4584f0d",
   "metadata": {
    "papermill": {
     "duration": 0.011089,
     "end_time": "2024-10-02T08:39:36.326529",
     "exception": false,
     "start_time": "2024-10-02T08:39:36.315440",
     "status": "completed"
    },
    "tags": []
   },
   "source": [
    "**Invoke a single model on the default backend/target**"
   ]
  },
  {
   "cell_type": "code",
   "execution_count": 8,
   "id": "d49d238e",
   "metadata": {
    "execution": {
     "iopub.execute_input": "2024-10-02T08:39:36.350117Z",
     "iopub.status.busy": "2024-10-02T08:39:36.349773Z",
     "iopub.status.idle": "2024-10-02T08:39:38.108648Z",
     "shell.execute_reply": "2024-10-02T08:39:38.107969Z"
    },
    "papermill": {
     "duration": 1.772295,
     "end_time": "2024-10-02T08:39:38.109983",
     "exception": false,
     "start_time": "2024-10-02T08:39:36.337688",
     "status": "completed"
    },
    "tags": []
   },
   "outputs": [
    {
     "name": "stdout",
     "output_type": "stream",
     "text": [
      "INFO - Loading environment cache from file\r\n",
      "INFO - Successfully initialized cache\r\n"
     ]
    },
    {
     "name": "stdout",
     "output_type": "stream",
     "text": [
      "INFO -  Processing stage LOAD\r\n",
      "INFO -  Processing stage BUILD\r\n"
     ]
    },
    {
     "name": "stdout",
     "output_type": "stream",
     "text": [
      "ERROR - Traceback (most recent call last):\r\n",
      "  File \"/opt/hostedtoolcache/Python/3.10.15/x64/lib/python3.10/runpy.py\", line 187, in _run_module_as_main\r\n",
      "    mod_name, mod_spec, code = _get_module_details(mod_name, _Error)\r\n",
      "  File \"/opt/hostedtoolcache/Python/3.10.15/x64/lib/python3.10/runpy.py\", line 110, in _get_module_details\r\n",
      "    __import__(pkg_name)\r\n",
      "  File \"/tmp/mlonmcu_env/deps/src/tvm/python/tvm/__init__.py\", line 79, in <module>\r\n",
      "    from . import micro\r\n",
      "  File \"/tmp/mlonmcu_env/deps/src/tvm/python/tvm/micro/__init__.py\", line 24, in <module>\r\n",
      "    from .model_library_format import (\r\n",
      "  File \"/tmp/mlonmcu_env/deps/src/tvm/python/tvm/micro/model_library_format.py\", line 35, in <module>\r\n",
      "    from ..relay import param_dict\r\n",
      "  File \"/tmp/mlonmcu_env/deps/src/tvm/python/tvm/relay/__init__.py\", line 29, in <module>\r\n",
      "    from . import prelude\r\n",
      "  File \"/tmp/mlonmcu_env/deps/src/tvm/python/tvm/relay/prelude.py\", line 21, in <module>\r\n",
      "    from tvm.relay.transform import ToANormalFormExpr\r\n",
      "  File \"/tmp/mlonmcu_env/deps/src/tvm/python/tvm/relay/transform/__init__.py\", line 20, in <module>\r\n",
      "    from .transform import *\r\n",
      "  File \"/tmp/mlonmcu_env/deps/src/tvm/python/tvm/relay/transform/transform.py\", line 30, in <module>\r\n",
      "    from ..backend.utils import mangle_module_name\r\n",
      "  File \"/tmp/mlonmcu_env/deps/src/tvm/python/tvm/relay/backend/__init__.py\", line 18, in <module>\r\n",
      "    from . import te_compiler\r\n",
      "  File \"/tmp/mlonmcu_env/deps/src/tvm/python/tvm/relay/backend/te_compiler.py\", line 25, in <module>\r\n",
      "    from tvm import autotvm, te\r\n",
      "  File \"/tmp/mlonmcu_env/deps/src/tvm/python/tvm/autotvm/__init__.py\", line 35, in <module>\r\n",
      "    from . import tuner\r\n",
      "  File \"/tmp/mlonmcu_env/deps/src/tvm/python/tvm/autotvm/tuner/__init__.py\", line 31, in <module>\r\n",
      "    from .droplet_turner import DropletTuner\r\n",
      "  File \"/tmp/mlonmcu_env/deps/src/tvm/python/tvm/autotvm/tuner/droplet_turner.py\", line 21, in <module>\r\n",
      "    from scipy import stats\r\n",
      "ModuleNotFoundError: No module named 'scipy'\r\n",
      "\r\n",
      "ERROR - The process returned an non-zero exit code 1! (CMD: `/tmp/Demo-YH5O/venv/bin/python3 -m tvm.driver.tvmc compile /tmp/mlonmcu_env/temp/sessions/0/runs/0/resnet.tflite --target c --target-c-mcpu generic-rv32 --target-c-model etiss-rv32gc --runtime crt --executor aot --pass-config tir.disable_vectorize=True --pass-config tir.usmp.enable=False --input-shapes \"input_1_int8:[1,32,32,3]\" --opt-level 3 --output /tmp/tmpxj3ehocq/default.tar -f mlf --model-format tflite --runtime-crt-system-lib 1 --executor-aot-unpacked-api 0 --executor-aot-interface-api packed --target-c-constants-byte-alignment 16 --target-c-workspace-byte-alignment 16`)\r\n",
      "Traceback (most recent call last):\r\n",
      "  File \"/home/runner/work/mlonmcu/mlonmcu/mlonmcu/session/run.py\", line 1090, in process\r\n",
      "    func()\r\n",
      "  File \"/home/runner/work/mlonmcu/mlonmcu/mlonmcu/session/run.py\", line 942, in build\r\n",
      "    _build()\r\n",
      "  File \"/home/runner/work/mlonmcu/mlonmcu/mlonmcu/session/run.py\", line 851, in _build\r\n",
      "    artifacts = self.backend.generate_artifacts()\r\n",
      "  File \"/home/runner/work/mlonmcu/mlonmcu/mlonmcu/flow/backend.py\", line 84, in generate_artifacts\r\n",
      "    artifacts, metrics = self.generate()\r\n",
      "  File \"/home/runner/work/mlonmcu/mlonmcu/mlonmcu/flow/tvm/backend/tvmaot.py\", line 96, in generate\r\n",
      "    artifacts, metrics = super().generate()\r\n",
      "  File \"/home/runner/work/mlonmcu/mlonmcu/mlonmcu/flow/tvm/backend/backend.py\", line 486, in generate\r\n",
      "    out = self.invoke_tvmc_compile(out_path, dump=dump, cwd=temp_dir)\r\n",
      "  File \"/home/runner/work/mlonmcu/mlonmcu/mlonmcu/flow/tvm/backend/backend.py\", line 425, in invoke_tvmc_compile\r\n",
      "    ret = self.invoke_tvmc(\"compile\", *args, cwd=cwd)\r\n",
      "  File \"/home/runner/work/mlonmcu/mlonmcu/mlonmcu/flow/tvm/backend/backend.py\", line 410, in invoke_tvmc\r\n",
      "    return utils.python(*pre, command, *args, live=self.print_outputs, env=env, cwd=cwd)\r\n",
      "  File \"/home/runner/work/mlonmcu/mlonmcu/mlonmcu/setup/utils.py\", line 322, in python\r\n",
      "    return execute(sys.executable, *args, **kwargs)\r\n",
      "  File \"/home/runner/work/mlonmcu/mlonmcu/mlonmcu/setup/utils.py\", line 305, in execute\r\n",
      "    assert exit_code == 0, \"The process returned an non-zero exit code {}! (CMD: `{}`)\".format(\r\n",
      "AssertionError: The process returned an non-zero exit code 1! (CMD: `/tmp/Demo-YH5O/venv/bin/python3 -m tvm.driver.tvmc compile /tmp/mlonmcu_env/temp/sessions/0/runs/0/resnet.tflite --target c --target-c-mcpu generic-rv32 --target-c-model etiss-rv32gc --runtime crt --executor aot --pass-config tir.disable_vectorize=True --pass-config tir.usmp.enable=False --input-shapes \"input_1_int8:[1,32,32,3]\" --opt-level 3 --output /tmp/tmpxj3ehocq/default.tar -f mlf --model-format tflite --runtime-crt-system-lib 1 --executor-aot-unpacked-api 0 --executor-aot-interface-api packed --target-c-constants-byte-alignment 16 --target-c-workspace-byte-alignment 16`)\r\n",
      "ERROR - [session-0] [run-0] Run failed at stage 'BUILD', aborting...\r\n",
      "INFO -  Processing stage COMPILE\r\n",
      "WARNING - Skiping stage 'COMPILE' for failed run\r\n",
      "INFO -  Processing stage RUN\r\n",
      "WARNING - Skiping stage 'RUN' for failed run\r\n",
      "ERROR - All runs have failed to complete!\r\n",
      "INFO - Postprocessing session report\r\n"
     ]
    },
    {
     "name": "stdout",
     "output_type": "stream",
     "text": [
      "INFO - Done processing runs\r\n",
      "INFO - Report:\r\n",
      "   Session  Run   Model Frontend Framework Backend          Platform Target  Incomplete Features                                             Config Postprocesses Comment  Failing                  Reason\r\n",
      "0        0    0  resnet   tflite       tvm  tvmaot  [microtvm, mlif]  etiss        True       []  {'resnet.output_types': {'Identity_int8': 'int...            []       -     True  AssertionError @ BUILD\r\n",
      "ERROR - At least one error occured!\r\n"
     ]
    }
   ],
   "source": [
    "!mlonmcu flow run resnet"
   ]
  },
  {
   "cell_type": "markdown",
   "id": "fde27af0",
   "metadata": {
    "papermill": {
     "duration": 0.012073,
     "end_time": "2024-10-02T08:39:38.134262",
     "exception": false,
     "start_time": "2024-10-02T08:39:38.122189",
     "status": "completed"
    },
    "tags": []
   },
   "source": [
    "While this looks pretty clean, in the background, there is a lot of thing being processed. You can find out more using the `--verbose` flag:"
   ]
  },
  {
   "cell_type": "code",
   "execution_count": 9,
   "id": "67b6fb50",
   "metadata": {
    "execution": {
     "iopub.execute_input": "2024-10-02T08:39:38.158109Z",
     "iopub.status.busy": "2024-10-02T08:39:38.157831Z",
     "iopub.status.idle": "2024-10-02T08:39:39.712966Z",
     "shell.execute_reply": "2024-10-02T08:39:39.712313Z"
    },
    "papermill": {
     "duration": 1.568641,
     "end_time": "2024-10-02T08:39:39.714233",
     "exception": false,
     "start_time": "2024-10-02T08:39:38.145592",
     "status": "completed"
    },
    "scrolled": true,
    "tags": []
   },
   "outputs": [
    {
     "name": "stdout",
     "output_type": "stream",
     "text": [
      "DEBUG - Cleaning up old sessions automaticaly\r\n",
      "DEBUG - Restored 1 recent sessions\r\n",
      "DEBUG - Enter MlonMcuContext\r\n",
      "DEBUG - Locking context\r\n",
      "INFO - Loading environment cache from file\r\n",
      "INFO - Successfully initialized cache\r\n",
      "DEBUG - Creating a new session with idx 1\r\n",
      "DEBUG - Found match. Ignoring other files\r\n",
      "DEBUG - Creating a new run with id 0\r\n"
     ]
    },
    {
     "name": "stdout",
     "output_type": "stream",
     "text": [
      "DEBUG - Found match. Ignoring other files\r\n",
      "INFO - [session-1]  Processing stage LOAD\r\n",
      "DEBUG - [session-1] [run-0] Continuing run from stage LOAD until stage LOAD\r\n",
      "DEBUG - [session-1] [run-0] Processing stage LOAD\r\n",
      "DEBUG - [session-1] [run-0] Exporting run to disk\r\n",
      "DEBUG - [session-1] [run-0] Writing run file\r\n",
      "INFO - [session-1]  Processing stage BUILD\r\n",
      "DEBUG - [session-1] [run-0] Continuing run from stage BUILD until stage BUILD\r\n",
      "DEBUG - [session-1] [run-0] Processing stage BUILD\r\n",
      "DEBUG - - Executing: ('/tmp/Demo-YH5O/venv/bin/python3', '-m', 'tvm.driver.tvmc', 'compile', PosixPath('/tmp/mlonmcu_env/temp/sessions/1/runs/0/resnet.tflite'), '--target', 'c', '--target-c-mcpu', 'generic-rv32', '--target-c-model', 'etiss-rv32gc', '--runtime', 'crt', '--executor', 'aot', '--pass-config', 'tir.disable_vectorize=True', '--pass-config', 'tir.usmp.enable=False', '--input-shapes', 'input_1_int8:[1,32,32,3]', '--opt-level', '3', '--output', '/tmp/tmpt6igr017/default.tar', '-f', 'mlf', '--model-format', 'tflite', '--runtime-crt-system-lib', '1', '--executor-aot-unpacked-api', '0', '--executor-aot-interface-api', 'packed', '--target-c-constants-byte-alignment', '16', '--target-c-workspace-byte-alignment', '16')\r\n",
      "DEBUG - - CWD: /tmp/tmpt6igr017\r\n"
     ]
    },
    {
     "name": "stdout",
     "output_type": "stream",
     "text": [
      "ERROR - Traceback (most recent call last):\r\n",
      "  File \"/opt/hostedtoolcache/Python/3.10.15/x64/lib/python3.10/runpy.py\", line 187, in _run_module_as_main\r\n",
      "    mod_name, mod_spec, code = _get_module_details(mod_name, _Error)\r\n",
      "  File \"/opt/hostedtoolcache/Python/3.10.15/x64/lib/python3.10/runpy.py\", line 110, in _get_module_details\r\n",
      "    __import__(pkg_name)\r\n",
      "  File \"/tmp/mlonmcu_env/deps/src/tvm/python/tvm/__init__.py\", line 79, in <module>\r\n",
      "    from . import micro\r\n",
      "  File \"/tmp/mlonmcu_env/deps/src/tvm/python/tvm/micro/__init__.py\", line 24, in <module>\r\n",
      "    from .model_library_format import (\r\n",
      "  File \"/tmp/mlonmcu_env/deps/src/tvm/python/tvm/micro/model_library_format.py\", line 35, in <module>\r\n",
      "    from ..relay import param_dict\r\n",
      "  File \"/tmp/mlonmcu_env/deps/src/tvm/python/tvm/relay/__init__.py\", line 29, in <module>\r\n",
      "    from . import prelude\r\n",
      "  File \"/tmp/mlonmcu_env/deps/src/tvm/python/tvm/relay/prelude.py\", line 21, in <module>\r\n",
      "    from tvm.relay.transform import ToANormalFormExpr\r\n",
      "  File \"/tmp/mlonmcu_env/deps/src/tvm/python/tvm/relay/transform/__init__.py\", line 20, in <module>\r\n",
      "    from .transform import *\r\n",
      "  File \"/tmp/mlonmcu_env/deps/src/tvm/python/tvm/relay/transform/transform.py\", line 30, in <module>\r\n",
      "    from ..backend.utils import mangle_module_name\r\n",
      "  File \"/tmp/mlonmcu_env/deps/src/tvm/python/tvm/relay/backend/__init__.py\", line 18, in <module>\r\n",
      "    from . import te_compiler\r\n",
      "  File \"/tmp/mlonmcu_env/deps/src/tvm/python/tvm/relay/backend/te_compiler.py\", line 25, in <module>\r\n",
      "    from tvm import autotvm, te\r\n",
      "  File \"/tmp/mlonmcu_env/deps/src/tvm/python/tvm/autotvm/__init__.py\", line 35, in <module>\r\n",
      "    from . import tuner\r\n",
      "  File \"/tmp/mlonmcu_env/deps/src/tvm/python/tvm/autotvm/tuner/__init__.py\", line 31, in <module>\r\n",
      "    from .droplet_turner import DropletTuner\r\n",
      "  File \"/tmp/mlonmcu_env/deps/src/tvm/python/tvm/autotvm/tuner/droplet_turner.py\", line 21, in <module>\r\n",
      "    from scipy import stats\r\n",
      "ModuleNotFoundError: No module named 'scipy'\r\n",
      "\r\n",
      "ERROR - The process returned an non-zero exit code 1! (CMD: `/tmp/Demo-YH5O/venv/bin/python3 -m tvm.driver.tvmc compile /tmp/mlonmcu_env/temp/sessions/1/runs/0/resnet.tflite --target c --target-c-mcpu generic-rv32 --target-c-model etiss-rv32gc --runtime crt --executor aot --pass-config tir.disable_vectorize=True --pass-config tir.usmp.enable=False --input-shapes \"input_1_int8:[1,32,32,3]\" --opt-level 3 --output /tmp/tmpt6igr017/default.tar -f mlf --model-format tflite --runtime-crt-system-lib 1 --executor-aot-unpacked-api 0 --executor-aot-interface-api packed --target-c-constants-byte-alignment 16 --target-c-workspace-byte-alignment 16`)\r\n",
      "Traceback (most recent call last):\r\n",
      "  File \"/home/runner/work/mlonmcu/mlonmcu/mlonmcu/session/run.py\", line 1090, in process\r\n",
      "    func()\r\n",
      "  File \"/home/runner/work/mlonmcu/mlonmcu/mlonmcu/session/run.py\", line 942, in build\r\n",
      "    _build()\r\n",
      "  File \"/home/runner/work/mlonmcu/mlonmcu/mlonmcu/session/run.py\", line 851, in _build\r\n",
      "    artifacts = self.backend.generate_artifacts()\r\n",
      "  File \"/home/runner/work/mlonmcu/mlonmcu/mlonmcu/flow/backend.py\", line 84, in generate_artifacts\r\n",
      "    artifacts, metrics = self.generate()\r\n",
      "  File \"/home/runner/work/mlonmcu/mlonmcu/mlonmcu/flow/tvm/backend/tvmaot.py\", line 96, in generate\r\n",
      "    artifacts, metrics = super().generate()\r\n",
      "  File \"/home/runner/work/mlonmcu/mlonmcu/mlonmcu/flow/tvm/backend/backend.py\", line 486, in generate\r\n",
      "    out = self.invoke_tvmc_compile(out_path, dump=dump, cwd=temp_dir)\r\n",
      "  File \"/home/runner/work/mlonmcu/mlonmcu/mlonmcu/flow/tvm/backend/backend.py\", line 425, in invoke_tvmc_compile\r\n",
      "    ret = self.invoke_tvmc(\"compile\", *args, cwd=cwd)\r\n",
      "  File \"/home/runner/work/mlonmcu/mlonmcu/mlonmcu/flow/tvm/backend/backend.py\", line 410, in invoke_tvmc\r\n",
      "    return utils.python(*pre, command, *args, live=self.print_outputs, env=env, cwd=cwd)\r\n",
      "  File \"/home/runner/work/mlonmcu/mlonmcu/mlonmcu/setup/utils.py\", line 322, in python\r\n",
      "    return execute(sys.executable, *args, **kwargs)\r\n",
      "  File \"/home/runner/work/mlonmcu/mlonmcu/mlonmcu/setup/utils.py\", line 305, in execute\r\n",
      "    assert exit_code == 0, \"The process returned an non-zero exit code {}! (CMD: `{}`)\".format(\r\n",
      "AssertionError: The process returned an non-zero exit code 1! (CMD: `/tmp/Demo-YH5O/venv/bin/python3 -m tvm.driver.tvmc compile /tmp/mlonmcu_env/temp/sessions/1/runs/0/resnet.tflite --target c --target-c-mcpu generic-rv32 --target-c-model etiss-rv32gc --runtime crt --executor aot --pass-config tir.disable_vectorize=True --pass-config tir.usmp.enable=False --input-shapes \"input_1_int8:[1,32,32,3]\" --opt-level 3 --output /tmp/tmpt6igr017/default.tar -f mlf --model-format tflite --runtime-crt-system-lib 1 --executor-aot-unpacked-api 0 --executor-aot-interface-api packed --target-c-constants-byte-alignment 16 --target-c-workspace-byte-alignment 16`)\r\n",
      "ERROR - [session-1] [run-0] Run failed at stage 'BUILD', aborting...\r\n",
      "DEBUG - [session-1] [run-0] Exporting run to disk\r\n",
      "DEBUG - [session-1] [run-0] Writing run file\r\n",
      "INFO - [session-1]  Processing stage COMPILE\r\n",
      "WARNING - Skiping stage 'COMPILE' for failed run\r\n",
      "INFO - [session-1]  Processing stage RUN\r\n",
      "WARNING - Skiping stage 'RUN' for failed run\r\n",
      "ERROR - All runs have failed to complete!\r\n",
      "INFO - Postprocessing session report\r\n"
     ]
    },
    {
     "name": "stdout",
     "output_type": "stream",
     "text": [
      "INFO - [session-1] Done processing runs\r\n",
      "INFO - Report:\r\n",
      "   Session  Run   Model Frontend Framework Backend          Platform Target  Incomplete Features                                             Config Postprocesses Comment  Failing                  Reason\r\n",
      "0        1    0  resnet   tflite       tvm  tvmaot  [microtvm, mlif]  etiss        True       []  {'resnet.output_types': {'Identity_int8': 'int...            []       -     True  AssertionError @ BUILD\r\n",
      "ERROR - At least one error occured!\r\n",
      "DEBUG - Exit MlonMcuContext\r\n",
      "DEBUG - Cleaning up active sessions\r\n",
      "DEBUG - Releasing lock on context\r\n"
     ]
    }
   ],
   "source": [
    "!mlonmcu flow run resnet --verbose"
   ]
  },
  {
   "cell_type": "markdown",
   "id": "4812f846",
   "metadata": {
    "papermill": {
     "duration": 0.011811,
     "end_time": "2024-10-02T08:39:39.738398",
     "exception": false,
     "start_time": "2024-10-02T08:39:39.726587",
     "status": "completed"
    },
    "tags": []
   },
   "source": [
    "The report of a run is typically the first thing to check out after invoking MLonMCU. It will be automatically written to the `results` directory declared in the `environments.yml`:"
   ]
  },
  {
   "cell_type": "code",
   "execution_count": 10,
   "id": "a6e147f8",
   "metadata": {
    "execution": {
     "iopub.execute_input": "2024-10-02T08:39:39.763114Z",
     "iopub.status.busy": "2024-10-02T08:39:39.762673Z",
     "iopub.status.idle": "2024-10-02T08:39:39.873542Z",
     "shell.execute_reply": "2024-10-02T08:39:39.872950Z"
    },
    "papermill": {
     "duration": 0.124409,
     "end_time": "2024-10-02T08:39:39.874649",
     "exception": false,
     "start_time": "2024-10-02T08:39:39.750240",
     "status": "completed"
    },
    "scrolled": true,
    "tags": []
   },
   "outputs": [
    {
     "name": "stdout",
     "output_type": "stream",
     "text": [
      "/tmp/mlonmcu_env/results/unnamed_20241002T083937.csv\r\n",
      "/tmp/mlonmcu_env/results/unnamed_20241002T083939.csv\r\n"
     ]
    }
   ],
   "source": [
    "!ls $MLONMCU_HOME/results/*.csv"
   ]
  },
  {
   "cell_type": "markdown",
   "id": "f1ffb5b9",
   "metadata": {
    "papermill": {
     "duration": 0.011808,
     "end_time": "2024-10-02T08:39:39.898579",
     "exception": false,
     "start_time": "2024-10-02T08:39:39.886771",
     "status": "completed"
    },
    "tags": []
   },
   "source": [
    "Let's define some helper functions to print these reports as a table. Of course you could also just open them i.e. with Excel! "
   ]
  },
  {
   "cell_type": "code",
   "execution_count": 11,
   "id": "3ca15186",
   "metadata": {
    "execution": {
     "iopub.execute_input": "2024-10-02T08:39:39.923196Z",
     "iopub.status.busy": "2024-10-02T08:39:39.922957Z",
     "iopub.status.idle": "2024-10-02T08:39:40.186331Z",
     "shell.execute_reply": "2024-10-02T08:39:40.185723Z"
    },
    "papermill": {
     "duration": 0.277234,
     "end_time": "2024-10-02T08:39:40.187626",
     "exception": false,
     "start_time": "2024-10-02T08:39:39.910392",
     "status": "completed"
    },
    "tags": []
   },
   "outputs": [],
   "source": [
    "from helpers import tabularize_latest_report"
   ]
  },
  {
   "cell_type": "markdown",
   "id": "849d148a",
   "metadata": {
    "papermill": {
     "duration": 0.011855,
     "end_time": "2024-10-02T08:39:40.212041",
     "exception": false,
     "start_time": "2024-10-02T08:39:40.200186",
     "status": "completed"
    },
    "tags": []
   },
   "source": [
    "In the following line the results or the latest run should be printed as a Pandas dataframe:"
   ]
  },
  {
   "cell_type": "code",
   "execution_count": 12,
   "id": "6d224b05",
   "metadata": {
    "execution": {
     "iopub.execute_input": "2024-10-02T08:39:40.236808Z",
     "iopub.status.busy": "2024-10-02T08:39:40.236148Z",
     "iopub.status.idle": "2024-10-02T08:39:40.253778Z",
     "shell.execute_reply": "2024-10-02T08:39:40.253114Z"
    },
    "papermill": {
     "duration": 0.031057,
     "end_time": "2024-10-02T08:39:40.254837",
     "exception": false,
     "start_time": "2024-10-02T08:39:40.223780",
     "status": "completed"
    },
    "tags": []
   },
   "outputs": [
    {
     "data": {
      "text/html": [
       "<div>\n",
       "<style scoped>\n",
       "    .dataframe tbody tr th:only-of-type {\n",
       "        vertical-align: middle;\n",
       "    }\n",
       "\n",
       "    .dataframe tbody tr th {\n",
       "        vertical-align: top;\n",
       "    }\n",
       "\n",
       "    .dataframe thead th {\n",
       "        text-align: right;\n",
       "    }\n",
       "</style>\n",
       "<table border=\"1\" class=\"dataframe\">\n",
       "  <thead>\n",
       "    <tr style=\"text-align: right;\">\n",
       "      <th></th>\n",
       "      <th>Session</th>\n",
       "      <th>Run</th>\n",
       "      <th>Model</th>\n",
       "      <th>Frontend</th>\n",
       "      <th>Framework</th>\n",
       "      <th>Backend</th>\n",
       "      <th>Platform</th>\n",
       "      <th>Target</th>\n",
       "      <th>Incomplete</th>\n",
       "      <th>Features</th>\n",
       "      <th>Config</th>\n",
       "      <th>Postprocesses</th>\n",
       "      <th>Comment</th>\n",
       "      <th>Failing</th>\n",
       "      <th>Reason</th>\n",
       "    </tr>\n",
       "  </thead>\n",
       "  <tbody>\n",
       "    <tr>\n",
       "      <th>0</th>\n",
       "      <td>1</td>\n",
       "      <td>0</td>\n",
       "      <td>resnet</td>\n",
       "      <td>tflite</td>\n",
       "      <td>tvm</td>\n",
       "      <td>tvmaot</td>\n",
       "      <td>['microtvm', 'mlif']</td>\n",
       "      <td>etiss</td>\n",
       "      <td>True</td>\n",
       "      <td>[]</td>\n",
       "      <td>{'resnet.output_types': {'Identity_int8': 'int...</td>\n",
       "      <td>[]</td>\n",
       "      <td>-</td>\n",
       "      <td>True</td>\n",
       "      <td>AssertionError @ BUILD</td>\n",
       "    </tr>\n",
       "  </tbody>\n",
       "</table>\n",
       "</div>"
      ],
      "text/plain": [
       "   Session  Run   Model Frontend Framework Backend              Platform  \\\n",
       "0        1    0  resnet   tflite       tvm  tvmaot  ['microtvm', 'mlif']   \n",
       "\n",
       "  Target  Incomplete Features  \\\n",
       "0  etiss        True       []   \n",
       "\n",
       "                                              Config Postprocesses Comment  \\\n",
       "0  {'resnet.output_types': {'Identity_int8': 'int...            []       -   \n",
       "\n",
       "   Failing                  Reason  \n",
       "0     True  AssertionError @ BUILD  "
      ]
     },
     "execution_count": 12,
     "metadata": {},
     "output_type": "execute_result"
    }
   ],
   "source": [
    "tabularize_latest_report()"
   ]
  },
  {
   "cell_type": "markdown",
   "id": "c769e10e",
   "metadata": {
    "papermill": {
     "duration": 0.011903,
     "end_time": "2024-10-02T08:39:40.278972",
     "exception": false,
     "start_time": "2024-10-02T08:39:40.267069",
     "status": "completed"
    },
    "tags": []
   },
   "source": [
    "The artifacts for every invocation of the MLonMCU flow can be found in directory inside the environment. Your can find the latest files like this:"
   ]
  },
  {
   "cell_type": "code",
   "execution_count": 13,
   "id": "6483d068",
   "metadata": {
    "execution": {
     "iopub.execute_input": "2024-10-02T08:39:40.303958Z",
     "iopub.status.busy": "2024-10-02T08:39:40.303532Z",
     "iopub.status.idle": "2024-10-02T08:39:40.306300Z",
     "shell.execute_reply": "2024-10-02T08:39:40.305764Z"
    },
    "papermill": {
     "duration": 0.016337,
     "end_time": "2024-10-02T08:39:40.307239",
     "exception": false,
     "start_time": "2024-10-02T08:39:40.290902",
     "status": "completed"
    },
    "tags": []
   },
   "outputs": [],
   "source": [
    "# Install the `tree` package before running this cell!\n",
    "# !tree -L 3 $MLONMCU_HOME/temp/sessions/latest/"
   ]
  },
  {
   "cell_type": "markdown",
   "id": "857b4a47",
   "metadata": {
    "papermill": {
     "duration": 0.012,
     "end_time": "2024-10-02T08:39:40.331445",
     "exception": false,
     "start_time": "2024-10-02T08:39:40.319445",
     "status": "completed"
    },
    "tags": []
   },
   "source": [
    "However there is a more comfortable way to do this: `mlonmcu export`"
   ]
  },
  {
   "cell_type": "code",
   "execution_count": 14,
   "id": "a03858fa",
   "metadata": {
    "execution": {
     "iopub.execute_input": "2024-10-02T08:39:40.357148Z",
     "iopub.status.busy": "2024-10-02T08:39:40.356534Z",
     "iopub.status.idle": "2024-10-02T08:39:41.642598Z",
     "shell.execute_reply": "2024-10-02T08:39:41.641820Z"
    },
    "papermill": {
     "duration": 1.300344,
     "end_time": "2024-10-02T08:39:41.643885",
     "exception": false,
     "start_time": "2024-10-02T08:39:40.343541",
     "status": "completed"
    },
    "tags": []
   },
   "outputs": [
    {
     "name": "stdout",
     "output_type": "stream",
     "text": [
      "INFO - Loading environment cache from file\r\n",
      "INFO - Successfully initialized cache\r\n",
      "Creating directory: /tmp/some_directory\r\n",
      "Done\r\n"
     ]
    }
   ],
   "source": [
    "!mkdir -p /tmp/some_directory\n",
    "!mlonmcu export /tmp/some_directory --run -f # By default this exports the latest run of the latest session"
   ]
  },
  {
   "cell_type": "markdown",
   "id": "18969447",
   "metadata": {
    "papermill": {
     "duration": 0.011988,
     "end_time": "2024-10-02T08:39:41.668537",
     "exception": false,
     "start_time": "2024-10-02T08:39:41.656549",
     "status": "completed"
    },
    "tags": []
   },
   "source": [
    "Check out `mlonmcu export --help` to learn learn how to get the most out of this command. There is also a utility called `mlonmcu cleanup` which helps to get rid of old files after exporting the useful ones."
   ]
  },
  {
   "cell_type": "markdown",
   "id": "d5ee098e",
   "metadata": {
    "papermill": {
     "duration": 0.012133,
     "end_time": "2024-10-02T08:39:41.692642",
     "exception": false,
     "start_time": "2024-10-02T08:39:41.680509",
     "status": "completed"
    },
    "tags": []
   },
   "source": [
    "There exist multiple stages which can be processed. The subcommand passed to `mlonmcu flow` defines the stage where the flow should stop. If you are only interested in intermediate artifacts of the process, use one of the following:\n",
    "\n",
    "```\n",
    "mlonmcu flow load  # only process the model with the frontend\n",
    "mlonmcu flow build  # invoke the chosen backend to generate code\n",
    "mlonmcu flow compile  # (cross-)compile the code for the chosen target\n",
    "```\n",
    "\n",
    "Further commands are available to achive further behavior:\n",
    "\n",
    "```\n",
    "mlonmcu flow test  # use provided model-data to invoke the models comparing their outputs with a golden reference\n",
    "```"
   ]
  },
  {
   "cell_type": "markdown",
   "id": "48ce915e",
   "metadata": {
    "papermill": {
     "duration": 0.011908,
     "end_time": "2024-10-02T08:39:41.716427",
     "exception": false,
     "start_time": "2024-10-02T08:39:41.704519",
     "status": "completed"
    },
    "tags": []
   },
   "source": [
    "**Explicitly specify the backend and target to use for the flow**"
   ]
  },
  {
   "cell_type": "code",
   "execution_count": 15,
   "id": "47621bbc",
   "metadata": {
    "execution": {
     "iopub.execute_input": "2024-10-02T08:39:41.741728Z",
     "iopub.status.busy": "2024-10-02T08:39:41.741161Z",
     "iopub.status.idle": "2024-10-02T08:39:43.307709Z",
     "shell.execute_reply": "2024-10-02T08:39:43.307017Z"
    },
    "papermill": {
     "duration": 1.580645,
     "end_time": "2024-10-02T08:39:43.308996",
     "exception": false,
     "start_time": "2024-10-02T08:39:41.728351",
     "status": "completed"
    },
    "tags": []
   },
   "outputs": [
    {
     "name": "stdout",
     "output_type": "stream",
     "text": [
      "INFO - Loading environment cache from file\r\n",
      "INFO - Successfully initialized cache\r\n"
     ]
    },
    {
     "name": "stdout",
     "output_type": "stream",
     "text": [
      "INFO - [session-2]  Processing stage LOAD\r\n",
      "INFO - [session-2]  Processing stage BUILD\r\n"
     ]
    },
    {
     "name": "stdout",
     "output_type": "stream",
     "text": [
      "ERROR - Traceback (most recent call last):\r\n",
      "  File \"/opt/hostedtoolcache/Python/3.10.15/x64/lib/python3.10/runpy.py\", line 187, in _run_module_as_main\r\n",
      "    mod_name, mod_spec, code = _get_module_details(mod_name, _Error)\r\n",
      "  File \"/opt/hostedtoolcache/Python/3.10.15/x64/lib/python3.10/runpy.py\", line 110, in _get_module_details\r\n",
      "    __import__(pkg_name)\r\n",
      "  File \"/tmp/mlonmcu_env/deps/src/tvm/python/tvm/__init__.py\", line 79, in <module>\r\n",
      "    from . import micro\r\n",
      "  File \"/tmp/mlonmcu_env/deps/src/tvm/python/tvm/micro/__init__.py\", line 24, in <module>\r\n",
      "    from .model_library_format import (\r\n",
      "  File \"/tmp/mlonmcu_env/deps/src/tvm/python/tvm/micro/model_library_format.py\", line 35, in <module>\r\n",
      "    from ..relay import param_dict\r\n",
      "  File \"/tmp/mlonmcu_env/deps/src/tvm/python/tvm/relay/__init__.py\", line 29, in <module>\r\n",
      "    from . import prelude\r\n",
      "  File \"/tmp/mlonmcu_env/deps/src/tvm/python/tvm/relay/prelude.py\", line 21, in <module>\r\n",
      "    from tvm.relay.transform import ToANormalFormExpr\r\n",
      "  File \"/tmp/mlonmcu_env/deps/src/tvm/python/tvm/relay/transform/__init__.py\", line 20, in <module>\r\n",
      "    from .transform import *\r\n",
      "  File \"/tmp/mlonmcu_env/deps/src/tvm/python/tvm/relay/transform/transform.py\", line 30, in <module>\r\n",
      "    from ..backend.utils import mangle_module_name\r\n",
      "  File \"/tmp/mlonmcu_env/deps/src/tvm/python/tvm/relay/backend/__init__.py\", line 18, in <module>\r\n",
      "    from . import te_compiler\r\n",
      "  File \"/tmp/mlonmcu_env/deps/src/tvm/python/tvm/relay/backend/te_compiler.py\", line 25, in <module>\r\n",
      "    from tvm import autotvm, te\r\n",
      "  File \"/tmp/mlonmcu_env/deps/src/tvm/python/tvm/autotvm/__init__.py\", line 35, in <module>\r\n",
      "    from . import tuner\r\n",
      "  File \"/tmp/mlonmcu_env/deps/src/tvm/python/tvm/autotvm/tuner/__init__.py\", line 31, in <module>\r\n",
      "    from .droplet_turner import DropletTuner\r\n",
      "  File \"/tmp/mlonmcu_env/deps/src/tvm/python/tvm/autotvm/tuner/droplet_turner.py\", line 21, in <module>\r\n",
      "    from scipy import stats\r\n",
      "ModuleNotFoundError: No module named 'scipy'\r\n",
      "\r\n",
      "ERROR - The process returned an non-zero exit code 1! (CMD: `/tmp/Demo-YH5O/venv/bin/python3 -m tvm.driver.tvmc compile /tmp/mlonmcu_env/temp/sessions/2/runs/0/sine_model.tflite --target c --runtime crt --executor aot --pass-config tir.disable_vectorize=True --pass-config tir.usmp.enable=False --input-shapes \"dense_2_input:[1,1]\" --opt-level 3 --output /tmp/tmpb3_gv7ky/default.tar -f mlf --model-format tflite --runtime-crt-system-lib 0 --executor-aot-unpacked-api 0 --executor-aot-interface-api packed --target-c-constants-byte-alignment 16 --target-c-workspace-byte-alignment 16`)\r\n",
      "Traceback (most recent call last):\r\n",
      "  File \"/home/runner/work/mlonmcu/mlonmcu/mlonmcu/session/run.py\", line 1090, in process\r\n",
      "    func()\r\n",
      "  File \"/home/runner/work/mlonmcu/mlonmcu/mlonmcu/session/run.py\", line 942, in build\r\n",
      "    _build()\r\n",
      "  File \"/home/runner/work/mlonmcu/mlonmcu/mlonmcu/session/run.py\", line 851, in _build\r\n",
      "    artifacts = self.backend.generate_artifacts()\r\n",
      "  File \"/home/runner/work/mlonmcu/mlonmcu/mlonmcu/flow/backend.py\", line 84, in generate_artifacts\r\n",
      "    artifacts, metrics = self.generate()\r\n",
      "  File \"/home/runner/work/mlonmcu/mlonmcu/mlonmcu/flow/tvm/backend/tvmaot.py\", line 96, in generate\r\n",
      "    artifacts, metrics = super().generate()\r\n",
      "  File \"/home/runner/work/mlonmcu/mlonmcu/mlonmcu/flow/tvm/backend/backend.py\", line 486, in generate\r\n",
      "    out = self.invoke_tvmc_compile(out_path, dump=dump, cwd=temp_dir)\r\n",
      "  File \"/home/runner/work/mlonmcu/mlonmcu/mlonmcu/flow/tvm/backend/backend.py\", line 425, in invoke_tvmc_compile\r\n",
      "    ret = self.invoke_tvmc(\"compile\", *args, cwd=cwd)\r\n",
      "  File \"/home/runner/work/mlonmcu/mlonmcu/mlonmcu/flow/tvm/backend/backend.py\", line 410, in invoke_tvmc\r\n",
      "    return utils.python(*pre, command, *args, live=self.print_outputs, env=env, cwd=cwd)\r\n",
      "  File \"/home/runner/work/mlonmcu/mlonmcu/mlonmcu/setup/utils.py\", line 322, in python\r\n",
      "    return execute(sys.executable, *args, **kwargs)\r\n",
      "  File \"/home/runner/work/mlonmcu/mlonmcu/mlonmcu/setup/utils.py\", line 305, in execute\r\n",
      "    assert exit_code == 0, \"The process returned an non-zero exit code {}! (CMD: `{}`)\".format(\r\n",
      "AssertionError: The process returned an non-zero exit code 1! (CMD: `/tmp/Demo-YH5O/venv/bin/python3 -m tvm.driver.tvmc compile /tmp/mlonmcu_env/temp/sessions/2/runs/0/sine_model.tflite --target c --runtime crt --executor aot --pass-config tir.disable_vectorize=True --pass-config tir.usmp.enable=False --input-shapes \"dense_2_input:[1,1]\" --opt-level 3 --output /tmp/tmpb3_gv7ky/default.tar -f mlf --model-format tflite --runtime-crt-system-lib 0 --executor-aot-unpacked-api 0 --executor-aot-interface-api packed --target-c-constants-byte-alignment 16 --target-c-workspace-byte-alignment 16`)\r\n",
      "ERROR - [session-2] [run-0] Run failed at stage 'BUILD', aborting...\r\n"
     ]
    },
    {
     "name": "stdout",
     "output_type": "stream",
     "text": [
      "INFO - [session-2]  Processing stage COMPILE\r\n",
      "WARNING - Skiping stage 'COMPILE' for failed run\r\n",
      "INFO - [session-2]  Processing stage RUN\r\n",
      "WARNING - Skiping stage 'RUN' for failed run\r\n",
      "ERROR - All runs have failed to complete!\r\n",
      "INFO - Postprocessing session report\r\n",
      "INFO - [session-2] Done processing runs\r\n",
      "INFO - Report:\r\n",
      "   Session  Run       Model Frontend Framework Backend Platform    Target  Incomplete Features                                             Config Postprocesses Comment  Failing                  Reason\r\n",
      "0        2    0  sine_model   tflite       tvm  tvmaot     mlif  host_x86        True       []  {'sine_model.output_types': {'Identity': 'floa...            []       -     True  AssertionError @ BUILD\r\n",
      "ERROR - At least one error occured!\r\n"
     ]
    }
   ],
   "source": [
    "!mlonmcu flow run sine_model --backend tvmaot --target host_x86"
   ]
  },
  {
   "cell_type": "markdown",
   "id": "b048c328",
   "metadata": {
    "papermill": {
     "duration": 0.013088,
     "end_time": "2024-10-02T08:39:43.335403",
     "exception": false,
     "start_time": "2024-10-02T08:39:43.322315",
     "status": "completed"
    },
    "tags": []
   },
   "source": [
    "**Enable certain features for all defined runs**"
   ]
  },
  {
   "cell_type": "code",
   "execution_count": 16,
   "id": "4dcda1a6",
   "metadata": {
    "execution": {
     "iopub.execute_input": "2024-10-02T08:39:43.361185Z",
     "iopub.status.busy": "2024-10-02T08:39:43.360734Z",
     "iopub.status.idle": "2024-10-02T08:39:44.915815Z",
     "shell.execute_reply": "2024-10-02T08:39:44.915056Z"
    },
    "papermill": {
     "duration": 1.569317,
     "end_time": "2024-10-02T08:39:44.917013",
     "exception": false,
     "start_time": "2024-10-02T08:39:43.347696",
     "status": "completed"
    },
    "tags": []
   },
   "outputs": [
    {
     "name": "stdout",
     "output_type": "stream",
     "text": [
      "INFO - Loading environment cache from file\r\n",
      "INFO - Successfully initialized cache\r\n"
     ]
    },
    {
     "name": "stdout",
     "output_type": "stream",
     "text": [
      "INFO - [session-3]  Processing stage LOAD\r\n",
      "INFO - [session-3]  Processing stage BUILD\r\n"
     ]
    },
    {
     "name": "stdout",
     "output_type": "stream",
     "text": [
      "ERROR - Traceback (most recent call last):\r\n",
      "  File \"/opt/hostedtoolcache/Python/3.10.15/x64/lib/python3.10/runpy.py\", line 187, in _run_module_as_main\r\n",
      "    mod_name, mod_spec, code = _get_module_details(mod_name, _Error)\r\n",
      "  File \"/opt/hostedtoolcache/Python/3.10.15/x64/lib/python3.10/runpy.py\", line 110, in _get_module_details\r\n",
      "    __import__(pkg_name)\r\n",
      "  File \"/tmp/mlonmcu_env/deps/src/tvm/python/tvm/__init__.py\", line 79, in <module>\r\n",
      "    from . import micro\r\n",
      "  File \"/tmp/mlonmcu_env/deps/src/tvm/python/tvm/micro/__init__.py\", line 24, in <module>\r\n",
      "    from .model_library_format import (\r\n",
      "  File \"/tmp/mlonmcu_env/deps/src/tvm/python/tvm/micro/model_library_format.py\", line 35, in <module>\r\n",
      "    from ..relay import param_dict\r\n",
      "  File \"/tmp/mlonmcu_env/deps/src/tvm/python/tvm/relay/__init__.py\", line 29, in <module>\r\n",
      "    from . import prelude\r\n",
      "  File \"/tmp/mlonmcu_env/deps/src/tvm/python/tvm/relay/prelude.py\", line 21, in <module>\r\n",
      "    from tvm.relay.transform import ToANormalFormExpr\r\n",
      "  File \"/tmp/mlonmcu_env/deps/src/tvm/python/tvm/relay/transform/__init__.py\", line 20, in <module>\r\n",
      "    from .transform import *\r\n",
      "  File \"/tmp/mlonmcu_env/deps/src/tvm/python/tvm/relay/transform/transform.py\", line 30, in <module>\r\n",
      "    from ..backend.utils import mangle_module_name\r\n",
      "  File \"/tmp/mlonmcu_env/deps/src/tvm/python/tvm/relay/backend/__init__.py\", line 18, in <module>\r\n",
      "    from . import te_compiler\r\n",
      "  File \"/tmp/mlonmcu_env/deps/src/tvm/python/tvm/relay/backend/te_compiler.py\", line 25, in <module>\r\n",
      "    from tvm import autotvm, te\r\n",
      "  File \"/tmp/mlonmcu_env/deps/src/tvm/python/tvm/autotvm/__init__.py\", line 35, in <module>\r\n",
      "    from . import tuner\r\n",
      "  File \"/tmp/mlonmcu_env/deps/src/tvm/python/tvm/autotvm/tuner/__init__.py\", line 31, in <module>\r\n",
      "    from .droplet_turner import DropletTuner\r\n",
      "  File \"/tmp/mlonmcu_env/deps/src/tvm/python/tvm/autotvm/tuner/droplet_turner.py\", line 21, in <module>\r\n",
      "    from scipy import stats\r\n",
      "ModuleNotFoundError: No module named 'scipy'\r\n",
      "\r\n",
      "ERROR - The process returned an non-zero exit code 1! (CMD: `/tmp/Demo-YH5O/venv/bin/python3 -m tvm.driver.tvmc compile /tmp/mlonmcu_env/temp/sessions/3/runs/0/toycar.tflite --target c --target-c-mcpu generic-rv32 --target-c-model etiss-rv32gc --runtime crt --executor aot --pass-config tir.disable_vectorize=True --pass-config tir.usmp.enable=False --input-shapes \"input_1:[1,640]\" --opt-level 3 --output /tmp/tmpe6d8boke/default.tar -f mlf --model-format tflite --runtime-crt-system-lib 0 --executor-aot-unpacked-api 1 --executor-aot-interface-api c --target-c-constants-byte-alignment 16 --target-c-workspace-byte-alignment 16`)\r\n",
      "Traceback (most recent call last):\r\n",
      "  File \"/home/runner/work/mlonmcu/mlonmcu/mlonmcu/session/run.py\", line 1090, in process\r\n",
      "    func()\r\n",
      "  File \"/home/runner/work/mlonmcu/mlonmcu/mlonmcu/session/run.py\", line 942, in build\r\n",
      "    _build()\r\n",
      "  File \"/home/runner/work/mlonmcu/mlonmcu/mlonmcu/session/run.py\", line 851, in _build\r\n",
      "    artifacts = self.backend.generate_artifacts()\r\n",
      "  File \"/home/runner/work/mlonmcu/mlonmcu/mlonmcu/flow/backend.py\", line 84, in generate_artifacts\r\n",
      "    artifacts, metrics = self.generate()\r\n",
      "  File \"/home/runner/work/mlonmcu/mlonmcu/mlonmcu/flow/tvm/backend/tvmaot.py\", line 96, in generate\r\n",
      "    artifacts, metrics = super().generate()\r\n",
      "  File \"/home/runner/work/mlonmcu/mlonmcu/mlonmcu/flow/tvm/backend/backend.py\", line 486, in generate\r\n",
      "    out = self.invoke_tvmc_compile(out_path, dump=dump, cwd=temp_dir)\r\n",
      "  File \"/home/runner/work/mlonmcu/mlonmcu/mlonmcu/flow/tvm/backend/backend.py\", line 425, in invoke_tvmc_compile\r\n",
      "    ret = self.invoke_tvmc(\"compile\", *args, cwd=cwd)\r\n",
      "  File \"/home/runner/work/mlonmcu/mlonmcu/mlonmcu/flow/tvm/backend/backend.py\", line 410, in invoke_tvmc\r\n",
      "    return utils.python(*pre, command, *args, live=self.print_outputs, env=env, cwd=cwd)\r\n",
      "  File \"/home/runner/work/mlonmcu/mlonmcu/mlonmcu/setup/utils.py\", line 322, in python\r\n",
      "    return execute(sys.executable, *args, **kwargs)\r\n",
      "  File \"/home/runner/work/mlonmcu/mlonmcu/mlonmcu/setup/utils.py\", line 305, in execute\r\n",
      "    assert exit_code == 0, \"The process returned an non-zero exit code {}! (CMD: `{}`)\".format(\r\n",
      "AssertionError: The process returned an non-zero exit code 1! (CMD: `/tmp/Demo-YH5O/venv/bin/python3 -m tvm.driver.tvmc compile /tmp/mlonmcu_env/temp/sessions/3/runs/0/toycar.tflite --target c --target-c-mcpu generic-rv32 --target-c-model etiss-rv32gc --runtime crt --executor aot --pass-config tir.disable_vectorize=True --pass-config tir.usmp.enable=False --input-shapes \"input_1:[1,640]\" --opt-level 3 --output /tmp/tmpe6d8boke/default.tar -f mlf --model-format tflite --runtime-crt-system-lib 0 --executor-aot-unpacked-api 1 --executor-aot-interface-api c --target-c-constants-byte-alignment 16 --target-c-workspace-byte-alignment 16`)\r\n",
      "ERROR - [session-3] [run-0] Run failed at stage 'BUILD', aborting...\r\n",
      "INFO - [session-3]  Processing stage COMPILE\r\n",
      "WARNING - Skiping stage 'COMPILE' for failed run\r\n",
      "INFO - [session-3]  Processing stage RUN\r\n",
      "WARNING - Skiping stage 'RUN' for failed run\r\n",
      "ERROR - All runs have failed to complete!\r\n"
     ]
    },
    {
     "name": "stdout",
     "output_type": "stream",
     "text": [
      "INFO - Postprocessing session report\r\n",
      "INFO - [session-3] Done processing runs\r\n",
      "INFO - Report:\r\n",
      "   Session  Run   Model Frontend Framework Backend Platform         Target  Incomplete        Features                                             Config Postprocesses Comment  Failing                  Reason\r\n",
      "0        3    0  toycar   tflite       tvm  tvmaot     mlif  etiss_pulpino        True  [unpacked_api]  {'toycar.output_types': {'Identity': 'int8'}, ...            []       -     True  AssertionError @ BUILD\r\n",
      "ERROR - At least one error occured!\r\n"
     ]
    }
   ],
   "source": [
    "!mlonmcu flow run toycar --backend tvmaot --target etiss_pulpino --feature unpacked_api"
   ]
  },
  {
   "cell_type": "markdown",
   "id": "c539c1bb",
   "metadata": {
    "papermill": {
     "duration": 0.012531,
     "end_time": "2024-10-02T08:39:44.942826",
     "exception": false,
     "start_time": "2024-10-02T08:39:44.930295",
     "status": "completed"
    },
    "tags": []
   },
   "source": [
    "**Add additional configuration options to customize internal components**"
   ]
  },
  {
   "cell_type": "code",
   "execution_count": 17,
   "id": "61835423",
   "metadata": {
    "execution": {
     "iopub.execute_input": "2024-10-02T08:39:44.968940Z",
     "iopub.status.busy": "2024-10-02T08:39:44.968712Z",
     "iopub.status.idle": "2024-10-02T08:39:46.521415Z",
     "shell.execute_reply": "2024-10-02T08:39:46.520729Z"
    },
    "papermill": {
     "duration": 1.567313,
     "end_time": "2024-10-02T08:39:46.522727",
     "exception": false,
     "start_time": "2024-10-02T08:39:44.955414",
     "status": "completed"
    },
    "tags": []
   },
   "outputs": [
    {
     "name": "stdout",
     "output_type": "stream",
     "text": [
      "INFO - Loading environment cache from file\r\n",
      "INFO - Successfully initialized cache\r\n"
     ]
    },
    {
     "name": "stdout",
     "output_type": "stream",
     "text": [
      "INFO - [session-4]  Processing stage LOAD\r\n",
      "INFO - [session-4]  Processing stage BUILD\r\n"
     ]
    },
    {
     "name": "stdout",
     "output_type": "stream",
     "text": [
      "ERROR - Traceback (most recent call last):\r\n",
      "  File \"/opt/hostedtoolcache/Python/3.10.15/x64/lib/python3.10/runpy.py\", line 187, in _run_module_as_main\r\n",
      "    mod_name, mod_spec, code = _get_module_details(mod_name, _Error)\r\n",
      "  File \"/opt/hostedtoolcache/Python/3.10.15/x64/lib/python3.10/runpy.py\", line 110, in _get_module_details\r\n",
      "    __import__(pkg_name)\r\n",
      "  File \"/tmp/mlonmcu_env/deps/src/tvm/python/tvm/__init__.py\", line 79, in <module>\r\n",
      "    from . import micro\r\n",
      "  File \"/tmp/mlonmcu_env/deps/src/tvm/python/tvm/micro/__init__.py\", line 24, in <module>\r\n",
      "    from .model_library_format import (\r\n",
      "  File \"/tmp/mlonmcu_env/deps/src/tvm/python/tvm/micro/model_library_format.py\", line 35, in <module>\r\n",
      "    from ..relay import param_dict\r\n",
      "  File \"/tmp/mlonmcu_env/deps/src/tvm/python/tvm/relay/__init__.py\", line 29, in <module>\r\n",
      "    from . import prelude\r\n",
      "  File \"/tmp/mlonmcu_env/deps/src/tvm/python/tvm/relay/prelude.py\", line 21, in <module>\r\n",
      "    from tvm.relay.transform import ToANormalFormExpr\r\n",
      "  File \"/tmp/mlonmcu_env/deps/src/tvm/python/tvm/relay/transform/__init__.py\", line 20, in <module>\r\n",
      "    from .transform import *\r\n",
      "  File \"/tmp/mlonmcu_env/deps/src/tvm/python/tvm/relay/transform/transform.py\", line 30, in <module>\r\n",
      "    from ..backend.utils import mangle_module_name\r\n",
      "  File \"/tmp/mlonmcu_env/deps/src/tvm/python/tvm/relay/backend/__init__.py\", line 18, in <module>\r\n",
      "    from . import te_compiler\r\n",
      "  File \"/tmp/mlonmcu_env/deps/src/tvm/python/tvm/relay/backend/te_compiler.py\", line 25, in <module>\r\n",
      "    from tvm import autotvm, te\r\n",
      "  File \"/tmp/mlonmcu_env/deps/src/tvm/python/tvm/autotvm/__init__.py\", line 35, in <module>\r\n",
      "    from . import tuner\r\n",
      "  File \"/tmp/mlonmcu_env/deps/src/tvm/python/tvm/autotvm/tuner/__init__.py\", line 31, in <module>\r\n",
      "    from .droplet_turner import DropletTuner\r\n",
      "  File \"/tmp/mlonmcu_env/deps/src/tvm/python/tvm/autotvm/tuner/droplet_turner.py\", line 21, in <module>\r\n",
      "    from scipy import stats\r\n",
      "ModuleNotFoundError: No module named 'scipy'\r\n",
      "\r\n",
      "ERROR - The process returned an non-zero exit code 1! (CMD: `/tmp/Demo-YH5O/venv/bin/python3 -m tvm.driver.tvmc compile /tmp/mlonmcu_env/temp/sessions/4/runs/0/resnet.tflite --target c --target-c-device arm_cpu --target-c-mcpu generic-rv32 --target-c-model etiss-rv32gc --runtime crt --executor aot --pass-config tir.disable_vectorize=True --pass-config tir.usmp.enable=False --input-shapes \"input_1_int8:[1,32,32,3]\" --opt-level 3 --output /tmp/tmp_b0vyd2k/default.tar -f mlf --model-format tflite --runtime-crt-system-lib 1 --executor-aot-unpacked-api 0 --executor-aot-interface-api packed --target-c-constants-byte-alignment 16 --target-c-workspace-byte-alignment 16`)\r\n",
      "Traceback (most recent call last):\r\n",
      "  File \"/home/runner/work/mlonmcu/mlonmcu/mlonmcu/session/run.py\", line 1090, in process\r\n",
      "    func()\r\n",
      "  File \"/home/runner/work/mlonmcu/mlonmcu/mlonmcu/session/run.py\", line 942, in build\r\n",
      "    _build()\r\n",
      "  File \"/home/runner/work/mlonmcu/mlonmcu/mlonmcu/session/run.py\", line 851, in _build\r\n",
      "    artifacts = self.backend.generate_artifacts()\r\n",
      "  File \"/home/runner/work/mlonmcu/mlonmcu/mlonmcu/flow/backend.py\", line 84, in generate_artifacts\r\n",
      "    artifacts, metrics = self.generate()\r\n",
      "  File \"/home/runner/work/mlonmcu/mlonmcu/mlonmcu/flow/tvm/backend/tvmaot.py\", line 96, in generate\r\n",
      "    artifacts, metrics = super().generate()\r\n",
      "  File \"/home/runner/work/mlonmcu/mlonmcu/mlonmcu/flow/tvm/backend/backend.py\", line 486, in generate\r\n",
      "    out = self.invoke_tvmc_compile(out_path, dump=dump, cwd=temp_dir)\r\n",
      "  File \"/home/runner/work/mlonmcu/mlonmcu/mlonmcu/flow/tvm/backend/backend.py\", line 425, in invoke_tvmc_compile\r\n",
      "    ret = self.invoke_tvmc(\"compile\", *args, cwd=cwd)\r\n",
      "  File \"/home/runner/work/mlonmcu/mlonmcu/mlonmcu/flow/tvm/backend/backend.py\", line 410, in invoke_tvmc\r\n",
      "    return utils.python(*pre, command, *args, live=self.print_outputs, env=env, cwd=cwd)\r\n",
      "  File \"/home/runner/work/mlonmcu/mlonmcu/mlonmcu/setup/utils.py\", line 322, in python\r\n",
      "    return execute(sys.executable, *args, **kwargs)\r\n",
      "  File \"/home/runner/work/mlonmcu/mlonmcu/mlonmcu/setup/utils.py\", line 305, in execute\r\n",
      "    assert exit_code == 0, \"The process returned an non-zero exit code {}! (CMD: `{}`)\".format(\r\n",
      "AssertionError: The process returned an non-zero exit code 1! (CMD: `/tmp/Demo-YH5O/venv/bin/python3 -m tvm.driver.tvmc compile /tmp/mlonmcu_env/temp/sessions/4/runs/0/resnet.tflite --target c --target-c-device arm_cpu --target-c-mcpu generic-rv32 --target-c-model etiss-rv32gc --runtime crt --executor aot --pass-config tir.disable_vectorize=True --pass-config tir.usmp.enable=False --input-shapes \"input_1_int8:[1,32,32,3]\" --opt-level 3 --output /tmp/tmp_b0vyd2k/default.tar -f mlf --model-format tflite --runtime-crt-system-lib 1 --executor-aot-unpacked-api 0 --executor-aot-interface-api packed --target-c-constants-byte-alignment 16 --target-c-workspace-byte-alignment 16`)\r\n",
      "ERROR - [session-4] [run-0] Run failed at stage 'BUILD', aborting...\r\n",
      "INFO - [session-4]  Processing stage COMPILE\r\n",
      "WARNING - Skiping stage 'COMPILE' for failed run\r\n",
      "INFO - [session-4]  Processing stage RUN\r\n",
      "WARNING - Skiping stage 'RUN' for failed run\r\n",
      "ERROR - All runs have failed to complete!\r\n",
      "INFO - Postprocessing session report\r\n",
      "INFO - [session-4] Done processing runs\r\n"
     ]
    },
    {
     "name": "stdout",
     "output_type": "stream",
     "text": [
      "INFO - Report:\r\n",
      "   Session  Run   Model Frontend Framework Backend          Platform Target  Incomplete Features                                             Config Postprocesses Comment  Failing                  Reason\r\n",
      "0        4    0  resnet   tflite       tvm  tvmaot  [mlif, microtvm]  etiss        True       []  {'resnet.output_types': {'Identity_int8': 'int...            []       -     True  AssertionError @ BUILD\r\n",
      "ERROR - At least one error occured!\r\n"
     ]
    }
   ],
   "source": [
    "!mlonmcu flow run resnet --backend tvmaot --config tvmaot.target_device=arm_cpu"
   ]
  },
  {
   "cell_type": "markdown",
   "id": "40f38f8f",
   "metadata": {
    "papermill": {
     "duration": 0.012929,
     "end_time": "2024-10-02T08:39:46.549552",
     "exception": false,
     "start_time": "2024-10-02T08:39:46.536623",
     "status": "completed"
    },
    "tags": []
   },
   "source": [
    "Instead of defining certain key-value pass on each command line, feel free to use the `vars:` property defined in the `environment.yml` to achieve the same result."
   ]
  },
  {
   "cell_type": "markdown",
   "id": "dde2adc5",
   "metadata": {
    "papermill": {
     "duration": 0.012676,
     "end_time": "2024-10-02T08:39:46.575039",
     "exception": false,
     "start_time": "2024-10-02T08:39:46.562363",
     "status": "completed"
    },
    "tags": []
   },
   "source": [
    "**Invoke multiple models on multiple backends/targets**"
   ]
  },
  {
   "cell_type": "code",
   "execution_count": 18,
   "id": "acb86cc3",
   "metadata": {
    "execution": {
     "iopub.execute_input": "2024-10-02T08:39:46.601878Z",
     "iopub.status.busy": "2024-10-02T08:39:46.601438Z",
     "iopub.status.idle": "2024-10-02T08:42:57.096394Z",
     "shell.execute_reply": "2024-10-02T08:42:57.095716Z"
    },
    "papermill": {
     "duration": 190.50983,
     "end_time": "2024-10-02T08:42:57.097631",
     "exception": false,
     "start_time": "2024-10-02T08:39:46.587801",
     "status": "completed"
    },
    "tags": []
   },
   "outputs": [
    {
     "name": "stdout",
     "output_type": "stream",
     "text": [
      "INFO - Loading environment cache from file\r\n",
      "INFO - Successfully initialized cache\r\n"
     ]
    },
    {
     "name": "stdout",
     "output_type": "stream",
     "text": [
      "INFO - [session-5]  Processing stage LOAD\r\n"
     ]
    },
    {
     "name": "stdout",
     "output_type": "stream",
     "text": [
      "INFO - [session-5]  Processing stage BUILD\r\n"
     ]
    },
    {
     "name": "stdout",
     "output_type": "stream",
     "text": [
      "ERROR - Traceback (most recent call last):\r\n",
      "  File \"/opt/hostedtoolcache/Python/3.10.15/x64/lib/python3.10/runpy.py\", line 187, in _run_module_as_main\r\n",
      "    mod_name, mod_spec, code = _get_module_details(mod_name, _Error)\r\n",
      "  File \"/opt/hostedtoolcache/Python/3.10.15/x64/lib/python3.10/runpy.py\", line 110, in _get_module_details\r\n",
      "    __import__(pkg_name)\r\n",
      "  File \"/tmp/mlonmcu_env/deps/src/tvm/python/tvm/__init__.py\", line 79, in <module>\r\n",
      "    from . import micro\r\n",
      "  File \"/tmp/mlonmcu_env/deps/src/tvm/python/tvm/micro/__init__.py\", line 24, in <module>\r\n",
      "    from .model_library_format import (\r\n",
      "  File \"/tmp/mlonmcu_env/deps/src/tvm/python/tvm/micro/model_library_format.py\", line 35, in <module>\r\n",
      "    from ..relay import param_dict\r\n",
      "  File \"/tmp/mlonmcu_env/deps/src/tvm/python/tvm/relay/__init__.py\", line 29, in <module>\r\n",
      "    from . import prelude\r\n",
      "  File \"/tmp/mlonmcu_env/deps/src/tvm/python/tvm/relay/prelude.py\", line 21, in <module>\r\n",
      "    from tvm.relay.transform import ToANormalFormExpr\r\n",
      "  File \"/tmp/mlonmcu_env/deps/src/tvm/python/tvm/relay/transform/__init__.py\", line 20, in <module>\r\n",
      "    from .transform import *\r\n",
      "  File \"/tmp/mlonmcu_env/deps/src/tvm/python/tvm/relay/transform/transform.py\", line 30, in <module>\r\n",
      "    from ..backend.utils import mangle_module_name\r\n",
      "  File \"/tmp/mlonmcu_env/deps/src/tvm/python/tvm/relay/backend/__init__.py\", line 18, in <module>\r\n",
      "    from . import te_compiler\r\n",
      "  File \"/tmp/mlonmcu_env/deps/src/tvm/python/tvm/relay/backend/te_compiler.py\", line 25, in <module>\r\n",
      "    from tvm import autotvm, te\r\n",
      "  File \"/tmp/mlonmcu_env/deps/src/tvm/python/tvm/autotvm/__init__.py\", line 35, in <module>\r\n",
      "    from . import tuner\r\n",
      "  File \"/tmp/mlonmcu_env/deps/src/tvm/python/tvm/autotvm/tuner/__init__.py\", line 31, in <module>\r\n",
      "    from .droplet_turner import DropletTuner\r\n",
      "  File \"/tmp/mlonmcu_env/deps/src/tvm/python/tvm/autotvm/tuner/droplet_turner.py\", line 21, in <module>\r\n",
      "    from scipy import stats\r\n",
      "ModuleNotFoundError: No module named 'scipy'\r\n",
      "\r\n",
      "ERROR - The process returned an non-zero exit code 1! (CMD: `/tmp/Demo-YH5O/venv/bin/python3 -m tvm.driver.tvmc compile /tmp/mlonmcu_env/temp/sessions/5/runs/0/resnet.tflite --target c --target-c-mcpu generic-rv32 --target-c-model etiss-rv32gc --runtime crt --executor aot --pass-config tir.disable_vectorize=True --pass-config tir.usmp.enable=False --input-shapes \"input_1_int8:[1,32,32,3]\" --opt-level 3 --output /tmp/tmpe5uhmuip/default.tar -f mlf --model-format tflite --runtime-crt-system-lib 0 --executor-aot-unpacked-api 0 --executor-aot-interface-api packed --target-c-constants-byte-alignment 16 --target-c-workspace-byte-alignment 16`)\r\n",
      "Traceback (most recent call last):\r\n",
      "  File \"/home/runner/work/mlonmcu/mlonmcu/mlonmcu/session/run.py\", line 1090, in process\r\n",
      "    func()\r\n",
      "  File \"/home/runner/work/mlonmcu/mlonmcu/mlonmcu/session/run.py\", line 942, in build\r\n",
      "    _build()\r\n",
      "  File \"/home/runner/work/mlonmcu/mlonmcu/mlonmcu/session/run.py\", line 851, in _build\r\n",
      "    artifacts = self.backend.generate_artifacts()\r\n",
      "  File \"/home/runner/work/mlonmcu/mlonmcu/mlonmcu/flow/backend.py\", line 84, in generate_artifacts\r\n",
      "    artifacts, metrics = self.generate()\r\n",
      "  File \"/home/runner/work/mlonmcu/mlonmcu/mlonmcu/flow/tvm/backend/tvmaot.py\", line 96, in generate\r\n",
      "    artifacts, metrics = super().generate()\r\n",
      "  File \"/home/runner/work/mlonmcu/mlonmcu/mlonmcu/flow/tvm/backend/backend.py\", line 486, in generate\r\n",
      "    out = self.invoke_tvmc_compile(out_path, dump=dump, cwd=temp_dir)\r\n",
      "  File \"/home/runner/work/mlonmcu/mlonmcu/mlonmcu/flow/tvm/backend/backend.py\", line 425, in invoke_tvmc_compile\r\n",
      "    ret = self.invoke_tvmc(\"compile\", *args, cwd=cwd)\r\n",
      "  File \"/home/runner/work/mlonmcu/mlonmcu/mlonmcu/flow/tvm/backend/backend.py\", line 410, in invoke_tvmc\r\n",
      "    return utils.python(*pre, command, *args, live=self.print_outputs, env=env, cwd=cwd)\r\n",
      "  File \"/home/runner/work/mlonmcu/mlonmcu/mlonmcu/setup/utils.py\", line 322, in python\r\n",
      "    return execute(sys.executable, *args, **kwargs)\r\n",
      "  File \"/home/runner/work/mlonmcu/mlonmcu/mlonmcu/setup/utils.py\", line 305, in execute\r\n",
      "    assert exit_code == 0, \"The process returned an non-zero exit code {}! (CMD: `{}`)\".format(\r\n",
      "AssertionError: The process returned an non-zero exit code 1! (CMD: `/tmp/Demo-YH5O/venv/bin/python3 -m tvm.driver.tvmc compile /tmp/mlonmcu_env/temp/sessions/5/runs/0/resnet.tflite --target c --target-c-mcpu generic-rv32 --target-c-model etiss-rv32gc --runtime crt --executor aot --pass-config tir.disable_vectorize=True --pass-config tir.usmp.enable=False --input-shapes \"input_1_int8:[1,32,32,3]\" --opt-level 3 --output /tmp/tmpe5uhmuip/default.tar -f mlf --model-format tflite --runtime-crt-system-lib 0 --executor-aot-unpacked-api 0 --executor-aot-interface-api packed --target-c-constants-byte-alignment 16 --target-c-workspace-byte-alignment 16`)\r\n",
      "ERROR - [session-5] [run-0] Run failed at stage 'BUILD', aborting...\r\n"
     ]
    },
    {
     "name": "stdout",
     "output_type": "stream",
     "text": [
      "ERROR - Traceback (most recent call last):\r\n",
      "  File \"/opt/hostedtoolcache/Python/3.10.15/x64/lib/python3.10/runpy.py\", line 187, in _run_module_as_main\r\n",
      "    mod_name, mod_spec, code = _get_module_details(mod_name, _Error)\r\n",
      "  File \"/opt/hostedtoolcache/Python/3.10.15/x64/lib/python3.10/runpy.py\", line 110, in _get_module_details\r\n",
      "    __import__(pkg_name)\r\n",
      "  File \"/tmp/mlonmcu_env/deps/src/tvm/python/tvm/__init__.py\", line 79, in <module>\r\n",
      "    from . import micro\r\n",
      "  File \"/tmp/mlonmcu_env/deps/src/tvm/python/tvm/micro/__init__.py\", line 24, in <module>\r\n",
      "    from .model_library_format import (\r\n",
      "  File \"/tmp/mlonmcu_env/deps/src/tvm/python/tvm/micro/model_library_format.py\", line 35, in <module>\r\n",
      "    from ..relay import param_dict\r\n",
      "  File \"/tmp/mlonmcu_env/deps/src/tvm/python/tvm/relay/__init__.py\", line 29, in <module>\r\n",
      "    from . import prelude\r\n",
      "  File \"/tmp/mlonmcu_env/deps/src/tvm/python/tvm/relay/prelude.py\", line 21, in <module>\r\n",
      "    from tvm.relay.transform import ToANormalFormExpr\r\n",
      "  File \"/tmp/mlonmcu_env/deps/src/tvm/python/tvm/relay/transform/__init__.py\", line 20, in <module>\r\n",
      "    from .transform import *\r\n",
      "  File \"/tmp/mlonmcu_env/deps/src/tvm/python/tvm/relay/transform/transform.py\", line 30, in <module>\r\n",
      "    from ..backend.utils import mangle_module_name\r\n",
      "  File \"/tmp/mlonmcu_env/deps/src/tvm/python/tvm/relay/backend/__init__.py\", line 18, in <module>\r\n",
      "    from . import te_compiler\r\n",
      "  File \"/tmp/mlonmcu_env/deps/src/tvm/python/tvm/relay/backend/te_compiler.py\", line 25, in <module>\r\n",
      "    from tvm import autotvm, te\r\n",
      "  File \"/tmp/mlonmcu_env/deps/src/tvm/python/tvm/autotvm/__init__.py\", line 35, in <module>\r\n",
      "    from . import tuner\r\n",
      "  File \"/tmp/mlonmcu_env/deps/src/tvm/python/tvm/autotvm/tuner/__init__.py\", line 31, in <module>\r\n",
      "    from .droplet_turner import DropletTuner\r\n",
      "  File \"/tmp/mlonmcu_env/deps/src/tvm/python/tvm/autotvm/tuner/droplet_turner.py\", line 21, in <module>\r\n",
      "    from scipy import stats\r\n",
      "ModuleNotFoundError: No module named 'scipy'\r\n",
      "\r\n",
      "ERROR - The process returned an non-zero exit code 1! (CMD: `/tmp/Demo-YH5O/venv/bin/python3 -m tvm.driver.tvmc compile /tmp/mlonmcu_env/temp/sessions/5/runs/2/toycar.tflite --target c --target-c-mcpu generic-rv32 --target-c-model etiss-rv32gc --runtime crt --executor aot --pass-config tir.disable_vectorize=True --pass-config tir.usmp.enable=False --input-shapes \"input_1:[1,640]\" --opt-level 3 --output /tmp/tmpm9btnrfy/default.tar -f mlf --model-format tflite --runtime-crt-system-lib 0 --executor-aot-unpacked-api 0 --executor-aot-interface-api packed --target-c-constants-byte-alignment 16 --target-c-workspace-byte-alignment 16`)\r\n",
      "Traceback (most recent call last):\r\n",
      "  File \"/home/runner/work/mlonmcu/mlonmcu/mlonmcu/session/run.py\", line 1090, in process\r\n",
      "    func()\r\n",
      "  File \"/home/runner/work/mlonmcu/mlonmcu/mlonmcu/session/run.py\", line 942, in build\r\n",
      "    _build()\r\n",
      "  File \"/home/runner/work/mlonmcu/mlonmcu/mlonmcu/session/run.py\", line 851, in _build\r\n",
      "    artifacts = self.backend.generate_artifacts()\r\n",
      "  File \"/home/runner/work/mlonmcu/mlonmcu/mlonmcu/flow/backend.py\", line 84, in generate_artifacts\r\n",
      "    artifacts, metrics = self.generate()\r\n",
      "  File \"/home/runner/work/mlonmcu/mlonmcu/mlonmcu/flow/tvm/backend/tvmaot.py\", line 96, in generate\r\n",
      "    artifacts, metrics = super().generate()\r\n",
      "  File \"/home/runner/work/mlonmcu/mlonmcu/mlonmcu/flow/tvm/backend/backend.py\", line 486, in generate\r\n",
      "    out = self.invoke_tvmc_compile(out_path, dump=dump, cwd=temp_dir)\r\n",
      "  File \"/home/runner/work/mlonmcu/mlonmcu/mlonmcu/flow/tvm/backend/backend.py\", line 425, in invoke_tvmc_compile\r\n",
      "    ret = self.invoke_tvmc(\"compile\", *args, cwd=cwd)\r\n",
      "  File \"/home/runner/work/mlonmcu/mlonmcu/mlonmcu/flow/tvm/backend/backend.py\", line 410, in invoke_tvmc\r\n",
      "    return utils.python(*pre, command, *args, live=self.print_outputs, env=env, cwd=cwd)\r\n",
      "  File \"/home/runner/work/mlonmcu/mlonmcu/mlonmcu/setup/utils.py\", line 322, in python\r\n",
      "    return execute(sys.executable, *args, **kwargs)\r\n",
      "  File \"/home/runner/work/mlonmcu/mlonmcu/mlonmcu/setup/utils.py\", line 305, in execute\r\n",
      "    assert exit_code == 0, \"The process returned an non-zero exit code {}! (CMD: `{}`)\".format(\r\n",
      "AssertionError: The process returned an non-zero exit code 1! (CMD: `/tmp/Demo-YH5O/venv/bin/python3 -m tvm.driver.tvmc compile /tmp/mlonmcu_env/temp/sessions/5/runs/2/toycar.tflite --target c --target-c-mcpu generic-rv32 --target-c-model etiss-rv32gc --runtime crt --executor aot --pass-config tir.disable_vectorize=True --pass-config tir.usmp.enable=False --input-shapes \"input_1:[1,640]\" --opt-level 3 --output /tmp/tmpm9btnrfy/default.tar -f mlf --model-format tflite --runtime-crt-system-lib 0 --executor-aot-unpacked-api 0 --executor-aot-interface-api packed --target-c-constants-byte-alignment 16 --target-c-workspace-byte-alignment 16`)\r\n",
      "ERROR - [session-5] [run-2] Run failed at stage 'BUILD', aborting...\r\n"
     ]
    },
    {
     "name": "stdout",
     "output_type": "stream",
     "text": [
      "INFO - [session-5]  Processing stage COMPILE\r\n",
      "WARNING - Skiping stage 'COMPILE' for failed run\r\n",
      "WARNING - Skiping stage 'COMPILE' for failed run\r\n"
     ]
    },
    {
     "name": "stdout",
     "output_type": "stream",
     "text": [
      "INFO - [session-5]  Processing stage RUN\r\n",
      "WARNING - Skiping stage 'RUN' for failed run\r\n",
      "WARNING - Skiping stage 'RUN' for failed run\r\n",
      "ERROR - EtissPulpinoTarget.get_ini_bool_config() got an unexpected keyword argument 'override'\r\n",
      "Traceback (most recent call last):\r\n",
      "  File \"/home/runner/work/mlonmcu/mlonmcu/mlonmcu/session/run.py\", line 1090, in process\r\n",
      "    func()\r\n",
      "  File \"/home/runner/work/mlonmcu/mlonmcu/mlonmcu/session/run.py\", line 739, in run\r\n",
      "    artifacts = self.target.generate_artifacts(elf_artifact.path)\r\n",
      "  File \"/home/runner/work/mlonmcu/mlonmcu/mlonmcu/target/target.py\", line 209, in generate_artifacts\r\n",
      "    artifacts, metrics = self.generate(elf)\r\n",
      "  File \"/home/runner/work/mlonmcu/mlonmcu/mlonmcu/target/target.py\", line 189, in generate\r\n",
      "    metrics_, out, artifacts_ = self.get_metrics(elf, temp_dir, *args)\r\n",
      "  File \"/home/runner/work/mlonmcu/mlonmcu/mlonmcu/platform/mlif/mlif_target.py\", line 226, in get_metrics\r\n",
      "    metrics, out, artifacts = super().get_metrics(elf, directory, handle_exit=_handle_exit)\r\n",
      "  File \"/home/runner/work/mlonmcu/mlonmcu/mlonmcu/target/riscv/etiss.py\", line 670, in get_metrics\r\n",
      "    out_, artifacts_ = self.exec(\r\n",
      "  File \"/home/runner/work/mlonmcu/mlonmcu/mlonmcu/platform/mlif/mlif_target.py\", line 132, in exec\r\n",
      "    ret_, artifacts_ = super().exec(\r\n",
      "  File \"/home/runner/work/mlonmcu/mlonmcu/mlonmcu/target/riscv/etiss.py\", line 585, in exec\r\n",
      "    self.write_ini(etiss_ini, override=ini_override)\r\n",
      "  File \"/home/runner/work/mlonmcu/mlonmcu/mlonmcu/target/riscv/etiss.py\", line 498, in write_ini\r\n",
      "    ini_bool = self.get_ini_bool_config(override=override)\r\n",
      "TypeError: EtissPulpinoTarget.get_ini_bool_config() got an unexpected keyword argument 'override'\r\n",
      "ERROR - [session-5] [run-1] Run failed at stage 'RUN', aborting...\r\n",
      "ERROR - EtissPulpinoTarget.get_ini_bool_config() got an unexpected keyword argument 'override'\r\n",
      "Traceback (most recent call last):\r\n",
      "  File \"/home/runner/work/mlonmcu/mlonmcu/mlonmcu/session/run.py\", line 1090, in process\r\n",
      "    func()\r\n",
      "  File \"/home/runner/work/mlonmcu/mlonmcu/mlonmcu/session/run.py\", line 739, in run\r\n",
      "    artifacts = self.target.generate_artifacts(elf_artifact.path)\r\n",
      "  File \"/home/runner/work/mlonmcu/mlonmcu/mlonmcu/target/target.py\", line 209, in generate_artifacts\r\n",
      "    artifacts, metrics = self.generate(elf)\r\n",
      "  File \"/home/runner/work/mlonmcu/mlonmcu/mlonmcu/target/target.py\", line 189, in generate\r\n",
      "    metrics_, out, artifacts_ = self.get_metrics(elf, temp_dir, *args)\r\n",
      "  File \"/home/runner/work/mlonmcu/mlonmcu/mlonmcu/platform/mlif/mlif_target.py\", line 226, in get_metrics\r\n",
      "    metrics, out, artifacts = super().get_metrics(elf, directory, handle_exit=_handle_exit)\r\n",
      "  File \"/home/runner/work/mlonmcu/mlonmcu/mlonmcu/target/riscv/etiss.py\", line 670, in get_metrics\r\n",
      "    out_, artifacts_ = self.exec(\r\n",
      "  File \"/home/runner/work/mlonmcu/mlonmcu/mlonmcu/platform/mlif/mlif_target.py\", line 132, in exec\r\n",
      "    ret_, artifacts_ = super().exec(\r\n",
      "  File \"/home/runner/work/mlonmcu/mlonmcu/mlonmcu/target/riscv/etiss.py\", line 585, in exec\r\n",
      "    self.write_ini(etiss_ini, override=ini_override)\r\n",
      "  File \"/home/runner/work/mlonmcu/mlonmcu/mlonmcu/target/riscv/etiss.py\", line 498, in write_ini\r\n",
      "    ini_bool = self.get_ini_bool_config(override=override)\r\n",
      "TypeError: EtissPulpinoTarget.get_ini_bool_config() got an unexpected keyword argument 'override'\r\n",
      "ERROR - [session-5] [run-3] Run failed at stage 'RUN', aborting...\r\n",
      "ERROR - All runs have failed to complete!\r\n"
     ]
    },
    {
     "name": "stdout",
     "output_type": "stream",
     "text": [
      "INFO - Postprocessing session report\r\n",
      "INFO - [session-5] Done processing runs\r\n",
      "INFO - Report:\r\n",
      "   Session  Run   Model Frontend Framework Backend Platform         Target Incomplete  Total ROM  Total RAM  ROM read-only  ROM code  ROM misc  RAM data  RAM zero-init data Features                                             Config Postprocesses Comment  Failing                  Reason\r\n",
      "0        5    0  resnet   tflite       tvm  tvmaot     mlif  etiss_pulpino       True        NaN        NaN            NaN       NaN       NaN       NaN                 NaN       []  {'resnet.output_types': {'Identity_int8': 'int...            []       -     True  AssertionError @ BUILD\r\n",
      "1        5    1  resnet   tflite      tflm   tflmi     mlif  etiss_pulpino        NaN   197058.0    68556.0       101904.0   95010.0     144.0    1720.0             66836.0       []  {'resnet.output_types': {'Identity_int8': 'int...            []       -     True         TypeError @ RUN\r\n",
      "2        5    2  toycar   tflite       tvm  tvmaot     mlif  etiss_pulpino       True        NaN        NaN            NaN       NaN       NaN       NaN                 NaN       []  {'toycar.output_types': {'Identity': 'int8'}, ...            []       -     True  AssertionError @ BUILD\r\n",
      "3        5    3  toycar   tflite      tflm   tflmi     mlif  etiss_pulpino        NaN   341046.0    19212.0       280152.0   60750.0     144.0    1720.0             17492.0       []  {'toycar.output_types': {'Identity': 'int8'}, ...            []       -     True         TypeError @ RUN\r\n",
      "ERROR - At least one error occured!\r\n"
     ]
    },
    {
     "name": "stdout",
     "output_type": "stream",
     "text": [
      "Command exited with non-zero status 1\r\n",
      "682.44user 18.49system 3:10.34elapsed 368%CPU (0avgtext+0avgdata 445904maxresident)k\r\n",
      "22384inputs+140192outputs (17major+1666283minor)pagefaults 0swaps\r\n"
     ]
    }
   ],
   "source": [
    "!time mlonmcu flow run resnet toycar --backend tvmaot --backend tflmi  --target etiss_pulpino"
   ]
  },
  {
   "cell_type": "markdown",
   "id": "a0a94aef",
   "metadata": {
    "papermill": {
     "duration": 0.01344,
     "end_time": "2024-10-02T08:42:57.125191",
     "exception": false,
     "start_time": "2024-10-02T08:42:57.111751",
     "status": "completed"
    },
    "tags": []
   },
   "source": [
    "**Exploit parallelism to reduce the processing time**"
   ]
  },
  {
   "cell_type": "code",
   "execution_count": 19,
   "id": "a2cd60e3",
   "metadata": {
    "execution": {
     "iopub.execute_input": "2024-10-02T08:42:57.153231Z",
     "iopub.status.busy": "2024-10-02T08:42:57.152753Z",
     "iopub.status.idle": "2024-10-02T08:45:57.611792Z",
     "shell.execute_reply": "2024-10-02T08:45:57.611123Z"
    },
    "papermill": {
     "duration": 180.474424,
     "end_time": "2024-10-02T08:45:57.613009",
     "exception": false,
     "start_time": "2024-10-02T08:42:57.138585",
     "status": "completed"
    },
    "tags": []
   },
   "outputs": [
    {
     "name": "stdout",
     "output_type": "stream",
     "text": [
      "INFO - Loading environment cache from file\r\n",
      "INFO - Successfully initialized cache\r\n"
     ]
    },
    {
     "name": "stdout",
     "output_type": "stream",
     "text": [
      "INFO - [session-6]  Processing stage LOAD\r\n",
      "INFO - [session-6]  Processing stage BUILD\r\n"
     ]
    },
    {
     "name": "stdout",
     "output_type": "stream",
     "text": [
      "ERROR - Traceback (most recent call last):\r\n",
      "  File \"/opt/hostedtoolcache/Python/3.10.15/x64/lib/python3.10/runpy.py\", line 187, in _run_module_as_main\r\n",
      "    mod_name, mod_spec, code = _get_module_details(mod_name, _Error)\r\n",
      "  File \"/opt/hostedtoolcache/Python/3.10.15/x64/lib/python3.10/runpy.py\", line 110, in _get_module_details\r\n",
      "    __import__(pkg_name)\r\n",
      "  File \"/tmp/mlonmcu_env/deps/src/tvm/python/tvm/__init__.py\", line 79, in <module>\r\n",
      "    from . import micro\r\n",
      "  File \"/tmp/mlonmcu_env/deps/src/tvm/python/tvm/micro/__init__.py\", line 24, in <module>\r\n",
      "    from .model_library_format import (\r\n",
      "  File \"/tmp/mlonmcu_env/deps/src/tvm/python/tvm/micro/model_library_format.py\", line 35, in <module>\r\n",
      "    from ..relay import param_dict\r\n",
      "  File \"/tmp/mlonmcu_env/deps/src/tvm/python/tvm/relay/__init__.py\", line 29, in <module>\r\n",
      "    from . import prelude\r\n",
      "  File \"/tmp/mlonmcu_env/deps/src/tvm/python/tvm/relay/prelude.py\", line 21, in <module>\r\n",
      "    from tvm.relay.transform import ToANormalFormExpr\r\n",
      "  File \"/tmp/mlonmcu_env/deps/src/tvm/python/tvm/relay/transform/__init__.py\", line 20, in <module>\r\n",
      "    from .transform import *\r\n",
      "  File \"/tmp/mlonmcu_env/deps/src/tvm/python/tvm/relay/transform/transform.py\", line 30, in <module>\r\n",
      "    from ..backend.utils import mangle_module_name\r\n",
      "  File \"/tmp/mlonmcu_env/deps/src/tvm/python/tvm/relay/backend/__init__.py\", line 18, in <module>\r\n",
      "    from . import te_compiler\r\n",
      "  File \"/tmp/mlonmcu_env/deps/src/tvm/python/tvm/relay/backend/te_compiler.py\", line 25, in <module>\r\n",
      "    from tvm import autotvm, te\r\n",
      "  File \"/tmp/mlonmcu_env/deps/src/tvm/python/tvm/autotvm/__init__.py\", line 35, in <module>\r\n",
      "    from . import tuner\r\n",
      "  File \"/tmp/mlonmcu_env/deps/src/tvm/python/tvm/autotvm/tuner/__init__.py\", line 31, in <module>\r\n",
      "    from .droplet_turner import DropletTuner\r\n",
      "  File \"/tmp/mlonmcu_env/deps/src/tvm/python/tvm/autotvm/tuner/droplet_turner.py\", line 21, in <module>\r\n",
      "    from scipy import stats\r\n",
      "ModuleNotFoundError: No module named 'scipy'\r\n",
      "\r\n",
      "ERROR - The process returned an non-zero exit code 1! (CMD: `/tmp/Demo-YH5O/venv/bin/python3 -m tvm.driver.tvmc compile /tmp/mlonmcu_env/temp/sessions/6/runs/0/resnet.tflite --target c --target-c-mcpu generic-rv32 --target-c-model etiss-rv32gc --runtime crt --executor aot --pass-config tir.disable_vectorize=True --pass-config tir.usmp.enable=False --input-shapes \"input_1_int8:[1,32,32,3]\" --opt-level 3 --output /tmp/tmpd3yk8bjn/default.tar -f mlf --model-format tflite --runtime-crt-system-lib 0 --executor-aot-unpacked-api 0 --executor-aot-interface-api packed --target-c-constants-byte-alignment 16 --target-c-workspace-byte-alignment 16`)\r\n",
      "Traceback (most recent call last):\r\n",
      "  File \"/home/runner/work/mlonmcu/mlonmcu/mlonmcu/session/run.py\", line 1090, in process\r\n",
      "    func()\r\n",
      "  File \"/home/runner/work/mlonmcu/mlonmcu/mlonmcu/session/run.py\", line 942, in build\r\n",
      "    _build()\r\n",
      "  File \"/home/runner/work/mlonmcu/mlonmcu/mlonmcu/session/run.py\", line 851, in _build\r\n",
      "    artifacts = self.backend.generate_artifacts()\r\n",
      "  File \"/home/runner/work/mlonmcu/mlonmcu/mlonmcu/flow/backend.py\", line 84, in generate_artifacts\r\n",
      "    artifacts, metrics = self.generate()\r\n",
      "  File \"/home/runner/work/mlonmcu/mlonmcu/mlonmcu/flow/tvm/backend/tvmaot.py\", line 96, in generate\r\n",
      "    artifacts, metrics = super().generate()\r\n",
      "  File \"/home/runner/work/mlonmcu/mlonmcu/mlonmcu/flow/tvm/backend/backend.py\", line 486, in generate\r\n",
      "    out = self.invoke_tvmc_compile(out_path, dump=dump, cwd=temp_dir)\r\n",
      "  File \"/home/runner/work/mlonmcu/mlonmcu/mlonmcu/flow/tvm/backend/backend.py\", line 425, in invoke_tvmc_compile\r\n",
      "    ret = self.invoke_tvmc(\"compile\", *args, cwd=cwd)\r\n",
      "  File \"/home/runner/work/mlonmcu/mlonmcu/mlonmcu/flow/tvm/backend/backend.py\", line 410, in invoke_tvmc\r\n",
      "    return utils.python(*pre, command, *args, live=self.print_outputs, env=env, cwd=cwd)\r\n",
      "  File \"/home/runner/work/mlonmcu/mlonmcu/mlonmcu/setup/utils.py\", line 322, in python\r\n",
      "    return execute(sys.executable, *args, **kwargs)\r\n",
      "  File \"/home/runner/work/mlonmcu/mlonmcu/mlonmcu/setup/utils.py\", line 305, in execute\r\n",
      "    assert exit_code == 0, \"The process returned an non-zero exit code {}! (CMD: `{}`)\".format(\r\n",
      "AssertionError: The process returned an non-zero exit code 1! (CMD: `/tmp/Demo-YH5O/venv/bin/python3 -m tvm.driver.tvmc compile /tmp/mlonmcu_env/temp/sessions/6/runs/0/resnet.tflite --target c --target-c-mcpu generic-rv32 --target-c-model etiss-rv32gc --runtime crt --executor aot --pass-config tir.disable_vectorize=True --pass-config tir.usmp.enable=False --input-shapes \"input_1_int8:[1,32,32,3]\" --opt-level 3 --output /tmp/tmpd3yk8bjn/default.tar -f mlf --model-format tflite --runtime-crt-system-lib 0 --executor-aot-unpacked-api 0 --executor-aot-interface-api packed --target-c-constants-byte-alignment 16 --target-c-workspace-byte-alignment 16`)\r\n",
      "ERROR - Traceback (most recent call last):\r\n",
      "  File \"/opt/hostedtoolcache/Python/3.10.15/x64/lib/python3.10/runpy.py\", line 187, in _run_module_as_main\r\n",
      "    mod_name, mod_spec, code = _get_module_details(mod_name, _Error)\r\n",
      "  File \"/opt/hostedtoolcache/Python/3.10.15/x64/lib/python3.10/runpy.py\", line 110, in _get_module_details\r\n",
      "    __import__(pkg_name)\r\n",
      "  File \"/tmp/mlonmcu_env/deps/src/tvm/python/tvm/__init__.py\", line 79, in <module>\r\n",
      "    from . import micro\r\n",
      "  File \"/tmp/mlonmcu_env/deps/src/tvm/python/tvm/micro/__init__.py\", line 24, in <module>\r\n",
      "    from .model_library_format import (\r\n",
      "  File \"/tmp/mlonmcu_env/deps/src/tvm/python/tvm/micro/model_library_format.py\", line 35, in <module>\r\n",
      "    from ..relay import param_dict\r\n",
      "  File \"/tmp/mlonmcu_env/deps/src/tvm/python/tvm/relay/__init__.py\", line 29, in <module>\r\n",
      "    from . import prelude\r\n",
      "  File \"/tmp/mlonmcu_env/deps/src/tvm/python/tvm/relay/prelude.py\", line 21, in <module>\r\n",
      "    from tvm.relay.transform import ToANormalFormExpr\r\n",
      "  File \"/tmp/mlonmcu_env/deps/src/tvm/python/tvm/relay/transform/__init__.py\", line 20, in <module>\r\n",
      "    from .transform import *\r\n",
      "  File \"/tmp/mlonmcu_env/deps/src/tvm/python/tvm/relay/transform/transform.py\", line 30, in <module>\r\n",
      "    from ..backend.utils import mangle_module_name\r\n",
      "  File \"/tmp/mlonmcu_env/deps/src/tvm/python/tvm/relay/backend/__init__.py\", line 18, in <module>\r\n",
      "    from . import te_compiler\r\n",
      "  File \"/tmp/mlonmcu_env/deps/src/tvm/python/tvm/relay/backend/te_compiler.py\", line 25, in <module>\r\n",
      "    from tvm import autotvm, te\r\n",
      "  File \"/tmp/mlonmcu_env/deps/src/tvm/python/tvm/autotvm/__init__.py\", line 35, in <module>\r\n",
      "    from . import tuner\r\n",
      "  File \"/tmp/mlonmcu_env/deps/src/tvm/python/tvm/autotvm/tuner/__init__.py\", line 31, in <module>\r\n",
      "    from .droplet_turner import DropletTuner\r\n",
      "  File \"/tmp/mlonmcu_env/deps/src/tvm/python/tvm/autotvm/tuner/droplet_turner.py\", line 21, in <module>\r\n",
      "    from scipy import stats\r\n",
      "ModuleNotFoundError: No module named 'scipy'\r\n",
      "\r\n",
      "ERROR - [session-6] [run-0] Run failed at stage 'BUILD', aborting...\r\n",
      "ERROR - The process returned an non-zero exit code 1! (CMD: `/tmp/Demo-YH5O/venv/bin/python3 -m tvm.driver.tvmc compile /tmp/mlonmcu_env/temp/sessions/6/runs/2/toycar.tflite --target c --target-c-mcpu generic-rv32 --target-c-model etiss-rv32gc --runtime crt --executor aot --pass-config tir.disable_vectorize=True --pass-config tir.usmp.enable=False --input-shapes \"input_1:[1,640]\" --opt-level 3 --output /tmp/tmpfww_6fhg/default.tar -f mlf --model-format tflite --runtime-crt-system-lib 0 --executor-aot-unpacked-api 0 --executor-aot-interface-api packed --target-c-constants-byte-alignment 16 --target-c-workspace-byte-alignment 16`)\r\n",
      "Traceback (most recent call last):\r\n",
      "  File \"/home/runner/work/mlonmcu/mlonmcu/mlonmcu/session/run.py\", line 1090, in process\r\n",
      "    func()\r\n",
      "  File \"/home/runner/work/mlonmcu/mlonmcu/mlonmcu/session/run.py\", line 942, in build\r\n",
      "    _build()\r\n",
      "  File \"/home/runner/work/mlonmcu/mlonmcu/mlonmcu/session/run.py\", line 851, in _build\r\n",
      "    artifacts = self.backend.generate_artifacts()\r\n",
      "  File \"/home/runner/work/mlonmcu/mlonmcu/mlonmcu/flow/backend.py\", line 84, in generate_artifacts\r\n",
      "    artifacts, metrics = self.generate()\r\n",
      "  File \"/home/runner/work/mlonmcu/mlonmcu/mlonmcu/flow/tvm/backend/tvmaot.py\", line 96, in generate\r\n",
      "    artifacts, metrics = super().generate()\r\n",
      "  File \"/home/runner/work/mlonmcu/mlonmcu/mlonmcu/flow/tvm/backend/backend.py\", line 486, in generate\r\n",
      "    out = self.invoke_tvmc_compile(out_path, dump=dump, cwd=temp_dir)\r\n",
      "  File \"/home/runner/work/mlonmcu/mlonmcu/mlonmcu/flow/tvm/backend/backend.py\", line 425, in invoke_tvmc_compile\r\n",
      "    ret = self.invoke_tvmc(\"compile\", *args, cwd=cwd)\r\n",
      "  File \"/home/runner/work/mlonmcu/mlonmcu/mlonmcu/flow/tvm/backend/backend.py\", line 410, in invoke_tvmc\r\n",
      "    return utils.python(*pre, command, *args, live=self.print_outputs, env=env, cwd=cwd)\r\n",
      "  File \"/home/runner/work/mlonmcu/mlonmcu/mlonmcu/setup/utils.py\", line 322, in python\r\n",
      "    return execute(sys.executable, *args, **kwargs)\r\n",
      "  File \"/home/runner/work/mlonmcu/mlonmcu/mlonmcu/setup/utils.py\", line 305, in execute\r\n",
      "    assert exit_code == 0, \"The process returned an non-zero exit code {}! (CMD: `{}`)\".format(\r\n",
      "AssertionError: The process returned an non-zero exit code 1! (CMD: `/tmp/Demo-YH5O/venv/bin/python3 -m tvm.driver.tvmc compile /tmp/mlonmcu_env/temp/sessions/6/runs/2/toycar.tflite --target c --target-c-mcpu generic-rv32 --target-c-model etiss-rv32gc --runtime crt --executor aot --pass-config tir.disable_vectorize=True --pass-config tir.usmp.enable=False --input-shapes \"input_1:[1,640]\" --opt-level 3 --output /tmp/tmpfww_6fhg/default.tar -f mlf --model-format tflite --runtime-crt-system-lib 0 --executor-aot-unpacked-api 0 --executor-aot-interface-api packed --target-c-constants-byte-alignment 16 --target-c-workspace-byte-alignment 16`)\r\n",
      "ERROR - [session-6] [run-2] Run failed at stage 'BUILD', aborting...\r\n",
      "INFO - [session-6]  Processing stage COMPILE\r\n",
      "WARNING - Skiping stage 'COMPILE' for failed run\r\n",
      "WARNING - Skiping stage 'COMPILE' for failed run\r\n"
     ]
    },
    {
     "name": "stdout",
     "output_type": "stream",
     "text": [
      "INFO - [session-6]  Processing stage RUN\r\n",
      "WARNING - Skiping stage 'RUN' for failed run\r\n",
      "WARNING - Skiping stage 'RUN' for failed run\r\n",
      "ERROR - EtissPulpinoTarget.get_ini_bool_config() got an unexpected keyword argument 'override'\r\n",
      "Traceback (most recent call last):\r\n",
      "  File \"/home/runner/work/mlonmcu/mlonmcu/mlonmcu/session/run.py\", line 1090, in process\r\n",
      "    func()\r\n",
      "  File \"/home/runner/work/mlonmcu/mlonmcu/mlonmcu/session/run.py\", line 739, in run\r\n",
      "    artifacts = self.target.generate_artifacts(elf_artifact.path)\r\n",
      "  File \"/home/runner/work/mlonmcu/mlonmcu/mlonmcu/target/target.py\", line 209, in generate_artifacts\r\n",
      "    artifacts, metrics = self.generate(elf)\r\n",
      "  File \"/home/runner/work/mlonmcu/mlonmcu/mlonmcu/target/target.py\", line 189, in generate\r\n",
      "    metrics_, out, artifacts_ = self.get_metrics(elf, temp_dir, *args)\r\n",
      "  File \"/home/runner/work/mlonmcu/mlonmcu/mlonmcu/platform/mlif/mlif_target.py\", line 226, in get_metrics\r\n",
      "    metrics, out, artifacts = super().get_metrics(elf, directory, handle_exit=_handle_exit)\r\n",
      "  File \"/home/runner/work/mlonmcu/mlonmcu/mlonmcu/target/riscv/etiss.py\", line 670, in get_metrics\r\n",
      "    out_, artifacts_ = self.exec(\r\n",
      "  File \"/home/runner/work/mlonmcu/mlonmcu/mlonmcu/platform/mlif/mlif_target.py\", line 132, in exec\r\n",
      "    ret_, artifacts_ = super().exec(\r\n",
      "  File \"/home/runner/work/mlonmcu/mlonmcu/mlonmcu/target/riscv/etiss.py\", line 585, in exec\r\n",
      "    self.write_ini(etiss_ini, override=ini_override)\r\n",
      "  File \"/home/runner/work/mlonmcu/mlonmcu/mlonmcu/target/riscv/etiss.py\", line 498, in write_ini\r\n",
      "    ini_bool = self.get_ini_bool_config(override=override)\r\n",
      "TypeError: EtissPulpinoTarget.get_ini_bool_config() got an unexpected keyword argument 'override'\r\n",
      "ERROR - [session-6] [run-3] Run failed at stage 'RUN', aborting...\r\n",
      "ERROR - EtissPulpinoTarget.get_ini_bool_config() got an unexpected keyword argument 'override'\r\n",
      "Traceback (most recent call last):\r\n",
      "  File \"/home/runner/work/mlonmcu/mlonmcu/mlonmcu/session/run.py\", line 1090, in process\r\n",
      "    func()\r\n",
      "  File \"/home/runner/work/mlonmcu/mlonmcu/mlonmcu/session/run.py\", line 739, in run\r\n",
      "    artifacts = self.target.generate_artifacts(elf_artifact.path)\r\n",
      "  File \"/home/runner/work/mlonmcu/mlonmcu/mlonmcu/target/target.py\", line 209, in generate_artifacts\r\n",
      "    artifacts, metrics = self.generate(elf)\r\n",
      "  File \"/home/runner/work/mlonmcu/mlonmcu/mlonmcu/target/target.py\", line 189, in generate\r\n",
      "    metrics_, out, artifacts_ = self.get_metrics(elf, temp_dir, *args)\r\n",
      "  File \"/home/runner/work/mlonmcu/mlonmcu/mlonmcu/platform/mlif/mlif_target.py\", line 226, in get_metrics\r\n",
      "    metrics, out, artifacts = super().get_metrics(elf, directory, handle_exit=_handle_exit)\r\n",
      "  File \"/home/runner/work/mlonmcu/mlonmcu/mlonmcu/target/riscv/etiss.py\", line 670, in get_metrics\r\n",
      "    out_, artifacts_ = self.exec(\r\n",
      "  File \"/home/runner/work/mlonmcu/mlonmcu/mlonmcu/platform/mlif/mlif_target.py\", line 132, in exec\r\n",
      "    ret_, artifacts_ = super().exec(\r\n",
      "  File \"/home/runner/work/mlonmcu/mlonmcu/mlonmcu/target/riscv/etiss.py\", line 585, in exec\r\n",
      "    self.write_ini(etiss_ini, override=ini_override)\r\n",
      "  File \"/home/runner/work/mlonmcu/mlonmcu/mlonmcu/target/riscv/etiss.py\", line 498, in write_ini\r\n",
      "    ini_bool = self.get_ini_bool_config(override=override)\r\n",
      "TypeError: EtissPulpinoTarget.get_ini_bool_config() got an unexpected keyword argument 'override'\r\n",
      "ERROR - [session-6] [run-1] Run failed at stage 'RUN', aborting...\r\n"
     ]
    },
    {
     "name": "stdout",
     "output_type": "stream",
     "text": [
      "ERROR - All runs have failed to complete!\r\n",
      "INFO - Postprocessing session report\r\n",
      "INFO - [session-6] Done processing runs\r\n",
      "INFO - Report:\r\n",
      "   Session  Run   Model Frontend Framework Backend Platform         Target Incomplete  Total ROM  Total RAM  ROM read-only  ROM code  ROM misc  RAM data  RAM zero-init data Features                                             Config Postprocesses Comment  Failing                  Reason\r\n",
      "0        6    0  resnet   tflite       tvm  tvmaot     mlif  etiss_pulpino       True        NaN        NaN            NaN       NaN       NaN       NaN                 NaN       []  {'resnet.output_types': {'Identity_int8': 'int...            []       -     True  AssertionError @ BUILD\r\n",
      "1        6    1  resnet   tflite      tflm   tflmi     mlif  etiss_pulpino        NaN   197058.0    68556.0       101904.0   95010.0     144.0    1720.0             66836.0       []  {'resnet.output_types': {'Identity_int8': 'int...            []       -     True         TypeError @ RUN\r\n",
      "2        6    2  toycar   tflite       tvm  tvmaot     mlif  etiss_pulpino       True        NaN        NaN            NaN       NaN       NaN       NaN                 NaN       []  {'toycar.output_types': {'Identity': 'int8'}, ...            []       -     True  AssertionError @ BUILD\r\n",
      "3        6    3  toycar   tflite      tflm   tflmi     mlif  etiss_pulpino        NaN   341046.0    19212.0       280152.0   60750.0     144.0    1720.0             17492.0       []  {'toycar.output_types': {'Identity': 'int8'}, ...            []       -     True         TypeError @ RUN\r\n",
      "ERROR - At least one error occured!\r\n"
     ]
    },
    {
     "name": "stdout",
     "output_type": "stream",
     "text": [
      "Command exited with non-zero status 1\r\n",
      "680.69user 18.18system 3:00.34elapsed 387%CPU (0avgtext+0avgdata 445524maxresident)k\r\n",
      "16inputs+140192outputs (8major+1668596minor)pagefaults 0swaps\r\n"
     ]
    }
   ],
   "source": [
    "!time mlonmcu flow run resnet toycar --backend tvmaot --backend tflmi --target etiss_pulpino --parallel --config runs_per_stage=0 --config mlif.num_threads=2"
   ]
  },
  {
   "cell_type": "markdown",
   "id": "35b41326",
   "metadata": {
    "papermill": {
     "duration": 0.013878,
     "end_time": "2024-10-02T08:45:57.641560",
     "exception": false,
     "start_time": "2024-10-02T08:45:57.627682",
     "status": "completed"
    },
    "tags": []
   },
   "source": [
    "**Display progress information for long-running benchmarks**"
   ]
  },
  {
   "cell_type": "markdown",
   "id": "eb4df598",
   "metadata": {
    "papermill": {
     "duration": 0.013838,
     "end_time": "2024-10-02T08:45:57.669261",
     "exception": false,
     "start_time": "2024-10-02T08:45:57.655423",
     "status": "completed"
    },
    "tags": []
   },
   "source": [
    "**WARNING:** The progress output looks bit broken inside the Jupyter Notebook but should look fine on the command-line."
   ]
  },
  {
   "cell_type": "code",
   "execution_count": 20,
   "id": "6fe3057f",
   "metadata": {
    "execution": {
     "iopub.execute_input": "2024-10-02T08:45:57.697926Z",
     "iopub.status.busy": "2024-10-02T08:45:57.697666Z",
     "iopub.status.idle": "2024-10-02T08:55:12.738015Z",
     "shell.execute_reply": "2024-10-02T08:55:12.737352Z"
    },
    "papermill": {
     "duration": 555.056251,
     "end_time": "2024-10-02T08:55:12.739293",
     "exception": false,
     "start_time": "2024-10-02T08:45:57.683042",
     "status": "completed"
    },
    "tags": []
   },
   "outputs": [
    {
     "name": "stdout",
     "output_type": "stream",
     "text": [
      "INFO - Loading environment cache from file\r\n",
      "INFO - Successfully initialized cache\r\n"
     ]
    },
    {
     "name": "stdout",
     "output_type": "stream",
     "text": [
      "\r",
      "Processing stages:   0%|                                                              | 0/4 [00:00s]\r\n",
      "\r",
      "Processing stage LOAD:   0%|                                                         | 0/12 [00:00s]\u001b[A"
     ]
    },
    {
     "name": "stdout",
     "output_type": "stream",
     "text": [
      "\r\n",
      "\r",
      "                                                                                                    \u001b[A\r\n",
      "\r",
      "Processing stage BUILD:   0%|                                                        | 0/12 [00:00s]\u001b[A"
     ]
    },
    {
     "name": "stdout",
     "output_type": "stream",
     "text": [
      "\r\n",
      "\r",
      "Processing stage BUILD:  17%|█████████▎                                              | 2/12 [00:00s]\u001b[A"
     ]
    },
    {
     "name": "stdout",
     "output_type": "stream",
     "text": [
      "ERROR - Traceback (most recent call last):\r\n",
      "  File \"/opt/hostedtoolcache/Python/3.10.15/x64/lib/python3.10/runpy.py\", line 187, in _run_module_as_main\r\n",
      "    mod_name, mod_spec, code = _get_module_details(mod_name, _Error)\r\n",
      "  File \"/opt/hostedtoolcache/Python/3.10.15/x64/lib/python3.10/runpy.py\", line 110, in _get_module_details\r\n",
      "    __import__(pkg_name)\r\n",
      "  File \"/tmp/mlonmcu_env/deps/src/tvm/python/tvm/__init__.py\", line 79, in <module>\r\n",
      "    from . import micro\r\n",
      "  File \"/tmp/mlonmcu_env/deps/src/tvm/python/tvm/micro/__init__.py\", line 24, in <module>\r\n",
      "    from .model_library_format import (\r\n",
      "  File \"/tmp/mlonmcu_env/deps/src/tvm/python/tvm/micro/model_library_format.py\", line 35, in <module>\r\n",
      "    from ..relay import param_dict\r\n",
      "  File \"/tmp/mlonmcu_env/deps/src/tvm/python/tvm/relay/__init__.py\", line 29, in <module>\r\n",
      "    from . import prelude\r\n",
      "  File \"/tmp/mlonmcu_env/deps/src/tvm/python/tvm/relay/prelude.py\", line 21, in <module>\r\n",
      "    from tvm.relay.transform import ToANormalFormExpr\r\n",
      "  File \"/tmp/mlonmcu_env/deps/src/tvm/python/tvm/relay/transform/__init__.py\", line 20, in <module>\r\n",
      "    from .transform import *\r\n",
      "  File \"/tmp/mlonmcu_env/deps/src/tvm/python/tvm/relay/transform/transform.py\", line 30, in <module>\r\n",
      "    from ..backend.utils import mangle_module_name\r\n",
      "  File \"/tmp/mlonmcu_env/deps/src/tvm/python/tvm/relay/backend/__init__.py\", line 18, in <module>\r\n",
      "    from . import te_compiler\r\n",
      "  File \"/tmp/mlonmcu_env/deps/src/tvm/python/tvm/relay/backend/te_compiler.py\", line 25, in <module>\r\n",
      "    from tvm import autotvm, te\r\n",
      "  File \"/tmp/mlonmcu_env/deps/src/tvm/python/tvm/autotvm/__init__.py\", line 35, in <module>\r\n",
      "    from . import tuner\r\n",
      "  File \"/tmp/mlonmcu_env/deps/src/tvm/python/tvm/autotvm/tuner/__init__.py\", line 31, in <module>\r\n",
      "    from .droplet_turner import DropletTuner\r\n",
      "  File \"/tmp/mlonmcu_env/deps/src/tvm/python/tvm/autotvm/tuner/droplet_turner.py\", line 21, in <module>\r\n",
      "    from scipy import stats\r\n",
      "ModuleNotFoundError: No module named 'scipy'\r\n",
      "\r\n",
      "ERROR - The process returned an non-zero exit code 1! (CMD: `/tmp/Demo-YH5O/venv/bin/python3 -m tvm.driver.tvmc compile /tmp/mlonmcu_env/temp/sessions/7/runs/2/resnet.tflite --target c --runtime crt --executor aot --pass-config tir.disable_vectorize=True --pass-config tir.usmp.enable=False --input-shapes \"input_1_int8:[1,32,32,3]\" --opt-level 3 --output /tmp/tmpxo7zvmp2/default.tar -f mlf --model-format tflite --runtime-crt-system-lib 0 --executor-aot-unpacked-api 0 --executor-aot-interface-api packed --target-c-constants-byte-alignment 16 --target-c-workspace-byte-alignment 16`)\r\n",
      "Traceback (most recent call last):\r\n",
      "  File \"/home/runner/work/mlonmcu/mlonmcu/mlonmcu/session/run.py\", line 1090, in process\r\n",
      "    func()\r\n",
      "  File \"/home/runner/work/mlonmcu/mlonmcu/mlonmcu/session/run.py\", line 942, in build\r\n",
      "    _build()\r\n",
      "  File \"/home/runner/work/mlonmcu/mlonmcu/mlonmcu/session/run.py\", line 851, in _build\r\n",
      "    artifacts = self.backend.generate_artifacts()\r\n",
      "  File \"/home/runner/work/mlonmcu/mlonmcu/mlonmcu/flow/backend.py\", line 84, in generate_artifacts\r\n",
      "    artifacts, metrics = self.generate()\r\n",
      "  File \"/home/runner/work/mlonmcu/mlonmcu/mlonmcu/flow/tvm/backend/tvmaot.py\", line 96, in generate\r\n",
      "    artifacts, metrics = super().generate()\r\n",
      "  File \"/home/runner/work/mlonmcu/mlonmcu/mlonmcu/flow/tvm/backend/backend.py\", line 486, in generate\r\n",
      "    out = self.invoke_tvmc_compile(out_path, dump=dump, cwd=temp_dir)\r\n",
      "  File \"/home/runner/work/mlonmcu/mlonmcu/mlonmcu/flow/tvm/backend/backend.py\", line 425, in invoke_tvmc_compile\r\n",
      "    ret = self.invoke_tvmc(\"compile\", *args, cwd=cwd)\r\n",
      "  File \"/home/runner/work/mlonmcu/mlonmcu/mlonmcu/flow/tvm/backend/backend.py\", line 410, in invoke_tvmc\r\n",
      "    return utils.python(*pre, command, *args, live=self.print_outputs, env=env, cwd=cwd)\r\n",
      "  File \"/home/runner/work/mlonmcu/mlonmcu/mlonmcu/setup/utils.py\", line 322, in python\r\n",
      "    return execute(sys.executable, *args, **kwargs)\r\n",
      "  File \"/home/runner/work/mlonmcu/mlonmcu/mlonmcu/setup/utils.py\", line 305, in execute\r\n",
      "    assert exit_code == 0, \"The process returned an non-zero exit code {}! (CMD: `{}`)\".format(\r\n",
      "AssertionError: The process returned an non-zero exit code 1! (CMD: `/tmp/Demo-YH5O/venv/bin/python3 -m tvm.driver.tvmc compile /tmp/mlonmcu_env/temp/sessions/7/runs/2/resnet.tflite --target c --runtime crt --executor aot --pass-config tir.disable_vectorize=True --pass-config tir.usmp.enable=False --input-shapes \"input_1_int8:[1,32,32,3]\" --opt-level 3 --output /tmp/tmpxo7zvmp2/default.tar -f mlf --model-format tflite --runtime-crt-system-lib 0 --executor-aot-unpacked-api 0 --executor-aot-interface-api packed --target-c-constants-byte-alignment 16 --target-c-workspace-byte-alignment 16`)\r\n",
      "ERROR - [session-7] [run-2] Run failed at stage 'BUILD', aborting...\r\n"
     ]
    },
    {
     "name": "stdout",
     "output_type": "stream",
     "text": [
      "\r\n",
      "\r",
      "Processing stage BUILD:  33%|██████████████████▋                                     | 4/12 [00:00s]\u001b[AERROR - Traceback (most recent call last):\r\n",
      "  File \"/opt/hostedtoolcache/Python/3.10.15/x64/lib/python3.10/runpy.py\", line 187, in _run_module_as_main\r\n",
      "    mod_name, mod_spec, code = _get_module_details(mod_name, _Error)\r\n",
      "  File \"/opt/hostedtoolcache/Python/3.10.15/x64/lib/python3.10/runpy.py\", line 110, in _get_module_details\r\n",
      "    __import__(pkg_name)\r\n",
      "  File \"/tmp/mlonmcu_env/deps/src/tvm/python/tvm/__init__.py\", line 79, in <module>\r\n",
      "    from . import micro\r\n",
      "  File \"/tmp/mlonmcu_env/deps/src/tvm/python/tvm/micro/__init__.py\", line 24, in <module>\r\n",
      "    from .model_library_format import (\r\n",
      "  File \"/tmp/mlonmcu_env/deps/src/tvm/python/tvm/micro/model_library_format.py\", line 35, in <module>\r\n",
      "    from ..relay import param_dict\r\n",
      "  File \"/tmp/mlonmcu_env/deps/src/tvm/python/tvm/relay/__init__.py\", line 29, in <module>\r\n",
      "    from . import prelude\r\n",
      "  File \"/tmp/mlonmcu_env/deps/src/tvm/python/tvm/relay/prelude.py\", line 21, in <module>\r\n",
      "    from tvm.relay.transform import ToANormalFormExpr\r\n",
      "  File \"/tmp/mlonmcu_env/deps/src/tvm/python/tvm/relay/transform/__init__.py\", line 20, in <module>\r\n",
      "    from .transform import *\r\n",
      "  File \"/tmp/mlonmcu_env/deps/src/tvm/python/tvm/relay/transform/transform.py\", line 30, in <module>\r\n",
      "    from ..backend.utils import mangle_module_name\r\n",
      "  File \"/tmp/mlonmcu_env/deps/src/tvm/python/tvm/relay/backend/__init__.py\", line 18, in <module>\r\n",
      "    from . import te_compiler\r\n",
      "  File \"/tmp/mlonmcu_env/deps/src/tvm/python/tvm/relay/backend/te_compiler.py\", line 25, in <module>\r\n",
      "    from tvm import autotvm, te\r\n",
      "  File \"/tmp/mlonmcu_env/deps/src/tvm/python/tvm/autotvm/__init__.py\", line 35, in <module>\r\n",
      "    from . import tuner\r\n",
      "  File \"/tmp/mlonmcu_env/deps/src/tvm/python/tvm/autotvm/tuner/__init__.py\", line 31, in <module>\r\n",
      "    from .droplet_turner import DropletTuner\r\n",
      "  File \"/tmp/mlonmcu_env/deps/src/tvm/python/tvm/autotvm/tuner/droplet_turner.py\", line 21, in <module>\r\n",
      "    from scipy import stats\r\n",
      "ModuleNotFoundError: No module named 'scipy'\r\n",
      "\r\n"
     ]
    },
    {
     "name": "stdout",
     "output_type": "stream",
     "text": [
      "ERROR - Traceback (most recent call last):\r\n",
      "  File \"/opt/hostedtoolcache/Python/3.10.15/x64/lib/python3.10/runpy.py\", line 187, in _run_module_as_main\r\n",
      "    mod_name, mod_spec, code = _get_module_details(mod_name, _Error)\r\n",
      "  File \"/opt/hostedtoolcache/Python/3.10.15/x64/lib/python3.10/runpy.py\", line 110, in _get_module_details\r\n",
      "    __import__(pkg_name)\r\n",
      "  File \"/tmp/mlonmcu_env/deps/src/tvm/python/tvm/__init__.py\", line 79, in <module>\r\n",
      "    from . import micro\r\n",
      "  File \"/tmp/mlonmcu_env/deps/src/tvm/python/tvm/micro/__init__.py\", line 24, in <module>\r\n",
      "    from .model_library_format import (\r\n",
      "  File \"/tmp/mlonmcu_env/deps/src/tvm/python/tvm/micro/model_library_format.py\", line 35, in <module>\r\n",
      "    from ..relay import param_dict\r\n",
      "  File \"/tmp/mlonmcu_env/deps/src/tvm/python/tvm/relay/__init__.py\", line 29, in <module>\r\n",
      "    from . import prelude\r\n",
      "  File \"/tmp/mlonmcu_env/deps/src/tvm/python/tvm/relay/prelude.py\", line 21, in <module>\r\n",
      "    from tvm.relay.transform import ToANormalFormExpr\r\n",
      "  File \"/tmp/mlonmcu_env/deps/src/tvm/python/tvm/relay/transform/__init__.py\", line 20, in <module>\r\n",
      "    from .transform import *\r\n",
      "  File \"/tmp/mlonmcu_env/deps/src/tvm/python/tvm/relay/transform/transform.py\", line 30, in <module>\r\n",
      "    from ..backend.utils import mangle_module_name\r\n",
      "  File \"/tmp/mlonmcu_env/deps/src/tvm/python/tvm/relay/backend/__init__.py\", line 18, in <module>\r\n",
      "    from . import te_compiler\r\n",
      "  File \"/tmp/mlonmcu_env/deps/src/tvm/python/tvm/relay/backend/te_compiler.py\", line 25, in <module>\r\n",
      "    from tvm import autotvm, te\r\n",
      "  File \"/tmp/mlonmcu_env/deps/src/tvm/python/tvm/autotvm/__init__.py\", line 35, in <module>\r\n",
      "    from . import tuner\r\n",
      "  File \"/tmp/mlonmcu_env/deps/src/tvm/python/tvm/autotvm/tuner/__init__.py\", line 31, in <module>\r\n",
      "    from .droplet_turner import DropletTuner\r\n",
      "  File \"/tmp/mlonmcu_env/deps/src/tvm/python/tvm/autotvm/tuner/droplet_turner.py\", line 21, in <module>\r\n",
      "    from scipy import stats\r\n",
      "ModuleNotFoundError: No module named 'scipy'\r\n",
      "\r\n",
      "ERROR - The process returned an non-zero exit code 1! (CMD: `/tmp/Demo-YH5O/venv/bin/python3 -m tvm.driver.tvmc compile /tmp/mlonmcu_env/temp/sessions/7/runs/0/resnet.tflite --target c --target-c-mcpu generic-rv32 --target-c-model etiss-rv32gc --runtime crt --executor aot --pass-config tir.disable_vectorize=True --pass-config tir.usmp.enable=False --input-shapes \"input_1_int8:[1,32,32,3]\" --opt-level 3 --output /tmp/tmpkxa9tz7n/default.tar -f mlf --model-format tflite --runtime-crt-system-lib 0 --executor-aot-unpacked-api 0 --executor-aot-interface-api packed --target-c-constants-byte-alignment 16 --target-c-workspace-byte-alignment 16`)\r\n",
      "Traceback (most recent call last):\r\n",
      "  File \"/home/runner/work/mlonmcu/mlonmcu/mlonmcu/session/run.py\", line 1090, in process\r\n",
      "    func()\r\n",
      "  File \"/home/runner/work/mlonmcu/mlonmcu/mlonmcu/session/run.py\", line 942, in build\r\n",
      "    _build()\r\n",
      "  File \"/home/runner/work/mlonmcu/mlonmcu/mlonmcu/session/run.py\", line 851, in _build\r\n",
      "    artifacts = self.backend.generate_artifacts()\r\n",
      "  File \"/home/runner/work/mlonmcu/mlonmcu/mlonmcu/flow/backend.py\", line 84, in generate_artifacts\r\n",
      "    artifacts, metrics = self.generate()\r\n",
      "  File \"/home/runner/work/mlonmcu/mlonmcu/mlonmcu/flow/tvm/backend/tvmaot.py\", line 96, in generate\r\n",
      "    artifacts, metrics = super().generate()\r\n",
      "  File \"/home/runner/work/mlonmcu/mlonmcu/mlonmcu/flow/tvm/backend/backend.py\", line 486, in generate\r\n",
      "    out = self.invoke_tvmc_compile(out_path, dump=dump, cwd=temp_dir)\r\n",
      "  File \"/home/runner/work/mlonmcu/mlonmcu/mlonmcu/flow/tvm/backend/backend.py\", line 425, in invoke_tvmc_compile\r\n",
      "    ret = self.invoke_tvmc(\"compile\", *args, cwd=cwd)\r\n",
      "  File \"/home/runner/work/mlonmcu/mlonmcu/mlonmcu/flow/tvm/backend/backend.py\", line 410, in invoke_tvmc\r\n",
      "    return utils.python(*pre, command, *args, live=self.print_outputs, env=env, cwd=cwd)\r\n",
      "  File \"/home/runner/work/mlonmcu/mlonmcu/mlonmcu/setup/utils.py\", line 322, in python\r\n",
      "    return execute(sys.executable, *args, **kwargs)\r\n",
      "  File \"/home/runner/work/mlonmcu/mlonmcu/mlonmcu/setup/utils.py\", line 305, in execute\r\n",
      "    assert exit_code == 0, \"The process returned an non-zero exit code {}! (CMD: `{}`)\".format(\r\n",
      "AssertionError: The process returned an non-zero exit code 1! (CMD: `/tmp/Demo-YH5O/venv/bin/python3 -m tvm.driver.tvmc compile /tmp/mlonmcu_env/temp/sessions/7/runs/0/resnet.tflite --target c --target-c-mcpu generic-rv32 --target-c-model etiss-rv32gc --runtime crt --executor aot --pass-config tir.disable_vectorize=True --pass-config tir.usmp.enable=False --input-shapes \"input_1_int8:[1,32,32,3]\" --opt-level 3 --output /tmp/tmpkxa9tz7n/default.tar -f mlf --model-format tflite --runtime-crt-system-lib 0 --executor-aot-unpacked-api 0 --executor-aot-interface-api packed --target-c-constants-byte-alignment 16 --target-c-workspace-byte-alignment 16`)\r\n"
     ]
    },
    {
     "name": "stdout",
     "output_type": "stream",
     "text": [
      "ERROR - The process returned an non-zero exit code 1! (CMD: `/tmp/Demo-YH5O/venv/bin/python3 -m tvm.driver.tvmc compile /tmp/mlonmcu_env/temp/sessions/7/runs/4/toycar.tflite --target c --target-c-mcpu generic-rv32 --target-c-model etiss-rv32gc --runtime crt --executor aot --pass-config tir.disable_vectorize=True --pass-config tir.usmp.enable=False --input-shapes \"input_1:[1,640]\" --opt-level 3 --output /tmp/tmp169gsu1v/default.tar -f mlf --model-format tflite --runtime-crt-system-lib 0 --executor-aot-unpacked-api 0 --executor-aot-interface-api packed --target-c-constants-byte-alignment 16 --target-c-workspace-byte-alignment 16`)\r\n",
      "Traceback (most recent call last):\r\n",
      "  File \"/home/runner/work/mlonmcu/mlonmcu/mlonmcu/session/run.py\", line 1090, in process\r\n",
      "    func()\r\n",
      "  File \"/home/runner/work/mlonmcu/mlonmcu/mlonmcu/session/run.py\", line 942, in build\r\n",
      "    _build()\r\n",
      "  File \"/home/runner/work/mlonmcu/mlonmcu/mlonmcu/session/run.py\", line 851, in _build\r\n",
      "    artifacts = self.backend.generate_artifacts()\r\n",
      "  File \"/home/runner/work/mlonmcu/mlonmcu/mlonmcu/flow/backend.py\", line 84, in generate_artifacts\r\n",
      "    artifacts, metrics = self.generate()\r\n",
      "  File \"/home/runner/work/mlonmcu/mlonmcu/mlonmcu/flow/tvm/backend/tvmaot.py\", line 96, in generate\r\n",
      "    artifacts, metrics = super().generate()\r\n",
      "  File \"/home/runner/work/mlonmcu/mlonmcu/mlonmcu/flow/tvm/backend/backend.py\", line 486, in generate\r\n",
      "    out = self.invoke_tvmc_compile(out_path, dump=dump, cwd=temp_dir)\r\n",
      "  File \"/home/runner/work/mlonmcu/mlonmcu/mlonmcu/flow/tvm/backend/backend.py\", line 425, in invoke_tvmc_compile\r\n",
      "    ret = self.invoke_tvmc(\"compile\", *args, cwd=cwd)\r\n",
      "  File \"/home/runner/work/mlonmcu/mlonmcu/mlonmcu/flow/tvm/backend/backend.py\", line 410, in invoke_tvmc\r\n",
      "    return utils.python(*pre, command, *args, live=self.print_outputs, env=env, cwd=cwd)\r\n",
      "  File \"/home/runner/work/mlonmcu/mlonmcu/mlonmcu/setup/utils.py\", line 322, in python\r\n",
      "    return execute(sys.executable, *args, **kwargs)\r\n",
      "  File \"/home/runner/work/mlonmcu/mlonmcu/mlonmcu/setup/utils.py\", line 305, in execute\r\n",
      "    assert exit_code == 0, \"The process returned an non-zero exit code {}! (CMD: `{}`)\".format(\r\n",
      "AssertionError: The process returned an non-zero exit code 1! (CMD: `/tmp/Demo-YH5O/venv/bin/python3 -m tvm.driver.tvmc compile /tmp/mlonmcu_env/temp/sessions/7/runs/4/toycar.tflite --target c --target-c-mcpu generic-rv32 --target-c-model etiss-rv32gc --runtime crt --executor aot --pass-config tir.disable_vectorize=True --pass-config tir.usmp.enable=False --input-shapes \"input_1:[1,640]\" --opt-level 3 --output /tmp/tmp169gsu1v/default.tar -f mlf --model-format tflite --runtime-crt-system-lib 0 --executor-aot-unpacked-api 0 --executor-aot-interface-api packed --target-c-constants-byte-alignment 16 --target-c-workspace-byte-alignment 16`)\r\n",
      "ERROR - [session-7] [run-0] Run failed at stage 'BUILD', aborting...\r\n",
      "ERROR - [session-7] [run-4] Run failed at stage 'BUILD', aborting...\r\n"
     ]
    },
    {
     "name": "stdout",
     "output_type": "stream",
     "text": [
      "\r\n",
      "\r",
      "Processing stage BUILD:  42%|███████████████████████▎                                | 5/12 [00:00s]\u001b[A\r\n",
      "\r",
      "Processing stage BUILD:  50%|████████████████████████████                            | 6/12 [00:00s]\u001b[AWARNING - Fetching of Model Info failed (ModuleNotFoundError). Falling back to Relay-based info.\r\n",
      "WARNING - Fetching of Model Info failed (ModuleNotFoundError). Falling back to Relay-based info.\r\n"
     ]
    },
    {
     "name": "stdout",
     "output_type": "stream",
     "text": [
      "ERROR - Traceback (most recent call last):\r\n",
      "  File \"/opt/hostedtoolcache/Python/3.10.15/x64/lib/python3.10/runpy.py\", line 187, in _run_module_as_main\r\n",
      "    mod_name, mod_spec, code = _get_module_details(mod_name, _Error)\r\n",
      "  File \"/opt/hostedtoolcache/Python/3.10.15/x64/lib/python3.10/runpy.py\", line 110, in _get_module_details\r\n",
      "    __import__(pkg_name)\r\n",
      "  File \"/tmp/mlonmcu_env/deps/src/tvm/python/tvm/__init__.py\", line 79, in <module>\r\n",
      "    from . import micro\r\n",
      "  File \"/tmp/mlonmcu_env/deps/src/tvm/python/tvm/micro/__init__.py\", line 24, in <module>\r\n",
      "    from .model_library_format import (\r\n",
      "  File \"/tmp/mlonmcu_env/deps/src/tvm/python/tvm/micro/model_library_format.py\", line 35, in <module>\r\n",
      "    from ..relay import param_dict\r\n",
      "  File \"/tmp/mlonmcu_env/deps/src/tvm/python/tvm/relay/__init__.py\", line 29, in <module>\r\n",
      "    from . import prelude\r\n",
      "  File \"/tmp/mlonmcu_env/deps/src/tvm/python/tvm/relay/prelude.py\", line 21, in <module>\r\n",
      "    from tvm.relay.transform import ToANormalFormExpr\r\n",
      "  File \"/tmp/mlonmcu_env/deps/src/tvm/python/tvm/relay/transform/__init__.py\", line 20, in <module>\r\n",
      "    from .transform import *\r\n",
      "  File \"/tmp/mlonmcu_env/deps/src/tvm/python/tvm/relay/transform/transform.py\", line 30, in <module>\r\n",
      "    from ..backend.utils import mangle_module_name\r\n",
      "  File \"/tmp/mlonmcu_env/deps/src/tvm/python/tvm/relay/backend/__init__.py\", line 18, in <module>\r\n",
      "    from . import te_compiler\r\n",
      "  File \"/tmp/mlonmcu_env/deps/src/tvm/python/tvm/relay/backend/te_compiler.py\", line 25, in <module>\r\n",
      "    from tvm import autotvm, te\r\n",
      "  File \"/tmp/mlonmcu_env/deps/src/tvm/python/tvm/autotvm/__init__.py\", line 35, in <module>\r\n",
      "    from . import tuner\r\n",
      "  File \"/tmp/mlonmcu_env/deps/src/tvm/python/tvm/autotvm/tuner/__init__.py\", line 31, in <module>\r\n",
      "    from .droplet_turner import DropletTuner\r\n",
      "  File \"/tmp/mlonmcu_env/deps/src/tvm/python/tvm/autotvm/tuner/droplet_turner.py\", line 21, in <module>\r\n",
      "    from scipy import stats\r\n",
      "ModuleNotFoundError: No module named 'scipy'\r\n",
      "\r\n",
      "ERROR - The process returned an non-zero exit code 1! (CMD: `/tmp/Demo-YH5O/venv/bin/python3 -m tvm.driver.tvmc compile /tmp/mlonmcu_env/temp/sessions/7/runs/6/toycar.tflite --target c --runtime crt --executor aot --pass-config tir.disable_vectorize=True --pass-config tir.usmp.enable=False --input-shapes \"input_1:[1,640]\" --opt-level 3 --output /tmp/tmpyb4pakhr/default.tar -f mlf --model-format tflite --runtime-crt-system-lib 0 --executor-aot-unpacked-api 0 --executor-aot-interface-api packed --target-c-constants-byte-alignment 16 --target-c-workspace-byte-alignment 16`)\r\n",
      "Traceback (most recent call last):\r\n",
      "  File \"/home/runner/work/mlonmcu/mlonmcu/mlonmcu/session/run.py\", line 1090, in process\r\n",
      "    func()\r\n",
      "  File \"/home/runner/work/mlonmcu/mlonmcu/mlonmcu/session/run.py\", line 942, in build\r\n",
      "    _build()\r\n",
      "  File \"/home/runner/work/mlonmcu/mlonmcu/mlonmcu/session/run.py\", line 851, in _build\r\n",
      "    artifacts = self.backend.generate_artifacts()\r\n",
      "  File \"/home/runner/work/mlonmcu/mlonmcu/mlonmcu/flow/backend.py\", line 84, in generate_artifacts\r\n",
      "    artifacts, metrics = self.generate()\r\n",
      "  File \"/home/runner/work/mlonmcu/mlonmcu/mlonmcu/flow/tvm/backend/tvmaot.py\", line 96, in generate\r\n",
      "    artifacts, metrics = super().generate()\r\n",
      "  File \"/home/runner/work/mlonmcu/mlonmcu/mlonmcu/flow/tvm/backend/backend.py\", line 486, in generate\r\n",
      "    out = self.invoke_tvmc_compile(out_path, dump=dump, cwd=temp_dir)\r\n",
      "  File \"/home/runner/work/mlonmcu/mlonmcu/mlonmcu/flow/tvm/backend/backend.py\", line 425, in invoke_tvmc_compile\r\n",
      "    ret = self.invoke_tvmc(\"compile\", *args, cwd=cwd)\r\n",
      "  File \"/home/runner/work/mlonmcu/mlonmcu/mlonmcu/flow/tvm/backend/backend.py\", line 410, in invoke_tvmc\r\n",
      "    return utils.python(*pre, command, *args, live=self.print_outputs, env=env, cwd=cwd)\r\n",
      "  File \"/home/runner/work/mlonmcu/mlonmcu/mlonmcu/setup/utils.py\", line 322, in python\r\n",
      "    return execute(sys.executable, *args, **kwargs)\r\n",
      "  File \"/home/runner/work/mlonmcu/mlonmcu/mlonmcu/setup/utils.py\", line 305, in execute\r\n",
      "    assert exit_code == 0, \"The process returned an non-zero exit code {}! (CMD: `{}`)\".format(\r\n",
      "AssertionError: The process returned an non-zero exit code 1! (CMD: `/tmp/Demo-YH5O/venv/bin/python3 -m tvm.driver.tvmc compile /tmp/mlonmcu_env/temp/sessions/7/runs/6/toycar.tflite --target c --runtime crt --executor aot --pass-config tir.disable_vectorize=True --pass-config tir.usmp.enable=False --input-shapes \"input_1:[1,640]\" --opt-level 3 --output /tmp/tmpyb4pakhr/default.tar -f mlf --model-format tflite --runtime-crt-system-lib 0 --executor-aot-unpacked-api 0 --executor-aot-interface-api packed --target-c-constants-byte-alignment 16 --target-c-workspace-byte-alignment 16`)\r\n",
      "ERROR - [session-7] [run-6] Run failed at stage 'BUILD', aborting...\r\n"
     ]
    },
    {
     "name": "stdout",
     "output_type": "stream",
     "text": [
      "ERROR - Traceback (most recent call last):\r\n",
      "  File \"/opt/hostedtoolcache/Python/3.10.15/x64/lib/python3.10/runpy.py\", line 187, in _run_module_as_main\r\n",
      "    mod_name, mod_spec, code = _get_module_details(mod_name, _Error)\r\n",
      "  File \"/opt/hostedtoolcache/Python/3.10.15/x64/lib/python3.10/runpy.py\", line 110, in _get_module_details\r\n",
      "    __import__(pkg_name)\r\n",
      "  File \"/tmp/mlonmcu_env/deps/src/tvm/python/tvm/__init__.py\", line 79, in <module>\r\n",
      "    from . import micro\r\n",
      "  File \"/tmp/mlonmcu_env/deps/src/tvm/python/tvm/micro/__init__.py\", line 24, in <module>\r\n",
      "    from .model_library_format import (\r\n",
      "  File \"/tmp/mlonmcu_env/deps/src/tvm/python/tvm/micro/model_library_format.py\", line 35, in <module>\r\n",
      "    from ..relay import param_dict\r\n",
      "  File \"/tmp/mlonmcu_env/deps/src/tvm/python/tvm/relay/__init__.py\", line 29, in <module>\r\n",
      "    from . import prelude\r\n",
      "  File \"/tmp/mlonmcu_env/deps/src/tvm/python/tvm/relay/prelude.py\", line 21, in <module>\r\n",
      "    from tvm.relay.transform import ToANormalFormExpr\r\n",
      "  File \"/tmp/mlonmcu_env/deps/src/tvm/python/tvm/relay/transform/__init__.py\", line 20, in <module>\r\n",
      "    from .transform import *\r\n",
      "  File \"/tmp/mlonmcu_env/deps/src/tvm/python/tvm/relay/transform/transform.py\", line 30, in <module>\r\n",
      "    from ..backend.utils import mangle_module_name\r\n",
      "  File \"/tmp/mlonmcu_env/deps/src/tvm/python/tvm/relay/backend/__init__.py\", line 18, in <module>\r\n",
      "    from . import te_compiler\r\n",
      "  File \"/tmp/mlonmcu_env/deps/src/tvm/python/tvm/relay/backend/te_compiler.py\", line 25, in <module>\r\n",
      "    from tvm import autotvm, te\r\n",
      "  File \"/tmp/mlonmcu_env/deps/src/tvm/python/tvm/autotvm/__init__.py\", line 35, in <module>\r\n",
      "    from . import tuner\r\n",
      "  File \"/tmp/mlonmcu_env/deps/src/tvm/python/tvm/autotvm/tuner/__init__.py\", line 31, in <module>\r\n",
      "    from .droplet_turner import DropletTuner\r\n",
      "  File \"/tmp/mlonmcu_env/deps/src/tvm/python/tvm/autotvm/tuner/droplet_turner.py\", line 21, in <module>\r\n",
      "    from scipy import stats\r\n",
      "ModuleNotFoundError: No module named 'scipy'\r\n",
      "\r\n",
      "ERROR - The process returned an non-zero exit code 1! (CMD: `/tmp/Demo-YH5O/venv/bin/python3 -m tvm.driver.tvmc compile /tmp/mlonmcu_env/temp/sessions/7/runs/10/micro_speech.tflite --target c --runtime crt --executor aot --pass-config tir.disable_vectorize=True --pass-config tir.usmp.enable=False --input-shapes \"Reshape_1:[1,1960]\" --dump-code relay --opt-level 3 --output /tmp/tmpnn1773p4/default.tar -f mlf --model-format tflite --runtime-crt-system-lib 0 --executor-aot-unpacked-api 0 --executor-aot-interface-api packed --target-c-constants-byte-alignment 16 --target-c-workspace-byte-alignment 16`)\r\n",
      "Traceback (most recent call last):\r\n",
      "  File \"/home/runner/work/mlonmcu/mlonmcu/mlonmcu/session/run.py\", line 1090, in process\r\n",
      "    func()\r\n",
      "  File \"/home/runner/work/mlonmcu/mlonmcu/mlonmcu/session/run.py\", line 942, in build\r\n",
      "    _build()\r\n",
      "  File \"/home/runner/work/mlonmcu/mlonmcu/mlonmcu/session/run.py\", line 851, in _build\r\n",
      "    artifacts = self.backend.generate_artifacts()\r\n",
      "  File \"/home/runner/work/mlonmcu/mlonmcu/mlonmcu/flow/backend.py\", line 84, in generate_artifacts\r\n",
      "    artifacts, metrics = self.generate()\r\n",
      "  File \"/home/runner/work/mlonmcu/mlonmcu/mlonmcu/flow/tvm/backend/tvmaot.py\", line 96, in generate\r\n",
      "    artifacts, metrics = super().generate()\r\n",
      "  File \"/home/runner/work/mlonmcu/mlonmcu/mlonmcu/flow/tvm/backend/backend.py\", line 486, in generate\r\n",
      "    out = self.invoke_tvmc_compile(out_path, dump=dump, cwd=temp_dir)\r\n",
      "  File \"/home/runner/work/mlonmcu/mlonmcu/mlonmcu/flow/tvm/backend/backend.py\", line 425, in invoke_tvmc_compile\r\n",
      "    ret = self.invoke_tvmc(\"compile\", *args, cwd=cwd)\r\n",
      "  File \"/home/runner/work/mlonmcu/mlonmcu/mlonmcu/flow/tvm/backend/backend.py\", line 410, in invoke_tvmc\r\n",
      "    return utils.python(*pre, command, *args, live=self.print_outputs, env=env, cwd=cwd)\r\n",
      "  File \"/home/runner/work/mlonmcu/mlonmcu/mlonmcu/setup/utils.py\", line 322, in python\r\n",
      "    return execute(sys.executable, *args, **kwargs)\r\n",
      "  File \"/home/runner/work/mlonmcu/mlonmcu/mlonmcu/setup/utils.py\", line 305, in execute\r\n",
      "    assert exit_code == 0, \"The process returned an non-zero exit code {}! (CMD: `{}`)\".format(\r\n",
      "AssertionError: The process returned an non-zero exit code 1! (CMD: `/tmp/Demo-YH5O/venv/bin/python3 -m tvm.driver.tvmc compile /tmp/mlonmcu_env/temp/sessions/7/runs/10/micro_speech.tflite --target c --runtime crt --executor aot --pass-config tir.disable_vectorize=True --pass-config tir.usmp.enable=False --input-shapes \"Reshape_1:[1,1960]\" --dump-code relay --opt-level 3 --output /tmp/tmpnn1773p4/default.tar -f mlf --model-format tflite --runtime-crt-system-lib 0 --executor-aot-unpacked-api 0 --executor-aot-interface-api packed --target-c-constants-byte-alignment 16 --target-c-workspace-byte-alignment 16`)\r\n",
      "ERROR - Traceback (most recent call last):\r\n",
      "  File \"/opt/hostedtoolcache/Python/3.10.15/x64/lib/python3.10/runpy.py\", line 187, in _run_module_as_main\r\n",
      "    mod_name, mod_spec, code = _get_module_details(mod_name, _Error)\r\n",
      "  File \"/opt/hostedtoolcache/Python/3.10.15/x64/lib/python3.10/runpy.py\", line 110, in _get_module_details\r\n",
      "    __import__(pkg_name)\r\n",
      "  File \"/tmp/mlonmcu_env/deps/src/tvm/python/tvm/__init__.py\", line 79, in <module>\r\n",
      "    from . import micro\r\n",
      "  File \"/tmp/mlonmcu_env/deps/src/tvm/python/tvm/micro/__init__.py\", line 24, in <module>\r\n",
      "    from .model_library_format import (\r\n",
      "  File \"/tmp/mlonmcu_env/deps/src/tvm/python/tvm/micro/model_library_format.py\", line 35, in <module>\r\n",
      "    from ..relay import param_dict\r\n",
      "  File \"/tmp/mlonmcu_env/deps/src/tvm/python/tvm/relay/__init__.py\", line 29, in <module>\r\n",
      "    from . import prelude\r\n",
      "  File \"/tmp/mlonmcu_env/deps/src/tvm/python/tvm/relay/prelude.py\", line 21, in <module>\r\n",
      "    from tvm.relay.transform import ToANormalFormExpr\r\n",
      "  File \"/tmp/mlonmcu_env/deps/src/tvm/python/tvm/relay/transform/__init__.py\", line 20, in <module>\r\n",
      "    from .transform import *\r\n",
      "  File \"/tmp/mlonmcu_env/deps/src/tvm/python/tvm/relay/transform/transform.py\", line 30, in <module>\r\n",
      "    from ..backend.utils import mangle_module_name\r\n",
      "  File \"/tmp/mlonmcu_env/deps/src/tvm/python/tvm/relay/backend/__init__.py\", line 18, in <module>\r\n",
      "    from . import te_compiler\r\n",
      "  File \"/tmp/mlonmcu_env/deps/src/tvm/python/tvm/relay/backend/te_compiler.py\", line 25, in <module>\r\n",
      "    from tvm import autotvm, te\r\n",
      "  File \"/tmp/mlonmcu_env/deps/src/tvm/python/tvm/autotvm/__init__.py\", line 35, in <module>\r\n",
      "    from . import tuner\r\n",
      "  File \"/tmp/mlonmcu_env/deps/src/tvm/python/tvm/autotvm/tuner/__init__.py\", line 31, in <module>\r\n",
      "    from .droplet_turner import DropletTuner\r\n",
      "  File \"/tmp/mlonmcu_env/deps/src/tvm/python/tvm/autotvm/tuner/droplet_turner.py\", line 21, in <module>\r\n",
      "    from scipy import stats\r\n",
      "ModuleNotFoundError: No module named 'scipy'\r\n",
      "\r\n",
      "ERROR - [session-7] [run-10] Run failed at stage 'BUILD', aborting...\r\n",
      "ERROR - The process returned an non-zero exit code 1! (CMD: `/tmp/Demo-YH5O/venv/bin/python3 -m tvm.driver.tvmc compile /tmp/mlonmcu_env/temp/sessions/7/runs/8/micro_speech.tflite --target c --target-c-mcpu generic-rv32 --target-c-model etiss-rv32gc --runtime crt --executor aot --pass-config tir.disable_vectorize=True --pass-config tir.usmp.enable=False --input-shapes \"Reshape_1:[1,1960]\" --dump-code relay --opt-level 3 --output /tmp/tmp6zkxwf85/default.tar -f mlf --model-format tflite --runtime-crt-system-lib 0 --executor-aot-unpacked-api 0 --executor-aot-interface-api packed --target-c-constants-byte-alignment 16 --target-c-workspace-byte-alignment 16`)\r\n",
      "Traceback (most recent call last):\r\n",
      "  File \"/home/runner/work/mlonmcu/mlonmcu/mlonmcu/session/run.py\", line 1090, in process\r\n",
      "    func()\r\n",
      "  File \"/home/runner/work/mlonmcu/mlonmcu/mlonmcu/session/run.py\", line 942, in build\r\n",
      "    _build()\r\n",
      "  File \"/home/runner/work/mlonmcu/mlonmcu/mlonmcu/session/run.py\", line 851, in _build\r\n",
      "    artifacts = self.backend.generate_artifacts()\r\n",
      "  File \"/home/runner/work/mlonmcu/mlonmcu/mlonmcu/flow/backend.py\", line 84, in generate_artifacts\r\n",
      "    artifacts, metrics = self.generate()\r\n",
      "  File \"/home/runner/work/mlonmcu/mlonmcu/mlonmcu/flow/tvm/backend/tvmaot.py\", line 96, in generate\r\n",
      "    artifacts, metrics = super().generate()\r\n",
      "  File \"/home/runner/work/mlonmcu/mlonmcu/mlonmcu/flow/tvm/backend/backend.py\", line 486, in generate\r\n",
      "    out = self.invoke_tvmc_compile(out_path, dump=dump, cwd=temp_dir)\r\n",
      "  File \"/home/runner/work/mlonmcu/mlonmcu/mlonmcu/flow/tvm/backend/backend.py\", line 425, in invoke_tvmc_compile\r\n",
      "    ret = self.invoke_tvmc(\"compile\", *args, cwd=cwd)\r\n",
      "  File \"/home/runner/work/mlonmcu/mlonmcu/mlonmcu/flow/tvm/backend/backend.py\", line 410, in invoke_tvmc\r\n",
      "    return utils.python(*pre, command, *args, live=self.print_outputs, env=env, cwd=cwd)\r\n",
      "  File \"/home/runner/work/mlonmcu/mlonmcu/mlonmcu/setup/utils.py\", line 322, in python\r\n",
      "    return execute(sys.executable, *args, **kwargs)\r\n",
      "  File \"/home/runner/work/mlonmcu/mlonmcu/mlonmcu/setup/utils.py\", line 305, in execute\r\n",
      "    assert exit_code == 0, \"The process returned an non-zero exit code {}! (CMD: `{}`)\".format(\r\n",
      "AssertionError: The process returned an non-zero exit code 1! (CMD: `/tmp/Demo-YH5O/venv/bin/python3 -m tvm.driver.tvmc compile /tmp/mlonmcu_env/temp/sessions/7/runs/8/micro_speech.tflite --target c --target-c-mcpu generic-rv32 --target-c-model etiss-rv32gc --runtime crt --executor aot --pass-config tir.disable_vectorize=True --pass-config tir.usmp.enable=False --input-shapes \"Reshape_1:[1,1960]\" --dump-code relay --opt-level 3 --output /tmp/tmp6zkxwf85/default.tar -f mlf --model-format tflite --runtime-crt-system-lib 0 --executor-aot-unpacked-api 0 --executor-aot-interface-api packed --target-c-constants-byte-alignment 16 --target-c-workspace-byte-alignment 16`)\r\n",
      "ERROR - [session-7] [run-8] Run failed at stage 'BUILD', aborting...\r\n"
     ]
    },
    {
     "name": "stdout",
     "output_type": "stream",
     "text": [
      "\r\n",
      "\r",
      "Processing stage BUILD:  92%|██████████████████████████████████████████████████▍    | 11/12 [00:01s]\u001b[A\r\n",
      "\r",
      "                                                                                                    \u001b[A\r",
      "Processing stages:  50%|███████████████████████████████                               | 2/4 [00:01s]\r\n",
      "\r",
      "Processing stage COMPILE:   0%|                                                      | 0/12 [00:00s]\u001b[AWARNING - Skiping stage 'COMPILE' for failed run\r\n",
      "WARNING - Skiping stage 'COMPILE' for failed run\r\n",
      "WARNING - Skiping stage 'COMPILE' for failed run\r\n",
      "WARNING - Skiping stage 'COMPILE' for failed run\r\n",
      "WARNING - Skiping stage 'COMPILE' for failed run\r\n",
      "WARNING - Skiping stage 'COMPILE' for failed run\r\n"
     ]
    },
    {
     "name": "stdout",
     "output_type": "stream",
     "text": [
      "\r\n",
      "\r",
      "Processing stage COMPILE:   8%|████▌                                                 | 1/12 [06:04s]\u001b[A"
     ]
    },
    {
     "name": "stdout",
     "output_type": "stream",
     "text": [
      "\r\n",
      "\r",
      "Processing stage COMPILE:  17%|█████████                                             | 2/12 [06:05s]\u001b[A"
     ]
    },
    {
     "name": "stdout",
     "output_type": "stream",
     "text": [
      "\r\n",
      "\r",
      "Processing stage COMPILE:  25%|█████████████▌                                        | 3/12 [06:20s]\u001b[A"
     ]
    },
    {
     "name": "stdout",
     "output_type": "stream",
     "text": [
      "\r\n",
      "\r",
      "Processing stage COMPILE:  42%|██████████████████████▌                               | 5/12 [09:08s]\u001b[A"
     ]
    },
    {
     "name": "stdout",
     "output_type": "stream",
     "text": [
      "\r\n",
      "\r",
      "Processing stage COMPILE:  50%|███████████████████████████                           | 6/12 [09:12s]\u001b[A\r\n",
      "\r",
      "                                                                                                    \u001b[A\r",
      "Processing stages:  75%|██████████████████████████████████████████████▌               | 3/4 [09:13s]\r\n",
      "\r",
      "Processing stage RUN:   0%|                                                          | 0/12 [00:00s]\u001b[AWARNING - Skiping stage 'RUN' for failed run\r\n",
      "WARNING - Skiping stage 'RUN' for failed run\r\n",
      "WARNING - Skiping stage 'RUN' for failed run\r\n",
      "WARNING - Skiping stage 'RUN' for failed run\r\n",
      "WARNING - Skiping stage 'RUN' for failed run\r\n",
      "WARNING - Skiping stage 'RUN' for failed run\r\n",
      "ERROR - EtissPulpinoTarget.get_ini_bool_config() got an unexpected keyword argument 'override'\r\n",
      "Traceback (most recent call last):\r\n",
      "  File \"/home/runner/work/mlonmcu/mlonmcu/mlonmcu/session/run.py\", line 1090, in process\r\n",
      "    func()\r\n",
      "  File \"/home/runner/work/mlonmcu/mlonmcu/mlonmcu/session/run.py\", line 739, in run\r\n",
      "    artifacts = self.target.generate_artifacts(elf_artifact.path)\r\n",
      "  File \"/home/runner/work/mlonmcu/mlonmcu/mlonmcu/target/target.py\", line 209, in generate_artifacts\r\n",
      "    artifacts, metrics = self.generate(elf)\r\n",
      "  File \"/home/runner/work/mlonmcu/mlonmcu/mlonmcu/target/target.py\", line 189, in generate\r\n",
      "    metrics_, out, artifacts_ = self.get_metrics(elf, temp_dir, *args)\r\n",
      "  File \"/home/runner/work/mlonmcu/mlonmcu/mlonmcu/platform/mlif/mlif_target.py\", line 226, in get_metrics\r\n",
      "    metrics, out, artifacts = super().get_metrics(elf, directory, handle_exit=_handle_exit)\r\n",
      "  File \"/home/runner/work/mlonmcu/mlonmcu/mlonmcu/target/riscv/etiss.py\", line 670, in get_metrics\r\n",
      "    out_, artifacts_ = self.exec(\r\n",
      "  File \"/home/runner/work/mlonmcu/mlonmcu/mlonmcu/platform/mlif/mlif_target.py\", line 132, in exec\r\n",
      "    ret_, artifacts_ = super().exec(\r\n",
      "  File \"/home/runner/work/mlonmcu/mlonmcu/mlonmcu/target/riscv/etiss.py\", line 585, in exec\r\n",
      "    self.write_ini(etiss_ini, override=ini_override)\r\n",
      "  File \"/home/runner/work/mlonmcu/mlonmcu/mlonmcu/target/riscv/etiss.py\", line 498, in write_ini\r\n",
      "    ini_bool = self.get_ini_bool_config(override=override)\r\n",
      "TypeError: EtissPulpinoTarget.get_ini_bool_config() got an unexpected keyword argument 'override'\r\n",
      "ERROR - [session-7] [run-5] Run failed at stage 'RUN', aborting...\r\n",
      "ERROR - EtissPulpinoTarget.get_ini_bool_config() got an unexpected keyword argument 'override'\r\n",
      "Traceback (most recent call last):\r\n",
      "  File \"/home/runner/work/mlonmcu/mlonmcu/mlonmcu/session/run.py\", line 1090, in process\r\n",
      "    func()\r\n",
      "  File \"/home/runner/work/mlonmcu/mlonmcu/mlonmcu/session/run.py\", line 739, in run\r\n",
      "    artifacts = self.target.generate_artifacts(elf_artifact.path)\r\n",
      "  File \"/home/runner/work/mlonmcu/mlonmcu/mlonmcu/target/target.py\", line 209, in generate_artifacts\r\n",
      "    artifacts, metrics = self.generate(elf)\r\n",
      "  File \"/home/runner/work/mlonmcu/mlonmcu/mlonmcu/target/target.py\", line 189, in generate\r\n",
      "    metrics_, out, artifacts_ = self.get_metrics(elf, temp_dir, *args)\r\n",
      "  File \"/home/runner/work/mlonmcu/mlonmcu/mlonmcu/platform/mlif/mlif_target.py\", line 226, in get_metrics\r\n",
      "    metrics, out, artifacts = super().get_metrics(elf, directory, handle_exit=_handle_exit)\r\n",
      "  File \"/home/runner/work/mlonmcu/mlonmcu/mlonmcu/target/riscv/etiss.py\", line 670, in get_metrics\r\n",
      "    out_, artifacts_ = self.exec(\r\n",
      "  File \"/home/runner/work/mlonmcu/mlonmcu/mlonmcu/platform/mlif/mlif_target.py\", line 132, in exec\r\n",
      "    ret_, artifacts_ = super().exec(\r\n",
      "  File \"/home/runner/work/mlonmcu/mlonmcu/mlonmcu/target/riscv/etiss.py\", line 585, in exec\r\n",
      "    self.write_ini(etiss_ini, override=ini_override)\r\n",
      "  File \"/home/runner/work/mlonmcu/mlonmcu/mlonmcu/target/riscv/etiss.py\", line 498, in write_ini\r\n",
      "    ini_bool = self.get_ini_bool_config(override=override)\r\n",
      "TypeError: EtissPulpinoTarget.get_ini_bool_config() got an unexpected keyword argument 'override'\r\n",
      "ERROR - [session-7] [run-1] Run failed at stage 'RUN', aborting...\r\n"
     ]
    },
    {
     "name": "stdout",
     "output_type": "stream",
     "text": [
      "ERROR - EtissPulpinoTarget.get_ini_bool_config() got an unexpected keyword argument 'override'\r\n",
      "Traceback (most recent call last):\r\n",
      "  File \"/home/runner/work/mlonmcu/mlonmcu/mlonmcu/session/run.py\", line 1090, in process\r\n",
      "    func()\r\n",
      "  File \"/home/runner/work/mlonmcu/mlonmcu/mlonmcu/session/run.py\", line 739, in run\r\n",
      "    artifacts = self.target.generate_artifacts(elf_artifact.path)\r\n",
      "  File \"/home/runner/work/mlonmcu/mlonmcu/mlonmcu/target/target.py\", line 209, in generate_artifacts\r\n",
      "    artifacts, metrics = self.generate(elf)\r\n",
      "  File \"/home/runner/work/mlonmcu/mlonmcu/mlonmcu/target/target.py\", line 189, in generate\r\n",
      "    metrics_, out, artifacts_ = self.get_metrics(elf, temp_dir, *args)\r\n",
      "  File \"/home/runner/work/mlonmcu/mlonmcu/mlonmcu/platform/mlif/mlif_target.py\", line 226, in get_metrics\r\n",
      "    metrics, out, artifacts = super().get_metrics(elf, directory, handle_exit=_handle_exit)\r\n",
      "  File \"/home/runner/work/mlonmcu/mlonmcu/mlonmcu/target/riscv/etiss.py\", line 670, in get_metrics\r\n",
      "    out_, artifacts_ = self.exec(\r\n",
      "  File \"/home/runner/work/mlonmcu/mlonmcu/mlonmcu/platform/mlif/mlif_target.py\", line 132, in exec\r\n",
      "    ret_, artifacts_ = super().exec(\r\n",
      "  File \"/home/runner/work/mlonmcu/mlonmcu/mlonmcu/target/riscv/etiss.py\", line 585, in exec\r\n",
      "    self.write_ini(etiss_ini, override=ini_override)\r\n",
      "  File \"/home/runner/work/mlonmcu/mlonmcu/mlonmcu/target/riscv/etiss.py\", line 498, in write_ini\r\n",
      "    ini_bool = self.get_ini_bool_config(override=override)\r\n",
      "TypeError: EtissPulpinoTarget.get_ini_bool_config() got an unexpected keyword argument 'override'\r\n",
      "ERROR - [session-7] [run-9] Run failed at stage 'RUN', aborting...\r\n",
      "\r\n",
      "\r",
      "                                                                                                    \u001b[A\r",
      "Processing stages: 100%|██████████████████████████████████████████████████████████████| 4/4 [09:13s]\r\n",
      "WARNING - 3 out or 12 runs completed successfully!\r\n",
      "INFO - Summary:\r\n",
      "\tBUILD: \t6 failed run(s): 0 2 4 6 8 10\r\n",
      "\tRUN: \t3 failed run(s): 1 5 9\r\n"
     ]
    },
    {
     "name": "stdout",
     "output_type": "stream",
     "text": [
      "INFO - Postprocessing session report\r\n",
      "INFO - [session-7] Done processing runs\r\n",
      "INFO - Report:\r\n",
      "    Session  Run         Model Frontend Framework Backend Platform         Target Incomplete  Total ROM  Total RAM  ROM read-only  ROM code  ROM misc  RAM data  RAM zero-init data  End-to-End Runtime [s]  Total Cycles  Total Runtime [s] Validation Features                                             Config Postprocesses Comment Failing                  Reason\r\n",
      "0         7    0        resnet   tflite       tvm  tvmaot     mlif  etiss_pulpino       True        NaN        NaN            NaN       NaN       NaN       NaN                 NaN                     NaN           NaN                NaN        NaN       []  {'resnet.output_types': {'Identity_int8': 'int...            []       -    True  AssertionError @ BUILD\r\n",
      "1         7    1        resnet   tflite      tflm   tflmi     mlif  etiss_pulpino        NaN   197058.0    68556.0       101904.0   95010.0     144.0    1720.0             66836.0                     NaN           NaN                NaN        NaN       []  {'resnet.output_types': {'Identity_int8': 'int...            []       -    True         TypeError @ RUN\r\n",
      "2         7    2        resnet   tflite       tvm  tvmaot     mlif       host_x86       True        NaN        NaN            NaN       NaN       NaN       NaN                 NaN                     NaN           NaN                NaN        NaN       []  {'resnet.output_types': {'Identity_int8': 'int...            []       -    True  AssertionError @ BUILD\r\n",
      "3         7    3        resnet   tflite      tflm   tflmi     mlif       host_x86        NaN   203561.0    66496.0        99472.0   91433.0   12656.0       8.0             66488.0                0.010453    22256731.0           0.009099       True       []  {'resnet.output_types': {'Identity_int8': 'int...            []       -     NaN                     NaN\r\n",
      "4         7    4        toycar   tflite       tvm  tvmaot     mlif  etiss_pulpino       True        NaN        NaN            NaN       NaN       NaN       NaN                 NaN                     NaN           NaN                NaN        NaN       []  {'toycar.output_types': {'Identity': 'int8'}, ...            []       -    True  AssertionError @ BUILD\r\n",
      "5         7    5        toycar   tflite      tflm   tflmi     mlif  etiss_pulpino        NaN   341046.0    19212.0       280152.0   60750.0     144.0    1720.0             17492.0                     NaN           NaN                NaN        NaN       []  {'toycar.output_types': {'Identity': 'int8'}, ...            []       -    True         TypeError @ RUN\r\n",
      "6         7    6        toycar   tflite       tvm  tvmaot     mlif       host_x86       True        NaN        NaN            NaN       NaN       NaN       NaN                 NaN                     NaN           NaN                NaN        NaN       []  {'toycar.output_types': {'Identity': 'int8'}, ...            []       -    True  AssertionError @ BUILD\r\n",
      "7         7    7        toycar   tflite      tflm   tflmi     mlif       host_x86        NaN   319441.0    17008.0       277712.0   32793.0    8936.0       8.0             17000.0                0.001731      493234.0           0.000197       True       []  {'toycar.output_types': {'Identity': 'int8'}, ...            []       -     NaN                     NaN\r\n",
      "8         7    8  micro_speech   tflite       tvm  tvmaot     mlif  etiss_pulpino       True        NaN        NaN            NaN       NaN       NaN       NaN                 NaN                     NaN           NaN                NaN        NaN       []  {'micro_speech.output_shapes': {'labels_softma...            []       -    True  AssertionError @ BUILD\r\n",
      "9         7    9  micro_speech   tflite      tflm   tflmi     mlif  etiss_pulpino        NaN   105854.0    11164.0        22104.0   83606.0     144.0    1720.0              9444.0                     NaN           NaN                NaN        NaN       []  {'micro_speech.output_shapes': {'labels_softma...            []       -    True         TypeError @ RUN\r\n",
      "10        7   10  micro_speech   tflite       tvm  tvmaot     mlif       host_x86       True        NaN        NaN            NaN       NaN       NaN       NaN                 NaN                     NaN           NaN                NaN        NaN       []  {'micro_speech.output_shapes': {'labels_softma...            []       -    True  AssertionError @ BUILD\r\n",
      "11        7   11  micro_speech   tflite      tflm   tflmi     mlif       host_x86        NaN    99953.0     9088.0        19632.0   69113.0   11208.0       8.0              9080.0                0.002114     1673644.0           0.000681       True       []  {'micro_speech.output_shapes': {'labels_softma...            []       -     NaN                     NaN\r\n",
      "ERROR - At least one error occured!\r\n"
     ]
    }
   ],
   "source": [
    "!mlonmcu flow run resnet toycar micro_speech --progress --backend tvmaot --backend tflmi --target etiss_pulpino --target host_x86 --parallel --config mlif.num_threads=2"
   ]
  },
  {
   "cell_type": "markdown",
   "id": "0f7d4429",
   "metadata": {
    "papermill": {
     "duration": 0.01708,
     "end_time": "2024-10-02T08:55:12.772584",
     "exception": false,
     "start_time": "2024-10-02T08:55:12.755504",
     "status": "completed"
    },
    "tags": []
   },
   "source": [
    "**Inspecting and exporting results and intermediate artifacts**"
   ]
  },
  {
   "cell_type": "code",
   "execution_count": 21,
   "id": "19f7a6d6",
   "metadata": {
    "execution": {
     "iopub.execute_input": "2024-10-02T08:55:12.804500Z",
     "iopub.status.busy": "2024-10-02T08:55:12.804020Z",
     "iopub.status.idle": "2024-10-02T08:55:12.807157Z",
     "shell.execute_reply": "2024-10-02T08:55:12.806628Z"
    },
    "papermill": {
     "duration": 0.020161,
     "end_time": "2024-10-02T08:55:12.808122",
     "exception": false,
     "start_time": "2024-10-02T08:55:12.787961",
     "status": "completed"
    },
    "tags": []
   },
   "outputs": [],
   "source": [
    "# !mlonmcu export --session 0 --run 0 run.zip  # Export run 0 from session 0 to a zip archive\n",
    "# !mlonmcu export --session 1 session.zip  # Export every run of session 1 to a zip archive\n",
    "# !mlonmcu export session/  # Export the latest session to a directory"
   ]
  },
  {
   "cell_type": "markdown",
   "id": "9772e9f6",
   "metadata": {
    "papermill": {
     "duration": 0.015233,
     "end_time": "2024-10-02T08:55:12.838667",
     "exception": false,
     "start_time": "2024-10-02T08:55:12.823434",
     "status": "completed"
    },
    "tags": []
   },
   "source": [
    "**Cleanup an MLonMCU environment**"
   ]
  },
  {
   "cell_type": "code",
   "execution_count": 22,
   "id": "879eb342",
   "metadata": {
    "execution": {
     "iopub.execute_input": "2024-10-02T08:55:12.870347Z",
     "iopub.status.busy": "2024-10-02T08:55:12.869923Z",
     "iopub.status.idle": "2024-10-02T08:55:12.872789Z",
     "shell.execute_reply": "2024-10-02T08:55:12.872247Z"
    },
    "papermill": {
     "duration": 0.019813,
     "end_time": "2024-10-02T08:55:12.873765",
     "exception": false,
     "start_time": "2024-10-02T08:55:12.853952",
     "status": "completed"
    },
    "tags": []
   },
   "outputs": [],
   "source": [
    "# !mlonmcu cleanup  # Interactively clean sessions\n",
    "# !mlonmcu cleanup --force  # Clean all sessions\n",
    "# !mlonmcu cleanup --keep 10 --force  # Keep only the latest 10 sessions\n",
    "# !mlonmcu cleanup --dependencies  # Remove every installed dependency"
   ]
  },
  {
   "cell_type": "markdown",
   "id": "56b328e0",
   "metadata": {
    "papermill": {
     "duration": 0.015207,
     "end_time": "2024-10-02T08:55:12.904575",
     "exception": false,
     "start_time": "2024-10-02T08:55:12.889368",
     "status": "completed"
    },
    "tags": []
   },
   "source": [
    "**Internal command line interfaces**"
   ]
  },
  {
   "cell_type": "code",
   "execution_count": 23,
   "id": "f941fdec",
   "metadata": {
    "execution": {
     "iopub.execute_input": "2024-10-02T08:55:12.936348Z",
     "iopub.status.busy": "2024-10-02T08:55:12.935920Z",
     "iopub.status.idle": "2024-10-02T08:55:13.621316Z",
     "shell.execute_reply": "2024-10-02T08:55:13.620569Z"
    },
    "papermill": {
     "duration": 0.702641,
     "end_time": "2024-10-02T08:55:13.622598",
     "exception": false,
     "start_time": "2024-10-02T08:55:12.919957",
     "status": "completed"
    },
    "tags": []
   },
   "outputs": [
    {
     "name": "stdout",
     "output_type": "stream",
     "text": [
      "/opt/hostedtoolcache/Python/3.10.15/x64/lib/python3.10/runpy.py:126: RuntimeWarning: 'mlonmcu.target.riscv.etiss_pulpino' found in sys.modules after import of package 'mlonmcu.target.riscv', but prior to execution of 'mlonmcu.target.riscv.etiss_pulpino'; this may result in unpredictable behaviour\r\n",
      "  warn(RuntimeWarning(msg))\r\n",
      "usage: etiss_pulpino.py [-h] {exec,inspect} ...\r\n",
      "\r\n",
      "ML on MCU Target\r\n",
      "\r\n",
      "positional arguments:\r\n",
      "  {exec,inspect}\r\n",
      "\r\n",
      "options:\r\n",
      "  -h, --help      show this help message and exit\r\n"
     ]
    }
   ],
   "source": [
    "!python -m mlonmcu.target.riscv.etiss_pulpino -h"
   ]
  },
  {
   "cell_type": "code",
   "execution_count": 24,
   "id": "cae7f54a",
   "metadata": {
    "execution": {
     "iopub.execute_input": "2024-10-02T08:55:13.655448Z",
     "iopub.status.busy": "2024-10-02T08:55:13.654978Z",
     "iopub.status.idle": "2024-10-02T08:55:14.359953Z",
     "shell.execute_reply": "2024-10-02T08:55:14.359298Z"
    },
    "papermill": {
     "duration": 0.722562,
     "end_time": "2024-10-02T08:55:14.361233",
     "exception": false,
     "start_time": "2024-10-02T08:55:13.638671",
     "status": "completed"
    },
    "tags": []
   },
   "outputs": [
    {
     "name": "stdout",
     "output_type": "stream",
     "text": [
      "/opt/hostedtoolcache/Python/3.10.15/x64/lib/python3.10/runpy.py:126: RuntimeWarning: 'mlonmcu.flow.tvm.backend.tvmaot' found in sys.modules after import of package 'mlonmcu.flow.tvm.backend', but prior to execution of 'mlonmcu.flow.tvm.backend.tvmaot'; this may result in unpredictable behaviour\r\n",
      "  warn(RuntimeWarning(msg))\r\n",
      "usage: tvmaot.py [-h] [--output DIR] [--verbose] [--print] [-f FEATURE]\r\n",
      "                 [-c KEY=VALUE [KEY=VALUE ...]]\r\n",
      "                 MODEL\r\n",
      "\r\n",
      "Run tvmaot backend\r\n",
      "\r\n",
      "positional arguments:\r\n",
      "  MODEL                 Model to process\r\n",
      "\r\n",
      "options:\r\n",
      "  -h, --help            show this help message and exit\r\n",
      "  --output DIR, -o DIR  Output directory/file (default: /home/runner/work/mlonmcu/mlonmcu/ipynb/out)\r\n",
      "  --verbose, -v         Print detailed messages for easier debugging (default: False)\r\n",
      "  --print, -p           Print the generated code to the command line instead (default: False)\r\n",
      "  -f FEATURE, --feature FEATURE\r\n",
      "                        Enabled features for the backend (default: None choices: unpacked_api, moiopt, muriscvnnbyoc, fuse_ops, cmsisnnbyoc, usmp, uma_backends, disable_legalize, autotuned, debug_arena)\r\n",
      "  -c KEY=VALUE [KEY=VALUE ...], --config KEY=VALUE [KEY=VALUE ...]\r\n",
      "                        Set a number of key-value pairs\r\n",
      "                        \r\n",
      "                        Allowed options:\r\n",
      "                        - [tvmaot].print_outputs (Default: False)\r\n",
      "                        - [tvmaot].opt_level (Default: 3)\r\n",
      "                        - [tvmaot].target_device (Default: None)\r\n",
      "                        - [tvmaot].target_mcpu (Default: None)\r\n",
      "                        - [tvmaot].target_march (Default: None)\r\n",
      "                        - [tvmaot].target_model (Default: None)\r\n",
      "                        - [tvmaot].target_mtriple (Default: None)\r\n",
      "                        - [tvmaot].target_mabi (Default: None)\r\n",
      "                        - [tvmaot].target_mattr (Default: None)\r\n",
      "                        - [tvmaot].target_keys (Default: None)\r\n",
      "                        - [tvmaot].target_num_cores (Default: None)\r\n",
      "                        - [tvmaot].extra_targets (Default: None)\r\n",
      "                        - [tvmaot].extra_target_details (Default: None)\r\n",
      "                        - [tvmaot].desired_layout (Default: None)\r\n",
      "                        - [tvmaot].desired_layout_ops (Default: None)\r\n",
      "                        - [tvmaot].desired_layout_map (Default: None)\r\n",
      "                        - [tvmaot].disabled_passes (Default: [])\r\n",
      "                        - [tvmaot].extra_pass_config (Default: {})\r\n",
      "                        - [tvmaot].use_tuning_results (Default: False)\r\n",
      "                        - [tvmaot].tvmc_extra_args (Default: [])\r\n",
      "                        - [tvmaot].tvmc_custom_script (Default: None)\r\n",
      "                        - [tvmaot].tophub_url (Default: None)\r\n",
      "                        - [tvmaot].num_threads (Default: 4)\r\n",
      "                        - [tvmaot].dump (Default: [])\r\n",
      "                        - [tvmaot].disable_vectorize (Default: auto)\r\n",
      "                        - [tvmaot].custom_unroll (Default: False)\r\n",
      "                        - [tvmaot].autotuned_mode (Default: None)\r\n",
      "                        - [tvmaot].autotuned_results_file (Default: None)\r\n",
      "                        - [tvmaot].relay_debug (Default: None)\r\n",
      "                        - [tvmaot].refresh_model_info (Default: False)\r\n",
      "                        - [tvmaot].generate_wrapper (Default: auto)\r\n",
      "                        - [tvmaot].debug_arena (Default: False)\r\n",
      "                        - [tvmaot].arena_size (Default: None)\r\n",
      "                        - [tvmaot].unpacked_api (Default: False)\r\n",
      "                        - [tvmaot].alignment_bytes (Default: 16)\r\n"
     ]
    }
   ],
   "source": [
    "!python -m mlonmcu.flow.tvm.backend.tvmaot -h"
   ]
  },
  {
   "cell_type": "markdown",
   "id": "c542489c",
   "metadata": {
    "papermill": {
     "duration": 0.015864,
     "end_time": "2024-10-02T08:55:14.394764",
     "exception": false,
     "start_time": "2024-10-02T08:55:14.378900",
     "status": "completed"
    },
    "tags": []
   },
   "source": [
    "## Demonstration (Python API)"
   ]
  },
  {
   "cell_type": "markdown",
   "id": "05e8646f",
   "metadata": {
    "papermill": {
     "duration": 0.015463,
     "end_time": "2024-10-02T08:55:14.425658",
     "exception": false,
     "start_time": "2024-10-02T08:55:14.410195",
     "status": "completed"
    },
    "tags": []
   },
   "source": [
    "### Preface"
   ]
  },
  {
   "cell_type": "markdown",
   "id": "665848cb",
   "metadata": {
    "papermill": {
     "duration": 0.015438,
     "end_time": "2024-10-02T08:55:14.456707",
     "exception": false,
     "start_time": "2024-10-02T08:55:14.441269",
     "status": "completed"
    },
    "tags": []
   },
   "source": [
    "While it is also possible to initialize and setup an MLonMCU environment via Python, it is highly recommended to use the provided command line interfaces for these steps. The following examples demonstrate how to use the MLonMCU flow from within a Python program which enables more customizations of the internal features via scripting."
   ]
  },
  {
   "cell_type": "code",
   "execution_count": 25,
   "id": "6d4cc4f5",
   "metadata": {
    "execution": {
     "iopub.execute_input": "2024-10-02T08:55:14.488896Z",
     "iopub.status.busy": "2024-10-02T08:55:14.488645Z",
     "iopub.status.idle": "2024-10-02T08:55:14.492884Z",
     "shell.execute_reply": "2024-10-02T08:55:14.492348Z"
    },
    "papermill": {
     "duration": 0.021516,
     "end_time": "2024-10-02T08:55:14.493765",
     "exception": false,
     "start_time": "2024-10-02T08:55:14.472249",
     "status": "completed"
    },
    "tags": []
   },
   "outputs": [
    {
     "name": "stdout",
     "output_type": "stream",
     "text": [
      "env: MLONMCU_HOME=/tmp/mlonmcu_env\n"
     ]
    }
   ],
   "source": [
    "%env MLONMCU_HOME=/tmp/mlonmcu_env"
   ]
  },
  {
   "cell_type": "markdown",
   "id": "cdc59158",
   "metadata": {
    "papermill": {
     "duration": 0.015545,
     "end_time": "2024-10-02T08:55:14.525205",
     "exception": false,
     "start_time": "2024-10-02T08:55:14.509660",
     "status": "completed"
    },
    "tags": []
   },
   "source": [
    "### Open a MLonMCU context to load the environment"
   ]
  },
  {
   "cell_type": "code",
   "execution_count": 26,
   "id": "faae27e4",
   "metadata": {
    "execution": {
     "iopub.execute_input": "2024-10-02T08:55:14.557463Z",
     "iopub.status.busy": "2024-10-02T08:55:14.557061Z",
     "iopub.status.idle": "2024-10-02T08:55:14.871637Z",
     "shell.execute_reply": "2024-10-02T08:55:14.871109Z"
    },
    "papermill": {
     "duration": 0.331778,
     "end_time": "2024-10-02T08:55:14.872645",
     "exception": false,
     "start_time": "2024-10-02T08:55:14.540867",
     "status": "completed"
    },
    "tags": []
   },
   "outputs": [
    {
     "name": "stdout",
     "output_type": "stream",
     "text": [
      "INFO - Loading environment cache from file\n"
     ]
    },
    {
     "name": "stdout",
     "output_type": "stream",
     "text": [
      "INFO - Successfully initialized cache\n"
     ]
    }
   ],
   "source": [
    "import mlonmcu.context\n",
    "\n",
    "with mlonmcu.context.MlonMcuContext() as context:\n",
    "    pass"
   ]
  },
  {
   "cell_type": "markdown",
   "id": "c6046d79",
   "metadata": {
    "papermill": {
     "duration": 0.015718,
     "end_time": "2024-10-02T08:55:14.904848",
     "exception": false,
     "start_time": "2024-10-02T08:55:14.889130",
     "status": "completed"
    },
    "tags": []
   },
   "source": [
    "### Running the MLonMCU flow"
   ]
  },
  {
   "cell_type": "markdown",
   "id": "021c28a8",
   "metadata": {
    "tags": [
     "papermill-error-cell-tag"
    ]
   },
   "source": [
    "<span id=\"papermill-error-cell\" style=\"color:red; font-family:Helvetica Neue, Helvetica, Arial, sans-serif; font-size:2em;\">Execution using papermill encountered an exception here and stopped:</span>"
   ]
  },
  {
   "cell_type": "code",
   "execution_count": 27,
   "id": "98d6bb90",
   "metadata": {
    "execution": {
     "iopub.execute_input": "2024-10-02T08:55:14.937453Z",
     "iopub.status.busy": "2024-10-02T08:55:14.937143Z",
     "iopub.status.idle": "2024-10-02T08:55:15.504911Z",
     "shell.execute_reply": "2024-10-02T08:55:15.503993Z"
    },
    "papermill": {
     "duration": 0.584975,
     "end_time": "2024-10-02T08:55:15.505784",
     "exception": true,
     "start_time": "2024-10-02T08:55:14.920809",
     "status": "failed"
    },
    "tags": []
   },
   "outputs": [
    {
     "name": "stdout",
     "output_type": "stream",
     "text": [
      "INFO - Loading environment cache from file\n"
     ]
    },
    {
     "name": "stdout",
     "output_type": "stream",
     "text": [
      "INFO - Successfully initialized cache\n"
     ]
    },
    {
     "ename": "AssertionError",
     "evalue": "Session needs to be opened first",
     "output_type": "error",
     "traceback": [
      "\u001b[0;31m---------------------------------------------------------------------------\u001b[0m",
      "\u001b[0;31mAssertionError\u001b[0m                            Traceback (most recent call last)",
      "Cell \u001b[0;32mIn[27], line 15\u001b[0m\n\u001b[1;32m     13\u001b[0m     run\u001b[38;5;241m.\u001b[39madd_platform_by_name(\u001b[38;5;124m\"\u001b[39m\u001b[38;5;124mmlif\u001b[39m\u001b[38;5;124m\"\u001b[39m, context\u001b[38;5;241m=\u001b[39mcontext)\n\u001b[1;32m     14\u001b[0m     run\u001b[38;5;241m.\u001b[39madd_target_by_name(\u001b[38;5;124m\"\u001b[39m\u001b[38;5;124metiss_pulpino\u001b[39m\u001b[38;5;124m\"\u001b[39m, context\u001b[38;5;241m=\u001b[39mcontext)\n\u001b[0;32m---> 15\u001b[0m \u001b[43msession\u001b[49m\u001b[38;5;241;43m.\u001b[39;49m\u001b[43mprocess_runs\u001b[49m\u001b[43m(\u001b[49m\u001b[43muntil\u001b[49m\u001b[38;5;241;43m=\u001b[39;49m\u001b[43mRunStage\u001b[49m\u001b[38;5;241;43m.\u001b[39;49m\u001b[43mRUN\u001b[49m\u001b[43m,\u001b[49m\u001b[43m \u001b[49m\u001b[43mcontext\u001b[49m\u001b[38;5;241;43m=\u001b[39;49m\u001b[43mcontext\u001b[49m\u001b[43m)\u001b[49m\n\u001b[1;32m     16\u001b[0m report \u001b[38;5;241m=\u001b[39m session\u001b[38;5;241m.\u001b[39mget_reports()\n",
      "File \u001b[0;32m~/work/mlonmcu/mlonmcu/mlonmcu/session/session.py:169\u001b[0m, in \u001b[0;36mSession.process_runs\u001b[0;34m(self, until, per_stage, print_report, num_workers, progress, export, context)\u001b[0m\n\u001b[1;32m    166\u001b[0m \u001b[38;5;250m\u001b[39m\u001b[38;5;124;03m\"\"\"Process a runs in this session until a given stage.\"\"\"\u001b[39;00m\n\u001b[1;32m    168\u001b[0m \u001b[38;5;66;03m# TODO: Add configurable callbacks for stage/run complete\u001b[39;00m\n\u001b[0;32m--> 169\u001b[0m \u001b[38;5;28;01massert\u001b[39;00m \u001b[38;5;28mself\u001b[39m\u001b[38;5;241m.\u001b[39mactive, \u001b[38;5;124m\"\u001b[39m\u001b[38;5;124mSession needs to be opened first\u001b[39m\u001b[38;5;124m\"\u001b[39m\n\u001b[1;32m    171\u001b[0m \u001b[38;5;28mself\u001b[39m\u001b[38;5;241m.\u001b[39menumerate_runs()\n\u001b[1;32m    172\u001b[0m \u001b[38;5;28mself\u001b[39m\u001b[38;5;241m.\u001b[39mreport \u001b[38;5;241m=\u001b[39m \u001b[38;5;28;01mNone\u001b[39;00m\n",
      "\u001b[0;31mAssertionError\u001b[0m: Session needs to be opened first"
     ]
    }
   ],
   "source": [
    "import mlonmcu.context\n",
    "from mlonmcu.session.run import RunStage\n",
    "\n",
    "MODEL_NAMES = [\"magic_wand\", \"micro_speech\", \"toycar\"]\n",
    "\n",
    "with mlonmcu.context.MlonMcuContext() as context:\n",
    "    session = context.create_session()\n",
    "    for model_name in MODEL_NAMES:\n",
    "        run = session.create_run(features=[], config={})\n",
    "        run.add_frontend_by_name(\"tflite\", context=context)\n",
    "        run.add_model_by_name(model_name, context=context)\n",
    "        run.add_backend_by_name(\"tvmaot\", context=context)\n",
    "        run.add_platform_by_name(\"mlif\", context=context)\n",
    "        run.add_target_by_name(\"etiss_pulpino\", context=context)\n",
    "    session.process_runs(until=RunStage.RUN, context=context)\n",
    "    report = session.get_reports()"
   ]
  },
  {
   "cell_type": "markdown",
   "id": "73795038",
   "metadata": {
    "papermill": {
     "duration": null,
     "end_time": null,
     "exception": null,
     "start_time": null,
     "status": "pending"
    },
    "tags": []
   },
   "source": [
    "Now we have the dataframe of the run we just defined and right in out python environment so we can have more fun with it."
   ]
  },
  {
   "cell_type": "code",
   "execution_count": null,
   "id": "8aa95a0b",
   "metadata": {
    "papermill": {
     "duration": null,
     "end_time": null,
     "exception": null,
     "start_time": null,
     "status": "pending"
    },
    "tags": []
   },
   "outputs": [],
   "source": [
    "report.df"
   ]
  },
  {
   "cell_type": "markdown",
   "id": "c437f1cf",
   "metadata": {
    "papermill": {
     "duration": null,
     "end_time": null,
     "exception": null,
     "start_time": null,
     "status": "pending"
    },
    "tags": []
   },
   "source": [
    "Let's add a quick visualization:"
   ]
  },
  {
   "cell_type": "code",
   "execution_count": null,
   "id": "d9eb1414",
   "metadata": {
    "papermill": {
     "duration": null,
     "end_time": null,
     "exception": null,
     "start_time": null,
     "status": "pending"
    },
    "tags": []
   },
   "outputs": [],
   "source": [
    "import matplotlib.pyplot as plt\n",
    "\n",
    "COLS = [\"Cycles\", \"Total ROM\", \"Total RAM\"]\n",
    "\n",
    "fig, axes = plt.subplots(ncols=len(COLS))\n",
    "plt.rcParams[\"figure.figsize\"] = (15, 3)  # (w, h)\n",
    "\n",
    "\n",
    "for i, col in enumerate(COLS):\n",
    "    new_df = report.df[[col]].astype(float)\n",
    "    new_df.index = MODEL_NAMES\n",
    "    new_df.plot(kind=\"bar\", ax=axes[i])"
   ]
  }
 ],
 "metadata": {
  "kernelspec": {
   "display_name": "Python 3 (ipykernel)",
   "language": "python",
   "name": "python3"
  },
  "language_info": {
   "codemirror_mode": {
    "name": "ipython",
    "version": 3
   },
   "file_extension": ".py",
   "mimetype": "text/x-python",
   "name": "python",
   "nbconvert_exporter": "python",
   "pygments_lexer": "ipython3",
   "version": "3.10.15"
  },
  "papermill": {
   "default_parameters": {},
   "duration": 3133.347951,
   "end_time": "2024-10-02T08:55:15.838491",
   "environment_variables": {},
   "exception": true,
   "input_path": "/home/runner/work/mlonmcu/mlonmcu/ipynb/Demo.ipynb",
   "output_path": "/home/runner/work/mlonmcu/mlonmcu/ipynb/Demo.ipynb",
   "parameters": {},
   "start_time": "2024-10-02T08:03:02.490540",
   "version": "2.6.0"
  }
 },
 "nbformat": 4,
 "nbformat_minor": 5
}