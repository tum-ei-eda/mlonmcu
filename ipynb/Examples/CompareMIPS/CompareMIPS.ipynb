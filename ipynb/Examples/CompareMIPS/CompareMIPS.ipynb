{
 "cells": [
  {
   "cell_type": "code",
   "execution_count": 1,
   "id": "9050f19f-4354-41e2-8bbc-fa4760c0a3ad",
   "metadata": {
    "execution": {
     "iopub.execute_input": "2024-01-08T13:59:53.576683Z",
     "iopub.status.busy": "2024-01-08T13:59:53.576190Z",
     "iopub.status.idle": "2024-01-08T13:59:53.582897Z",
     "shell.execute_reply": "2024-01-08T13:59:53.582325Z"
    },
    "papermill": {
     "duration": 0.014016,
     "end_time": "2024-01-08T13:59:53.584357",
     "exception": false,
     "start_time": "2024-01-08T13:59:53.570341",
     "status": "completed"
    },
    "tags": []
   },
   "outputs": [],
   "source": [
    "from IPython.display import Code"
   ]
  },
  {
   "cell_type": "markdown",
   "id": "67a623c3",
   "metadata": {
    "papermill": {
     "duration": 0.003366,
     "end_time": "2024-01-08T13:59:53.591398",
     "exception": false,
     "start_time": "2024-01-08T13:59:53.588032",
     "status": "completed"
    },
    "tags": []
   },
   "source": [
    "# Example: Compare MIPS of RISC-V Instruction Set Simulators"
   ]
  },
  {
   "cell_type": "markdown",
   "id": "1025ee11",
   "metadata": {
    "papermill": {
     "duration": 0.003299,
     "end_time": "2024-01-08T13:59:53.598029",
     "exception": false,
     "start_time": "2024-01-08T13:59:53.594730",
     "status": "completed"
    },
    "tags": []
   },
   "source": [
    "Typically MLonMCU would be used to benchmark TinyML workloads on real wardware or simulators. However it's flexibility also allows some interesting experiments not directly related to Embedded ML. In the following it the performance of some RISC-V ISA Simulators is compared using the MLonMCU command line or Python API."
   ]
  },
  {
   "cell_type": "markdown",
   "id": "87fd1387",
   "metadata": {
    "papermill": {
     "duration": 0.003291,
     "end_time": "2024-01-08T13:59:53.604733",
     "exception": false,
     "start_time": "2024-01-08T13:59:53.601442",
     "status": "completed"
    },
    "tags": []
   },
   "source": [
    "## Supported components"
   ]
  },
  {
   "cell_type": "markdown",
   "id": "584a911d",
   "metadata": {
    "papermill": {
     "duration": 0.004211,
     "end_time": "2024-01-08T13:59:53.612287",
     "exception": false,
     "start_time": "2024-01-08T13:59:53.608076",
     "status": "completed"
    },
    "tags": []
   },
   "source": [
    "**Models:** Any (`sine_model` used below)\n",
    "\n",
    "**Frontends:** Any (`tflite` used below)\n",
    "\n",
    "**Frameworks/Backends:** Any (`tvmaotplus` used below)\n",
    "\n",
    "**Platforms/Targets:** `etiss`, `spike`, `ovpsim` (`etiss` and `spike` used below)"
   ]
  },
  {
   "cell_type": "markdown",
   "id": "74ce776e",
   "metadata": {
    "papermill": {
     "duration": 0.003263,
     "end_time": "2024-01-08T13:59:53.618850",
     "exception": false,
     "start_time": "2024-01-08T13:59:53.615587",
     "status": "completed"
    },
    "tags": []
   },
   "source": [
    "## Prerequisites"
   ]
  },
  {
   "cell_type": "markdown",
   "id": "7754d408-0097-4904-a3c6-2738669776fc",
   "metadata": {
    "papermill": {
     "duration": 0.003273,
     "end_time": "2024-01-08T13:59:53.625517",
     "exception": false,
     "start_time": "2024-01-08T13:59:53.622244",
     "status": "completed"
    },
    "tags": []
   },
   "source": [
    "If not done already, setup a virtual python environment and install the required packages into it. (See `requirements.txt`)"
   ]
  },
  {
   "cell_type": "code",
   "execution_count": 2,
   "id": "4f21a1f8-02b7-41b8-b02b-48f82fe6491e",
   "metadata": {
    "execution": {
     "iopub.execute_input": "2024-01-08T13:59:53.633157Z",
     "iopub.status.busy": "2024-01-08T13:59:53.632966Z",
     "iopub.status.idle": "2024-01-08T13:59:53.716886Z",
     "shell.execute_reply": "2024-01-08T13:59:53.716144Z"
    },
    "papermill": {
     "duration": 0.08948,
     "end_time": "2024-01-08T13:59:53.718307",
     "exception": false,
     "start_time": "2024-01-08T13:59:53.628827",
     "status": "completed"
    },
    "tags": []
   },
   "outputs": [
    {
     "data": {
      "text/html": [
       "<style>pre { line-height: 125%; }\n",
       "td.linenos .normal { color: inherit; background-color: transparent; padding-left: 5px; padding-right: 5px; }\n",
       "span.linenos { color: inherit; background-color: transparent; padding-left: 5px; padding-right: 5px; }\n",
       "td.linenos .special { color: #000000; background-color: #ffffc0; padding-left: 5px; padding-right: 5px; }\n",
       "span.linenos.special { color: #000000; background-color: #ffffc0; padding-left: 5px; padding-right: 5px; }\n",
       ".output_html .hll { background-color: #ffffcc }\n",
       ".output_html { background: #f8f8f8; }\n",
       ".output_html .c { color: #3D7B7B; font-style: italic } /* Comment */\n",
       ".output_html .err { border: 1px solid #FF0000 } /* Error */\n",
       ".output_html .k { color: #008000; font-weight: bold } /* Keyword */\n",
       ".output_html .o { color: #666666 } /* Operator */\n",
       ".output_html .ch { color: #3D7B7B; font-style: italic } /* Comment.Hashbang */\n",
       ".output_html .cm { color: #3D7B7B; font-style: italic } /* Comment.Multiline */\n",
       ".output_html .cp { color: #9C6500 } /* Comment.Preproc */\n",
       ".output_html .cpf { color: #3D7B7B; font-style: italic } /* Comment.PreprocFile */\n",
       ".output_html .c1 { color: #3D7B7B; font-style: italic } /* Comment.Single */\n",
       ".output_html .cs { color: #3D7B7B; font-style: italic } /* Comment.Special */\n",
       ".output_html .gd { color: #A00000 } /* Generic.Deleted */\n",
       ".output_html .ge { font-style: italic } /* Generic.Emph */\n",
       ".output_html .ges { font-weight: bold; font-style: italic } /* Generic.EmphStrong */\n",
       ".output_html .gr { color: #E40000 } /* Generic.Error */\n",
       ".output_html .gh { color: #000080; font-weight: bold } /* Generic.Heading */\n",
       ".output_html .gi { color: #008400 } /* Generic.Inserted */\n",
       ".output_html .go { color: #717171 } /* Generic.Output */\n",
       ".output_html .gp { color: #000080; font-weight: bold } /* Generic.Prompt */\n",
       ".output_html .gs { font-weight: bold } /* Generic.Strong */\n",
       ".output_html .gu { color: #800080; font-weight: bold } /* Generic.Subheading */\n",
       ".output_html .gt { color: #0044DD } /* Generic.Traceback */\n",
       ".output_html .kc { color: #008000; font-weight: bold } /* Keyword.Constant */\n",
       ".output_html .kd { color: #008000; font-weight: bold } /* Keyword.Declaration */\n",
       ".output_html .kn { color: #008000; font-weight: bold } /* Keyword.Namespace */\n",
       ".output_html .kp { color: #008000 } /* Keyword.Pseudo */\n",
       ".output_html .kr { color: #008000; font-weight: bold } /* Keyword.Reserved */\n",
       ".output_html .kt { color: #B00040 } /* Keyword.Type */\n",
       ".output_html .m { color: #666666 } /* Literal.Number */\n",
       ".output_html .s { color: #BA2121 } /* Literal.String */\n",
       ".output_html .na { color: #687822 } /* Name.Attribute */\n",
       ".output_html .nb { color: #008000 } /* Name.Builtin */\n",
       ".output_html .nc { color: #0000FF; font-weight: bold } /* Name.Class */\n",
       ".output_html .no { color: #880000 } /* Name.Constant */\n",
       ".output_html .nd { color: #AA22FF } /* Name.Decorator */\n",
       ".output_html .ni { color: #717171; font-weight: bold } /* Name.Entity */\n",
       ".output_html .ne { color: #CB3F38; font-weight: bold } /* Name.Exception */\n",
       ".output_html .nf { color: #0000FF } /* Name.Function */\n",
       ".output_html .nl { color: #767600 } /* Name.Label */\n",
       ".output_html .nn { color: #0000FF; font-weight: bold } /* Name.Namespace */\n",
       ".output_html .nt { color: #008000; font-weight: bold } /* Name.Tag */\n",
       ".output_html .nv { color: #19177C } /* Name.Variable */\n",
       ".output_html .ow { color: #AA22FF; font-weight: bold } /* Operator.Word */\n",
       ".output_html .w { color: #bbbbbb } /* Text.Whitespace */\n",
       ".output_html .mb { color: #666666 } /* Literal.Number.Bin */\n",
       ".output_html .mf { color: #666666 } /* Literal.Number.Float */\n",
       ".output_html .mh { color: #666666 } /* Literal.Number.Hex */\n",
       ".output_html .mi { color: #666666 } /* Literal.Number.Integer */\n",
       ".output_html .mo { color: #666666 } /* Literal.Number.Oct */\n",
       ".output_html .sa { color: #BA2121 } /* Literal.String.Affix */\n",
       ".output_html .sb { color: #BA2121 } /* Literal.String.Backtick */\n",
       ".output_html .sc { color: #BA2121 } /* Literal.String.Char */\n",
       ".output_html .dl { color: #BA2121 } /* Literal.String.Delimiter */\n",
       ".output_html .sd { color: #BA2121; font-style: italic } /* Literal.String.Doc */\n",
       ".output_html .s2 { color: #BA2121 } /* Literal.String.Double */\n",
       ".output_html .se { color: #AA5D1F; font-weight: bold } /* Literal.String.Escape */\n",
       ".output_html .sh { color: #BA2121 } /* Literal.String.Heredoc */\n",
       ".output_html .si { color: #A45A77; font-weight: bold } /* Literal.String.Interpol */\n",
       ".output_html .sx { color: #008000 } /* Literal.String.Other */\n",
       ".output_html .sr { color: #A45A77 } /* Literal.String.Regex */\n",
       ".output_html .s1 { color: #BA2121 } /* Literal.String.Single */\n",
       ".output_html .ss { color: #19177C } /* Literal.String.Symbol */\n",
       ".output_html .bp { color: #008000 } /* Name.Builtin.Pseudo */\n",
       ".output_html .fm { color: #0000FF } /* Name.Function.Magic */\n",
       ".output_html .vc { color: #19177C } /* Name.Variable.Class */\n",
       ".output_html .vg { color: #19177C } /* Name.Variable.Global */\n",
       ".output_html .vi { color: #19177C } /* Name.Variable.Instance */\n",
       ".output_html .vm { color: #19177C } /* Name.Variable.Magic */\n",
       ".output_html .il { color: #666666 } /* Literal.Number.Integer.Long */</style><div class=\"highlight\"><pre><span></span>-r ../../requirements.txt\n",
       "attrs\n",
       "cloudpickle\n",
       "decorator\n",
       "numpy\n",
       "psutil\n",
       "scipy\n",
       "synr\n",
       "tornado\n",
       "typing_extensions\n",
       "tflite\n",
       "</pre></div>\n"
      ],
      "text/latex": [
       "\\begin{Verbatim}[commandchars=\\\\\\{\\}]\n",
       "\\PYZhy{}r ../../requirements.txt\n",
       "attrs\n",
       "cloudpickle\n",
       "decorator\n",
       "numpy\n",
       "psutil\n",
       "scipy\n",
       "synr\n",
       "tornado\n",
       "typing\\PYZus{}extensions\n",
       "tflite\n",
       "\\end{Verbatim}\n"
      ],
      "text/plain": [
       "-r ../../requirements.txt\n",
       "attrs\n",
       "cloudpickle\n",
       "decorator\n",
       "numpy\n",
       "psutil\n",
       "scipy\n",
       "synr\n",
       "tornado\n",
       "typing_extensions\n",
       "tflite"
      ]
     },
     "execution_count": 2,
     "metadata": {},
     "output_type": "execute_result"
    }
   ],
   "source": [
    "Code(filename=\"requirements.txt\")"
   ]
  },
  {
   "cell_type": "markdown",
   "id": "18955525",
   "metadata": {
    "papermill": {
     "duration": 0.003598,
     "end_time": "2024-01-08T13:59:53.725889",
     "exception": false,
     "start_time": "2024-01-08T13:59:53.722291",
     "status": "completed"
    },
    "tags": []
   },
   "source": [
    "Set up MLonmCU as usual, i.e. initialize an environment and install all required dependencies. Feel free to use the following minimal `environment.yml.j2` template:"
   ]
  },
  {
   "cell_type": "code",
   "execution_count": 3,
   "id": "10aee1f8-68d0-4d29-b724-98fbb55b8004",
   "metadata": {
    "execution": {
     "iopub.execute_input": "2024-01-08T13:59:53.734403Z",
     "iopub.status.busy": "2024-01-08T13:59:53.733974Z",
     "iopub.status.idle": "2024-01-08T13:59:53.775281Z",
     "shell.execute_reply": "2024-01-08T13:59:53.774590Z"
    },
    "papermill": {
     "duration": 0.047186,
     "end_time": "2024-01-08T13:59:53.776770",
     "exception": false,
     "start_time": "2024-01-08T13:59:53.729584",
     "status": "completed"
    },
    "tags": []
   },
   "outputs": [
    {
     "data": {
      "text/html": [
       "<style>pre { line-height: 125%; }\n",
       "td.linenos .normal { color: inherit; background-color: transparent; padding-left: 5px; padding-right: 5px; }\n",
       "span.linenos { color: inherit; background-color: transparent; padding-left: 5px; padding-right: 5px; }\n",
       "td.linenos .special { color: #000000; background-color: #ffffc0; padding-left: 5px; padding-right: 5px; }\n",
       "span.linenos.special { color: #000000; background-color: #ffffc0; padding-left: 5px; padding-right: 5px; }\n",
       ".output_html .hll { background-color: #ffffcc }\n",
       ".output_html { background: #f8f8f8; }\n",
       ".output_html .c { color: #3D7B7B; font-style: italic } /* Comment */\n",
       ".output_html .err { border: 1px solid #FF0000 } /* Error */\n",
       ".output_html .k { color: #008000; font-weight: bold } /* Keyword */\n",
       ".output_html .o { color: #666666 } /* Operator */\n",
       ".output_html .ch { color: #3D7B7B; font-style: italic } /* Comment.Hashbang */\n",
       ".output_html .cm { color: #3D7B7B; font-style: italic } /* Comment.Multiline */\n",
       ".output_html .cp { color: #9C6500 } /* Comment.Preproc */\n",
       ".output_html .cpf { color: #3D7B7B; font-style: italic } /* Comment.PreprocFile */\n",
       ".output_html .c1 { color: #3D7B7B; font-style: italic } /* Comment.Single */\n",
       ".output_html .cs { color: #3D7B7B; font-style: italic } /* Comment.Special */\n",
       ".output_html .gd { color: #A00000 } /* Generic.Deleted */\n",
       ".output_html .ge { font-style: italic } /* Generic.Emph */\n",
       ".output_html .ges { font-weight: bold; font-style: italic } /* Generic.EmphStrong */\n",
       ".output_html .gr { color: #E40000 } /* Generic.Error */\n",
       ".output_html .gh { color: #000080; font-weight: bold } /* Generic.Heading */\n",
       ".output_html .gi { color: #008400 } /* Generic.Inserted */\n",
       ".output_html .go { color: #717171 } /* Generic.Output */\n",
       ".output_html .gp { color: #000080; font-weight: bold } /* Generic.Prompt */\n",
       ".output_html .gs { font-weight: bold } /* Generic.Strong */\n",
       ".output_html .gu { color: #800080; font-weight: bold } /* Generic.Subheading */\n",
       ".output_html .gt { color: #0044DD } /* Generic.Traceback */\n",
       ".output_html .kc { color: #008000; font-weight: bold } /* Keyword.Constant */\n",
       ".output_html .kd { color: #008000; font-weight: bold } /* Keyword.Declaration */\n",
       ".output_html .kn { color: #008000; font-weight: bold } /* Keyword.Namespace */\n",
       ".output_html .kp { color: #008000 } /* Keyword.Pseudo */\n",
       ".output_html .kr { color: #008000; font-weight: bold } /* Keyword.Reserved */\n",
       ".output_html .kt { color: #B00040 } /* Keyword.Type */\n",
       ".output_html .m { color: #666666 } /* Literal.Number */\n",
       ".output_html .s { color: #BA2121 } /* Literal.String */\n",
       ".output_html .na { color: #687822 } /* Name.Attribute */\n",
       ".output_html .nb { color: #008000 } /* Name.Builtin */\n",
       ".output_html .nc { color: #0000FF; font-weight: bold } /* Name.Class */\n",
       ".output_html .no { color: #880000 } /* Name.Constant */\n",
       ".output_html .nd { color: #AA22FF } /* Name.Decorator */\n",
       ".output_html .ni { color: #717171; font-weight: bold } /* Name.Entity */\n",
       ".output_html .ne { color: #CB3F38; font-weight: bold } /* Name.Exception */\n",
       ".output_html .nf { color: #0000FF } /* Name.Function */\n",
       ".output_html .nl { color: #767600 } /* Name.Label */\n",
       ".output_html .nn { color: #0000FF; font-weight: bold } /* Name.Namespace */\n",
       ".output_html .nt { color: #008000; font-weight: bold } /* Name.Tag */\n",
       ".output_html .nv { color: #19177C } /* Name.Variable */\n",
       ".output_html .ow { color: #AA22FF; font-weight: bold } /* Operator.Word */\n",
       ".output_html .w { color: #bbbbbb } /* Text.Whitespace */\n",
       ".output_html .mb { color: #666666 } /* Literal.Number.Bin */\n",
       ".output_html .mf { color: #666666 } /* Literal.Number.Float */\n",
       ".output_html .mh { color: #666666 } /* Literal.Number.Hex */\n",
       ".output_html .mi { color: #666666 } /* Literal.Number.Integer */\n",
       ".output_html .mo { color: #666666 } /* Literal.Number.Oct */\n",
       ".output_html .sa { color: #BA2121 } /* Literal.String.Affix */\n",
       ".output_html .sb { color: #BA2121 } /* Literal.String.Backtick */\n",
       ".output_html .sc { color: #BA2121 } /* Literal.String.Char */\n",
       ".output_html .dl { color: #BA2121 } /* Literal.String.Delimiter */\n",
       ".output_html .sd { color: #BA2121; font-style: italic } /* Literal.String.Doc */\n",
       ".output_html .s2 { color: #BA2121 } /* Literal.String.Double */\n",
       ".output_html .se { color: #AA5D1F; font-weight: bold } /* Literal.String.Escape */\n",
       ".output_html .sh { color: #BA2121 } /* Literal.String.Heredoc */\n",
       ".output_html .si { color: #A45A77; font-weight: bold } /* Literal.String.Interpol */\n",
       ".output_html .sx { color: #008000 } /* Literal.String.Other */\n",
       ".output_html .sr { color: #A45A77 } /* Literal.String.Regex */\n",
       ".output_html .s1 { color: #BA2121 } /* Literal.String.Single */\n",
       ".output_html .ss { color: #19177C } /* Literal.String.Symbol */\n",
       ".output_html .bp { color: #008000 } /* Name.Builtin.Pseudo */\n",
       ".output_html .fm { color: #0000FF } /* Name.Function.Magic */\n",
       ".output_html .vc { color: #19177C } /* Name.Variable.Class */\n",
       ".output_html .vg { color: #19177C } /* Name.Variable.Global */\n",
       ".output_html .vi { color: #19177C } /* Name.Variable.Instance */\n",
       ".output_html .vm { color: #19177C } /* Name.Variable.Magic */\n",
       ".output_html .il { color: #666666 } /* Literal.Number.Integer.Long */</style><div class=\"highlight\"><pre><span></span><span class=\"nn\">---</span>\n",
       "<span class=\"c1\"># The MLONMCU_HOME is filled in automatically when creating the environment</span>\n",
       "<span class=\"nt\">home</span><span class=\"p\">:</span><span class=\"w\"> </span><span class=\"s\">&quot;</span><span class=\"cp\">{{</span> <span class=\"nv\">home_dir</span> <span class=\"cp\">}}</span><span class=\"s\">&quot;</span>\n",
       "<span class=\"nt\">logging</span><span class=\"p\">:</span>\n",
       "<span class=\"w\">  </span><span class=\"nt\">level</span><span class=\"p\">:</span><span class=\"w\"> </span><span class=\"l l-Scalar l-Scalar-Plain\">INFO</span>\n",
       "<span class=\"w\">  </span><span class=\"nt\">to_file</span><span class=\"p\">:</span><span class=\"w\"> </span><span class=\"l l-Scalar l-Scalar-Plain\">false</span>\n",
       "<span class=\"w\">  </span><span class=\"nt\">rotate</span><span class=\"p\">:</span><span class=\"w\"> </span><span class=\"l l-Scalar l-Scalar-Plain\">false</span>\n",
       "<span class=\"nt\">cleanup</span><span class=\"p\">:</span>\n",
       "<span class=\"w\">  </span><span class=\"nt\">auto</span><span class=\"p\">:</span><span class=\"w\"> </span><span class=\"l l-Scalar l-Scalar-Plain\">true</span>\n",
       "<span class=\"w\">  </span><span class=\"nt\">keep</span><span class=\"p\">:</span><span class=\"w\"> </span><span class=\"l l-Scalar l-Scalar-Plain\">5</span>\n",
       "<span class=\"c1\"># Default locations for certain directoriescan be changed here</span>\n",
       "<span class=\"c1\"># Non-absolute paths will always be threated relative to the MLONMCU_HOME</span>\n",
       "<span class=\"nt\">paths</span><span class=\"p\">:</span>\n",
       "<span class=\"w\">  </span><span class=\"c1\"># Where the dependencies are downloaded and installed</span>\n",
       "<span class=\"w\">  </span><span class=\"nt\">deps</span><span class=\"p\">:</span><span class=\"w\"> </span><span class=\"l l-Scalar l-Scalar-Plain\">deps</span>\n",
       "<span class=\"w\">  </span><span class=\"c1\"># If logging to file is used keep logs in this directory</span>\n",
       "<span class=\"w\">  </span><span class=\"nt\">logs</span><span class=\"p\">:</span><span class=\"w\"> </span><span class=\"l l-Scalar l-Scalar-Plain\">logs</span>\n",
       "<span class=\"w\">  </span><span class=\"c1\"># Location where reports and artifacts are written to</span>\n",
       "<span class=\"w\">  </span><span class=\"nt\">results</span><span class=\"p\">:</span><span class=\"w\"> </span><span class=\"l l-Scalar l-Scalar-Plain\">results</span>\n",
       "<span class=\"w\">  </span><span class=\"c1\"># Directory where custom extensions can be integrated</span>\n",
       "<span class=\"w\">  </span><span class=\"nt\">plugins</span><span class=\"p\">:</span><span class=\"w\"> </span><span class=\"l l-Scalar l-Scalar-Plain\">plugins</span>\n",
       "<span class=\"w\">  </span><span class=\"c1\"># Directory for intermediate build products, should be located on a large enough drive</span>\n",
       "<span class=\"w\">  </span><span class=\"nt\">temp</span><span class=\"p\">:</span><span class=\"w\"> </span><span class=\"l l-Scalar l-Scalar-Plain\">temp</span>\n",
       "<span class=\"w\">  </span><span class=\"c1\"># A collection of models which will be used to look for models</span>\n",
       "<span class=\"w\">  </span><span class=\"c1\"># The paths will be checked in the order defined here stopping at the first match</span>\n",
       "<span class=\"w\">  </span><span class=\"c1\"># Non-existant paths will be skipped without throwing an error</span>\n",
       "<span class=\"w\">  </span><span class=\"nt\">models</span><span class=\"p\">:</span>\n",
       "<span class=\"w\">    </span><span class=\"p p-Indicator\">-</span><span class=\"w\"> </span><span class=\"s\">&quot;</span><span class=\"cp\">{{</span> <span class=\"nv\">home_dir</span> <span class=\"cp\">}}</span><span class=\"s\">/models&quot;</span>\n",
       "<span class=\"c1\"># Here default clone_urls</span>\n",
       "<span class=\"nt\">repos</span><span class=\"p\">:</span>\n",
       "<span class=\"w\">  </span><span class=\"nt\">tvm</span><span class=\"p\">:</span>\n",
       "<span class=\"w\">    </span><span class=\"nt\">url</span><span class=\"p\">:</span><span class=\"w\"> </span><span class=\"s\">&quot;https://github.com/apache/tvm.git&quot;</span>\n",
       "<span class=\"w\">    </span><span class=\"nt\">ref</span><span class=\"p\">:</span><span class=\"w\"> </span><span class=\"l l-Scalar l-Scalar-Plain\">a9fcac1a47f4b57c1d9d828c7ed1d77452b02cc5</span>\n",
       "<span class=\"w\">    </span><span class=\"nt\">options</span><span class=\"p\">:</span>\n",
       "<span class=\"w\">      </span><span class=\"nt\">recursive</span><span class=\"p\">:</span><span class=\"w\"> </span><span class=\"l l-Scalar l-Scalar-Plain\">true</span>\n",
       "<span class=\"w\">  </span><span class=\"nt\">etiss</span><span class=\"p\">:</span>\n",
       "<span class=\"w\">    </span><span class=\"nt\">url</span><span class=\"p\">:</span><span class=\"w\"> </span><span class=\"s\">&quot;https://github.com/tum-ei-eda/etiss.git&quot;</span>\n",
       "<span class=\"w\">    </span><span class=\"nt\">ref</span><span class=\"p\">:</span><span class=\"w\"> </span><span class=\"l l-Scalar l-Scalar-Plain\">40c0b920cf4072adf189211ca44291534355dcfd</span>\n",
       "<span class=\"w\">  </span><span class=\"nt\">spike</span><span class=\"p\">:</span>\n",
       "<span class=\"w\">    </span><span class=\"nt\">url</span><span class=\"p\">:</span><span class=\"w\"> </span><span class=\"s\">&quot;https://github.com/riscv-software-src/riscv-isa-sim.git&quot;</span>\n",
       "<span class=\"w\">    </span><span class=\"nt\">ref</span><span class=\"p\">:</span><span class=\"w\"> </span><span class=\"l l-Scalar l-Scalar-Plain\">0bc176b3fca43560b9e8586cdbc41cfde073e17a</span>\n",
       "<span class=\"w\">  </span><span class=\"nt\">spikepk</span><span class=\"p\">:</span>\n",
       "<span class=\"w\">    </span><span class=\"nt\">url</span><span class=\"p\">:</span><span class=\"w\"> </span><span class=\"s\">&quot;https://github.com/riscv-software-src/riscv-pk.git&quot;</span>\n",
       "<span class=\"w\">    </span><span class=\"nt\">ref</span><span class=\"p\">:</span><span class=\"w\"> </span><span class=\"l l-Scalar l-Scalar-Plain\">7e9b671c0415dfd7b562ac934feb9380075d4aa2</span>\n",
       "<span class=\"w\">  </span><span class=\"nt\">mlif</span><span class=\"p\">:</span>\n",
       "<span class=\"w\">    </span><span class=\"nt\">url</span><span class=\"p\">:</span><span class=\"w\"> </span><span class=\"s\">&quot;https://github.com/tum-ei-eda/mlonmcu-sw.git&quot;</span>\n",
       "<span class=\"w\">    </span><span class=\"nt\">ref</span><span class=\"p\">:</span><span class=\"w\"> </span><span class=\"l l-Scalar l-Scalar-Plain\">c7b0e7364c232666ebd5a17476181e3ff9a71d70</span>\n",
       "<span class=\"nt\">frameworks</span><span class=\"p\">:</span>\n",
       "<span class=\"w\">  </span><span class=\"nt\">default</span><span class=\"p\">:</span><span class=\"w\"> </span><span class=\"l l-Scalar l-Scalar-Plain\">tvm</span>\n",
       "<span class=\"w\">  </span><span class=\"nt\">tvm</span><span class=\"p\">:</span>\n",
       "<span class=\"w\">    </span><span class=\"nt\">enabled</span><span class=\"p\">:</span><span class=\"w\"> </span><span class=\"l l-Scalar l-Scalar-Plain\">true</span>\n",
       "<span class=\"w\">    </span><span class=\"nt\">backends</span><span class=\"p\">:</span>\n",
       "<span class=\"w\">      </span><span class=\"nt\">default</span><span class=\"p\">:</span><span class=\"w\"> </span><span class=\"l l-Scalar l-Scalar-Plain\">tvmaot</span>\n",
       "<span class=\"w\">      </span><span class=\"nt\">tvmaot</span><span class=\"p\">:</span>\n",
       "<span class=\"w\">        </span><span class=\"nt\">enabled</span><span class=\"p\">:</span><span class=\"w\"> </span><span class=\"l l-Scalar l-Scalar-Plain\">true</span>\n",
       "<span class=\"w\">        </span><span class=\"nt\">features</span><span class=\"p\">:</span><span class=\"w\"> </span><span class=\"p p-Indicator\">{}</span>\n",
       "<span class=\"w\">    </span><span class=\"nt\">features</span><span class=\"p\">:</span><span class=\"w\"> </span><span class=\"p p-Indicator\">{}</span>\n",
       "<span class=\"nt\">frontends</span><span class=\"p\">:</span>\n",
       "<span class=\"w\">  </span><span class=\"nt\">tflite</span><span class=\"p\">:</span>\n",
       "<span class=\"w\">    </span><span class=\"nt\">enabled</span><span class=\"p\">:</span><span class=\"w\"> </span><span class=\"l l-Scalar l-Scalar-Plain\">true</span>\n",
       "<span class=\"w\">    </span><span class=\"nt\">features</span><span class=\"p\">:</span><span class=\"w\"> </span><span class=\"p p-Indicator\">[]</span>\n",
       "<span class=\"nt\">toolchains</span><span class=\"p\">:</span>\n",
       "<span class=\"w\">  </span><span class=\"nt\">gcc</span><span class=\"p\">:</span><span class=\"w\"> </span><span class=\"l l-Scalar l-Scalar-Plain\">true</span>\n",
       "<span class=\"nt\">platforms</span><span class=\"p\">:</span>\n",
       "<span class=\"w\">  </span><span class=\"nt\">mlif</span><span class=\"p\">:</span>\n",
       "<span class=\"w\">    </span><span class=\"nt\">enabled</span><span class=\"p\">:</span><span class=\"w\"> </span><span class=\"l l-Scalar l-Scalar-Plain\">true</span>\n",
       "<span class=\"w\">    </span><span class=\"nt\">features</span><span class=\"p\">:</span>\n",
       "<span class=\"w\">      </span><span class=\"nt\">debug</span><span class=\"p\">:</span><span class=\"w\"> </span><span class=\"l l-Scalar l-Scalar-Plain\">true</span>\n",
       "<span class=\"nt\">targets</span><span class=\"p\">:</span>\n",
       "<span class=\"w\">  </span><span class=\"nt\">default</span><span class=\"p\">:</span><span class=\"w\"> </span><span class=\"l l-Scalar l-Scalar-Plain\">host_x86</span>\n",
       "<span class=\"w\">  </span><span class=\"nt\">etiss</span><span class=\"p\">:</span>\n",
       "<span class=\"w\">    </span><span class=\"nt\">enabled</span><span class=\"p\">:</span><span class=\"w\"> </span><span class=\"l l-Scalar l-Scalar-Plain\">true</span>\n",
       "<span class=\"w\">    </span><span class=\"nt\">features</span><span class=\"p\">:</span><span class=\"w\"> </span><span class=\"p p-Indicator\">{}</span>\n",
       "<span class=\"w\">  </span><span class=\"nt\">spike</span><span class=\"p\">:</span>\n",
       "<span class=\"w\">    </span><span class=\"nt\">enabled</span><span class=\"p\">:</span><span class=\"w\"> </span><span class=\"l l-Scalar l-Scalar-Plain\">true</span>\n",
       "<span class=\"w\">    </span><span class=\"nt\">features</span><span class=\"p\">:</span><span class=\"w\"> </span><span class=\"p p-Indicator\">{}</span>\n",
       "<span class=\"w\">  </span><span class=\"nt\">host_x86</span><span class=\"p\">:</span>\n",
       "<span class=\"w\">    </span><span class=\"nt\">enabled</span><span class=\"p\">:</span><span class=\"w\"> </span><span class=\"l l-Scalar l-Scalar-Plain\">true</span>\n",
       "<span class=\"w\">    </span><span class=\"nt\">features</span><span class=\"p\">:</span><span class=\"w\"> </span><span class=\"p p-Indicator\">[]</span>\n",
       "<span class=\"nt\">postprocesses</span><span class=\"p\">:</span>\n",
       "<span class=\"w\">  </span><span class=\"nt\">use</span><span class=\"p\">:</span><span class=\"w\"> </span><span class=\"p p-Indicator\">[]</span>\n",
       "<span class=\"nt\">vars</span><span class=\"p\">:</span>\n",
       "<span class=\"w\">  </span><span class=\"nt\">allow_extensions</span><span class=\"p\">:</span><span class=\"w\"> </span><span class=\"l l-Scalar l-Scalar-Plain\">false</span>\n",
       "<span class=\"w\">  </span><span class=\"nt\">runs_per_stage</span><span class=\"p\">:</span><span class=\"w\"> </span><span class=\"l l-Scalar l-Scalar-Plain\">true</span>\n",
       "<span class=\"w\">  </span><span class=\"nt\">riscv_gcc.dl_url</span><span class=\"p\">:</span><span class=\"w\"> </span><span class=\"s\">&quot;https://syncandshare.lrz.de/dl/fiWBtDLWz17RBc1Yd4VDW7/GCC/default/2023.11.27/Ubuntu/20.04/rv32gc_ilp32d.tar.xz&quot;</span>\n",
       "<span class=\"nt\">flags</span><span class=\"p\">:</span><span class=\"w\"> </span><span class=\"p p-Indicator\">{}</span>\n",
       "</pre></div>\n"
      ],
      "text/latex": [
       "\\begin{Verbatim}[commandchars=\\\\\\{\\}]\n",
       "\\PY{n+nn}{\\PYZhy{}\\PYZhy{}\\PYZhy{}}\n",
       "\\PY{c+c1}{\\PYZsh{} The MLONMCU\\PYZus{}HOME is filled in automatically when creating the environment}\n",
       "\\PY{n+nt}{home}\\PY{p}{:}\\PY{+w}{ }\\PY{l+s}{\\PYZdq{}}\\PY{c+cp}{\\PYZob{}\\PYZob{}} \\PY{n+nv}{home\\PYZus{}dir} \\PY{c+cp}{\\PYZcb{}\\PYZcb{}}\\PY{l+s}{\\PYZdq{}}\n",
       "\\PY{n+nt}{logging}\\PY{p}{:}\n",
       "\\PY{+w}{  }\\PY{n+nt}{level}\\PY{p}{:}\\PY{+w}{ }\\PY{l+lScalar+lScalarPlain}{INFO}\n",
       "\\PY{+w}{  }\\PY{n+nt}{to\\PYZus{}file}\\PY{p}{:}\\PY{+w}{ }\\PY{l+lScalar+lScalarPlain}{false}\n",
       "\\PY{+w}{  }\\PY{n+nt}{rotate}\\PY{p}{:}\\PY{+w}{ }\\PY{l+lScalar+lScalarPlain}{false}\n",
       "\\PY{n+nt}{cleanup}\\PY{p}{:}\n",
       "\\PY{+w}{  }\\PY{n+nt}{auto}\\PY{p}{:}\\PY{+w}{ }\\PY{l+lScalar+lScalarPlain}{true}\n",
       "\\PY{+w}{  }\\PY{n+nt}{keep}\\PY{p}{:}\\PY{+w}{ }\\PY{l+lScalar+lScalarPlain}{5}\n",
       "\\PY{c+c1}{\\PYZsh{} Default locations for certain directoriescan be changed here}\n",
       "\\PY{c+c1}{\\PYZsh{} Non\\PYZhy{}absolute paths will always be threated relative to the MLONMCU\\PYZus{}HOME}\n",
       "\\PY{n+nt}{paths}\\PY{p}{:}\n",
       "\\PY{+w}{  }\\PY{c+c1}{\\PYZsh{} Where the dependencies are downloaded and installed}\n",
       "\\PY{+w}{  }\\PY{n+nt}{deps}\\PY{p}{:}\\PY{+w}{ }\\PY{l+lScalar+lScalarPlain}{deps}\n",
       "\\PY{+w}{  }\\PY{c+c1}{\\PYZsh{} If logging to file is used keep logs in this directory}\n",
       "\\PY{+w}{  }\\PY{n+nt}{logs}\\PY{p}{:}\\PY{+w}{ }\\PY{l+lScalar+lScalarPlain}{logs}\n",
       "\\PY{+w}{  }\\PY{c+c1}{\\PYZsh{} Location where reports and artifacts are written to}\n",
       "\\PY{+w}{  }\\PY{n+nt}{results}\\PY{p}{:}\\PY{+w}{ }\\PY{l+lScalar+lScalarPlain}{results}\n",
       "\\PY{+w}{  }\\PY{c+c1}{\\PYZsh{} Directory where custom extensions can be integrated}\n",
       "\\PY{+w}{  }\\PY{n+nt}{plugins}\\PY{p}{:}\\PY{+w}{ }\\PY{l+lScalar+lScalarPlain}{plugins}\n",
       "\\PY{+w}{  }\\PY{c+c1}{\\PYZsh{} Directory for intermediate build products, should be located on a large enough drive}\n",
       "\\PY{+w}{  }\\PY{n+nt}{temp}\\PY{p}{:}\\PY{+w}{ }\\PY{l+lScalar+lScalarPlain}{temp}\n",
       "\\PY{+w}{  }\\PY{c+c1}{\\PYZsh{} A collection of models which will be used to look for models}\n",
       "\\PY{+w}{  }\\PY{c+c1}{\\PYZsh{} The paths will be checked in the order defined here stopping at the first match}\n",
       "\\PY{+w}{  }\\PY{c+c1}{\\PYZsh{} Non\\PYZhy{}existant paths will be skipped without throwing an error}\n",
       "\\PY{+w}{  }\\PY{n+nt}{models}\\PY{p}{:}\n",
       "\\PY{+w}{    }\\PY{p+pIndicator}{\\PYZhy{}}\\PY{+w}{ }\\PY{l+s}{\\PYZdq{}}\\PY{c+cp}{\\PYZob{}\\PYZob{}} \\PY{n+nv}{home\\PYZus{}dir} \\PY{c+cp}{\\PYZcb{}\\PYZcb{}}\\PY{l+s}{/models}\\PY{l+s}{\\PYZdq{}}\n",
       "\\PY{c+c1}{\\PYZsh{} Here default clone\\PYZus{}urls}\n",
       "\\PY{n+nt}{repos}\\PY{p}{:}\n",
       "\\PY{+w}{  }\\PY{n+nt}{tvm}\\PY{p}{:}\n",
       "\\PY{+w}{    }\\PY{n+nt}{url}\\PY{p}{:}\\PY{+w}{ }\\PY{l+s}{\\PYZdq{}}\\PY{l+s}{https://github.com/apache/tvm.git}\\PY{l+s}{\\PYZdq{}}\n",
       "\\PY{+w}{    }\\PY{n+nt}{ref}\\PY{p}{:}\\PY{+w}{ }\\PY{l+lScalar+lScalarPlain}{a9fcac1a47f4b57c1d9d828c7ed1d77452b02cc5}\n",
       "\\PY{+w}{    }\\PY{n+nt}{options}\\PY{p}{:}\n",
       "\\PY{+w}{      }\\PY{n+nt}{recursive}\\PY{p}{:}\\PY{+w}{ }\\PY{l+lScalar+lScalarPlain}{true}\n",
       "\\PY{+w}{  }\\PY{n+nt}{etiss}\\PY{p}{:}\n",
       "\\PY{+w}{    }\\PY{n+nt}{url}\\PY{p}{:}\\PY{+w}{ }\\PY{l+s}{\\PYZdq{}}\\PY{l+s}{https://github.com/tum\\PYZhy{}ei\\PYZhy{}eda/etiss.git}\\PY{l+s}{\\PYZdq{}}\n",
       "\\PY{+w}{    }\\PY{n+nt}{ref}\\PY{p}{:}\\PY{+w}{ }\\PY{l+lScalar+lScalarPlain}{40c0b920cf4072adf189211ca44291534355dcfd}\n",
       "\\PY{+w}{  }\\PY{n+nt}{spike}\\PY{p}{:}\n",
       "\\PY{+w}{    }\\PY{n+nt}{url}\\PY{p}{:}\\PY{+w}{ }\\PY{l+s}{\\PYZdq{}}\\PY{l+s}{https://github.com/riscv\\PYZhy{}software\\PYZhy{}src/riscv\\PYZhy{}isa\\PYZhy{}sim.git}\\PY{l+s}{\\PYZdq{}}\n",
       "\\PY{+w}{    }\\PY{n+nt}{ref}\\PY{p}{:}\\PY{+w}{ }\\PY{l+lScalar+lScalarPlain}{0bc176b3fca43560b9e8586cdbc41cfde073e17a}\n",
       "\\PY{+w}{  }\\PY{n+nt}{spikepk}\\PY{p}{:}\n",
       "\\PY{+w}{    }\\PY{n+nt}{url}\\PY{p}{:}\\PY{+w}{ }\\PY{l+s}{\\PYZdq{}}\\PY{l+s}{https://github.com/riscv\\PYZhy{}software\\PYZhy{}src/riscv\\PYZhy{}pk.git}\\PY{l+s}{\\PYZdq{}}\n",
       "\\PY{+w}{    }\\PY{n+nt}{ref}\\PY{p}{:}\\PY{+w}{ }\\PY{l+lScalar+lScalarPlain}{7e9b671c0415dfd7b562ac934feb9380075d4aa2}\n",
       "\\PY{+w}{  }\\PY{n+nt}{mlif}\\PY{p}{:}\n",
       "\\PY{+w}{    }\\PY{n+nt}{url}\\PY{p}{:}\\PY{+w}{ }\\PY{l+s}{\\PYZdq{}}\\PY{l+s}{https://github.com/tum\\PYZhy{}ei\\PYZhy{}eda/mlonmcu\\PYZhy{}sw.git}\\PY{l+s}{\\PYZdq{}}\n",
       "\\PY{+w}{    }\\PY{n+nt}{ref}\\PY{p}{:}\\PY{+w}{ }\\PY{l+lScalar+lScalarPlain}{c7b0e7364c232666ebd5a17476181e3ff9a71d70}\n",
       "\\PY{n+nt}{frameworks}\\PY{p}{:}\n",
       "\\PY{+w}{  }\\PY{n+nt}{default}\\PY{p}{:}\\PY{+w}{ }\\PY{l+lScalar+lScalarPlain}{tvm}\n",
       "\\PY{+w}{  }\\PY{n+nt}{tvm}\\PY{p}{:}\n",
       "\\PY{+w}{    }\\PY{n+nt}{enabled}\\PY{p}{:}\\PY{+w}{ }\\PY{l+lScalar+lScalarPlain}{true}\n",
       "\\PY{+w}{    }\\PY{n+nt}{backends}\\PY{p}{:}\n",
       "\\PY{+w}{      }\\PY{n+nt}{default}\\PY{p}{:}\\PY{+w}{ }\\PY{l+lScalar+lScalarPlain}{tvmaot}\n",
       "\\PY{+w}{      }\\PY{n+nt}{tvmaot}\\PY{p}{:}\n",
       "\\PY{+w}{        }\\PY{n+nt}{enabled}\\PY{p}{:}\\PY{+w}{ }\\PY{l+lScalar+lScalarPlain}{true}\n",
       "\\PY{+w}{        }\\PY{n+nt}{features}\\PY{p}{:}\\PY{+w}{ }\\PY{p+pIndicator}{\\PYZob{}}\\PY{p+pIndicator}{\\PYZcb{}}\n",
       "\\PY{+w}{    }\\PY{n+nt}{features}\\PY{p}{:}\\PY{+w}{ }\\PY{p+pIndicator}{\\PYZob{}}\\PY{p+pIndicator}{\\PYZcb{}}\n",
       "\\PY{n+nt}{frontends}\\PY{p}{:}\n",
       "\\PY{+w}{  }\\PY{n+nt}{tflite}\\PY{p}{:}\n",
       "\\PY{+w}{    }\\PY{n+nt}{enabled}\\PY{p}{:}\\PY{+w}{ }\\PY{l+lScalar+lScalarPlain}{true}\n",
       "\\PY{+w}{    }\\PY{n+nt}{features}\\PY{p}{:}\\PY{+w}{ }\\PY{p+pIndicator}{[}\\PY{p+pIndicator}{]}\n",
       "\\PY{n+nt}{toolchains}\\PY{p}{:}\n",
       "\\PY{+w}{  }\\PY{n+nt}{gcc}\\PY{p}{:}\\PY{+w}{ }\\PY{l+lScalar+lScalarPlain}{true}\n",
       "\\PY{n+nt}{platforms}\\PY{p}{:}\n",
       "\\PY{+w}{  }\\PY{n+nt}{mlif}\\PY{p}{:}\n",
       "\\PY{+w}{    }\\PY{n+nt}{enabled}\\PY{p}{:}\\PY{+w}{ }\\PY{l+lScalar+lScalarPlain}{true}\n",
       "\\PY{+w}{    }\\PY{n+nt}{features}\\PY{p}{:}\n",
       "\\PY{+w}{      }\\PY{n+nt}{debug}\\PY{p}{:}\\PY{+w}{ }\\PY{l+lScalar+lScalarPlain}{true}\n",
       "\\PY{n+nt}{targets}\\PY{p}{:}\n",
       "\\PY{+w}{  }\\PY{n+nt}{default}\\PY{p}{:}\\PY{+w}{ }\\PY{l+lScalar+lScalarPlain}{host\\PYZus{}x86}\n",
       "\\PY{+w}{  }\\PY{n+nt}{etiss}\\PY{p}{:}\n",
       "\\PY{+w}{    }\\PY{n+nt}{enabled}\\PY{p}{:}\\PY{+w}{ }\\PY{l+lScalar+lScalarPlain}{true}\n",
       "\\PY{+w}{    }\\PY{n+nt}{features}\\PY{p}{:}\\PY{+w}{ }\\PY{p+pIndicator}{\\PYZob{}}\\PY{p+pIndicator}{\\PYZcb{}}\n",
       "\\PY{+w}{  }\\PY{n+nt}{spike}\\PY{p}{:}\n",
       "\\PY{+w}{    }\\PY{n+nt}{enabled}\\PY{p}{:}\\PY{+w}{ }\\PY{l+lScalar+lScalarPlain}{true}\n",
       "\\PY{+w}{    }\\PY{n+nt}{features}\\PY{p}{:}\\PY{+w}{ }\\PY{p+pIndicator}{\\PYZob{}}\\PY{p+pIndicator}{\\PYZcb{}}\n",
       "\\PY{+w}{  }\\PY{n+nt}{host\\PYZus{}x86}\\PY{p}{:}\n",
       "\\PY{+w}{    }\\PY{n+nt}{enabled}\\PY{p}{:}\\PY{+w}{ }\\PY{l+lScalar+lScalarPlain}{true}\n",
       "\\PY{+w}{    }\\PY{n+nt}{features}\\PY{p}{:}\\PY{+w}{ }\\PY{p+pIndicator}{[}\\PY{p+pIndicator}{]}\n",
       "\\PY{n+nt}{postprocesses}\\PY{p}{:}\n",
       "\\PY{+w}{  }\\PY{n+nt}{use}\\PY{p}{:}\\PY{+w}{ }\\PY{p+pIndicator}{[}\\PY{p+pIndicator}{]}\n",
       "\\PY{n+nt}{vars}\\PY{p}{:}\n",
       "\\PY{+w}{  }\\PY{n+nt}{allow\\PYZus{}extensions}\\PY{p}{:}\\PY{+w}{ }\\PY{l+lScalar+lScalarPlain}{false}\n",
       "\\PY{+w}{  }\\PY{n+nt}{runs\\PYZus{}per\\PYZus{}stage}\\PY{p}{:}\\PY{+w}{ }\\PY{l+lScalar+lScalarPlain}{true}\n",
       "\\PY{+w}{  }\\PY{n+nt}{riscv\\PYZus{}gcc.dl\\PYZus{}url}\\PY{p}{:}\\PY{+w}{ }\\PY{l+s}{\\PYZdq{}}\\PY{l+s}{https://syncandshare.lrz.de/dl/fiWBtDLWz17RBc1Yd4VDW7/GCC/default/2023.11.27/Ubuntu/20.04/rv32gc\\PYZus{}ilp32d.tar.xz}\\PY{l+s}{\\PYZdq{}}\n",
       "\\PY{n+nt}{flags}\\PY{p}{:}\\PY{+w}{ }\\PY{p+pIndicator}{\\PYZob{}}\\PY{p+pIndicator}{\\PYZcb{}}\n",
       "\\end{Verbatim}\n"
      ],
      "text/plain": [
       "---\n",
       "# The MLONMCU_HOME is filled in automatically when creating the environment\n",
       "home: \"{{ home_dir }}\"\n",
       "logging:\n",
       "  level: INFO\n",
       "  to_file: false\n",
       "  rotate: false\n",
       "cleanup:\n",
       "  auto: true\n",
       "  keep: 5\n",
       "# Default locations for certain directoriescan be changed here\n",
       "# Non-absolute paths will always be threated relative to the MLONMCU_HOME\n",
       "paths:\n",
       "  # Where the dependencies are downloaded and installed\n",
       "  deps: deps\n",
       "  # If logging to file is used keep logs in this directory\n",
       "  logs: logs\n",
       "  # Location where reports and artifacts are written to\n",
       "  results: results\n",
       "  # Directory where custom extensions can be integrated\n",
       "  plugins: plugins\n",
       "  # Directory for intermediate build products, should be located on a large enough drive\n",
       "  temp: temp\n",
       "  # A collection of models which will be used to look for models\n",
       "  # The paths will be checked in the order defined here stopping at the first match\n",
       "  # Non-existant paths will be skipped without throwing an error\n",
       "  models:\n",
       "    - \"{{ home_dir }}/models\"\n",
       "# Here default clone_urls\n",
       "repos:\n",
       "  tvm:\n",
       "    url: \"https://github.com/apache/tvm.git\"\n",
       "    ref: a9fcac1a47f4b57c1d9d828c7ed1d77452b02cc5\n",
       "    options:\n",
       "      recursive: true\n",
       "  etiss:\n",
       "    url: \"https://github.com/tum-ei-eda/etiss.git\"\n",
       "    ref: 40c0b920cf4072adf189211ca44291534355dcfd\n",
       "  spike:\n",
       "    url: \"https://github.com/riscv-software-src/riscv-isa-sim.git\"\n",
       "    ref: 0bc176b3fca43560b9e8586cdbc41cfde073e17a\n",
       "  spikepk:\n",
       "    url: \"https://github.com/riscv-software-src/riscv-pk.git\"\n",
       "    ref: 7e9b671c0415dfd7b562ac934feb9380075d4aa2\n",
       "  mlif:\n",
       "    url: \"https://github.com/tum-ei-eda/mlonmcu-sw.git\"\n",
       "    ref: c7b0e7364c232666ebd5a17476181e3ff9a71d70\n",
       "frameworks:\n",
       "  default: tvm\n",
       "  tvm:\n",
       "    enabled: true\n",
       "    backends:\n",
       "      default: tvmaot\n",
       "      tvmaot:\n",
       "        enabled: true\n",
       "        features: {}\n",
       "    features: {}\n",
       "frontends:\n",
       "  tflite:\n",
       "    enabled: true\n",
       "    features: []\n",
       "toolchains:\n",
       "  gcc: true\n",
       "platforms:\n",
       "  mlif:\n",
       "    enabled: true\n",
       "    features:\n",
       "      debug: true\n",
       "targets:\n",
       "  default: host_x86\n",
       "  etiss:\n",
       "    enabled: true\n",
       "    features: {}\n",
       "  spike:\n",
       "    enabled: true\n",
       "    features: {}\n",
       "  host_x86:\n",
       "    enabled: true\n",
       "    features: []\n",
       "postprocesses:\n",
       "  use: []\n",
       "vars:\n",
       "  allow_extensions: false\n",
       "  runs_per_stage: true\n",
       "  riscv_gcc.dl_url: \"https://syncandshare.lrz.de/dl/fiWBtDLWz17RBc1Yd4VDW7/GCC/default/2023.11.27/Ubuntu/20.04/rv32gc_ilp32d.tar.xz\"\n",
       "flags: {}"
      ]
     },
     "execution_count": 3,
     "metadata": {},
     "output_type": "execute_result"
    }
   ],
   "source": [
    "Code(filename=\"environment.yml.j2\")"
   ]
  },
  {
   "cell_type": "markdown",
   "id": "4d140308",
   "metadata": {
    "papermill": {
     "duration": 0.004099,
     "end_time": "2024-01-08T13:59:53.785015",
     "exception": false,
     "start_time": "2024-01-08T13:59:53.780916",
     "status": "completed"
    },
    "tags": []
   },
   "source": [
    "Do not forget to set your `MLONMCU_HOME` environment variable first if not using the default location!"
   ]
  },
  {
   "cell_type": "markdown",
   "id": "a3bac781",
   "metadata": {
    "papermill": {
     "duration": 0.003897,
     "end_time": "2024-01-08T13:59:53.792845",
     "exception": false,
     "start_time": "2024-01-08T13:59:53.788948",
     "status": "completed"
    },
    "tags": []
   },
   "source": [
    "## Usage"
   ]
  },
  {
   "cell_type": "markdown",
   "id": "1352b362",
   "metadata": {
    "papermill": {
     "duration": 0.004026,
     "end_time": "2024-01-08T13:59:53.800889",
     "exception": false,
     "start_time": "2024-01-08T13:59:53.796863",
     "status": "completed"
    },
    "tags": []
   },
   "source": [
    "If supported by the defined target, the measured MIPS (of the Simulation) is part of the report printed/returned my MLonMCU. The following shows you how to get rid of unwanted further information and how to increase the accuracy of the MIPS value."
   ]
  },
  {
   "cell_type": "markdown",
   "id": "f01b54e2",
   "metadata": {
    "papermill": {
     "duration": 0.003938,
     "end_time": "2024-01-08T13:59:53.808812",
     "exception": false,
     "start_time": "2024-01-08T13:59:53.804874",
     "status": "completed"
    },
    "tags": []
   },
   "source": [
    "### A) Command Line Interface"
   ]
  },
  {
   "cell_type": "markdown",
   "id": "2b333851",
   "metadata": {
    "papermill": {
     "duration": 0.004146,
     "end_time": "2024-01-08T13:59:53.816900",
     "exception": false,
     "start_time": "2024-01-08T13:59:53.812754",
     "status": "completed"
    },
    "tags": []
   },
   "source": [
    "Let's start with an example benchmark of two models using 2 different RISC-V simulators:"
   ]
  },
  {
   "cell_type": "code",
   "execution_count": 4,
   "id": "43576c35",
   "metadata": {
    "execution": {
     "iopub.execute_input": "2024-01-08T13:59:53.826088Z",
     "iopub.status.busy": "2024-01-08T13:59:53.825597Z",
     "iopub.status.idle": "2024-01-08T14:00:28.433150Z",
     "shell.execute_reply": "2024-01-08T14:00:28.432346Z"
    },
    "papermill": {
     "duration": 34.614526,
     "end_time": "2024-01-08T14:00:28.435431",
     "exception": false,
     "start_time": "2024-01-08T13:59:53.820905",
     "status": "completed"
    },
    "tags": []
   },
   "outputs": [
    {
     "name": "stdout",
     "output_type": "stream",
     "text": [
      "INFO - Loading environment cache from file\r\n",
      "INFO - Successfully initialized cache\r\n"
     ]
    },
    {
     "name": "stdout",
     "output_type": "stream",
     "text": [
      "INFO -  Processing stage LOAD\r\n"
     ]
    },
    {
     "name": "stdout",
     "output_type": "stream",
     "text": [
      "INFO -  Processing stage BUILD\r\n"
     ]
    },
    {
     "name": "stdout",
     "output_type": "stream",
     "text": [
      "INFO -  Processing stage COMPILE\r\n"
     ]
    },
    {
     "name": "stdout",
     "output_type": "stream",
     "text": [
      "INFO -  Processing stage RUN\r\n"
     ]
    },
    {
     "name": "stdout",
     "output_type": "stream",
     "text": [
      "INFO - All runs completed successfuly!\r\n",
      "INFO - Postprocessing session report\r\n",
      "INFO - Done processing runs\r\n"
     ]
    },
    {
     "name": "stdout",
     "output_type": "stream",
     "text": [
      "INFO - Report:\r\n",
      "   Session  Run   Model Frontend Framework Backend Platform         Target  Setup Instructions  Run Cycles  Run Instructions  Total Cycles  Total Instructions  Run CPI  Total CPI  Simulated Instructions       MIPS  Total ROM  Total RAM  ROM read-only  ROM code  ROM misc  RAM data  RAM zero-init data  Validation  Run Stage Time [s]  Compile Stage Time [s]  Workspace Size [B]  Build Stage Time [s]  Load Stage Time [s] Features                                             Config Postprocesses Comment\r\n",
      "0        0    0  resnet   tflite       tvm  tvmaot     mlif  etiss_pulpino                  64    82664613          82664613      82664876            82664876      1.0        1.0                82771100   67.84310     218420     124784         161360     56916       144      1724              123060        True            1.377578                2.013118              119120              7.236870             0.000217       []  {'resnet.output_shapes': {'Identity_int8': [1,...            []       -\r\n",
      "1        0    1  resnet   tflite       tvm  tvmaot     mlif          spike                  61    82876150          82876150      82876401            82876401      1.0        1.0                83142668  218.98686     215302     125056         161124     54162        16      1964              123092        True            0.380547                1.823094              119120              6.313924             0.000138       []  {'resnet.output_shapes': {'Identity_int8': [1,...            []       -\r\n",
      "2        0    2  toycar   tflite       tvm  tvmaot     mlif  etiss_pulpino                  63      958265            958265        958526              958526      1.0        1.0                  975087    2.66052     591776       5836         537496     54136       144      1724                4112        True            0.518677                2.282089                1968              4.318023             0.000231       []  {'toycar.output_shapes': {'Identity': [1, 640]...            []       -\r\n",
      "3        0    3  toycar   tflite       tvm  tvmaot     mlif          spike                  60     1641570           1641570       1641819             1641819      1.0        1.0                 1765193   57.07226     588880       6000         537364     51500        16      1860                4140        True            0.031427                2.068089                1968              4.317368             0.000263       []  {'toycar.output_shapes': {'Identity': [1, 640]...            []       -\r\n"
     ]
    }
   ],
   "source": [
    "!mlonmcu flow run resnet toycar --backend tvmaot --target etiss_pulpino --target spike -c run.export_optional=1"
   ]
  },
  {
   "cell_type": "markdown",
   "id": "5ccc2ec8",
   "metadata": {
    "papermill": {
     "duration": 0.004501,
     "end_time": "2024-01-08T14:00:28.447668",
     "exception": false,
     "start_time": "2024-01-08T14:00:28.443167",
     "status": "completed"
    },
    "tags": []
   },
   "source": [
    "The MIPS value can be found in the column next to the Cycles (which are in this case actually counting instructions). However there is a lot of further information we want to filter out next. This can be achieved using the `filter_cols` subprocess."
   ]
  },
  {
   "cell_type": "code",
   "execution_count": 5,
   "id": "a3f5f5de",
   "metadata": {
    "execution": {
     "iopub.execute_input": "2024-01-08T14:00:28.457718Z",
     "iopub.status.busy": "2024-01-08T14:00:28.457251Z",
     "iopub.status.idle": "2024-01-08T14:01:02.221212Z",
     "shell.execute_reply": "2024-01-08T14:01:02.220433Z"
    },
    "papermill": {
     "duration": 33.771263,
     "end_time": "2024-01-08T14:01:02.223250",
     "exception": false,
     "start_time": "2024-01-08T14:00:28.451987",
     "status": "completed"
    },
    "tags": []
   },
   "outputs": [
    {
     "name": "stdout",
     "output_type": "stream",
     "text": [
      "INFO - Loading environment cache from file\r\n",
      "INFO - Successfully initialized cache\r\n"
     ]
    },
    {
     "name": "stdout",
     "output_type": "stream",
     "text": [
      "INFO - [session-1]  Processing stage LOAD\r\n"
     ]
    },
    {
     "name": "stdout",
     "output_type": "stream",
     "text": [
      "INFO - [session-1]  Processing stage BUILD\r\n"
     ]
    },
    {
     "name": "stdout",
     "output_type": "stream",
     "text": [
      "INFO - [session-1]  Processing stage COMPILE\r\n"
     ]
    },
    {
     "name": "stdout",
     "output_type": "stream",
     "text": [
      "INFO - [session-1]  Processing stage RUN\r\n"
     ]
    },
    {
     "name": "stdout",
     "output_type": "stream",
     "text": [
      "INFO - [session-1]  Processing stage POSTPROCESS\r\n"
     ]
    },
    {
     "name": "stdout",
     "output_type": "stream",
     "text": [
      "INFO - All runs completed successfuly!\r\n"
     ]
    },
    {
     "name": "stdout",
     "output_type": "stream",
     "text": [
      "INFO - Postprocessing session report\r\n",
      "INFO - [session-1] Done processing runs\r\n",
      "INFO - Report:\r\n",
      "    Model         Target        MIPS\r\n",
      "0  resnet  etiss_pulpino   68.707200\r\n",
      "1  resnet          spike  219.317809\r\n",
      "2  toycar  etiss_pulpino    2.672520\r\n",
      "3  toycar          spike   57.684564\r\n"
     ]
    }
   ],
   "source": [
    "!mlonmcu flow run resnet toycar --backend tvmaot --target etiss_pulpino --target spike --postprocess filter_cols --config filter_cols.keep=\"Model,Target,MIPS\" -c run.export_optional=1"
   ]
  },
  {
   "cell_type": "markdown",
   "id": "069ffe6a",
   "metadata": {
    "papermill": {
     "duration": 0.004753,
     "end_time": "2024-01-08T14:01:02.233282",
     "exception": false,
     "start_time": "2024-01-08T14:01:02.228529",
     "status": "completed"
    },
    "tags": []
   },
   "source": [
    "That looks much more clean! However the numbers seem quite low, especially for the smaller `toycar` (MLPerfTiny Anomaly Detection) model. Let's see if the MIPS will increase when running more than a single inference. We are using the `benchmark` feature for this.\n",
    "\n",
    "*Hint*: Since we are now running our benchmarks 60 times more often, the following cell will likely need a few minutes to execute."
   ]
  },
  {
   "cell_type": "code",
   "execution_count": 6,
   "id": "71bc2220",
   "metadata": {
    "execution": {
     "iopub.execute_input": "2024-01-08T14:01:02.244890Z",
     "iopub.status.busy": "2024-01-08T14:01:02.244316Z",
     "iopub.status.idle": "2024-01-08T14:05:01.676095Z",
     "shell.execute_reply": "2024-01-08T14:05:01.675297Z"
    },
    "papermill": {
     "duration": 239.440083,
     "end_time": "2024-01-08T14:05:01.678096",
     "exception": false,
     "start_time": "2024-01-08T14:01:02.238013",
     "status": "completed"
    },
    "tags": []
   },
   "outputs": [
    {
     "name": "stdout",
     "output_type": "stream",
     "text": [
      "INFO - Loading environment cache from file\r\n",
      "INFO - Successfully initialized cache\r\n"
     ]
    },
    {
     "name": "stdout",
     "output_type": "stream",
     "text": [
      "INFO - [session-2]  Processing stage LOAD\r\n"
     ]
    },
    {
     "name": "stdout",
     "output_type": "stream",
     "text": [
      "INFO - [session-2]  Processing stage BUILD\r\n"
     ]
    },
    {
     "name": "stdout",
     "output_type": "stream",
     "text": [
      "INFO - [session-2]  Processing stage COMPILE\r\n"
     ]
    },
    {
     "name": "stdout",
     "output_type": "stream",
     "text": [
      "INFO - [session-2]  Processing stage RUN\r\n"
     ]
    },
    {
     "name": "stdout",
     "output_type": "stream",
     "text": [
      "INFO - [session-2]  Processing stage POSTPROCESS\r\n"
     ]
    },
    {
     "name": "stdout",
     "output_type": "stream",
     "text": [
      "INFO - All runs completed successfuly!\r\n",
      "INFO - Postprocessing session report\r\n",
      "INFO - [session-2] Done processing runs\r\n",
      "INFO - Report:\r\n",
      "     Model         Target        MIPS config_benchmark.num_runs\r\n",
      "0   resnet  etiss_pulpino   68.128400                         1\r\n",
      "1   resnet          spike  224.631530                         1\r\n",
      "2   resnet  etiss_pulpino   98.266000                        10\r\n",
      "3   resnet          spike  237.499526                        10\r\n",
      "4   resnet  etiss_pulpino  102.480000                        50\r\n",
      "5   resnet          spike  245.311197                        50\r\n",
      "6   toycar  etiss_pulpino    2.671600                         1\r\n",
      "7   toycar          spike   58.114255                         1\r\n",
      "8   toycar  etiss_pulpino   21.795800                        10\r\n",
      "9   toycar          spike  160.951989                        10\r\n",
      "10  toycar  etiss_pulpino   62.994000                        50\r\n",
      "11  toycar          spike  232.304124                        50\r\n"
     ]
    }
   ],
   "source": [
    "!mlonmcu flow run resnet toycar --backend tvmaot --target etiss_pulpino --target spike --postprocess config2cols --postprocess filter_cols --config filter_cols.keep=\"Model,Target,MIPS,config_benchmark.num_runs\" --feature benchmark --config-gen benchmark.num_runs=1 --config-gen benchmark.num_runs=10 --config-gen benchmark.num_runs=50 -c run.export_optional=1"
   ]
  },
  {
   "cell_type": "markdown",
   "id": "c9776cd6",
   "metadata": {
    "papermill": {
     "duration": 0.028408,
     "end_time": "2024-01-08T14:05:01.712103",
     "exception": false,
     "start_time": "2024-01-08T14:05:01.683695",
     "status": "completed"
    },
    "tags": []
   },
   "source": [
    "This look more promising. This experiment shows MIPS measurements might not be accurate for short-running simulations. Also spike seems to be more than twice as fast compared to ETISS."
   ]
  },
  {
   "cell_type": "markdown",
   "id": "4238333c",
   "metadata": {
    "papermill": {
     "duration": 0.005123,
     "end_time": "2024-01-08T14:05:01.722424",
     "exception": false,
     "start_time": "2024-01-08T14:05:01.717301",
     "status": "completed"
    },
    "tags": []
   },
   "source": [
    "### B) Python Scripting"
   ]
  },
  {
   "cell_type": "markdown",
   "id": "b500fc47",
   "metadata": {
    "papermill": {
     "duration": 0.005022,
     "end_time": "2024-01-08T14:05:01.732583",
     "exception": false,
     "start_time": "2024-01-08T14:05:01.727561",
     "status": "completed"
    },
    "tags": []
   },
   "source": [
    "Some imports"
   ]
  },
  {
   "cell_type": "code",
   "execution_count": 7,
   "id": "78c53970",
   "metadata": {
    "execution": {
     "iopub.execute_input": "2024-01-08T14:05:01.744684Z",
     "iopub.status.busy": "2024-01-08T14:05:01.744103Z",
     "iopub.status.idle": "2024-01-08T14:05:02.164185Z",
     "shell.execute_reply": "2024-01-08T14:05:02.163501Z"
    },
    "papermill": {
     "duration": 0.428299,
     "end_time": "2024-01-08T14:05:02.165963",
     "exception": false,
     "start_time": "2024-01-08T14:05:01.737664",
     "status": "completed"
    },
    "tags": []
   },
   "outputs": [],
   "source": [
    "from tempfile import TemporaryDirectory\n",
    "from pathlib import Path\n",
    "import pandas as pd\n",
    "\n",
    "from mlonmcu.context.context import MlonMcuContext\n",
    "from mlonmcu.session.run import RunStage"
   ]
  },
  {
   "cell_type": "markdown",
   "id": "86046913",
   "metadata": {
    "papermill": {
     "duration": 0.005167,
     "end_time": "2024-01-08T14:05:02.176672",
     "exception": false,
     "start_time": "2024-01-08T14:05:02.171505",
     "status": "completed"
    },
    "tags": []
   },
   "source": [
    "Benchmark Configuration"
   ]
  },
  {
   "cell_type": "code",
   "execution_count": 8,
   "id": "2f6c5e5a",
   "metadata": {
    "execution": {
     "iopub.execute_input": "2024-01-08T14:05:02.188364Z",
     "iopub.status.busy": "2024-01-08T14:05:02.187840Z",
     "iopub.status.idle": "2024-01-08T14:05:02.192106Z",
     "shell.execute_reply": "2024-01-08T14:05:02.191486Z"
    },
    "papermill": {
     "duration": 0.01167,
     "end_time": "2024-01-08T14:05:02.193452",
     "exception": false,
     "start_time": "2024-01-08T14:05:02.181782",
     "status": "completed"
    },
    "tags": []
   },
   "outputs": [],
   "source": [
    "FRONTEND = \"tflite\"\n",
    "MODELS = [\"resnet\", \"toycar\"]\n",
    "BACKEND = \"tvmaot\"\n",
    "PLATFORM = \"mlif\"\n",
    "TARGETS = [\"etiss_pulpino\", \"spike\"]\n",
    "POSTPROCESSES = [\"config2cols\", \"filter_cols\"]\n",
    "FEATURES = [\"benchmark\"]\n",
    "CONFIG = {\"filter_cols.keep\": [\"Model\", \"Target\", \"MIPS\", \"config_benchmark.num_runs\"], \"run.export_optional\": True}"
   ]
  },
  {
   "cell_type": "markdown",
   "id": "966cc3fe",
   "metadata": {
    "papermill": {
     "duration": 0.005197,
     "end_time": "2024-01-08T14:05:02.203793",
     "exception": false,
     "start_time": "2024-01-08T14:05:02.198596",
     "status": "completed"
    },
    "tags": []
   },
   "source": [
    "Initialize and run a single benchmark"
   ]
  },
  {
   "cell_type": "code",
   "execution_count": 9,
   "id": "ebe63369",
   "metadata": {
    "execution": {
     "iopub.execute_input": "2024-01-08T14:05:02.215337Z",
     "iopub.status.busy": "2024-01-08T14:05:02.214883Z",
     "iopub.status.idle": "2024-01-08T14:06:33.590803Z",
     "shell.execute_reply": "2024-01-08T14:06:33.589898Z"
    },
    "papermill": {
     "duration": 91.383475,
     "end_time": "2024-01-08T14:06:33.592418",
     "exception": false,
     "start_time": "2024-01-08T14:05:02.208943",
     "status": "completed"
    },
    "tags": []
   },
   "outputs": [
    {
     "name": "stdout",
     "output_type": "stream",
     "text": [
      "INFO - Loading environment cache from file\n"
     ]
    },
    {
     "name": "stdout",
     "output_type": "stream",
     "text": [
      "INFO - Successfully initialized cache\n"
     ]
    },
    {
     "name": "stdout",
     "output_type": "stream",
     "text": [
      "INFO - [session-3] Processing all stages\n"
     ]
    },
    {
     "name": "stdout",
     "output_type": "stream",
     "text": [
      "INFO - All runs completed successfuly!\n"
     ]
    },
    {
     "name": "stdout",
     "output_type": "stream",
     "text": [
      "INFO - Postprocessing session report\n"
     ]
    },
    {
     "name": "stdout",
     "output_type": "stream",
     "text": [
      "INFO - [session-3] Done processing runs\n"
     ]
    },
    {
     "data": {
      "text/html": [
       "<div>\n",
       "<style scoped>\n",
       "    .dataframe tbody tr th:only-of-type {\n",
       "        vertical-align: middle;\n",
       "    }\n",
       "\n",
       "    .dataframe tbody tr th {\n",
       "        vertical-align: top;\n",
       "    }\n",
       "\n",
       "    .dataframe thead th {\n",
       "        text-align: right;\n",
       "    }\n",
       "</style>\n",
       "<table border=\"1\" class=\"dataframe\">\n",
       "  <thead>\n",
       "    <tr style=\"text-align: right;\">\n",
       "      <th></th>\n",
       "      <th>Model</th>\n",
       "      <th>Target</th>\n",
       "      <th>MIPS</th>\n",
       "      <th>config_benchmark.num_runs</th>\n",
       "    </tr>\n",
       "  </thead>\n",
       "  <tbody>\n",
       "    <tr>\n",
       "      <th>0</th>\n",
       "      <td>resnet</td>\n",
       "      <td>etiss_pulpino</td>\n",
       "      <td>67.739500</td>\n",
       "      <td>1</td>\n",
       "    </tr>\n",
       "    <tr>\n",
       "      <th>1</th>\n",
       "      <td>resnet</td>\n",
       "      <td>etiss_pulpino</td>\n",
       "      <td>99.314400</td>\n",
       "      <td>10</td>\n",
       "    </tr>\n",
       "    <tr>\n",
       "      <th>2</th>\n",
       "      <td>resnet</td>\n",
       "      <td>spike</td>\n",
       "      <td>220.437571</td>\n",
       "      <td>1</td>\n",
       "    </tr>\n",
       "    <tr>\n",
       "      <th>3</th>\n",
       "      <td>resnet</td>\n",
       "      <td>spike</td>\n",
       "      <td>236.439891</td>\n",
       "      <td>10</td>\n",
       "    </tr>\n",
       "    <tr>\n",
       "      <th>4</th>\n",
       "      <td>toycar</td>\n",
       "      <td>etiss_pulpino</td>\n",
       "      <td>2.648280</td>\n",
       "      <td>1</td>\n",
       "    </tr>\n",
       "    <tr>\n",
       "      <th>5</th>\n",
       "      <td>toycar</td>\n",
       "      <td>etiss_pulpino</td>\n",
       "      <td>21.716100</td>\n",
       "      <td>10</td>\n",
       "    </tr>\n",
       "    <tr>\n",
       "      <th>6</th>\n",
       "      <td>toycar</td>\n",
       "      <td>spike</td>\n",
       "      <td>54.257858</td>\n",
       "      <td>1</td>\n",
       "    </tr>\n",
       "    <tr>\n",
       "      <th>7</th>\n",
       "      <td>toycar</td>\n",
       "      <td>spike</td>\n",
       "      <td>154.996317</td>\n",
       "      <td>10</td>\n",
       "    </tr>\n",
       "  </tbody>\n",
       "</table>\n",
       "</div>"
      ],
      "text/plain": [
       "    Model         Target        MIPS  config_benchmark.num_runs\n",
       "0  resnet  etiss_pulpino   67.739500                          1\n",
       "1  resnet  etiss_pulpino   99.314400                         10\n",
       "2  resnet          spike  220.437571                          1\n",
       "3  resnet          spike  236.439891                         10\n",
       "4  toycar  etiss_pulpino    2.648280                          1\n",
       "5  toycar  etiss_pulpino   21.716100                         10\n",
       "6  toycar          spike   54.257858                          1\n",
       "7  toycar          spike  154.996317                         10"
      ]
     },
     "execution_count": 9,
     "metadata": {},
     "output_type": "execute_result"
    }
   ],
   "source": [
    "with MlonMcuContext() as context:\n",
    "    with context.create_session() as session:\n",
    "        for model in MODELS:\n",
    "            for target in TARGETS:\n",
    "\n",
    "                def helper(session, num=0):\n",
    "                    cfg = CONFIG.copy()\n",
    "                    cfg[\"benchmark.num_runs\"] = num\n",
    "                    run = session.create_run(config=cfg)\n",
    "                    run.add_frontend_by_name(FRONTEND, context=context)\n",
    "                    run.add_features_by_name(FEATURES, context=context)\n",
    "                    run.add_model_by_name(model, context=context)\n",
    "                    run.add_backend_by_name(BACKEND, context=context)\n",
    "                    run.add_platform_by_name(PLATFORM, context=context)\n",
    "                    run.add_target_by_name(target, context=context)\n",
    "                    run.add_postprocesses_by_name(POSTPROCESSES)\n",
    "\n",
    "                for num in [1, 10]:  # Removed 50 to cut down runtime\n",
    "                    helper(session, num)\n",
    "        session.process_runs(context=context)\n",
    "        report = session.get_reports()\n",
    "assert not session.failing\n",
    "report.df"
   ]
  }
 ],
 "metadata": {
  "kernelspec": {
   "display_name": "Python 3 (ipykernel)",
   "language": "python",
   "name": "python3"
  },
  "language_info": {
   "codemirror_mode": {
    "name": "ipython",
    "version": 3
   },
   "file_extension": ".py",
   "mimetype": "text/x-python",
   "name": "python",
   "nbconvert_exporter": "python",
   "pygments_lexer": "ipython3",
   "version": "3.8.18"
  },
  "papermill": {
   "default_parameters": {},
   "duration": 401.238328,
   "end_time": "2024-01-08T14:06:33.919564",
   "environment_variables": {},
   "exception": null,
   "input_path": "/home/runner/work/mlonmcu/mlonmcu/ipynb/Examples/CompareMIPS/CompareMIPS.ipynb",
   "output_path": "/home/runner/work/mlonmcu/mlonmcu/ipynb/Examples/CompareMIPS/CompareMIPS.ipynb",
   "parameters": {},
   "start_time": "2024-01-08T13:59:52.681236",
   "version": "2.5.0"
  }
 },
 "nbformat": 4,
 "nbformat_minor": 5
}