{
 "cells": [
  {
   "cell_type": "markdown",
   "id": "67a623c3",
   "metadata": {
    "papermill": {
     "duration": 0.004196,
     "end_time": "2024-01-08T12:18:05.810724",
     "exception": false,
     "start_time": "2024-01-08T12:18:05.806528",
     "status": "completed"
    },
    "tags": []
   },
   "source": [
    "# Example: Memory Tracing for detailed dyn. Memory Estimations using ETISS"
   ]
  },
  {
   "cell_type": "markdown",
   "id": "1025ee11",
   "metadata": {
    "papermill": {
     "duration": 0.002995,
     "end_time": "2024-01-08T12:18:05.816981",
     "exception": false,
     "start_time": "2024-01-08T12:18:05.813986",
     "status": "completed"
    },
    "tags": []
   },
   "source": [
    "When measuring RAM usage of a program we can differentiate between two different classes:\n",
    "- Static RAM usage (known after compilation/linking)\n",
    "- Dynamic RAM usage (e.g. max. Heap/Stack utilization)\n",
    "\n",
    "In the following an example is shown on how to use the `trace` feature of the `etiss_pulpino` target to measure the dynamic RAM usage in addition to the static usage for a simple benchmark."
   ]
  },
  {
   "cell_type": "markdown",
   "id": "87fd1387",
   "metadata": {
    "papermill": {
     "duration": 0.002897,
     "end_time": "2024-01-08T12:18:05.822920",
     "exception": false,
     "start_time": "2024-01-08T12:18:05.820023",
     "status": "completed"
    },
    "tags": []
   },
   "source": [
    "## Supported components"
   ]
  },
  {
   "cell_type": "markdown",
   "id": "584a911d",
   "metadata": {
    "papermill": {
     "duration": 0.00296,
     "end_time": "2024-01-08T12:18:05.828842",
     "exception": false,
     "start_time": "2024-01-08T12:18:05.825882",
     "status": "completed"
    },
    "tags": []
   },
   "source": [
    "**Models:** Any (`sine_model` used below)\n",
    "\n",
    "**Frontends:** Any (`tflite` used below)\n",
    "\n",
    "**Frameworks/Backends:** Any (`tvmaotplus` and `tvmrt` used below)\n",
    "\n",
    "**Platforms/Targets:** `etiss_pulpino` only (`spike`, `ovpsim`, `gvsoc` will be added later)\n",
    "\n",
    "**Features:** `trace` feature needs to be enabled"
   ]
  },
  {
   "cell_type": "markdown",
   "id": "74ce776e",
   "metadata": {
    "papermill": {
     "duration": 0.002887,
     "end_time": "2024-01-08T12:18:05.834686",
     "exception": false,
     "start_time": "2024-01-08T12:18:05.831799",
     "status": "completed"
    },
    "tags": []
   },
   "source": [
    "## Prerequisites"
   ]
  },
  {
   "cell_type": "markdown",
   "id": "18955525",
   "metadata": {
    "papermill": {
     "duration": 0.002942,
     "end_time": "2024-01-08T12:18:05.841476",
     "exception": false,
     "start_time": "2024-01-08T12:18:05.838534",
     "status": "completed"
    },
    "tags": []
   },
   "source": [
    "Set up MLonmCU as usual, i.e. initialize an environment and install all required dependencies. Feel free to use the following minimal `environment.yml.j2` template:"
   ]
  },
  {
   "cell_type": "markdown",
   "id": "51eb8539",
   "metadata": {
    "papermill": {
     "duration": 0.002948,
     "end_time": "2024-01-08T12:18:05.847386",
     "exception": false,
     "start_time": "2024-01-08T12:18:05.844438",
     "status": "completed"
    },
    "tags": []
   },
   "source": [
    "```yaml\n",
    "---\n",
    "home: \"{{ home_dir }}\"\n",
    "logging:\n",
    "  level: DEBUG\n",
    "  to_file: false\n",
    "  rotate: false\n",
    "cleanup:\n",
    "  auto: true\n",
    "  keep: 10\n",
    "paths:\n",
    "  deps: deps\n",
    "  logs: logs\n",
    "  results: results\n",
    "  plugins: plugins\n",
    "  temp: temp\n",
    "  models:\n",
    "    - \"{{ home_dir }}/models\"\n",
    "    - \"{{ config_dir }}/models\"\n",
    "repos:\n",
    "  tvm:\n",
    "    url: \"https://github.com/apache/tvm.git\"\n",
    "    ref: de6d8067754d746d88262c530b5241b5577b9aae\n",
    "  etiss:\n",
    "    url: \"https://github.com/tum-ei-eda/etiss.git\"\n",
    "    ref: 4d2d26fb1fdb17e1da3a397c35d6f8877bf3ceab\n",
    "  mlif:\n",
    "    url: \"https://github.com/tum-ei-eda/mlonmcu-sw.git\"\n",
    "    ref: 4b9a32659f7c5340e8de26a0b8c4135ca67d64ac\n",
    "frameworks:\n",
    "  default: tvm\n",
    "  tvm:\n",
    "    enabled: true\n",
    "    backends:\n",
    "      default: tvmaotplus\n",
    "      tvmaotplus:\n",
    "        enabled: true\n",
    "        features: []\n",
    "      tvmrt:\n",
    "        enabled: true\n",
    "        features: []\n",
    "    features: []\n",
    "frontends:\n",
    "  tflite:\n",
    "    enabled: true\n",
    "    features: []\n",
    "toolchains:\n",
    "  gcc: true\n",
    "platforms:\n",
    "  mlif:\n",
    "    enabled: true\n",
    "    features: []\n",
    "targets:\n",
    "  default: etiss_pulpino\n",
    "  etiss_pulpino:\n",
    "    enabled: true\n",
    "    features:\n",
    "      trace: true\n",
    "```"
   ]
  },
  {
   "cell_type": "markdown",
   "id": "4d140308",
   "metadata": {
    "papermill": {
     "duration": 0.00292,
     "end_time": "2024-01-08T12:18:05.853219",
     "exception": false,
     "start_time": "2024-01-08T12:18:05.850299",
     "status": "completed"
    },
    "tags": []
   },
   "source": [
    "Do not forget to set your `MLONMCU_HOME` environment variable first if not using the default location!"
   ]
  },
  {
   "cell_type": "markdown",
   "id": "a3bac781",
   "metadata": {
    "papermill": {
     "duration": 0.002919,
     "end_time": "2024-01-08T12:18:05.859136",
     "exception": false,
     "start_time": "2024-01-08T12:18:05.856217",
     "status": "completed"
    },
    "tags": []
   },
   "source": [
    "## Usage"
   ]
  },
  {
   "cell_type": "markdown",
   "id": "1352b362",
   "metadata": {
    "papermill": {
     "duration": 0.003026,
     "end_time": "2024-01-08T12:18:05.865077",
     "exception": false,
     "start_time": "2024-01-08T12:18:05.862051",
     "status": "completed"
    },
    "tags": []
   },
   "source": [
    "*Warning:* Since memory tracing involves writing a log of every single memory access to disk, this might drastically slow down the execution time as well as write a lot of data to your disk. (For larger models this might exceed 10GB per inference!)"
   ]
  },
  {
   "cell_type": "markdown",
   "id": "f01b54e2",
   "metadata": {
    "papermill": {
     "duration": 0.00296,
     "end_time": "2024-01-08T12:18:05.871078",
     "exception": false,
     "start_time": "2024-01-08T12:18:05.868118",
     "status": "completed"
    },
    "tags": []
   },
   "source": [
    "### A) Command Line Interface"
   ]
  },
  {
   "cell_type": "markdown",
   "id": "2b333851",
   "metadata": {
    "papermill": {
     "duration": 0.003023,
     "end_time": "2024-01-08T12:18:05.877087",
     "exception": false,
     "start_time": "2024-01-08T12:18:05.874064",
     "status": "completed"
    },
    "tags": []
   },
   "source": [
    "As an example, let's compare `tvmaotplus` (MicroTVM lightweight Ahead-of-Time runtime) with `tvmrt` (MicroTVMs legacy graph runtime).\n",
    "\n",
    "To use the `trace` feature, just add `--feature trace` to the command line:"
   ]
  },
  {
   "cell_type": "code",
   "execution_count": 1,
   "id": "43576c35",
   "metadata": {
    "execution": {
     "iopub.execute_input": "2024-01-08T12:18:05.884790Z",
     "iopub.status.busy": "2024-01-08T12:18:05.884272Z",
     "iopub.status.idle": "2024-01-08T12:18:15.790829Z",
     "shell.execute_reply": "2024-01-08T12:18:15.789906Z"
    },
    "papermill": {
     "duration": 9.913208,
     "end_time": "2024-01-08T12:18:15.793284",
     "exception": false,
     "start_time": "2024-01-08T12:18:05.880076",
     "status": "completed"
    },
    "tags": []
   },
   "outputs": [
    {
     "name": "stdout",
     "output_type": "stream",
     "text": [
      "INFO - Loading environment cache from file\r\n",
      "INFO - Successfully initialized cache\r\n"
     ]
    },
    {
     "name": "stdout",
     "output_type": "stream",
     "text": [
      "INFO -  Processing stage LOAD\r\n",
      "INFO -  Processing stage BUILD\r\n"
     ]
    },
    {
     "name": "stdout",
     "output_type": "stream",
     "text": [
      "INFO -  Processing stage COMPILE\r\n"
     ]
    },
    {
     "name": "stdout",
     "output_type": "stream",
     "text": [
      "INFO -  Processing stage RUN\r\n"
     ]
    },
    {
     "name": "stdout",
     "output_type": "stream",
     "text": [
      "INFO - All runs completed successfuly!\r\n",
      "INFO - Postprocessing session report\r\n",
      "INFO - Done processing runs\r\n",
      "INFO - Report:\r\n",
      "   Session  Run       Model Frontend Framework     Backend Platform         Target  Total Cycles  Total Instructions  Total CPI  Total ROM  Total RAM  ROM read-only  ROM code  ROM misc  RAM data  RAM zero-init data  RAM stack  RAM heap  Validation Features                                             Config Postprocesses Comment\r\n",
      "0        0    0  sine_model   tflite       tvm  tvmaotplus     mlif  etiss_pulpino          1878                1878        1.0      46614       4480           3528     42942       144      1732                1004        704      1040        True  [trace]  {'sine_model.output_shapes': {'Identity': [1, ...            []       -\r\n",
      "1        0    1  sine_model   tflite       tvm       tvmrt     mlif  etiss_pulpino        327187              327187        1.0      81626     141340          12200     69282       144      1732              133012       5556      1040        True  [trace]  {'sine_model.output_shapes': {'Identity': [1, ...            []       -\r\n"
     ]
    }
   ],
   "source": [
    "!mlonmcu flow run sine_model --backend tvmaotplus --backend tvmrt --target etiss_pulpino --feature trace"
   ]
  },
  {
   "cell_type": "markdown",
   "id": "5ccc2ec8",
   "metadata": {
    "papermill": {
     "duration": 0.00334,
     "end_time": "2024-01-08T12:18:15.800508",
     "exception": false,
     "start_time": "2024-01-08T12:18:15.797168",
     "status": "completed"
    },
    "tags": []
   },
   "source": [
    "By using the `filter_cols` postprocess we can strip away all unneeded information from the benchmark report to make it a bit more reabile:"
   ]
  },
  {
   "cell_type": "code",
   "execution_count": 2,
   "id": "53c89e22",
   "metadata": {
    "execution": {
     "iopub.execute_input": "2024-01-08T12:18:15.808464Z",
     "iopub.status.busy": "2024-01-08T12:18:15.808171Z",
     "iopub.status.idle": "2024-01-08T12:18:24.855572Z",
     "shell.execute_reply": "2024-01-08T12:18:24.854733Z"
    },
    "papermill": {
     "duration": 9.05385,
     "end_time": "2024-01-08T12:18:24.857649",
     "exception": false,
     "start_time": "2024-01-08T12:18:15.803799",
     "status": "completed"
    },
    "tags": []
   },
   "outputs": [
    {
     "name": "stdout",
     "output_type": "stream",
     "text": [
      "INFO - Loading environment cache from file\r\n",
      "INFO - Successfully initialized cache\r\n"
     ]
    },
    {
     "name": "stdout",
     "output_type": "stream",
     "text": [
      "INFO - [session-1]  Processing stage LOAD\r\n",
      "INFO - [session-1]  Processing stage BUILD\r\n"
     ]
    },
    {
     "name": "stdout",
     "output_type": "stream",
     "text": [
      "INFO - [session-1]  Processing stage COMPILE\r\n"
     ]
    },
    {
     "name": "stdout",
     "output_type": "stream",
     "text": [
      "INFO - [session-1]  Processing stage RUN\r\n"
     ]
    },
    {
     "name": "stdout",
     "output_type": "stream",
     "text": [
      "INFO - [session-1]  Processing stage POSTPROCESS\r\n"
     ]
    },
    {
     "name": "stdout",
     "output_type": "stream",
     "text": [
      "INFO - All runs completed successfuly!\r\n",
      "INFO - Postprocessing session report\r\n"
     ]
    },
    {
     "name": "stdout",
     "output_type": "stream",
     "text": [
      "INFO - [session-1] Done processing runs\r\n",
      "INFO - Report:\r\n",
      "      Backend  Total RAM  RAM data  RAM zero-init data  RAM stack  RAM heap\r\n",
      "0  tvmaotplus       4480      1732                1004        704      1040\r\n",
      "1       tvmrt     141340      1732              133012       5556      1040\r\n"
     ]
    }
   ],
   "source": [
    "!mlonmcu flow run sine_model --backend tvmaotplus --backend tvmrt --target etiss_pulpino --feature trace \\\n",
    "    --postprocess filter_cols --config filter_cols.keep=\"Backend,Total RAM,RAM data,RAM zero-init data,RAM stack,RAM heap\""
   ]
  },
  {
   "cell_type": "markdown",
   "id": "c9776cd6",
   "metadata": {
    "papermill": {
     "duration": 0.003633,
     "end_time": "2024-01-08T12:18:24.865494",
     "exception": false,
     "start_time": "2024-01-08T12:18:24.861861",
     "status": "completed"
    },
    "tags": []
   },
   "source": [
    "It can be seen, that for this simple benchmark, the `tvmrt` backend uses approx. 8 times more stack than `tvmaotplus`. However this is probably neglectible compared to the total RAM usage in this scenario."
   ]
  },
  {
   "cell_type": "markdown",
   "id": "4238333c",
   "metadata": {
    "papermill": {
     "duration": 0.003515,
     "end_time": "2024-01-08T12:18:24.872659",
     "exception": false,
     "start_time": "2024-01-08T12:18:24.869144",
     "status": "completed"
    },
    "tags": []
   },
   "source": [
    "### B) Python Scripting"
   ]
  },
  {
   "cell_type": "markdown",
   "id": "b500fc47",
   "metadata": {
    "papermill": {
     "duration": 0.003618,
     "end_time": "2024-01-08T12:18:24.879898",
     "exception": false,
     "start_time": "2024-01-08T12:18:24.876280",
     "status": "completed"
    },
    "tags": []
   },
   "source": [
    "Some Imports"
   ]
  },
  {
   "cell_type": "code",
   "execution_count": 3,
   "id": "78c53970",
   "metadata": {
    "execution": {
     "iopub.execute_input": "2024-01-08T12:18:24.888466Z",
     "iopub.status.busy": "2024-01-08T12:18:24.887976Z",
     "iopub.status.idle": "2024-01-08T12:18:25.300696Z",
     "shell.execute_reply": "2024-01-08T12:18:25.299959Z"
    },
    "papermill": {
     "duration": 0.419158,
     "end_time": "2024-01-08T12:18:25.302603",
     "exception": false,
     "start_time": "2024-01-08T12:18:24.883445",
     "status": "completed"
    },
    "tags": []
   },
   "outputs": [],
   "source": [
    "from tempfile import TemporaryDirectory\n",
    "from pathlib import Path\n",
    "import pandas as pd\n",
    "\n",
    "from mlonmcu.context.context import MlonMcuContext\n",
    "from mlonmcu.session.run import RunStage"
   ]
  },
  {
   "cell_type": "markdown",
   "id": "86046913",
   "metadata": {
    "papermill": {
     "duration": 0.00359,
     "end_time": "2024-01-08T12:18:25.310186",
     "exception": false,
     "start_time": "2024-01-08T12:18:25.306596",
     "status": "completed"
    },
    "tags": []
   },
   "source": [
    "Benchmark Configuration"
   ]
  },
  {
   "cell_type": "code",
   "execution_count": 4,
   "id": "2f6c5e5a",
   "metadata": {
    "execution": {
     "iopub.execute_input": "2024-01-08T12:18:25.318974Z",
     "iopub.status.busy": "2024-01-08T12:18:25.318427Z",
     "iopub.status.idle": "2024-01-08T12:18:25.322525Z",
     "shell.execute_reply": "2024-01-08T12:18:25.321906Z"
    },
    "papermill": {
     "duration": 0.01009,
     "end_time": "2024-01-08T12:18:25.323937",
     "exception": false,
     "start_time": "2024-01-08T12:18:25.313847",
     "status": "completed"
    },
    "tags": []
   },
   "outputs": [],
   "source": [
    "FRONTEND = \"tflite\"\n",
    "MODEL = \"sine_model\"\n",
    "BACKENDS = [\"tvmaotplus\", \"tvmrt\"]\n",
    "PLATFORM = \"mlif\"\n",
    "TARGET = \"etiss_pulpino\"\n",
    "FEATURES = [\"trace\"]\n",
    "CONFIG = {}\n",
    "POSTPROCESSES = []"
   ]
  },
  {
   "cell_type": "markdown",
   "id": "966cc3fe",
   "metadata": {
    "papermill": {
     "duration": 0.003529,
     "end_time": "2024-01-08T12:18:25.331054",
     "exception": false,
     "start_time": "2024-01-08T12:18:25.327525",
     "status": "completed"
    },
    "tags": []
   },
   "source": [
    "Initialize and run a single benchmark"
   ]
  },
  {
   "cell_type": "code",
   "execution_count": 5,
   "id": "ebe63369",
   "metadata": {
    "execution": {
     "iopub.execute_input": "2024-01-08T12:18:25.340342Z",
     "iopub.status.busy": "2024-01-08T12:18:25.339860Z",
     "iopub.status.idle": "2024-01-08T12:18:33.261461Z",
     "shell.execute_reply": "2024-01-08T12:18:33.260734Z"
    },
    "papermill": {
     "duration": 7.927724,
     "end_time": "2024-01-08T12:18:33.262970",
     "exception": false,
     "start_time": "2024-01-08T12:18:25.335246",
     "status": "completed"
    },
    "tags": []
   },
   "outputs": [
    {
     "name": "stdout",
     "output_type": "stream",
     "text": [
      "INFO - Loading environment cache from file\n"
     ]
    },
    {
     "name": "stdout",
     "output_type": "stream",
     "text": [
      "INFO - Successfully initialized cache\n"
     ]
    },
    {
     "name": "stdout",
     "output_type": "stream",
     "text": [
      "INFO - [session-2] Processing all stages\n"
     ]
    },
    {
     "name": "stdout",
     "output_type": "stream",
     "text": [
      "INFO - All runs completed successfuly!\n"
     ]
    },
    {
     "name": "stdout",
     "output_type": "stream",
     "text": [
      "INFO - Postprocessing session report\n"
     ]
    },
    {
     "name": "stdout",
     "output_type": "stream",
     "text": [
      "INFO - [session-2] Done processing runs\n"
     ]
    },
    {
     "data": {
      "text/html": [
       "<div>\n",
       "<style scoped>\n",
       "    .dataframe tbody tr th:only-of-type {\n",
       "        vertical-align: middle;\n",
       "    }\n",
       "\n",
       "    .dataframe tbody tr th {\n",
       "        vertical-align: top;\n",
       "    }\n",
       "\n",
       "    .dataframe thead th {\n",
       "        text-align: right;\n",
       "    }\n",
       "</style>\n",
       "<table border=\"1\" class=\"dataframe\">\n",
       "  <thead>\n",
       "    <tr style=\"text-align: right;\">\n",
       "      <th></th>\n",
       "      <th>Session</th>\n",
       "      <th>Run</th>\n",
       "      <th>Model</th>\n",
       "      <th>Frontend</th>\n",
       "      <th>Framework</th>\n",
       "      <th>Backend</th>\n",
       "      <th>Platform</th>\n",
       "      <th>Target</th>\n",
       "      <th>Total Cycles</th>\n",
       "      <th>Total Instructions</th>\n",
       "      <th>Total CPI</th>\n",
       "      <th>Total ROM</th>\n",
       "      <th>Total RAM</th>\n",
       "      <th>ROM read-only</th>\n",
       "      <th>ROM code</th>\n",
       "      <th>ROM misc</th>\n",
       "      <th>RAM data</th>\n",
       "      <th>RAM zero-init data</th>\n",
       "      <th>RAM stack</th>\n",
       "      <th>RAM heap</th>\n",
       "      <th>Validation</th>\n",
       "      <th>Features</th>\n",
       "      <th>Config</th>\n",
       "      <th>Postprocesses</th>\n",
       "      <th>Comment</th>\n",
       "    </tr>\n",
       "  </thead>\n",
       "  <tbody>\n",
       "    <tr>\n",
       "      <th>0</th>\n",
       "      <td>2</td>\n",
       "      <td>0</td>\n",
       "      <td>sine_model</td>\n",
       "      <td>tflite</td>\n",
       "      <td>tvm</td>\n",
       "      <td>tvmaotplus</td>\n",
       "      <td>mlif</td>\n",
       "      <td>etiss_pulpino</td>\n",
       "      <td>1878</td>\n",
       "      <td>1878</td>\n",
       "      <td>1.0</td>\n",
       "      <td>46614</td>\n",
       "      <td>4480</td>\n",
       "      <td>3528</td>\n",
       "      <td>42942</td>\n",
       "      <td>144</td>\n",
       "      <td>1732</td>\n",
       "      <td>1004</td>\n",
       "      <td>704</td>\n",
       "      <td>1040</td>\n",
       "      <td>True</td>\n",
       "      <td>[trace]</td>\n",
       "      <td>{'sine_model.output_shapes': {'Identity': [1, ...</td>\n",
       "      <td>[]</td>\n",
       "      <td>-</td>\n",
       "    </tr>\n",
       "    <tr>\n",
       "      <th>1</th>\n",
       "      <td>2</td>\n",
       "      <td>1</td>\n",
       "      <td>sine_model</td>\n",
       "      <td>tflite</td>\n",
       "      <td>tvm</td>\n",
       "      <td>tvmrt</td>\n",
       "      <td>mlif</td>\n",
       "      <td>etiss_pulpino</td>\n",
       "      <td>327187</td>\n",
       "      <td>327187</td>\n",
       "      <td>1.0</td>\n",
       "      <td>81626</td>\n",
       "      <td>141340</td>\n",
       "      <td>12200</td>\n",
       "      <td>69282</td>\n",
       "      <td>144</td>\n",
       "      <td>1732</td>\n",
       "      <td>133012</td>\n",
       "      <td>5556</td>\n",
       "      <td>1040</td>\n",
       "      <td>True</td>\n",
       "      <td>[trace]</td>\n",
       "      <td>{'sine_model.output_shapes': {'Identity': [1, ...</td>\n",
       "      <td>[]</td>\n",
       "      <td>-</td>\n",
       "    </tr>\n",
       "  </tbody>\n",
       "</table>\n",
       "</div>"
      ],
      "text/plain": [
       "   Session  Run       Model Frontend Framework     Backend Platform  \\\n",
       "0        2    0  sine_model   tflite       tvm  tvmaotplus     mlif   \n",
       "1        2    1  sine_model   tflite       tvm       tvmrt     mlif   \n",
       "\n",
       "          Target  Total Cycles  Total Instructions  Total CPI  Total ROM  \\\n",
       "0  etiss_pulpino          1878                1878        1.0      46614   \n",
       "1  etiss_pulpino        327187              327187        1.0      81626   \n",
       "\n",
       "   Total RAM  ROM read-only  ROM code  ROM misc  RAM data  RAM zero-init data  \\\n",
       "0       4480           3528     42942       144      1732                1004   \n",
       "1     141340          12200     69282       144      1732              133012   \n",
       "\n",
       "   RAM stack  RAM heap  Validation Features  \\\n",
       "0        704      1040        True  [trace]   \n",
       "1       5556      1040        True  [trace]   \n",
       "\n",
       "                                              Config Postprocesses Comment  \n",
       "0  {'sine_model.output_shapes': {'Identity': [1, ...            []       -  \n",
       "1  {'sine_model.output_shapes': {'Identity': [1, ...            []       -  "
      ]
     },
     "execution_count": 5,
     "metadata": {},
     "output_type": "execute_result"
    }
   ],
   "source": [
    "with MlonMcuContext() as context:\n",
    "    with context.create_session() as session:\n",
    "        for backend in BACKENDS:\n",
    "            run = session.create_run(config=CONFIG)\n",
    "            run.add_features_by_name(FEATURES, context=context)\n",
    "            run.add_frontend_by_name(FRONTEND, context=context)\n",
    "            run.add_model_by_name(MODEL, context=context)\n",
    "            run.add_backend_by_name(backend, context=context)\n",
    "            run.add_platform_by_name(PLATFORM, context=context)\n",
    "            run.add_target_by_name(TARGET, context=context)\n",
    "            run.add_postprocesses_by_name(POSTPROCESSES)\n",
    "        session.process_runs(context=context)\n",
    "        report = session.get_reports()\n",
    "assert not session.failing\n",
    "report.df"
   ]
  },
  {
   "cell_type": "markdown",
   "id": "9f1520a3",
   "metadata": {
    "papermill": {
     "duration": 0.004049,
     "end_time": "2024-01-08T12:18:33.271498",
     "exception": false,
     "start_time": "2024-01-08T12:18:33.267449",
     "status": "completed"
    },
    "tags": []
   },
   "source": [
    "Filter out irrelevant data (using pandas here instead of MLonMCU postprocesses)"
   ]
  },
  {
   "cell_type": "code",
   "execution_count": 6,
   "id": "219d3f49",
   "metadata": {
    "execution": {
     "iopub.execute_input": "2024-01-08T12:18:33.281011Z",
     "iopub.status.busy": "2024-01-08T12:18:33.280544Z",
     "iopub.status.idle": "2024-01-08T12:18:33.289604Z",
     "shell.execute_reply": "2024-01-08T12:18:33.288893Z"
    },
    "papermill": {
     "duration": 0.015557,
     "end_time": "2024-01-08T12:18:33.291059",
     "exception": false,
     "start_time": "2024-01-08T12:18:33.275502",
     "status": "completed"
    },
    "tags": []
   },
   "outputs": [
    {
     "data": {
      "text/html": [
       "<div>\n",
       "<style scoped>\n",
       "    .dataframe tbody tr th:only-of-type {\n",
       "        vertical-align: middle;\n",
       "    }\n",
       "\n",
       "    .dataframe tbody tr th {\n",
       "        vertical-align: top;\n",
       "    }\n",
       "\n",
       "    .dataframe thead th {\n",
       "        text-align: right;\n",
       "    }\n",
       "</style>\n",
       "<table border=\"1\" class=\"dataframe\">\n",
       "  <thead>\n",
       "    <tr style=\"text-align: right;\">\n",
       "      <th></th>\n",
       "      <th>Backend</th>\n",
       "      <th>Total RAM</th>\n",
       "      <th>RAM data</th>\n",
       "      <th>RAM zero-init data</th>\n",
       "      <th>RAM stack</th>\n",
       "      <th>RAM heap</th>\n",
       "    </tr>\n",
       "  </thead>\n",
       "  <tbody>\n",
       "    <tr>\n",
       "      <th>0</th>\n",
       "      <td>tvmaotplus</td>\n",
       "      <td>4480</td>\n",
       "      <td>1732</td>\n",
       "      <td>1004</td>\n",
       "      <td>704</td>\n",
       "      <td>1040</td>\n",
       "    </tr>\n",
       "    <tr>\n",
       "      <th>1</th>\n",
       "      <td>tvmrt</td>\n",
       "      <td>141340</td>\n",
       "      <td>1732</td>\n",
       "      <td>133012</td>\n",
       "      <td>5556</td>\n",
       "      <td>1040</td>\n",
       "    </tr>\n",
       "  </tbody>\n",
       "</table>\n",
       "</div>"
      ],
      "text/plain": [
       "      Backend  Total RAM  RAM data  RAM zero-init data  RAM stack  RAM heap\n",
       "0  tvmaotplus       4480      1732                1004        704      1040\n",
       "1       tvmrt     141340      1732              133012       5556      1040"
      ]
     },
     "execution_count": 6,
     "metadata": {},
     "output_type": "execute_result"
    }
   ],
   "source": [
    "df = report.df\n",
    "df[[\"Backend\", \"Total RAM\", \"RAM data\", \"RAM zero-init data\", \"RAM stack\", \"RAM heap\"]]"
   ]
  }
 ],
 "metadata": {
  "kernelspec": {
   "display_name": "Python 3 (ipykernel)",
   "language": "python",
   "name": "python3"
  },
  "language_info": {
   "codemirror_mode": {
    "name": "ipython",
    "version": 3
   },
   "file_extension": ".py",
   "mimetype": "text/x-python",
   "name": "python",
   "nbconvert_exporter": "python",
   "pygments_lexer": "ipython3",
   "version": "3.8.18"
  },
  "papermill": {
   "default_parameters": {},
   "duration": 28.595489,
   "end_time": "2024-01-08T12:18:33.511671",
   "environment_variables": {},
   "exception": null,
   "input_path": "/home/runner/work/mlonmcu/mlonmcu/ipynb/Examples/TraceMemory/TraceMemory.ipynb",
   "output_path": "/home/runner/work/mlonmcu/mlonmcu/ipynb/Examples/TraceMemory/TraceMemory.ipynb",
   "parameters": {},
   "start_time": "2024-01-08T12:18:04.916182",
   "version": "2.5.0"
  }
 },
 "nbformat": 4,
 "nbformat_minor": 5
}