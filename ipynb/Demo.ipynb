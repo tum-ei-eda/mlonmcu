{
 "cells": [
  {
   "cell_type": "markdown",
   "id": "9478e4b0",
   "metadata": {},
   "source": [
    "# MLonMCU"
   ]
  },
  {
   "cell_type": "markdown",
   "id": "32435a5e",
   "metadata": {},
   "source": [
    "<table class=\"tfo-notebook-buttons\" align=\"left\">\n",
    "  <td>\n",
    "    <a target=\"_blank\" href=\"https://colab.research.google.com/github/tum-ei-eda/mlonmcu/blob/main/ipynb/Demo.ipynb\"><img src=\"https://quantumai.google/site-assets/images/buttons/colab_logo_1x.png\" />Run in Google Colab</a>\n",
    "  </td>\n",
    "  <td>\n",
    "    <a target=\"_blank\" href=\"https://github.com/tum-ei-eda/mlonmcu/blob/main/ipynb/Demo.ipynb\"><img src=\"https://quantumai.google/site-assets/images/buttons/github_logo_1x.png\" />View source on GitHub</a>\n",
    "  </td>\n",
    "</table>"
   ]
  },
  {
   "cell_type": "markdown",
   "id": "8f7d087d",
   "metadata": {},
   "source": [
    "## Prerequisites"
   ]
  },
  {
   "cell_type": "markdown",
   "id": "f5afa492",
   "metadata": {},
   "source": [
    "Before running this notebook, make sure to run the following steps:\n",
    "\n",
    "1. Install the required software for your distribution:\n",
    "\n",
    "   See main `README.md` file!\n",
    "   \n",
    "2. Clone this repository\n",
    "\n",
    "   ```\n",
    "   git clone https://github.com/tum-ei-eda/mlonmcu.git\n",
    "   cd mlonmcu  # enter cloned repository\n",
    "   ```\n",
    "   \n",
    "3. Setup and enter a new virtualenv (Python 3.7+) for using `mlonmcu`:\n",
    "\n",
    "   ```\n",
    "   python -m venv .venv\n",
    "   source .venv/bin/activate\n",
    "   ```\n",
    "   \n",
    "   Hint: You can also use a `conda` environment for this.\n",
    "   \n",
    "4. Install mlonmcu package\n",
    "\n",
    "   ```\n",
    "   make install  # alternative: python setup.py install\n",
    "   ```\n",
    "   \n",
    "5. Install the required python packages:\n",
    "\n",
    "   ```\n",
    "   # pip install -r requirements.txt  # Done automatically via setup.py?\n",
    "   pip install -r ipynb/requirements.txt\n",
    "   ```\n",
    "   \n",
    "6. Launch this notebook in jupyter:\n",
    "\n",
    "   ```\n",
    "   jupyter notebook ipynb/Demo.ipynb\n",
    "   ```"
   ]
  },
  {
   "cell_type": "markdown",
   "id": "ade663bb",
   "metadata": {},
   "source": [
    "*Hint for Developers:* If you do not want to install MLonMCU first, you can just replace `mlonmcu` with `python -m mlonmcu.cli.main` in every command to just use the latest development version."
   ]
  },
  {
   "cell_type": "markdown",
   "id": "b6d2c1cf",
   "metadata": {},
   "source": [
    "## Demonstration (Command Line)"
   ]
  },
  {
   "cell_type": "markdown",
   "id": "0a460dde",
   "metadata": {},
   "source": [
    "### Preface"
   ]
  },
  {
   "cell_type": "markdown",
   "id": "71105f6a",
   "metadata": {},
   "source": [
    "This guide should give an idea on the required steps to setup and use MLonMCU using the command line interface. Usage examples are provided as well."
   ]
  },
  {
   "cell_type": "markdown",
   "id": "3744822c",
   "metadata": {},
   "source": [
    "### Initialize a MLonMCU environment"
   ]
  },
  {
   "cell_type": "markdown",
   "id": "7113f996",
   "metadata": {},
   "source": [
    "As MLonMCU requires a directory where dependencies, configurations, intermediate artifacts and results are stored, an environment needs to be initialized first. This also allows to use different configuration (e.g. enabled backends or supported features) for multiple environments."
   ]
  },
  {
   "cell_type": "markdown",
   "id": "23edf711",
   "metadata": {},
   "source": [
    "Create and enter an environment diretcory first to initialize it afterwards:"
   ]
  },
  {
   "cell_type": "code",
   "execution_count": 1,
   "id": "167656d8",
   "metadata": {},
   "outputs": [
    {
     "name": "stdout",
     "output_type": "stream",
     "text": [
      "Initializing ML on MCU environment\n",
      "Selected target directory: /tmp/mlonmcu_env\n",
      "The directory does not exist! - Created directory.\n",
      "Creating environment.yml based on template 'default'.\n",
      "Skipping creation of virtual environment. (already inside one)\n",
      "Initializing directories in environment: deps plugins\n",
      "Finished. Please add `export MLONMCU_HOME=/tmp/mlonmcu_env` to your shell configuration to use it anywhere\n",
      "Recommended next step: `mlonmcu setup` inside your virtual environment.\n",
      "Optional: `mlonmcu setup -g`\n"
     ]
    }
   ],
   "source": [
    "# WARNING: execute this only once! Alternatively remove the environment directory beforehand to start from scratch.\n",
    "!test -d /tmp/mlonmcu_env && echo \"Skipped initialization of environment\" \\\n",
    "  || mlonmcu init /tmp/mlonmcu_env --non-interactive"
   ]
  },
  {
   "cell_type": "markdown",
   "id": "099ed602",
   "metadata": {},
   "source": [
    "When not using a notebook, the option `--non-interactive` can be omitted which allows to customize the initialization process interactively."
   ]
  },
  {
   "cell_type": "markdown",
   "id": "cc331474",
   "metadata": {},
   "source": [
    "If the environment directory is not passed to the `mlonmcu` script, it will try to setup a `default` environment in the users home directory (On Ubuntu: `~/.config/mlonmcu/environments/default/`) instead. By providing a `--name` of the virtual environment if will be automatically registered in `~/.config/mlonmcy/environments.ini` for the current user which helps to find and distinguish multiple installed environments on a machine."
   ]
  },
  {
   "cell_type": "markdown",
   "id": "be4527e6",
   "metadata": {},
   "source": [
    "In the following the actual environment which should be used by the `mlonmcu` program has to be defined by the user either by defining the environment variable `MLONMCU_HOME` or by using the `-H` (`--home` or `--hint`) command line option. If none of this was done, the following rules are following to look for a suitable environment:\n",
    "\n",
    "1. Check if `$MLONMCU_HOME` points to a valid environment\n",
    "2. Use environment provided via the `-H` flag (path or registered name) if available\n",
    "3. If the local working directory is the root of an environment, use this directory\n",
    "4. If there is a default environment for the current user, fall back to this one instead"
   ]
  },
  {
   "cell_type": "code",
   "execution_count": 2,
   "id": "43e841d3",
   "metadata": {},
   "outputs": [
    {
     "name": "stdout",
     "output_type": "stream",
     "text": [
      "env: MLONMCU_HOME=/tmp/mlonmcu_env\n"
     ]
    }
   ],
   "source": [
    "# Use this for bash: `export MLONMCU_HOME=/tmp/mlonmcu_env`\n",
    "%env MLONMCU_HOME=/tmp/mlonmcu_env"
   ]
  },
  {
   "cell_type": "markdown",
   "id": "9f59427f",
   "metadata": {},
   "source": [
    "Registered environment can be listed via the command `mlonmcu env`. In addition there are possibilities to manually update entires in the environments file."
   ]
  },
  {
   "cell_type": "code",
   "execution_count": 3,
   "id": "8838f071",
   "metadata": {},
   "outputs": [
    {
     "name": "stdout",
     "output_type": "stream",
     "text": [
      "Looking for user environments config file: /home/ga87puy/.config/mlonmcu/environments.ini\n",
      "No mlonmcu environments were found for the current user. You can create a new one using `mlonmcu init`\n"
     ]
    }
   ],
   "source": [
    "!mlonmcu env"
   ]
  },
  {
   "cell_type": "markdown",
   "id": "789b567d",
   "metadata": {},
   "source": [
    "### Customizing the created MLonMCU environment (optional)"
   ]
  },
  {
   "cell_type": "markdown",
   "id": "404b3bb1",
   "metadata": {},
   "source": [
    "The environment was initialized by a template which can be found in the `templates/` directory of the repository chosen via the `--template` flag. Lets inspect the generated configuration file first:"
   ]
  },
  {
   "cell_type": "code",
   "execution_count": 4,
   "id": "64f1a4d5",
   "metadata": {
    "scrolled": true
   },
   "outputs": [
    {
     "name": "stdout",
     "output_type": "stream",
     "text": [
      "---\n",
      "# The MLONMCU_HOME is filled in automatically when creating the environment\n",
      "home: \"/tmp/mlonmcu_env\"\n",
      "logging:\n",
      "  level: DEBUG\n",
      "  to_file: false\n",
      "  rotate: false\n",
      "cleanup:\n",
      "  auto: true\n",
      "  keep: 50\n",
      "# Default locations for certain directoriescan be changed here\n",
      "# Non-absolute paths will always be threated relative to the MLONMCU_HOME\n",
      "paths:\n",
      "  # Where the dependencies are downloaded and installed\n",
      "  deps: deps\n",
      "  # If logging to file is used keep logs in this directory\n",
      "  logs: logs\n",
      "  # Location where reports and artifacts are written to\n",
      "  results: results\n",
      "  # Directory where custom extensions can be integrated\n",
      "  plugins: plugins\n",
      "  # Directory for intermediate build products, should be located on a large enough drive\n",
      "  temp: temp\n",
      "  # A collection of models which will be used to look for models\n",
      "  # The paths will be checked in the order defined here stopping at the first match\n",
      "  # Non-existant paths will be skipped without throwing an error\n",
      "  models:\n",
      "    - \"/tmp/mlonmcu_env/models\"\n",
      "    - \"/home/ga87puy/.config/mlonmcu/models\"\n",
      "# Here default clone_urls\n",
      "repos:\n",
      "  tensorflow:\n",
      "    url: \"https://github.com/tensorflow/tflite-micro.git\"\n",
      "    ref: f050eec7e32a0895f7658db21a4bdbd0975087a5\n",
      "  tvm:\n",
      "    url: \"https://github.com/apache/tvm.git\"\n",
      "    ref: de6d8067754d746d88262c530b5241b5577b9aae\n",
      "  utvm_staticrt_codegen:\n",
      "    url: \"https://github.com/tum-ei-eda/utvm_staticrt_codegen.git\"\n",
      "    ref: 1b296f1efcc28671ee21ccbe86a81b968db8b1e5\n",
      "  tvm_extensions:\n",
      "    url: \"https://github.com/tum-ei-eda/tvm_extensions.git\"\n",
      "    ref: 3ccd1ad8e4eed0cd86bfbd866d066833fd174dcb\n",
      "  muriscvnn:\n",
      "    url: \"https://github.com/tum-ei-eda/muriscv-nn.git\"\n",
      "    ref: c023b80a51c1b48ec62b9b092d047e9ac0bab3e8\n",
      "  etiss:\n",
      "    url: \"https://github.com/tum-ei-eda/etiss.git\"\n",
      "    ref: 40c0b920cf4072adf189211ca44291534355dcfd\n",
      "  spike:\n",
      "    url: \"https://github.com/riscv-software-src/riscv-isa-sim.git\"\n",
      "    ref: 0bc176b3fca43560b9e8586cdbc41cfde073e17a\n",
      "  spikepk:\n",
      "    url: \"https://github.com/riscv-software-src/riscv-pk.git\"\n",
      "    ref: 7e9b671c0415dfd7b562ac934feb9380075d4aa2\n",
      "  cmsis:\n",
      "    url: \"https://github.com/PhilippvK/CMSIS_5.git\"\n",
      "    ref: ad1c3cad8f1240ef14a2c55381a78d792d76ec4d\n",
      "  mlif:\n",
      "    url: \"https://github.com/tum-ei-eda/mlonmcu-sw.git\"\n",
      "    ref: 4b9a32659f7c5340e8de26a0b8c4135ca67d64ac\n",
      "  espidf:\n",
      "    url: \"https://github.com/espressif/esp-idf.git\"\n",
      "    ref: release/v4.4\n",
      "  microtvm_etissvp:\n",
      "    url: \"https://github.com/PhilippvK/microtvm-etissvp-template.git\"\n",
      "    ref: 95ed42e4cc1dfbcccb39a0a5b8f95ca22bbef9cc\n",
      "  zephyr:\n",
      "    url: \"https://github.com/zephyrproject-rtos/zephyr.git\"\n",
      "    ref: v3.2.0\n",
      "  tflite_pack:\n",
      "    url: \"https://github.com/tum-ei-eda/tflite-pack.git\"\n",
      "    ref: 439b78d36456f716629ad9dbaff9734baaa75db9\n",
      "  layergen:\n",
      "    url: \"https://github.com/PhilippvK/ml-layer-gen.git\"\n",
      "    ref: 7c56995616fb1c246cb889972fdbe46dd217d758\n",
      "  dtc:\n",
      "    url: \"https://github.com/dgibson/dtc.git\"\n",
      "    ref: main\n",
      "# Here all supported frameworks with their specific features are defined\n",
      "# Optionally disable unwanted or incomatible backends or features here\n",
      "# The configured defaults are used if no backend was specified in the command line options\n",
      "frameworks:\n",
      "  default: tvm\n",
      "  tflm:\n",
      "    enabled: true\n",
      "    backends:\n",
      "      default: tflmi\n",
      "      tflmi:\n",
      "        enabled: true\n",
      "        features:\n",
      "          debug_arena: true\n",
      "    features:\n",
      "      muriscvnn: true\n",
      "      cmsisnn: false\n",
      "  tvm:\n",
      "    enabled: true\n",
      "    backends:\n",
      "      default: tvmaot\n",
      "      tvmrt:\n",
      "        enabled: true\n",
      "        features:\n",
      "          debug_arena: true\n",
      "          disable_legalize: false\n",
      "          autotuned: true\n",
      "          moiopt: true\n",
      "      tvmaot:\n",
      "        enabled: true\n",
      "        features:\n",
      "          debug_arena: true\n",
      "          unpacked_api: true\n",
      "          usmp: true\n",
      "          disable_legalize: false\n",
      "          autotuned: true\n",
      "          moiopt: true\n",
      "      tvmaotplus:\n",
      "        enabled: true\n",
      "        features:\n",
      "          debug_arena: true\n",
      "          disable_legalize: false\n",
      "          autotuned: true\n",
      "          moiopt: true\n",
      "      tvmllvm:\n",
      "        enabled: true\n",
      "        features:\n",
      "          # unpacked_api: true\n",
      "          disable_legalize: false\n",
      "          autotuned: true\n",
      "          moiopt: true\n",
      "      tvmcg:\n",
      "        enabled: false\n",
      "        features:\n",
      "          debug_arena: true\n",
      "          disable_legalize: false\n",
      "          autotuned: true\n",
      "    features:\n",
      "      cmsisnnbyoc: false\n",
      "      muriscvnnbyoc: false\n",
      "# Some frontends are experimental and therefore disabled here\n",
      "# Features like packing are only available in certain environments\n",
      "frontends:\n",
      "  tflite:\n",
      "    enabled: true\n",
      "    features:\n",
      "      validate: true\n",
      "      visualize: true\n",
      "      split_layers: false\n",
      "  relay:\n",
      "    enabled: true\n",
      "    features:\n",
      "      relayviz: true\n",
      "  packed:\n",
      "    enabled: false\n",
      "    features:\n",
      "      packing: true\n",
      "      packed: true\n",
      "  onnx:\n",
      "    enabled: true\n",
      "  pb:\n",
      "    enabled: true\n",
      "  paddle:\n",
      "    enabled: true\n",
      "  layergen:\n",
      "    enabled: true\n",
      "  # TODO: saved_model (TF->TFLITE), ipynb (IPYNB->?)\n",
      "# Some targets/platforms support multiple toolchains\n",
      "toolchains:\n",
      "  gcc: true\n",
      "  llvm: true\n",
      "# Platform extend the number of supported targets\n",
      "platforms:\n",
      "  mlif:\n",
      "    enabled: true\n",
      "    features:\n",
      "      debug: true\n",
      "      validate: true\n",
      "      benchmark: true\n",
      "  espidf:\n",
      "    enabled: false\n",
      "    features:\n",
      "      debug: true\n",
      "  zephyr:\n",
      "    enabled: false\n",
      "    features:\n",
      "      debug: true\n",
      "  tvm:\n",
      "    enabled: true\n",
      "    features:\n",
      "      benchmark: true\n",
      "      tvm_rpc: true\n",
      "      autotune: true\n",
      "      tvm_profile: true\n",
      "  microtvm:\n",
      "    enabled: true\n",
      "    features: []\n",
      "      # validate: true\n",
      "# List of supported targets in the environment\n",
      "targets:\n",
      "  default: etiss_pulpino\n",
      "  etiss_pulpino:\n",
      "    enabled: true\n",
      "    features:\n",
      "      gdbserver: true\n",
      "      etissdbg: true\n",
      "      trace: true\n",
      "      log_instrs: true\n",
      "      # vext: true\n",
      "      # pext: true\n",
      "  host_x86:\n",
      "    enabled: true\n",
      "    features:\n",
      "      gdbserver: true\n",
      "  spike:\n",
      "    enabled: true\n",
      "    features:\n",
      "      vext: false\n",
      "      pext: false\n",
      "      cachesim: true\n",
      "      log_instrs: true\n",
      "  ovpsim:\n",
      "    enabled: false\n",
      "    features:\n",
      "      vext: false\n",
      "      pext: false\n",
      "      log_instrs: true\n",
      "  corstone300:\n",
      "    enabled: false\n",
      "    features:\n",
      "      ethosu: false\n",
      "      arm_mvei: true\n",
      "      arm_dsp: true\n",
      "  riscv_qemu:\n",
      "    enabled: true\n",
      "    features:\n",
      "      vext: false\n",
      "  microtvm_host:\n",
      "    enabled: true\n",
      "  microtvm_spike:\n",
      "    enabled: true\n",
      "  microtvm_zephyr:\n",
      "    enabled: false\n",
      "  microtvm_arduino:\n",
      "    enabled: false\n",
      "  microtvm_etissvp:\n",
      "    enabled: true\n",
      "  microtvm_espidf:\n",
      "    enabled: false\n",
      "  tvm_cpu:\n",
      "    enabled: true\n",
      "postprocesses:\n",
      "  use:\n",
      "  # - detailed_cycles\n",
      "  # - average_cycles\n",
      "  # - filter_cols\n",
      "  # - features2cols\n",
      "  # - config2cols\n",
      "  # - bytes2kb\n",
      "  # - visualize\n",
      "# This is where further options such as specific versions of dependencies can be set in the furture\n",
      "vars:\n",
      "  allow_extensions: false\n",
      "  # tvm.make_tool: \"ninja\"\n",
      "  llvm.version: \"14.0.0\"\n",
      "  runs_per_stage: true\n",
      "  riscv_gcc.dl_url: \"https://syncandshare.lrz.de/dl/fiD9HnHYkb2V8kNbVQYv242m/rv32gc.tar.gz\"\n",
      "  riscv_gcc.dl_url_vext: \"https://syncandshare.lrz.de/dl/fiGp4r3f6SZaC5QyDi6QUiNQ/rv32gcv_new.tar.gz\"\n",
      "  riscv_gcc.dl_url_pext: \"https://syncandshare.lrz.de/dl/fiNvP4mzVQ8uDvgT9Yf2bqNk/rv32gcp.tar.xz\"\n",
      "flags:\n",
      "  tflmc.exe:\n",
      "  - x86"
     ]
    }
   ],
   "source": [
    "!cat $MLONMCU_HOME/environment.yml"
   ]
  },
  {
   "cell_type": "markdown",
   "id": "78b9eb23",
   "metadata": {},
   "source": [
    "The environment should work out of the box, but feel free to update the contents of the `environment.yml` file to achieve one of the following:\n",
    "\n",
    "- Change the default paths used for dependencies, results, models,...\n",
    "- Use different forks/versions of a repository\n",
    "- Disable certain frameworks/backends to reduce the installation time in the next step.\n",
    "- Define which features are supported for the given repositories\n",
    "- Set default backends and targets\n",
    "- Define a set of default configuration variables\n",
    "\n",
    "To learn more about this, check out this document: `ENVIRONMENTS.md`"
   ]
  },
  {
   "cell_type": "markdown",
   "id": "10e74d0f",
   "metadata": {},
   "source": [
    "### Setting up all MLonMCU dependencies"
   ]
  },
  {
   "cell_type": "markdown",
   "id": "fbc32554",
   "metadata": {},
   "source": [
    "Depending on the enabled backends and features, a different set of dependencies has to be installed. To reduce the management effort for the user, all these versions are installed and managed automatically using MLonMCU. To trigger this process, run the following in the command line. (This will take a very long time with all frameworks/targets/features enabled when invoked for the first time)"
   ]
  },
  {
   "cell_type": "code",
   "execution_count": 5,
   "id": "6ecce763",
   "metadata": {
    "scrolled": true
   },
   "outputs": [
    {
     "name": "stdout",
     "output_type": "stream",
     "text": [
      "INFO - No cache found in deps directory\n",
      "INFO - Installing dependencies...\n",
      "INFO - Processing task: install_riscv_gcc{'pext': False, 'vext': False}\n",
      "INFO - Processing task: install_arm_gcc\n",
      "INFO - Processing task: clone_cmsis\n",
      "INFO - Processing task: clone_espidf\n",
      "INFO - Processing task: clone_etiss\n",
      "INFO - Processing task: clone_muriscvnn\n",
      "INFO - Processing task: clone_spike_pk\n",
      "INFO - Processing task: clone_spike\n",
      "INFO - Processing task: clone_tensorflow\n",
      "INFO - Processing task: clone_tflite_pack\n",
      "INFO - Processing task: clone_tflite_micro_compiler\n",
      "INFO - Processing task: clone_tvm_extensions\n",
      "INFO - Processing task: install_llvm\n",
      "INFO - Processing task: clone_utvm_staticrt_codegen\n",
      "INFO - Processing task: clone_pulp_freertos\n",
      "INFO - Processing task: clone_verilator\n",
      "INFO - Processing task: clone_dtc\n",
      "INFO - Processing task: install_corstone300\n",
      "INFO - Processing task: clone_microtvm_etissvp\n",
      "INFO - Processing task: clone_mlif\n",
      "INFO - Processing task: download_tflite_vizualize\n",
      "INFO - Processing task: install_zephyr\n",
      "INFO - Processing task: install_pulp_gcc\n",
      "INFO - Processing task: clone_ara\n",
      "INFO - Processing task: clone_layergen\n",
      "INFO - Processing task: build_cmsisnn\n",
      "INFO - Processing task: install_espidf\n",
      "INFO - Processing task: build_etiss{'dbg': False}\n",
      "INFO - Processing task: build_etiss{'dbg': True}\n",
      "INFO - Processing task: build_muriscvnn{'target_arch': 'x86', 'toolchain': 'gcc', 'pext': False, 'vext': False, 'dbg': False}\n",
      "INFO - Processing task: build_muriscvnn{'target_arch': 'riscv', 'toolchain': 'gcc', 'pext': False, 'vext': False, 'dbg': False}\n",
      "INFO - Processing task: build_spike_pk\n",
      "INFO - Processing task: build_spike\n",
      "INFO - Processing task: build_tensorflow{'dbg': True}\n",
      "INFO - Processing task: install_tflite_pack\n",
      "INFO - Processing task: clone_tvm{'patch': False}\n",
      "INFO - Processing task: install_gvsoc\n",
      "INFO - Processing task: build_verilator\n",
      "INFO - Processing task: build_dtc\n",
      "INFO - Processing task: install_etiss{'dbg': False}\n",
      "INFO - Processing task: install_etiss{'dbg': True}\n",
      "INFO - Processing task: build_tflite_micro_compiler\n",
      "INFO - Processing task: build_tvm{'cmsisnn': False, 'dbg': False}\n",
      "INFO - Processing task: build_utvm_staticrt_codegen\n",
      "INFO - Processing task: install_verilator\n",
      "INFO - Finished installing dependencies\n"
     ]
    }
   ],
   "source": [
    "!mlonmcu setup"
   ]
  },
  {
   "cell_type": "markdown",
   "id": "5b47bbba",
   "metadata": {},
   "source": [
    "Some things need to be considered here:\n",
    "- Repositories are only cloned once, so upstream changes or updated urls/branches in the `environments.yml` are not detected automatically\n",
    "- The flag `--rebuild` can be passed to `mlonmcu setup` to ensure that the setup routine of every dependency is triggered again. However this does not guarentee that all artifacts are properly updated. Also there is a `--task` option which allows to invoke individual tasks manually.\n",
    "- To guarantee that the latest versions of a dependency are installed you can remove the `deps` directory manually or alternative use the provided `mlonmcu cleanup` utility. (Execute `mlonmcu cleanup --help` to learn more)\n",
    "- In addition to the installed dependencies, a file named `cache.ini` can be found in the environments `deps/` directory. Here all paths to relevant dependencies are stored with their different sets of flags."
   ]
  },
  {
   "cell_type": "markdown",
   "id": "8daa9d4a",
   "metadata": {},
   "source": [
    "### Adding models to MLonMCU"
   ]
  },
  {
   "cell_type": "markdown",
   "id": "55518b0e",
   "metadata": {},
   "source": [
    "By default, the `mlonmcu-models` repository (https://github.com/tum-ei-eda/mlonmcu-models) is cloned to each environment as its contents are designed to perfectly integrate into the MLonMCU flow. In addition a location in the users home directory (`~/.config/mlonmcu/models/` for Ubuntu) is also added to the search path as defined in the `environments.yml`. Feel free to add further model manually or alternatively clone a model-zoo (e.g. https://github.com/ARM-software/ML-zoo) to a random location on the disc and updating the list of model-paths in the environments' config file."
   ]
  },
  {
   "cell_type": "markdown",
   "id": "25d49e86",
   "metadata": {},
   "source": [
    "To list all available models in a environment, the `mlonmcu models` subcommand can be used:"
   ]
  },
  {
   "cell_type": "code",
   "execution_count": 6,
   "id": "32db9a74",
   "metadata": {
    "scrolled": true
   },
   "outputs": [
    {
     "name": "stdout",
     "output_type": "stream",
     "text": [
      "INFO - Loading environment cache from file\n",
      "INFO - Successfully initialized cache\n",
      "Models Summary\n",
      "\n",
      "Paths:\n",
      "    /tmp/mlonmcu_env/models\n",
      "    /nas/ei/home/ga87puy/.config/mlonmcu/models\n",
      "\n",
      "Models:\n",
      "    MobileNetV2\n",
      "    MobileNetV2/MobileNet_V2\n",
      "    SMD_Ori_tflite\n",
      "    aww\n",
      "    bigsine_quant\n",
      "    catdog\n",
      "    catdog/CNN_2L_model_quantized\n",
      "    catdog/CNN_full_quantized\n",
      "    catdog/CNN_full_quantized_70_\n",
      "    catdog/CNN_model\n",
      "    catdog2\n",
      "    cifar10\n",
      "    cnn_s_quantized\n",
      "    lstm2\n",
      "    magic_wand\n",
      "    micro_speech\n",
      "    micro_speech_custom\n",
      "    micro_speech_custom_lr\n",
      "    micro_speech_custom_ud\n",
      "    mobilenet_v1_0_25_128\n",
      "    mobilenet_v1_10_224\n",
      "    mobilenet_v1_1_0_224_quant\n",
      "    mobilenetv1\n",
      "    person_detect\n",
      "    resnet\n",
      "    simple_mnist\n",
      "    simple_mnist/MNIST_best_model\n",
      "    simple_mnist/MNIST_model\n",
      "    simple_mnist/MNIST_model_quantized\n",
      "    simple_mnist/model_data\n",
      "    simple_mnist/model_data_pruned\n",
      "    simple_mnist/model_data_size_optimized\n",
      "    sine_model\n",
      "    sine_model/hello_world\n",
      "    ssd\n",
      "    text_class\n",
      "    toycar\n",
      "    vww\n",
      "\n",
      "Groups:\n",
      "    tinymlperf [4 models]\n",
      "    minimal [1 models]\n",
      "    tinymlbook [3 models]\n",
      "    embench [22 models]\n",
      "    taclebench [57 models]\n",
      "    polybench [30 models]\n",
      "    mathis [21 models]\n",
      "    mibench [10 models]\n"
     ]
    }
   ],
   "source": [
    "!mlonmcu models"
   ]
  },
  {
   "cell_type": "markdown",
   "id": "c38632a4",
   "metadata": {},
   "source": [
    "The listed \"Paths\" should match the search paths defined in the `environments.yml` and are processed in the provided order. If there are multiple models of the same name, only the first one will be added to MLonMCU. By passing the `--detailed` flag to the command, additional information will be shown for each entry.\n",
    "\n",
    "TODO: allow to search/filter for models by passing an extra arg"
   ]
  },
  {
   "cell_type": "markdown",
   "id": "7feedc70",
   "metadata": {},
   "source": [
    "In addition to individual models, predefined model-groups are also available. I.e. the MLPerf Tiny benchmark defined here:"
   ]
  },
  {
   "cell_type": "code",
   "execution_count": 7,
   "id": "aa765c5a",
   "metadata": {},
   "outputs": [
    {
     "name": "stdout",
     "output_type": "stream",
     "text": [
      "---\n",
      "tinymlperf:\n",
      "  - aww\n",
      "  - vww\n",
      "  - resnet\n",
      "  - toycar\n",
      "\n",
      "minimal:\n",
      "  - sine_model\n",
      "\n",
      "tinymlbook:\n",
      "  - sine_model  # hello_world\n",
      "  - micro_speech\n",
      "  - magic_wand\n",
      "\n",
      "embench:\n",
      "  - edn\n",
      "  - crc32\n",
      "  - wikisort\n",
      "  - slre\n",
      "  - qrduino\n",
      "  - minver\n",
      "  - picojpeg\n",
      "  - tarfind\n",
      "  - st\n",
      "  - nsichneu\n",
      "  - statemate\n",
      "  - primecount\n",
      "  - md5sum\n",
      "  - nettle-sha256\n",
      "  - nettle-aes\n",
      "  - ud\n",
      "  - matmult-int\n",
      "  - aha-mont64\n",
      "  - huffbench\n",
      "  - cubic\n",
      "  - nbody\n",
      "  - sglib-combined\n",
      "\n",
      "taclebench:\n",
      "  - app/powerwindow\n",
      "  - app/lift\n",
      "  - sequential/epic\n",
      "  - sequential/huff_dec\n",
      "  - sequential/fmref\n",
      "  - sequential/h264_dec\n",
      "  - sequential/dijkstra\n",
      "  - sequential/adpcm_dec\n",
      "  - sequential/adpcm_enc\n",
      "  - sequential/gsm_dec\n",
      "  - sequential/rijndael_dec\n",
      "  - sequential/g723_enc\n",
      "  - sequential/huff_enc\n",
      "  - sequential/statemate\n",
      "  - sequential/susan\n",
      "  - sequential/gsm_enc\n",
      "  - sequential/ndes\n",
      "  - sequential/audiobeam\n",
      "  - sequential/rijndael_enc\n",
      "  - sequential/cjpeg_transupp\n",
      "  - sequential/ammunition\n",
      "  - sequential/mpeg2\n",
      "  - sequential/anagram\n",
      "  - sequential/cjpeg_wrbmp\n",
      "  - sequential/petrinet\n",
      "  - test/test3\n",
      "  - test/cover\n",
      "  - test/duff\n",
      "  - kernel/deg2rad\n",
      "  - kernel/matrix1\n",
      "  - kernel/binarysearch\n",
      "  - kernel/pm\n",
      "  - kernel/sha\n",
      "  - kernel/filterbank\n",
      "  - kernel/md5\n",
      "  - kernel/fir2dim\n",
      "  - kernel/fft\n",
      "  - kernel/minver\n",
      "  - kernel/lms\n",
      "  - kernel/bitcount\n",
      "  - kernel/st\n",
      "  - kernel/bsort\n",
      "  - kernel/bitonic\n",
      "  - kernel/iir\n",
      "  - kernel/prime\n",
      "  - kernel/jfdctint\n",
      "  - kernel/recursion\n",
      "  - kernel/complex_updates\n",
      "  - kernel/cosf\n",
      "  - kernel/insertsort\n",
      "  - kernel/fac\n",
      "  - kernel/rad2deg\n",
      "  - kernel/isqrt\n",
      "  - kernel/cubic\n",
      "  - kernel/ludcmp\n",
      "  - kernel/quicksort\n",
      "  - kernel/countnegative\n",
      "\n",
      "polybench:\n",
      "  - linear-algebra/solvers/gramschmidt\n",
      "  - linear-algebra/solvers/ludcmp\n",
      "  - linear-algebra/solvers/trisolv\n",
      "  - linear-algebra/solvers/durbin\n",
      "  - linear-algebra/solvers/lu\n",
      "  - linear-algebra/solvers/cholesky\n",
      "  - linear-algebra/kernels/atax\n",
      "  - linear-algebra/kernels/3mm\n",
      "  - linear-algebra/kernels/mvt\n",
      "  - linear-algebra/kernels/2mm\n",
      "  - linear-algebra/kernels/bicg\n",
      "  - linear-algebra/kernels/doitgen\n",
      "  - linear-algebra/blas/trmm\n",
      "  - linear-algebra/blas/gemver\n",
      "  - linear-algebra/blas/syrk\n",
      "  - linear-algebra/blas/gesummv\n",
      "  - linear-algebra/blas/syr2k\n",
      "  - linear-algebra/blas/symm\n",
      "  - linear-algebra/blas/gemm\n",
      "  - stencils/fdtd-2d\n",
      "  - stencils/seidel-2d\n",
      "  - stencils/adi\n",
      "  - stencils/jacobi-1d\n",
      "  - stencils/jacobi-2d\n",
      "  - stencils/heat-3d\n",
      "  - datamining/covariance\n",
      "  - datamining/correlation\n",
      "  - medley/deriche\n",
      "  - medley/nussinov\n",
      "  - medley/floyd-warshall\n",
      "\n",
      "mathis:\n",
      "  - to_upper\n",
      "  - add8\n",
      "  - add16\n",
      "  - gather_add8\n",
      "  - gather_add16\n",
      "  - scatter_add8\n",
      "  - scatter_add16\n",
      "  - dot8\n",
      "  - dot16\n",
      "  - saxpy8\n",
      "  - saxpy16\n",
      "  - matmul8\n",
      "  - matmul16\n",
      "  - matmul8_a\n",
      "  - matmul16_a\n",
      "  - transposed_matmul8\n",
      "  - transposed_matmul16\n",
      "  - transposed_matmul8_a\n",
      "  - transposed_matmul16_a\n",
      "  - transposed_matmul8_b\n",
      "  - transposed_matmul16_b\n",
      "\n",
      "mibench:\n",
      "  - telecomm/FFT\n",
      "  - telecomm/CRC32\n",
      "  - automotive/susan\n",
      "  - automotive/basicmath\n",
      "  - automotive/bitcount\n",
      "  - automotive/qsort\n",
      "  - security/sha\n",
      "  - security/rijndael\n",
      "  - network/dijkstra\n",
      "  - office/stringsearch\n"
     ]
    }
   ],
   "source": [
    "!cat $MLONMCU_HOME/models/modelgroups.yml"
   ]
  },
  {
   "cell_type": "markdown",
   "id": "fcf550a9",
   "metadata": {},
   "source": [
    "Feel free to manualy define further model-groups for your needs."
   ]
  },
  {
   "cell_type": "markdown",
   "id": "eda64a8c",
   "metadata": {},
   "source": [
    "### Running the MLonMCU flow"
   ]
  },
  {
   "cell_type": "markdown",
   "id": "15f53550",
   "metadata": {},
   "source": [
    "The MLonMCU flow is a major part of the tool and therefore explained by several examples, starting with minimal use cases before discussing more complex examples later."
   ]
  },
  {
   "cell_type": "markdown",
   "id": "b4584f0d",
   "metadata": {},
   "source": [
    "**Invoke a single model on the default backend/target**"
   ]
  },
  {
   "cell_type": "code",
   "execution_count": 8,
   "id": "d49d238e",
   "metadata": {},
   "outputs": [
    {
     "name": "stdout",
     "output_type": "stream",
     "text": [
      "INFO - Loading environment cache from file\n",
      "INFO - Successfully initialized cache\n",
      "INFO -  Processing stage LOAD\n",
      "INFO -  Processing stage BUILD\n",
      "INFO -  Processing stage COMPILE\n",
      "INFO -  Processing stage RUN\n",
      "INFO - All runs completed successfuly!\n",
      "INFO - Postprocessing session report\n",
      "INFO - Done processing runs\n",
      "INFO - Report:\n",
      "   Session  Run   Model Frontend Framework Backend Platform         Target    Cycles  Total ROM  Total RAM  ROM read-only  ROM code  ROM misc  RAM data  RAM zero-init data Features                                             Config Postprocesses Comment\n",
      "0        0    0  resnet   tflite       tvm  tvmaot     mlif  etiss_pulpino  82445446     233292     124785         167456     65692       144      2485              122300       []  {'tflite.use_inout_data': False, 'tflite.visua...            []       -\n"
     ]
    }
   ],
   "source": [
    "!mlonmcu flow run resnet"
   ]
  },
  {
   "cell_type": "markdown",
   "id": "fde27af0",
   "metadata": {},
   "source": [
    "While this looks pretty clean, in the background, there is a lot of thing being processed. You can find out more using the `--verbose` flag:"
   ]
  },
  {
   "cell_type": "code",
   "execution_count": 9,
   "id": "67b6fb50",
   "metadata": {
    "scrolled": true
   },
   "outputs": [
    {
     "name": "stdout",
     "output_type": "stream",
     "text": [
      "DEBUG - Cleaning up old sessions automaticaly\n",
      "DEBUG - Restored 1 recent sessions\n",
      "DEBUG - Enter MlonMcuContext\n",
      "DEBUG - Locking context\n",
      "INFO - Loading environment cache from file\n",
      "INFO - Successfully initialized cache\n",
      "DEBUG - Creating a new session with idx 1\n",
      "DEBUG - Found match. Ignoring other files\n",
      "DEBUG - Creating a new run with id 0\n",
      "DEBUG - Found match. Ignoring other files\n",
      "INFO - [session-1]  Processing stage LOAD\n",
      "DEBUG - [session-1] [run-0] Continuing run from stage LOAD until stage LOAD\n",
      "DEBUG - [session-1] [run-0] Processing stage LOAD\n",
      "DEBUG - [session-1] [run-0] Exporting run to disk\n",
      "DEBUG - [session-1] [run-0] Writing run file\n",
      "INFO - [session-1]  Processing stage BUILD\n",
      "DEBUG - [session-1] [run-0] Continuing run from stage BUILD until stage BUILD\n",
      "DEBUG - [session-1] [run-0] Processing stage BUILD\n",
      "DEBUG - - Executing: ('/var/tmp/ga87puy/mlonmcu/venv/bin/python', '-m', 'tvm.driver.tvmc', 'compile', PosixPath('/tmp/mlonmcu_env/temp/sessions/1/runs/0/resnet.tflite'), '--target', 'c', '--runtime', 'crt', '--executor', 'aot', '--pass-config', 'tir.disable_vectorize=True', '--input-shapes', 'input_1_int8:[1,32,32,3]', '--opt-level', '3', '--output', '/tmp/tmp8ova0gqz/default.tar', '-f', 'mlf', '--model-format', 'tflite', '--runtime-crt-system-lib', '0', '--target-c-constants-byte-alignment', '4', '--target-c-workspace-byte-alignment', '4', '--executor-aot-unpacked-api', '0', '--executor-aot-interface-api', 'packed')\n",
      "DEBUG - [session-1] [run-0] Exporting run to disk\n",
      "DEBUG - [session-1] [run-0] Writing run file\n",
      "INFO - [session-1]  Processing stage COMPILE\n",
      "DEBUG - [session-1] [run-0] Continuing run from stage COMPILE until stage COMPILE\n",
      "DEBUG - [session-1] [run-0] Processing stage COMPILE\n",
      "DEBUG - - Executing: ('cmake', '/tmp/mlonmcu_env/deps/src/mlif', '-DCMAKE_BUILD_TYPE=Release', '-DMLONMCU_BACKEND=tvmaot', '-DMLONMCU_FRAMEWORK=tvm', '-DTVM_CRT_CONFIG_DIR=/var/tmp/ga87puy/mlonmcu/mlonmcu/../resources/frameworks/tvm/crt_config', '-DTVM_DIR=/tmp/mlonmcu_env/deps/src/tvm', '-DRISCV_ELF_GCC_PREFIX=/tmp/mlonmcu_env/deps/install/riscv_gcc', '-DRISCV_ELF_GCC_BASENAME=riscv32-unknown-elf', '-DRISCV_ARCH=rv32imafdc', '-DRISCV_ABI=ilp32d', '-DRISCV_ATTR=+c,+i,+a,+d,+m,+f', '-DETISS_DIR=/tmp/mlonmcu_env/deps/install/etiss', '-DPULPINO_ROM_START=0', '-DPULPINO_ROM_SIZE=8388608', '-DPULPINO_RAM_START=8388608', '-DPULPINO_RAM_SIZE=67108864', '-DTARGET_SYSTEM=etiss_pulpino', '-DTOOLCHAIN=gcc', '-DLLVM_DIR=/tmp/mlonmcu_env/deps/install/llvm', '-DMODEL_SUPPORT_DIR=/tmp/mlonmcu_env/models/resnet/support', '-DSRC_DIR=/tmp/mlonmcu_env/temp/sessions/1/runs/0', '-DDATA_SRC=')\n",
      "DEBUG - - Executing: ('make', '-j64', 'generic_mlif')\n",
      "DEBUG - [session-1] [run-0] Exporting run to disk\n",
      "DEBUG - [session-1] [run-0] Writing run file\n",
      "INFO - [session-1]  Processing stage RUN\n",
      "DEBUG - [session-1] [run-0] Continuing run from stage RUN until stage RUN\n",
      "DEBUG - [session-1] [run-0] Processing stage RUN\n",
      "DEBUG - - Executing: (PosixPath('/tmp/mlonmcu_env/deps/install/etiss/bin/run_helper.sh'), PosixPath('/tmp/mlonmcu_env/temp/sessions/1/runs/0/generic_mlif'), '-i/tmp/tmplungxav3/custom.ini')\n",
      "DEBUG - - Executing: (PosixPath('/tmp/mlonmcu_env/deps/src/etiss/src/bare_etiss_processor/get_metrics.py'), PosixPath('/tmp/mlonmcu_env/temp/sessions/1/runs/0/generic_mlif'), '--ini', '/tmp/tmplungxav3/custom.ini', '--out', '/tmp/tmplungxav3/metrics.csv')\n",
      "DEBUG - [session-1] [run-0] Exporting run to disk\n",
      "DEBUG - [session-1] [run-0] Writing run file\n",
      "INFO - All runs completed successfuly!\n",
      "INFO - Postprocessing session report\n",
      "INFO - [session-1] Done processing runs\n",
      "INFO - Report:\n",
      "   Session  Run   Model Frontend Framework Backend Platform         Target    Cycles  Total ROM  Total RAM  ROM read-only  ROM code  ROM misc  RAM data  RAM zero-init data Features                                             Config Postprocesses Comment\n",
      "0        1    0  resnet   tflite       tvm  tvmaot     mlif  etiss_pulpino  82445446     233292     124785         167456     65692       144      2485              122300       []  {'tflite.use_inout_data': False, 'tflite.visua...            []       -\n",
      "DEBUG - Exit MlonMcuContext\n",
      "DEBUG - Cleaning up active sessions\n",
      "DEBUG - Releasing lock on context\n"
     ]
    }
   ],
   "source": [
    "!mlonmcu flow run resnet --verbose"
   ]
  },
  {
   "cell_type": "markdown",
   "id": "4812f846",
   "metadata": {},
   "source": [
    "The report of a run is typically the first thing to check out after invoking MLonMCU. It will be automatically written to the `results` directory declared in the `environments.yml`:"
   ]
  },
  {
   "cell_type": "code",
   "execution_count": 10,
   "id": "a6e147f8",
   "metadata": {
    "scrolled": true
   },
   "outputs": [
    {
     "name": "stdout",
     "output_type": "stream",
     "text": [
      "/tmp/mlonmcu_env/results/unnamed_20231128T094522.csv\n",
      "/tmp/mlonmcu_env/results/unnamed_20231128T094543.csv\n"
     ]
    }
   ],
   "source": [
    "!ls $MLONMCU_HOME/results/*.csv"
   ]
  },
  {
   "cell_type": "markdown",
   "id": "f1ffb5b9",
   "metadata": {},
   "source": [
    "Let's define some helper functions to print these reports as a table. Of course you could also just open them i.e. with Excel! "
   ]
  },
  {
   "cell_type": "code",
   "execution_count": 11,
   "id": "3ca15186",
   "metadata": {},
   "outputs": [],
   "source": [
    "from helpers import tabularize_latest_report"
   ]
  },
  {
   "cell_type": "markdown",
   "id": "849d148a",
   "metadata": {},
   "source": [
    "In the following line the results or the latest run should be printed as a Pandas dataframe:"
   ]
  },
  {
   "cell_type": "code",
   "execution_count": 12,
   "id": "6d224b05",
   "metadata": {},
   "outputs": [
    {
     "data": {
      "text/html": [
       "<div>\n",
       "<style scoped>\n",
       "    .dataframe tbody tr th:only-of-type {\n",
       "        vertical-align: middle;\n",
       "    }\n",
       "\n",
       "    .dataframe tbody tr th {\n",
       "        vertical-align: top;\n",
       "    }\n",
       "\n",
       "    .dataframe thead th {\n",
       "        text-align: right;\n",
       "    }\n",
       "</style>\n",
       "<table border=\"1\" class=\"dataframe\">\n",
       "  <thead>\n",
       "    <tr style=\"text-align: right;\">\n",
       "      <th></th>\n",
       "      <th>Session</th>\n",
       "      <th>Run</th>\n",
       "      <th>Model</th>\n",
       "      <th>Frontend</th>\n",
       "      <th>Framework</th>\n",
       "      <th>Backend</th>\n",
       "      <th>Platform</th>\n",
       "      <th>Target</th>\n",
       "      <th>Cycles</th>\n",
       "      <th>Total ROM</th>\n",
       "      <th>Total RAM</th>\n",
       "      <th>ROM read-only</th>\n",
       "      <th>ROM code</th>\n",
       "      <th>ROM misc</th>\n",
       "      <th>RAM data</th>\n",
       "      <th>RAM zero-init data</th>\n",
       "      <th>Features</th>\n",
       "      <th>Config</th>\n",
       "      <th>Postprocesses</th>\n",
       "      <th>Comment</th>\n",
       "    </tr>\n",
       "  </thead>\n",
       "  <tbody>\n",
       "    <tr>\n",
       "      <th>0</th>\n",
       "      <td>1</td>\n",
       "      <td>0</td>\n",
       "      <td>resnet</td>\n",
       "      <td>tflite</td>\n",
       "      <td>tvm</td>\n",
       "      <td>tvmaot</td>\n",
       "      <td>mlif</td>\n",
       "      <td>etiss_pulpino</td>\n",
       "      <td>82445446</td>\n",
       "      <td>233292</td>\n",
       "      <td>124785</td>\n",
       "      <td>167456</td>\n",
       "      <td>65692</td>\n",
       "      <td>144</td>\n",
       "      <td>2485</td>\n",
       "      <td>122300</td>\n",
       "      <td>[]</td>\n",
       "      <td>{'tflite.use_inout_data': False, 'tflite.visua...</td>\n",
       "      <td>[]</td>\n",
       "      <td>-</td>\n",
       "    </tr>\n",
       "  </tbody>\n",
       "</table>\n",
       "</div>"
      ],
      "text/plain": [
       "   Session  Run   Model Frontend Framework Backend Platform         Target  \\\n",
       "0        1    0  resnet   tflite       tvm  tvmaot     mlif  etiss_pulpino   \n",
       "\n",
       "     Cycles  Total ROM  Total RAM  ROM read-only  ROM code  ROM misc  \\\n",
       "0  82445446     233292     124785         167456     65692       144   \n",
       "\n",
       "   RAM data  RAM zero-init data Features  \\\n",
       "0      2485              122300       []   \n",
       "\n",
       "                                              Config Postprocesses Comment  \n",
       "0  {'tflite.use_inout_data': False, 'tflite.visua...            []       -  "
      ]
     },
     "execution_count": 12,
     "metadata": {},
     "output_type": "execute_result"
    }
   ],
   "source": [
    "tabularize_latest_report()"
   ]
  },
  {
   "cell_type": "markdown",
   "id": "c769e10e",
   "metadata": {},
   "source": [
    "The artifacts for every invocation of the MLonMCU flow can be found in directory inside the environment. Your can find the latest files like this:"
   ]
  },
  {
   "cell_type": "code",
   "execution_count": 13,
   "id": "6483d068",
   "metadata": {},
   "outputs": [],
   "source": [
    "# Install the `tree` package before running this cell!\n",
    "# !tree -L 3 $MLONMCU_HOME/temp/sessions/latest/"
   ]
  },
  {
   "cell_type": "markdown",
   "id": "857b4a47",
   "metadata": {},
   "source": [
    "However there is a more comfortable way to do this: `mlonmcu export`"
   ]
  },
  {
   "cell_type": "code",
   "execution_count": 14,
   "id": "a03858fa",
   "metadata": {},
   "outputs": [
    {
     "name": "stdout",
     "output_type": "stream",
     "text": [
      "INFO - Loading environment cache from file\n",
      "INFO - Successfully initialized cache\n",
      "Creating directory: /tmp/some_directory\n",
      "Done\n"
     ]
    }
   ],
   "source": [
    "!mkdir -p /tmp/some_directory\n",
    "!mlonmcu export /tmp/some_directory --run -f # By default this exports the latest run of the latest session"
   ]
  },
  {
   "cell_type": "markdown",
   "id": "18969447",
   "metadata": {},
   "source": [
    "Check out `mlonmcu export --help` to learn learn how to get the most out of this command. There is also a utility called `mlonmcu cleanup` which helps to get rid of old files after exporting the useful ones."
   ]
  },
  {
   "cell_type": "markdown",
   "id": "d5ee098e",
   "metadata": {},
   "source": [
    "There exist multiple stages which can be processed. The subcommand passed to `mlonmcu flow` defines the stage where the flow should stop. If you are only interested in intermediate artifacts of the process, use one of the following:\n",
    "\n",
    "```\n",
    "mlonmcu flow load  # only process the model with the frontend\n",
    "mlonmcu flow build  # invoke the chosen backend to generate code\n",
    "mlonmcu flow compile  # (cross-)compile the code for the chosen target\n",
    "```\n",
    "\n",
    "Further commands are available to achive further behavior:\n",
    "\n",
    "```\n",
    "mlonmcu flow test  # use provided model-data to invoke the models comparing their outputs with a golden reference\n",
    "```"
   ]
  },
  {
   "cell_type": "markdown",
   "id": "48ce915e",
   "metadata": {},
   "source": [
    "**Explicitly specify the backend and target to use for the flow**"
   ]
  },
  {
   "cell_type": "code",
   "execution_count": 15,
   "id": "47621bbc",
   "metadata": {},
   "outputs": [
    {
     "name": "stdout",
     "output_type": "stream",
     "text": [
      "INFO - Loading environment cache from file\n",
      "INFO - Successfully initialized cache\n",
      "INFO - [session-2]  Processing stage LOAD\n",
      "INFO - [session-2]  Processing stage BUILD\n",
      "INFO - [session-2]  Processing stage COMPILE\n",
      "INFO - [session-2]  Processing stage RUN\n",
      "INFO - All runs completed successfuly!\n",
      "INFO - Postprocessing session report\n",
      "INFO - [session-2] Done processing runs\n",
      "INFO - Report:\n",
      "   Session  Run       Model Frontend Framework Backend Platform    Target  Runtime [s]  Total ROM  Total RAM  ROM read-only  ROM code  ROM misc  RAM data  RAM zero-init data Features                                             Config Postprocesses Comment\n",
      "0        2    0  sine_model   tflite       tvm  tvmaot     mlif  host_x86     0.006947       6697        273           1504      3813      1380        25                 248       []  {'tflite.use_inout_data': False, 'tflite.visua...            []       -\n"
     ]
    }
   ],
   "source": [
    "!mlonmcu flow run sine_model --backend tvmaot --target host_x86"
   ]
  },
  {
   "cell_type": "markdown",
   "id": "b048c328",
   "metadata": {},
   "source": [
    "**Enable certain features for all defined runs**"
   ]
  },
  {
   "cell_type": "code",
   "execution_count": 16,
   "id": "4dcda1a6",
   "metadata": {},
   "outputs": [
    {
     "name": "stdout",
     "output_type": "stream",
     "text": [
      "INFO - Loading environment cache from file\n",
      "INFO - Successfully initialized cache\n",
      "INFO - [session-3]  Processing stage LOAD\n",
      "INFO - [session-3]  Processing stage BUILD\n",
      "INFO - [session-3]  Processing stage COMPILE\n",
      "INFO - [session-3]  Processing stage RUN\n",
      "INFO - All runs completed successfuly!\n",
      "INFO - Postprocessing session report\n",
      "INFO - [session-3] Done processing runs\n",
      "INFO - Report:\n",
      "   Session  Run   Model Frontend Framework Backend Platform         Target  Cycles  Total ROM  Total RAM  ROM read-only  ROM code  ROM misc  RAM data  RAM zero-init data        Features                                             Config Postprocesses Comment\n",
      "0        3    0  toycar   tflite       tvm  tvmaot     mlif  etiss_pulpino  956456     598414       5837         538216     60054       144      2493                3344  [unpacked_api]  {'tflite.use_inout_data': False, 'tflite.visua...            []       -\n"
     ]
    }
   ],
   "source": [
    "!mlonmcu flow run toycar --backend tvmaot --target etiss_pulpino --feature unpacked_api"
   ]
  },
  {
   "cell_type": "markdown",
   "id": "c539c1bb",
   "metadata": {},
   "source": [
    "**Add additional configuration options to customize internal components**"
   ]
  },
  {
   "cell_type": "code",
   "execution_count": 17,
   "id": "61835423",
   "metadata": {},
   "outputs": [
    {
     "name": "stdout",
     "output_type": "stream",
     "text": [
      "INFO - Loading environment cache from file\n",
      "INFO - Successfully initialized cache\n",
      "INFO - [session-4]  Processing stage LOAD\n",
      "INFO - [session-4]  Processing stage BUILD\n",
      "INFO - [session-4]  Processing stage COMPILE\n",
      "INFO - [session-4]  Processing stage RUN\n",
      "INFO - All runs completed successfuly!\n",
      "INFO - Postprocessing session report\n",
      "INFO - [session-4] Done processing runs\n",
      "INFO - Report:\n",
      "   Session  Run   Model Frontend Framework Backend Platform         Target     Cycles  Total ROM  Total RAM  ROM read-only  ROM code  ROM misc  RAM data  RAM zero-init data Features                                             Config Postprocesses Comment\n",
      "0        4    0  resnet   tflite       tvm  tvmaot     mlif  etiss_pulpino  109585361     245416     198321         168120     77152       144      2485              195836       []  {'tflite.use_inout_data': False, 'tflite.visua...            []       -\n"
     ]
    }
   ],
   "source": [
    "!mlonmcu flow run resnet --backend tvmaot --config tvmaot.target_device=arm_cpu"
   ]
  },
  {
   "cell_type": "markdown",
   "id": "40f38f8f",
   "metadata": {},
   "source": [
    "Instead of defining certain key-value pass on each command line, feel free to use the `vars:` property defined in the `environment.yml` to achieve the same result."
   ]
  },
  {
   "cell_type": "markdown",
   "id": "dde2adc5",
   "metadata": {},
   "source": [
    "**Invoke multiple models on multiple backends/targets**"
   ]
  },
  {
   "cell_type": "code",
   "execution_count": 18,
   "id": "acb86cc3",
   "metadata": {},
   "outputs": [
    {
     "name": "stdout",
     "output_type": "stream",
     "text": [
      "INFO - Loading environment cache from file\n",
      "INFO - Successfully initialized cache\n",
      "INFO - [session-5]  Processing stage LOAD\n",
      "INFO - [session-5]  Processing stage BUILD\n",
      "INFO - [session-5]  Processing stage COMPILE\n",
      "INFO - [session-5]  Processing stage RUN\n",
      "INFO - All runs completed successfuly!\n",
      "INFO - Postprocessing session report\n",
      "INFO - [session-5] Done processing runs\n",
      "INFO - Report:\n",
      "   Session  Run   Model Frontend Framework Backend Platform         Target     Cycles  Total ROM  Total RAM  ROM read-only  ROM code  ROM misc  RAM data  RAM zero-init data Features                                             Config Postprocesses Comment\n",
      "0        5    0  resnet   tflite       tvm  tvmaot     mlif  etiss_pulpino   82445446     233292     124785         167456     65692       144      2485              122300       []  {'tflite.use_inout_data': False, 'tflite.visua...            []       -\n",
      "1        5    1  resnet   tflite      tflm   tflmi     mlif  etiss_pulpino  154847506     198356      68613         102784     95424       148      2485               66128       []  {'tflite.use_inout_data': False, 'tflite.visua...            []       -\n",
      "2        5    2  toycar   tflite       tvm  tvmaot     mlif  etiss_pulpino     957312     600584       5837         538224     62216       144      2485                3352       []  {'tflite.use_inout_data': False, 'tflite.visua...            []       -\n",
      "3        5    3  toycar   tflite      tflm   tflmi     mlif  etiss_pulpino    3026331     349114      19249         280912     68054       148      2485               16764       []  {'tflite.use_inout_data': False, 'tflite.visua...            []       -\n",
      "\n",
      "real\t1m20.277s\n",
      "user\t11m34.690s\n",
      "sys\t0m44.597s\n"
     ]
    }
   ],
   "source": [
    "!time mlonmcu flow run resnet toycar --backend tvmaot --backend tflmi  --target etiss_pulpino"
   ]
  },
  {
   "cell_type": "markdown",
   "id": "a0a94aef",
   "metadata": {},
   "source": [
    "**Exploit parallelism to reduce the processing time**"
   ]
  },
  {
   "cell_type": "code",
   "execution_count": 19,
   "id": "a2cd60e3",
   "metadata": {},
   "outputs": [
    {
     "name": "stdout",
     "output_type": "stream",
     "text": [
      "INFO - Loading environment cache from file\n",
      "INFO - Successfully initialized cache\n",
      "INFO - [session-6]  Processing stage LOAD\n",
      "INFO - [session-6]  Processing stage BUILD\n",
      "INFO - [session-6]  Processing stage COMPILE\n",
      "INFO - [session-6]  Processing stage RUN\n",
      "INFO - All runs completed successfuly!\n",
      "INFO - Postprocessing session report\n",
      "INFO - [session-6] Done processing runs\n",
      "INFO - Report:\n",
      "   Session  Run   Model Frontend Framework Backend Platform         Target     Cycles  Total ROM  Total RAM  ROM read-only  ROM code  ROM misc  RAM data  RAM zero-init data Features                                             Config Postprocesses Comment\n",
      "0        6    0  resnet   tflite       tvm  tvmaot     mlif  etiss_pulpino   82445446     233292     124785         167456     65692       144      2485              122300       []  {'tflite.use_inout_data': False, 'tflite.visua...            []       -\n",
      "1        6    1  resnet   tflite      tflm   tflmi     mlif  etiss_pulpino  154847506     198356      68613         102784     95424       148      2485               66128       []  {'tflite.use_inout_data': False, 'tflite.visua...            []       -\n",
      "2        6    2  toycar   tflite       tvm  tvmaot     mlif  etiss_pulpino     957312     600584       5837         538224     62216       144      2485                3352       []  {'tflite.use_inout_data': False, 'tflite.visua...            []       -\n",
      "3        6    3  toycar   tflite      tflm   tflmi     mlif  etiss_pulpino    3026331     349114      19249         280912     68054       148      2485               16764       []  {'tflite.use_inout_data': False, 'tflite.visua...            []       -\n",
      "\n",
      "real\t3m17.636s\n",
      "user\t11m22.684s\n",
      "sys\t0m47.805s\n"
     ]
    }
   ],
   "source": [
    "!time mlonmcu flow run resnet toycar --backend tvmaot --backend tflmi --target etiss_pulpino --parallel --config runs_per_stage=0 --config mlif.num_threads=2"
   ]
  },
  {
   "cell_type": "markdown",
   "id": "35b41326",
   "metadata": {},
   "source": [
    "**Display progress information for long-running benchmarks**"
   ]
  },
  {
   "cell_type": "markdown",
   "id": "eb4df598",
   "metadata": {},
   "source": [
    "**WARNING:** The progress output looks bit broken inside the Jupyter Notebook but should look fine on the command-line."
   ]
  },
  {
   "cell_type": "code",
   "execution_count": 20,
   "id": "6fe3057f",
   "metadata": {},
   "outputs": [
    {
     "name": "stdout",
     "output_type": "stream",
     "text": [
      "INFO - Loading environment cache from file\n",
      "INFO - Successfully initialized cache\n",
      "Processing stages:   0%|                                                              | 0/4 [00:00s]\n",
      "Processing stage LOAD:   0%|                                                         | 0/12 [00:00s]\u001b[A\n",
      "Processing stage LOAD:  92%|███████████████████████████████████████████████████▎    | 11/12 [00:00s]\u001b[A\n",
      "Processing stages:  25%|███████████████▌                                              | 1/4 [00:00s]\u001b[A\n",
      "Processing stage BUILD:   0%|                                                        | 0/12 [00:00s]\u001b[A\n",
      "Processing stage BUILD:   8%|████▋                                                   | 1/12 [00:00s]\u001b[A\n",
      "Processing stage BUILD:  42%|███████████████████████▎                                | 5/12 [00:01s]\u001b[A\n",
      "Processing stage BUILD:  58%|████████████████████████████████▋                       | 7/12 [00:04s]\u001b[A\n",
      "Processing stage BUILD:  67%|█████████████████████████████████████▎                  | 8/12 [00:04s]\u001b[A\n",
      "Processing stage BUILD:  75%|██████████████████████████████████████████              | 9/12 [00:07s]\u001b[A\n",
      "Processing stage BUILD:  92%|██████████████████████████████████████████████████▍    | 11/12 [00:12s]\u001b[A\n",
      "Processing stages:  50%|███████████████████████████████                               | 2/4 [00:12s]\u001b[A\n",
      "Processing stage COMPILE:   0%|                                                      | 0/12 [00:00s]\u001b[A\n",
      "Processing stage COMPILE:   8%|████▌                                                 | 1/12 [00:09s]\u001b[A\n",
      "Processing stage COMPILE:  17%|█████████                                             | 2/12 [00:09s]\u001b[A\n",
      "Processing stage COMPILE:  25%|█████████████▌                                        | 3/12 [00:10s]\u001b[A\n",
      "Processing stage COMPILE:  33%|██████████████████                                    | 4/12 [00:10s]\u001b[A\n",
      "Processing stage COMPILE:  42%|██████████████████████▌                               | 5/12 [00:11s]\u001b[A\n",
      "Processing stage COMPILE:  50%|███████████████████████████                           | 6/12 [00:11s]\u001b[A\n",
      "Processing stage COMPILE:  58%|███████████████████████████████▌                      | 7/12 [03:07s]\u001b[A\n",
      "Processing stage COMPILE:  75%|████████████████████████████████████████▌             | 9/12 [03:08s]\u001b[A\n",
      "Processing stage COMPILE:  83%|████████████████████████████████████████████▏        | 10/12 [03:28s]\u001b[A\n",
      "Processing stage COMPILE:  92%|████████████████████████████████████████████████▌    | 11/12 [03:28s]\u001b[A\n",
      "Processing stage COMPILE: 100%|█████████████████████████████████████████████████████| 12/12 [03:28s]\u001b[A\n",
      "Processing stages:  75%|██████████████████████████████████████████████▌               | 3/4 [03:41s]\u001b[A\n",
      "Processing stage RUN:   0%|                                                          | 0/12 [00:00s]\u001b[A\n",
      "Processing stage RUN:   8%|████▊                                                     | 1/12 [00:00s]\u001b[A\n",
      "Processing stage RUN:  25%|██████████████▌                                           | 3/12 [00:00s]\u001b[A\n",
      "Processing stage RUN:  50%|█████████████████████████████                             | 6/12 [00:00s]\u001b[A\n",
      "Processing stage RUN:  67%|██████████████████████████████████████▋                   | 8/12 [00:01s]\u001b[A\n",
      "Processing stage RUN:  83%|███████████████████████████████████████████████▌         | 10/12 [00:01s]\u001b[A\n",
      "Processing stage RUN:  92%|████████████████████████████████████████████████████▎    | 11/12 [00:02s]\u001b[A\n",
      "Processing stage RUN: 100%|█████████████████████████████████████████████████████████| 12/12 [00:04s]\u001b[A\n",
      "Processing stages: 100%|██████████████████████████████████████████████████████████████| 4/4 [03:46s]\u001b[A\n",
      "INFO - All runs completed successfuly!\n",
      "INFO - Postprocessing session report\n",
      "INFO - [session-7] Done processing runs\n",
      "INFO - Report:\n",
      "    Session  Run         Model Frontend Framework Backend Platform         Target       Cycles  Total ROM  Total RAM  ROM read-only  ROM code  ROM misc  RAM data  RAM zero-init data  Runtime [s] Features                                             Config Postprocesses Comment\n",
      "0         7    0        resnet   tflite       tvm  tvmaot     mlif  etiss_pulpino   82445446.0     233292     124785         167456     65692       144      2485              122300          NaN       []  {'tflite.use_inout_data': False, 'tflite.visua...            []       -\n",
      "1         7    1        resnet   tflite      tflm   tflmi     mlif  etiss_pulpino  154847506.0     198356      68613         102784     95424       148      2485               66128          NaN       []  {'tflite.use_inout_data': False, 'tflite.visua...            []       -\n",
      "2         7    2        resnet   tflite       tvm  tvmaot     mlif       host_x86          NaN     187825     122321         164640     20933      2252        25              122296     0.045094       []  {'tflite.use_inout_data': False, 'tflite.visua...            []       -\n",
      "3         7    3        resnet   tflite      tflm   tflmi     mlif       host_x86          NaN     185577      66561          99512     74677     11388        17               66544     0.131622       []  {'tflite.use_inout_data': False, 'tflite.visua...            []       -\n",
      "4         7    4        toycar   tflite       tvm  tvmaot     mlif  etiss_pulpino     957312.0     600584       5837         538224     62216       144      2485                3352          NaN       []  {'tflite.use_inout_data': False, 'tflite.visua...            []       -\n",
      "5         7    5        toycar   tflite      tflm   tflmi     mlif  etiss_pulpino    3026331.0     349114      19249         280912     68054       148      2485               16764          NaN       []  {'tflite.use_inout_data': False, 'tflite.visua...            []       -\n",
      "6         7    6        toycar   tflite       tvm  tvmaot     mlif       host_x86          NaN     582937       3345         535360     45349      2228        25                3320     0.059293       []  {'tflite.use_inout_data': False, 'tflite.visua...            []       -\n",
      "7         7    7        toycar   tflite      tflm   tflmi     mlif       host_x86          NaN     316033      16985         277672     30085      8276        17               16968     0.162584       []  {'tflite.use_inout_data': False, 'tflite.visua...            []       -\n",
      "8         7    8  micro_speech   tflite       tvm  tvmaot     mlif  etiss_pulpino    1685426.0      90960      21925          36792     54024       144      2485               19440          NaN       []  {'tflite.use_inout_data': False, 'tflite.visua...            []       -\n",
      "9         7    9  micro_speech   tflite      tflm   tflmi     mlif  etiss_pulpino    6506034.0     110236      11229          22968     87120       148      2485                8744          NaN       []  {'tflite.use_inout_data': False, 'tflite.visua...            []       -\n",
      "10        7   10  micro_speech   tflite       tvm  tvmaot     mlif       host_x86          NaN      41961      19489          33904      6517      1540        25               19464     0.022164       []  {'tflite.use_inout_data': False, 'tflite.visua...            []       -\n",
      "11        7   11  micro_speech   tflite      tflm   tflmi     mlif       host_x86          NaN      91233       9121          19608     61029     10596        17                9104     0.035018       []  {'tflite.use_inout_data': False, 'tflite.visua...            []       -\n"
     ]
    }
   ],
   "source": [
    "!mlonmcu flow run resnet toycar micro_speech --progress --backend tvmaot --backend tflmi --target etiss_pulpino --target host_x86 --parallel --config mlif.num_threads=2"
   ]
  },
  {
   "cell_type": "markdown",
   "id": "0f7d4429",
   "metadata": {},
   "source": [
    "**Inspecting and exporting results and intermediate artifacts**"
   ]
  },
  {
   "cell_type": "code",
   "execution_count": 21,
   "id": "19f7a6d6",
   "metadata": {},
   "outputs": [],
   "source": [
    "# !mlonmcu export --session 0 --run 0 run.zip  # Export run 0 from session 0 to a zip archive\n",
    "# !mlonmcu export --session 1 session.zip  # Export every run of session 1 to a zip archive\n",
    "# !mlonmcu export session/  # Export the latest session to a directory"
   ]
  },
  {
   "cell_type": "markdown",
   "id": "9772e9f6",
   "metadata": {},
   "source": [
    "**Cleanup an MLonMCU environment**"
   ]
  },
  {
   "cell_type": "code",
   "execution_count": 22,
   "id": "879eb342",
   "metadata": {},
   "outputs": [],
   "source": [
    "# !mlonmcu cleanup  # Interactively clean sessions\n",
    "# !mlonmcu cleanup --force  # Clean all sessions\n",
    "# !mlonmcu cleanup --keep 10 --force  # Keep only the latest 10 sessions\n",
    "# !mlonmcu cleanup --dependencies  # Remove every installed dependency"
   ]
  },
  {
   "cell_type": "markdown",
   "id": "56b328e0",
   "metadata": {},
   "source": [
    "**Internal command line interfaces**"
   ]
  },
  {
   "cell_type": "code",
   "execution_count": 23,
   "id": "f941fdec",
   "metadata": {},
   "outputs": [
    {
     "name": "stdout",
     "output_type": "stream",
     "text": [
      "/usr/lib/python3.8/runpy.py:127: RuntimeWarning: 'mlonmcu.target.riscv.etiss_pulpino' found in sys.modules after import of package 'mlonmcu.target.riscv', but prior to execution of 'mlonmcu.target.riscv.etiss_pulpino'; this may result in unpredictable behaviour\n",
      "  warn(RuntimeWarning(msg))\n",
      "usage: etiss_pulpino.py [-h] {exec,inspect} ...\n",
      "\n",
      "ML on MCU Target\n",
      "\n",
      "positional arguments:\n",
      "  {exec,inspect}\n",
      "\n",
      "optional arguments:\n",
      "  -h, --help      show this help message and exit\n"
     ]
    }
   ],
   "source": [
    "!python -m mlonmcu.target.riscv.etiss_pulpino -h"
   ]
  },
  {
   "cell_type": "code",
   "execution_count": 24,
   "id": "cae7f54a",
   "metadata": {},
   "outputs": [
    {
     "name": "stdout",
     "output_type": "stream",
     "text": [
      "/usr/lib/python3.8/runpy.py:127: RuntimeWarning: 'mlonmcu.flow.tvm.backend.tvmaot' found in sys.modules after import of package 'mlonmcu.flow.tvm.backend', but prior to execution of 'mlonmcu.flow.tvm.backend.tvmaot'; this may result in unpredictable behaviour\n",
      "  warn(RuntimeWarning(msg))\n",
      "usage: tvmaot.py [-h] [--output DIR] [--verbose] [--print] [-f FEATURE]\n",
      "                 [-c KEY=VALUE [KEY=VALUE ...]]\n",
      "                 MODEL\n",
      "\n",
      "Run tvmaot backend\n",
      "\n",
      "positional arguments:\n",
      "  MODEL                 Model to process\n",
      "\n",
      "optional arguments:\n",
      "  -h, --help            show this help message and exit\n",
      "  --output DIR, -o DIR  Output directory/file (default: /var/tmp/ga87puy/mlonmcu/ipynb/out)\n",
      "  --verbose, -v         Print detailed messages for easier debugging (default: False)\n",
      "  --print, -p           Print the generated code to the command line instead (default: False)\n",
      "  -f FEATURE, --feature FEATURE\n",
      "                        Enabled features for the backend (default: None choices: autotuned, cmsisnnbyoc, muriscvnnbyoc, disable_legalize, moiopt, debug_arena, unpacked_api, usmp)\n",
      "  -c KEY=VALUE [KEY=VALUE ...], --config KEY=VALUE [KEY=VALUE ...]\n",
      "                        Set a number of key-value pairs\n",
      "                        \n",
      "                        Allowed options:\n",
      "                        - [tvmaot].print_outputs (Default: False)\n",
      "                        - [tvmaot].opt_level (Default: 3)\n",
      "                        - [tvmaot].target_device (Default: None)\n",
      "                        - [tvmaot].target_mcpu (Default: None)\n",
      "                        - [tvmaot].target_march (Default: None)\n",
      "                        - [tvmaot].target_model (Default: None)\n",
      "                        - [tvmaot].target_mtriple (Default: None)\n",
      "                        - [tvmaot].target_mabi (Default: None)\n",
      "                        - [tvmaot].target_mattr (Default: None)\n",
      "                        - [tvmaot].extra_target (Default: None)\n",
      "                        - [tvmaot].extra_target_mcpu (Default: None)\n",
      "                        - [tvmaot].desired_layout (Default: None)\n",
      "                        - [tvmaot].disabled_passes (Default: [])\n",
      "                        - [tvmaot].extra_pass_config (Default: {})\n",
      "                        - [tvmaot].use_tuning_results (Default: False)\n",
      "                        - [tvmaot].tvmc_extra_args (Default: [])\n",
      "                        - [tvmaot].tvmc_custom_script (Default: None)\n",
      "                        - [tvmaot].tophub_url (Default: None)\n",
      "                        - [tvmaot].num_threads (Default: 64)\n",
      "                        - [tvmaot].debug_arena (Default: False)\n",
      "                        - [tvmaot].arena_size (Default: None)\n",
      "                        - [tvmaot].unpacked_api (Default: False)\n",
      "                        - [tvmaot].alignment_bytes (Default: 4)\n"
     ]
    }
   ],
   "source": [
    "!python -m mlonmcu.flow.tvm.backend.tvmaot -h"
   ]
  },
  {
   "cell_type": "markdown",
   "id": "c542489c",
   "metadata": {},
   "source": [
    "## Demonstration (Python API)"
   ]
  },
  {
   "cell_type": "markdown",
   "id": "05e8646f",
   "metadata": {},
   "source": [
    "### Preface"
   ]
  },
  {
   "cell_type": "markdown",
   "id": "665848cb",
   "metadata": {},
   "source": [
    "While it is also possible to initialize and setup an MLonMCU environment via Python, it is highly recommended to use the provided command line interfaces for these steps. The following examples demonstrate how to use the MLonMCU flow from within a Python program which enables more customizations of the internal features via scripting."
   ]
  },
  {
   "cell_type": "code",
   "execution_count": 25,
   "id": "6d4cc4f5",
   "metadata": {},
   "outputs": [
    {
     "name": "stdout",
     "output_type": "stream",
     "text": [
      "env: MLONMCU_HOME=/tmp/mlonmcu_env\n"
     ]
    }
   ],
   "source": [
    "%env MLONMCU_HOME=/tmp/mlonmcu_env"
   ]
  },
  {
   "cell_type": "markdown",
   "id": "cdc59158",
   "metadata": {},
   "source": [
    "### Open a MLonMCU context to load the environment"
   ]
  },
  {
   "cell_type": "code",
   "execution_count": 26,
   "id": "faae27e4",
   "metadata": {},
   "outputs": [
    {
     "name": "stdout",
     "output_type": "stream",
     "text": [
      "INFO - Loading environment cache from file\n",
      "INFO - Successfully initialized cache\n"
     ]
    }
   ],
   "source": [
    "import mlonmcu.context\n",
    "\n",
    "with mlonmcu.context.MlonMcuContext() as context:\n",
    "    pass"
   ]
  },
  {
   "cell_type": "markdown",
   "id": "c6046d79",
   "metadata": {},
   "source": [
    "### Running the MLonMCU flow"
   ]
  },
  {
   "cell_type": "code",
   "execution_count": 27,
   "id": "98d6bb90",
   "metadata": {},
   "outputs": [
    {
     "name": "stdout",
     "output_type": "stream",
     "text": [
      "INFO - Loading environment cache from file\n",
      "INFO - Successfully initialized cache\n",
      "INFO - [session-8] Processing all stages\n",
      "INFO - All runs completed successfuly!\n",
      "INFO - Postprocessing session report\n",
      "INFO - [session-8] Done processing runs\n"
     ]
    }
   ],
   "source": [
    "import mlonmcu.context\n",
    "from mlonmcu.session.run import RunStage\n",
    "\n",
    "MODEL_NAMES = [\"magic_wand\", \"micro_speech\", \"toycar\"]\n",
    "\n",
    "with mlonmcu.context.MlonMcuContext() as context:\n",
    "    session = context.create_session()\n",
    "    for model_name in MODEL_NAMES:\n",
    "        run = session.create_run(features=[], config={})\n",
    "        run.add_frontend_by_name(\"tflite\", context=context)\n",
    "        run.add_model_by_name(model_name, context=context)\n",
    "        run.add_backend_by_name(\"tvmaot\", context=context)\n",
    "        run.add_platform_by_name(\"mlif\", context=context)\n",
    "        run.add_target_by_name(\"etiss_pulpino\", context=context)\n",
    "    session.process_runs(until=RunStage.RUN, context=context)\n",
    "    report = session.get_reports()"
   ]
  },
  {
   "cell_type": "markdown",
   "id": "73795038",
   "metadata": {},
   "source": [
    "Now we have the dataframe of the run we just defined and right in out python environment so we can have more fun with it."
   ]
  },
  {
   "cell_type": "code",
   "execution_count": 28,
   "id": "8aa95a0b",
   "metadata": {},
   "outputs": [
    {
     "data": {
      "text/html": [
       "<div>\n",
       "<style scoped>\n",
       "    .dataframe tbody tr th:only-of-type {\n",
       "        vertical-align: middle;\n",
       "    }\n",
       "\n",
       "    .dataframe tbody tr th {\n",
       "        vertical-align: top;\n",
       "    }\n",
       "\n",
       "    .dataframe thead th {\n",
       "        text-align: right;\n",
       "    }\n",
       "</style>\n",
       "<table border=\"1\" class=\"dataframe\">\n",
       "  <thead>\n",
       "    <tr style=\"text-align: right;\">\n",
       "      <th></th>\n",
       "      <th>Session</th>\n",
       "      <th>Run</th>\n",
       "      <th>Model</th>\n",
       "      <th>Frontend</th>\n",
       "      <th>Framework</th>\n",
       "      <th>Backend</th>\n",
       "      <th>Platform</th>\n",
       "      <th>Target</th>\n",
       "      <th>Cycles</th>\n",
       "      <th>Total ROM</th>\n",
       "      <th>Total RAM</th>\n",
       "      <th>ROM read-only</th>\n",
       "      <th>ROM code</th>\n",
       "      <th>ROM misc</th>\n",
       "      <th>RAM data</th>\n",
       "      <th>RAM zero-init data</th>\n",
       "      <th>Features</th>\n",
       "      <th>Config</th>\n",
       "      <th>Postprocesses</th>\n",
       "      <th>Comment</th>\n",
       "    </tr>\n",
       "  </thead>\n",
       "  <tbody>\n",
       "    <tr>\n",
       "      <th>0</th>\n",
       "      <td>8</td>\n",
       "      <td>0</td>\n",
       "      <td>magic_wand</td>\n",
       "      <td>tflite</td>\n",
       "      <td>tvm</td>\n",
       "      <td>tvmaot</td>\n",
       "      <td>mlif</td>\n",
       "      <td>etiss_pulpino</td>\n",
       "      <td>278386</td>\n",
       "      <td>75624</td>\n",
       "      <td>20489</td>\n",
       "      <td>20464</td>\n",
       "      <td>55016</td>\n",
       "      <td>144</td>\n",
       "      <td>2485</td>\n",
       "      <td>18004</td>\n",
       "      <td>[]</td>\n",
       "      <td>{'tflite.use_inout_data': False, 'tflite.visua...</td>\n",
       "      <td>[]</td>\n",
       "      <td>-</td>\n",
       "    </tr>\n",
       "    <tr>\n",
       "      <th>1</th>\n",
       "      <td>8</td>\n",
       "      <td>1</td>\n",
       "      <td>micro_speech</td>\n",
       "      <td>tflite</td>\n",
       "      <td>tvm</td>\n",
       "      <td>tvmaot</td>\n",
       "      <td>mlif</td>\n",
       "      <td>etiss_pulpino</td>\n",
       "      <td>1685426</td>\n",
       "      <td>90960</td>\n",
       "      <td>21925</td>\n",
       "      <td>36792</td>\n",
       "      <td>54024</td>\n",
       "      <td>144</td>\n",
       "      <td>2485</td>\n",
       "      <td>19440</td>\n",
       "      <td>[]</td>\n",
       "      <td>{'tflite.use_inout_data': False, 'tflite.visua...</td>\n",
       "      <td>[]</td>\n",
       "      <td>-</td>\n",
       "    </tr>\n",
       "    <tr>\n",
       "      <th>2</th>\n",
       "      <td>8</td>\n",
       "      <td>2</td>\n",
       "      <td>toycar</td>\n",
       "      <td>tflite</td>\n",
       "      <td>tvm</td>\n",
       "      <td>tvmaot</td>\n",
       "      <td>mlif</td>\n",
       "      <td>etiss_pulpino</td>\n",
       "      <td>957312</td>\n",
       "      <td>600584</td>\n",
       "      <td>5837</td>\n",
       "      <td>538224</td>\n",
       "      <td>62216</td>\n",
       "      <td>144</td>\n",
       "      <td>2485</td>\n",
       "      <td>3352</td>\n",
       "      <td>[]</td>\n",
       "      <td>{'tflite.use_inout_data': False, 'tflite.visua...</td>\n",
       "      <td>[]</td>\n",
       "      <td>-</td>\n",
       "    </tr>\n",
       "  </tbody>\n",
       "</table>\n",
       "</div>"
      ],
      "text/plain": [
       "   Session  Run         Model Frontend Framework Backend Platform  \\\n",
       "0        8    0    magic_wand   tflite       tvm  tvmaot     mlif   \n",
       "1        8    1  micro_speech   tflite       tvm  tvmaot     mlif   \n",
       "2        8    2        toycar   tflite       tvm  tvmaot     mlif   \n",
       "\n",
       "          Target   Cycles  Total ROM  Total RAM  ROM read-only  ROM code  \\\n",
       "0  etiss_pulpino   278386      75624      20489          20464     55016   \n",
       "1  etiss_pulpino  1685426      90960      21925          36792     54024   \n",
       "2  etiss_pulpino   957312     600584       5837         538224     62216   \n",
       "\n",
       "   ROM misc  RAM data  RAM zero-init data Features  \\\n",
       "0       144      2485               18004       []   \n",
       "1       144      2485               19440       []   \n",
       "2       144      2485                3352       []   \n",
       "\n",
       "                                              Config Postprocesses Comment  \n",
       "0  {'tflite.use_inout_data': False, 'tflite.visua...            []       -  \n",
       "1  {'tflite.use_inout_data': False, 'tflite.visua...            []       -  \n",
       "2  {'tflite.use_inout_data': False, 'tflite.visua...            []       -  "
      ]
     },
     "execution_count": 28,
     "metadata": {},
     "output_type": "execute_result"
    }
   ],
   "source": [
    "report.df"
   ]
  },
  {
   "cell_type": "markdown",
   "id": "c437f1cf",
   "metadata": {},
   "source": [
    "Let's add a quick visualization:"
   ]
  },
  {
   "cell_type": "code",
   "execution_count": 29,
   "id": "d9eb1414",
   "metadata": {},
   "outputs": [
    {
     "data": {
      "image/png": "[encoded data removed]",
      "text/plain": [
       "<Figure size 640x480 with 3 Axes>"
      ]
     },
     "metadata": {},
     "output_type": "display_data"
    }
   ],
   "source": [
    "import matplotlib.pyplot as plt\n",
    "\n",
    "COLS = [\"Cycles\", \"Total ROM\", \"Total RAM\"]\n",
    "\n",
    "fig, axes = plt.subplots(ncols=len(COLS))\n",
    "plt.rcParams[\"figure.figsize\"] = (15, 3)  # (w, h)\n",
    "\n",
    "\n",
    "for i, col in enumerate(COLS):\n",
    "    new_df = report.df[[col]].astype(float)\n",
    "    new_df.index = MODEL_NAMES\n",
    "    new_df.plot(kind=\"bar\", ax=axes[i])"
   ]
  }
 ],
 "metadata": {
  "kernelspec": {
   "display_name": "Python 3 (ipykernel)",
   "language": "python",
   "name": "python3"
  },
  "language_info": {
   "codemirror_mode": {
    "name": "ipython",
    "version": 3
   },
   "file_extension": ".py",
   "mimetype": "text/x-python",
   "name": "python",
   "nbconvert_exporter": "python",
   "pygments_lexer": "ipython3",
   "version": "3.8.10"
  }
 },
 "nbformat": 4,
 "nbformat_minor": 5
}
