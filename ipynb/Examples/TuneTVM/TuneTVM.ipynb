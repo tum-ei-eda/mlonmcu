{
 "cells": [
  {
   "cell_type": "markdown",
   "id": "67a623c3",
   "metadata": {
    "papermill": {
     "duration": 0.003471,
     "end_time": "2024-01-08T12:41:55.653092",
     "exception": false,
     "start_time": "2024-01-08T12:41:55.649621",
     "status": "completed"
    },
    "tags": []
   },
   "source": [
    "# Example: Auto-Tuning using TVM Platform"
   ]
  },
  {
   "cell_type": "markdown",
   "id": "1025ee11",
   "metadata": {
    "papermill": {
     "duration": 0.002351,
     "end_time": "2024-01-08T12:41:55.658162",
     "exception": false,
     "start_time": "2024-01-08T12:41:55.655811",
     "status": "completed"
    },
    "tags": []
   },
   "source": [
    "Autotuning is a very powerful method to optimize a given model for a specific target. In the following the usage of TVMs tuning feature is explained briefly."
   ]
  },
  {
   "cell_type": "markdown",
   "id": "3f7078e1",
   "metadata": {
    "papermill": {
     "duration": 0.002263,
     "end_time": "2024-01-08T12:41:55.662801",
     "exception": false,
     "start_time": "2024-01-08T12:41:55.660538",
     "status": "completed"
    },
    "tags": []
   },
   "source": [
    "*Warning:* This example only covers the TVM platform which should not be confused with the MicroTVM platform. Hence only the `tvm_cpu` (Host) target can be used for demonstartion purposes."
   ]
  },
  {
   "cell_type": "markdown",
   "id": "87fd1387",
   "metadata": {
    "papermill": {
     "duration": 0.002287,
     "end_time": "2024-01-08T12:41:55.667485",
     "exception": false,
     "start_time": "2024-01-08T12:41:55.665198",
     "status": "completed"
    },
    "tags": []
   },
   "source": [
    "## Supported components"
   ]
  },
  {
   "cell_type": "markdown",
   "id": "584a911d",
   "metadata": {
    "papermill": {
     "duration": 0.002316,
     "end_time": "2024-01-08T12:41:55.672114",
     "exception": false,
     "start_time": "2024-01-08T12:41:55.669798",
     "status": "completed"
    },
    "tags": []
   },
   "source": [
    "**Models:** Any (`toycar` used below)\n",
    "\n",
    "**Frontends:** Any (`tflite` used below)\n",
    "\n",
    "**Frameworks/Backends:** `tvmllvm` backend only\n",
    "\n",
    "**Platforms/Targets:** `tvm_cpu` target only\n",
    "\n",
    "**Features:** `autotune` and `autotuned` feature have to be enabled."
   ]
  },
  {
   "cell_type": "markdown",
   "id": "74ce776e",
   "metadata": {
    "papermill": {
     "duration": 0.00363,
     "end_time": "2024-01-08T12:41:55.678109",
     "exception": false,
     "start_time": "2024-01-08T12:41:55.674479",
     "status": "completed"
    },
    "tags": []
   },
   "source": [
    "## Prerequisites"
   ]
  },
  {
   "cell_type": "markdown",
   "id": "18955525",
   "metadata": {
    "papermill": {
     "duration": 0.002342,
     "end_time": "2024-01-08T12:41:55.683148",
     "exception": false,
     "start_time": "2024-01-08T12:41:55.680806",
     "status": "completed"
    },
    "tags": []
   },
   "source": [
    "Set up MLonmCU as usual, i.e. initialize an environment and install all required dependencies. Feel free to use the following minimal `environment.yml.j2` template:"
   ]
  },
  {
   "cell_type": "markdown",
   "id": "51eb8539",
   "metadata": {
    "papermill": {
     "duration": 0.00231,
     "end_time": "2024-01-08T12:41:55.687841",
     "exception": false,
     "start_time": "2024-01-08T12:41:55.685531",
     "status": "completed"
    },
    "tags": []
   },
   "source": [
    "```yaml\n",
    "---\n",
    "home: \"{{ home_dir }}\"\n",
    "logging:\n",
    "  level: DEBUG\n",
    "  to_file: false\n",
    "  rotate: false\n",
    "cleanup:\n",
    "  auto: true\n",
    "  keep: 10\n",
    "paths:\n",
    "  deps: deps\n",
    "  logs: logs\n",
    "  results: results\n",
    "  plugins: plugins\n",
    "  temp: temp\n",
    "  models:\n",
    "    - \"{{ home_dir }}/models\"\n",
    "    - \"{{ config_dir }}/models\"\n",
    "repos:\n",
    "  tvm:\n",
    "    url: \"https://github.com/apache/tvm.git\"\n",
    "    ref: de6d8067754d746d88262c530b5241b5577b9aae\n",
    "  tvm:\n",
    "    url: \"https://github.com/apache/tvm.git\"\n",
    "    ref: de6d8067754d746d88262c530b5241b5577b9aae\n",
    "frameworks:\n",
    "  default: tvm\n",
    "  tvm:\n",
    "    enabled: true\n",
    "    backends:\n",
    "      default: tvmllvm\n",
    "      tvmllvm:\n",
    "        enabled: true\n",
    "        features:\n",
    "          autotuned: true\n",
    "    features: []\n",
    "frontends:\n",
    "  tflite:\n",
    "    enabled: true\n",
    "    features: []\n",
    "toolchains:\n",
    "  gcc: true\n",
    "platforms:\n",
    "  tvm:\n",
    "    enabled: true\n",
    "    features:\n",
    "      autotune: true\n",
    "targets:\n",
    "  tvm_cpu:\n",
    "    enabled: true\n",
    "```"
   ]
  },
  {
   "cell_type": "markdown",
   "id": "4d140308",
   "metadata": {
    "papermill": {
     "duration": 0.00228,
     "end_time": "2024-01-08T12:41:55.692423",
     "exception": false,
     "start_time": "2024-01-08T12:41:55.690143",
     "status": "completed"
    },
    "tags": []
   },
   "source": [
    "Do not forget to set your `MLONMCU_HOME` environment variable first if not using the default location!"
   ]
  },
  {
   "cell_type": "markdown",
   "id": "a3bac781",
   "metadata": {
    "papermill": {
     "duration": 0.003194,
     "end_time": "2024-01-08T12:41:55.697953",
     "exception": false,
     "start_time": "2024-01-08T12:41:55.694759",
     "status": "completed"
    },
    "tags": []
   },
   "source": [
    "## Usage"
   ]
  },
  {
   "cell_type": "markdown",
   "id": "1352b362",
   "metadata": {
    "papermill": {
     "duration": 0.002257,
     "end_time": "2024-01-08T12:41:55.702559",
     "exception": false,
     "start_time": "2024-01-08T12:41:55.700302",
     "status": "completed"
    },
    "tags": []
   },
   "source": [
    "In addition to the TUNE stage in the MLonMCU flow which is skipped by default are two tuning-related features provided mu MLonMCU:\n",
    "- `autotune`: Use this to enable the `TUNE` stage. Tuning records will be written as an artifact but ignored in later stages.\n",
    "- `autotuned`: If this is enabled provided tuning records/metrics are used by TVM in the `BUILD` stage. If no tuning was executed in the previous stage, it will instead accept tuning logs provided by the user."
   ]
  },
  {
   "cell_type": "markdown",
   "id": "f01b54e2",
   "metadata": {
    "papermill": {
     "duration": 0.002283,
     "end_time": "2024-01-08T12:41:55.707244",
     "exception": false,
     "start_time": "2024-01-08T12:41:55.704961",
     "status": "completed"
    },
    "tags": []
   },
   "source": [
    "### A) Command Line Interface"
   ]
  },
  {
   "cell_type": "markdown",
   "id": "2b333851",
   "metadata": {
    "papermill": {
     "duration": 0.002275,
     "end_time": "2024-01-08T12:41:55.711884",
     "exception": false,
     "start_time": "2024-01-08T12:41:55.709609",
     "status": "completed"
    },
    "tags": []
   },
   "source": [
    "Let's run a benchmark without tuning first."
   ]
  },
  {
   "cell_type": "code",
   "execution_count": 1,
   "id": "43576c35",
   "metadata": {
    "execution": {
     "iopub.execute_input": "2024-01-08T12:41:55.718351Z",
     "iopub.status.busy": "2024-01-08T12:41:55.717732Z",
     "iopub.status.idle": "2024-01-08T12:42:03.667505Z",
     "shell.execute_reply": "2024-01-08T12:42:03.666681Z"
    },
    "papermill": {
     "duration": 7.955759,
     "end_time": "2024-01-08T12:42:03.669966",
     "exception": false,
     "start_time": "2024-01-08T12:41:55.714207",
     "status": "completed"
    },
    "tags": []
   },
   "outputs": [
    {
     "name": "stdout",
     "output_type": "stream",
     "text": [
      "INFO - Loading environment cache from file\r\n",
      "INFO - Successfully initialized cache\r\n"
     ]
    },
    {
     "name": "stdout",
     "output_type": "stream",
     "text": [
      "INFO -  Processing stage LOAD\r\n"
     ]
    },
    {
     "name": "stdout",
     "output_type": "stream",
     "text": [
      "INFO -  Processing stage BUILD\r\n"
     ]
    },
    {
     "name": "stdout",
     "output_type": "stream",
     "text": [
      "INFO -  Processing stage RUN\r\n"
     ]
    },
    {
     "name": "stdout",
     "output_type": "stream",
     "text": [
      "INFO - All runs completed successfuly!\r\n"
     ]
    },
    {
     "name": "stdout",
     "output_type": "stream",
     "text": [
      "INFO - Postprocessing session report\r\n",
      "INFO - Done processing runs\r\n",
      "INFO - Report:\r\n",
      "   Session  Run   Model Frontend Framework  Backend Platform   Target  Runtime [s]     Features                                             Config Postprocesses Comment\r\n",
      "0        0    0  toycar   tflite       tvm  tvmllvm      tvm  tvm_cpu     0.000101  [benchmark]  {'toycar.output_shapes': {'Identity': [1, 640]...            []       -\r\n"
     ]
    }
   ],
   "source": [
    "!python -m mlonmcu.cli.main flow run toycar -b tvmllvm -t tvm_cpu -f benchmark"
   ]
  },
  {
   "cell_type": "markdown",
   "id": "8fc7aaaf",
   "metadata": {
    "papermill": {
     "duration": 0.002761,
     "end_time": "2024-01-08T12:42:03.676054",
     "exception": false,
     "start_time": "2024-01-08T12:42:03.673293",
     "status": "completed"
    },
    "tags": []
   },
   "source": [
    "Now we enable and configure the tuning as follows:"
   ]
  },
  {
   "cell_type": "code",
   "execution_count": 2,
   "id": "53c89e22",
   "metadata": {
    "execution": {
     "iopub.execute_input": "2024-01-08T12:42:03.683574Z",
     "iopub.status.busy": "2024-01-08T12:42:03.682767Z",
     "iopub.status.idle": "2024-01-08T12:43:12.363642Z",
     "shell.execute_reply": "2024-01-08T12:43:12.362816Z"
    },
    "papermill": {
     "duration": 68.68678,
     "end_time": "2024-01-08T12:43:12.365541",
     "exception": false,
     "start_time": "2024-01-08T12:42:03.678761",
     "status": "completed"
    },
    "tags": []
   },
   "outputs": [
    {
     "name": "stdout",
     "output_type": "stream",
     "text": [
      "INFO - Loading environment cache from file\r\n",
      "INFO - Successfully initialized cache\r\n"
     ]
    },
    {
     "name": "stdout",
     "output_type": "stream",
     "text": [
      "INFO - [session-1]  Processing stage LOAD\r\n",
      "INFO - [session-1]  Processing stage TUNE\r\n"
     ]
    },
    {
     "name": "stdout",
     "output_type": "stream",
     "text": [
      "INFO - [session-1]  Processing stage BUILD\r\n"
     ]
    },
    {
     "name": "stdout",
     "output_type": "stream",
     "text": [
      "INFO - [session-1]  Processing stage RUN\r\n"
     ]
    },
    {
     "name": "stdout",
     "output_type": "stream",
     "text": [
      "INFO - All runs completed successfuly!\r\n",
      "INFO - Postprocessing session report\r\n",
      "INFO - [session-1] Done processing runs\r\n",
      "INFO - Report:\r\n",
      "   Session  Run   Model Frontend Framework  Backend Platform   Target  Runtime [s]                        Features                                             Config Postprocesses Comment\r\n",
      "0        1    0  toycar   tflite       tvm  tvmllvm      tvm  tvm_cpu     0.000027  [autotvm, autotune, autotuned]  {'toycar.output_shapes': {'Identity': [1, 640]...            []       -\r\n"
     ]
    }
   ],
   "source": [
    "!python -m mlonmcu.cli.main flow run toycar -b tvmllvm -t tvm_cpu \\\n",
    "        -f autotvm -f autotuned -c autotvm.trials=100 -c tvm.print_oututs=1"
   ]
  },
  {
   "cell_type": "markdown",
   "id": "8c567527",
   "metadata": {
    "papermill": {
     "duration": 0.004016,
     "end_time": "2024-01-08T12:43:12.373220",
     "exception": false,
     "start_time": "2024-01-08T12:43:12.369204",
     "status": "completed"
    },
    "tags": []
   },
   "source": [
    "It seems like we alreadu achieve a nice performance improvement. Feel free to have a log at the generated tunig records as well:"
   ]
  },
  {
   "cell_type": "code",
   "execution_count": 3,
   "id": "e0fe3c84",
   "metadata": {
    "execution": {
     "iopub.execute_input": "2024-01-08T12:43:12.380577Z",
     "iopub.status.busy": "2024-01-08T12:43:12.380105Z",
     "iopub.status.idle": "2024-01-08T12:43:13.456959Z",
     "shell.execute_reply": "2024-01-08T12:43:13.456124Z"
    },
    "papermill": {
     "duration": 1.083167,
     "end_time": "2024-01-08T12:43:13.459341",
     "exception": false,
     "start_time": "2024-01-08T12:43:12.376174",
     "status": "completed"
    },
    "tags": []
   },
   "outputs": [
    {
     "name": "stdout",
     "output_type": "stream",
     "text": [
      "INFO - Loading environment cache from file\r\n",
      "INFO - Successfully initialized cache\r\n",
      "Creating directory: /tmp/exported\r\n",
      "Done\r\n"
     ]
    },
    {
     "name": "stdout",
     "output_type": "stream",
     "text": [
      "{\"input\": [\"llvm -keys=cpu \", \"dense_nopack.x86\", [[\"TENSOR\", [1, 640], \"int16\"], [\"TENSOR\", [128, 640], \"int16\"], null, \"int32\"], {}], \"config\": {\"index\": 4, \"code_hash\": null, \"entity\": [[\"tile_y\", \"sp\", [-1, 1]], [\"tile_x\", \"sp\", [-1, 16]], [\"tile_k\", \"sp\", [-1, 1]]]}, \"result\": [[1.5549e-05], 0, 0.28154730796813965, 1704717733.0018933], \"version\": 0.2, \"tvm_version\": \"0.15.dev0\"}\r\n",
      "{\"input\": [\"llvm -keys=cpu \", \"dense_pack.x86\", [[\"TENSOR\", [1, 640], \"int16\"], [\"TENSOR\", [128, 640], \"int16\"], null, \"int32\"], {}], \"config\": {\"index\": 259, \"code_hash\": null, \"entity\": [[\"tile_y\", \"sp\", [-1, 1, 1]], [\"tile_x\", \"sp\", [-1, 128, 1]], [\"tile_k\", \"sp\", [-1, 20]], [\"tile_inner\", \"sp\", [-1, 1]]]}, \"result\": [[7.5139999999999995e-06], 0, 0.25212931632995605, 1704717740.1136672], \"version\": 0.2, \"tvm_version\": \"0.15.dev0\"}\r\n",
      "{\"input\": [\"llvm -keys=cpu \", \"dense_nopack.x86\", [[\"TENSOR\", [1, 128], \"int16\"], [\"TENSOR\", [128, 128], \"int16\"], null, \"int32\"], {}], \"config\": {\"index\": 7, \"code_hash\": null, \"entity\": [[\"tile_y\", \"sp\", [-1, 1]], [\"tile_x\", \"sp\", [-1, 128]], [\"tile_k\", \"sp\", [-1, 1]]]}, \"result\": [[4.379e-06], 0, 0.4226980209350586, 1704717745.8145177], \"version\": 0.2, \"tvm_version\": \"0.15.dev0\"}\r\n",
      "{\"input\": [\"llvm -keys=cpu \", \"dense_pack.x86\", [[\"TENSOR\", [1, 128], \"int16\"], [\"TENSOR\", [128, 128], \"int16\"], null, \"int32\"], {}], \"config\": {\"index\": 137, \"code_hash\": null, \"entity\": [[\"tile_y\", \"sp\", [-1, 1, 1]], [\"tile_x\", \"sp\", [-1, 8, 16]], [\"tile_k\", \"sp\", [-1, 8]], [\"tile_inner\", \"sp\", [-1, 1]]]}, \"result\": [[1.943e-06], 0, 0.23714256286621094, 1704717750.734414], \"version\": 0.2, \"tvm_version\": \"0.15.dev0\"}\r\n",
      "{\"input\": [\"llvm -keys=cpu \", \"dense_nopack.x86\", [[\"TENSOR\", [1, 128], \"int16\"], [\"TENSOR\", [8, 128], \"int16\"], null, \"int32\"], {}], \"config\": {\"index\": 3, \"code_hash\": null, \"entity\": [[\"tile_y\", \"sp\", [-1, 1]], [\"tile_x\", \"sp\", [-1, 8]], [\"tile_k\", \"sp\", [-1, 1]]]}, \"result\": [[3.3100000000000004e-07], 0, 0.23314237594604492, 1704717755.3409812], \"version\": 0.2, \"tvm_version\": \"0.15.dev0\"}\r\n",
      "{\"input\": [\"llvm -keys=cpu \", \"dense_pack.x86\", [[\"TENSOR\", [1, 128], \"int16\"], [\"TENSOR\", [8, 128], \"int16\"], null, \"int32\"], {}], \"config\": {\"index\": 13, \"code_hash\": null, \"entity\": [[\"tile_y\", \"sp\", [-1, 1, 1]], [\"tile_x\", \"sp\", [-1, 8, 1]], [\"tile_k\", \"sp\", [-1, 2]], [\"tile_inner\", \"sp\", [-1, 1]]]}, \"result\": [[2.9100000000000005e-07], 0, 0.2407693862915039, 1704717761.997192], \"version\": 0.2, \"tvm_version\": \"0.15.dev0\"}\r\n",
      "{\"input\": [\"llvm -keys=cpu \", \"dense_nopack.x86\", [[\"TENSOR\", [1, 8], \"int16\"], [\"TENSOR\", [128, 8], \"int16\"], null, \"int32\"], {}], \"config\": {\"index\": 7, \"code_hash\": null, \"entity\": [[\"tile_y\", \"sp\", [-1, 1]], [\"tile_x\", \"sp\", [-1, 128]], [\"tile_k\", \"sp\", [-1, 1]]]}, \"result\": [[5.51e-07], 0, 0.39252448081970215, 1704717766.5999427], \"version\": 0.2, \"tvm_version\": \"0.15.dev0\"}\r\n",
      "{\"input\": [\"llvm -keys=cpu \", \"dense_pack.x86\", [[\"TENSOR\", [1, 8], \"int16\"], [\"TENSOR\", [128, 8], \"int16\"], null, \"int32\"], {}], \"config\": {\"index\": 142, \"code_hash\": null, \"entity\": [[\"tile_y\", \"sp\", [-1, 1, 1]], [\"tile_x\", \"sp\", [-1, 2, 64]], [\"tile_k\", \"sp\", [-1, 8]], [\"tile_inner\", \"sp\", [-1, 1]]]}, \"result\": [[3e-07], 0, 0.2281949520111084, 1704717772.1776848], \"version\": 0.2, \"tvm_version\": \"0.15.dev0\"}\r\n",
      "{\"input\": [\"llvm -keys=cpu \", \"dense_nopack.x86\", [[\"TENSOR\", [1, 128], \"int16\"], [\"TENSOR\", [640, 128], \"int16\"], null, \"int32\"], {}], \"config\": {\"index\": 32, \"code_hash\": null, \"entity\": [[\"tile_y\", \"sp\", [-1, 1]], [\"tile_x\", \"sp\", [-1, 1]], [\"tile_k\", \"sp\", [-1, 4]]]}, \"result\": [[1.5058e-05], 0, 0.21540617942810059, 1704717778.895599], \"version\": 0.2, \"tvm_version\": \"0.15.dev0\"}\r\n",
      "{\"input\": [\"llvm -keys=cpu \", \"dense_pack.x86\", [[\"TENSOR\", [1, 128], \"int16\"], [\"TENSOR\", [640, 128], \"int16\"], null, \"int32\"], {}], \"config\": {\"index\": 518, \"code_hash\": null, \"entity\": [[\"tile_y\", \"sp\", [-1, 1, 1]], [\"tile_x\", \"sp\", [-1, 20, 32]], [\"tile_k\", \"sp\", [-1, 16]], [\"tile_inner\", \"sp\", [-1, 1]]]}, \"result\": [[7.234e-06], 0, 0.27788400650024414, 1704717782.2686524], \"version\": 0.2, \"tvm_version\": \"0.15.dev0\"}\r\n"
     ]
    }
   ],
   "source": [
    "!mlonmcu export /tmp/exported --run -f\n",
    "!head /tmp/exported/best_tuning_results.log.txt"
   ]
  },
  {
   "cell_type": "markdown",
   "id": "c9776cd6",
   "metadata": {
    "papermill": {
     "duration": 0.003078,
     "end_time": "2024-01-08T12:43:13.465979",
     "exception": false,
     "start_time": "2024-01-08T12:43:13.462901",
     "status": "completed"
    },
    "tags": []
   },
   "source": [
    "Alternatively we can pass previously generated tuning logs to MLonMCU using `-c autotuned.results_file=/path/to/records.txt`"
   ]
  }
 ],
 "metadata": {
  "kernelspec": {
   "display_name": "Python 3 (ipykernel)",
   "language": "python",
   "name": "python3"
  },
  "language_info": {
   "codemirror_mode": {
    "name": "ipython",
    "version": 3
   },
   "file_extension": ".py",
   "mimetype": "text/x-python",
   "name": "python",
   "nbconvert_exporter": "python",
   "pygments_lexer": "ipython3",
   "version": "3.8.18"
  },
  "papermill": {
   "default_parameters": {},
   "duration": 78.836957,
   "end_time": "2024-01-08T12:43:13.587345",
   "environment_variables": {},
   "exception": null,
   "input_path": "/home/runner/work/mlonmcu/mlonmcu/ipynb/Examples/TuneTVM/TuneTVM.ipynb",
   "output_path": "/home/runner/work/mlonmcu/mlonmcu/ipynb/Examples/TuneTVM/TuneTVM.ipynb",
   "parameters": {},
   "start_time": "2024-01-08T12:41:54.750388",
   "version": "2.5.0"
  }
 },
 "nbformat": 4,
 "nbformat_minor": 5
}