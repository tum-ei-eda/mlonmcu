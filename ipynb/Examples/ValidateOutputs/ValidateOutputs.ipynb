{
 "cells": [
  {
   "cell_type": "code",
   "execution_count": 2,
   "id": "c83a7f34-a391-4536-9498-508d35496406",
   "metadata": {},
   "outputs": [],
   "source": [
    "from IPython.display import Code"
   ]
  },
  {
   "cell_type": "markdown",
   "id": "67a623c3",
   "metadata": {
    "papermill": {
     "duration": 0.003582,
     "end_time": "2024-01-08T10:22:14.924780",
     "exception": false,
     "start_time": "2024-01-08T10:22:14.921198",
     "status": "completed"
    },
    "tags": []
   },
   "source": [
    "# Example: Validate Model Outputs for correctness"
   ]
  },
  {
   "cell_type": "markdown",
   "id": "1025ee11",
   "metadata": {
    "papermill": {
     "duration": 0.002392,
     "end_time": "2024-01-08T10:22:14.929883",
     "exception": false,
     "start_time": "2024-01-08T10:22:14.927491",
     "status": "completed"
    },
    "tags": []
   },
   "source": [
    "For safety-critical applications we can not accept deviations at the model ouputs caused by the deployment method. The following shows how to verify if the generated model outputs are as expected."
   ]
  },
  {
   "cell_type": "markdown",
   "id": "3f7078e1",
   "metadata": {
    "papermill": {
     "duration": 0.002299,
     "end_time": "2024-01-08T10:22:14.934570",
     "exception": false,
     "start_time": "2024-01-08T10:22:14.932271",
     "status": "completed"
    },
    "tags": []
   },
   "source": [
    "*Warning:* The current version can only verify the bit-excactness of model outputs. Hence why it is very sensitive to even small derivations compared to the reference (golden) outputs. This limitation might be eliminated with a future revision of MLonMCUs `validate` feature."
   ]
  },
  {
   "cell_type": "markdown",
   "id": "87fd1387",
   "metadata": {
    "papermill": {
     "duration": 0.002312,
     "end_time": "2024-01-08T10:22:14.939305",
     "exception": false,
     "start_time": "2024-01-08T10:22:14.936993",
     "status": "completed"
    },
    "tags": []
   },
   "source": [
    "## Supported components"
   ]
  },
  {
   "cell_type": "markdown",
   "id": "584a911d",
   "metadata": {
    "papermill": {
     "duration": 0.002349,
     "end_time": "2024-01-08T10:22:14.944011",
     "exception": false,
     "start_time": "2024-01-08T10:22:14.941662",
     "status": "completed"
    },
    "tags": []
   },
   "source": [
    "**Models:** Any (`aww` and `toycar` used below)\n",
    "\n",
    "**Frontends:** TFLite only (`tflite`)\n",
    "\n",
    "**Frameworks/Backends:** Any (`tvmaotplus` and `tflmi` used below)\n",
    "\n",
    "**Platforms/Targets:** `tvm`, `microtvm` and `mlif`\n",
    "\n",
    "**Features:** `validate_new` (aka. `gen_data`, `gen_ref_data`, `set_inputs` & `get_outputs`) and `gen_ref_labels` features have to be enabled "
   ]
  },
  {
   "cell_type": "markdown",
   "id": "74ce776e",
   "metadata": {
    "papermill": {
     "duration": 0.002309,
     "end_time": "2024-01-08T10:22:14.948717",
     "exception": false,
     "start_time": "2024-01-08T10:22:14.946408",
     "status": "completed"
    },
    "tags": []
   },
   "source": [
    "## Prerequisites"
   ]
  },
  {
   "cell_type": "markdown",
   "id": "18955525",
   "metadata": {
    "papermill": {
     "duration": 0.002317,
     "end_time": "2024-01-08T10:22:14.953417",
     "exception": false,
     "start_time": "2024-01-08T10:22:14.951100",
     "status": "completed"
    },
    "tags": []
   },
   "source": [
    "Set up MLonmCU as usual, i.e. initialize an environment and install all required dependencies. Feel free to use the following minimal `environment.yml.j2` template:"
   ]
  },
  {
   "cell_type": "code",
   "execution_count": 3,
   "id": "94e938c8-1ffd-4e05-99e4-3d7b70951cdf",
   "metadata": {
    "papermill": {
     "duration": 0.002293,
     "end_time": "2024-01-08T10:22:14.958121",
     "exception": false,
     "start_time": "2024-01-08T10:22:14.955828",
     "status": "completed"
    },
    "tags": []
   },
   "outputs": [
    {
     "data": {
      "text/html": [
       "<style>pre { line-height: 125%; }\n",
       "td.linenos .normal { color: inherit; background-color: transparent; padding-left: 5px; padding-right: 5px; }\n",
       "span.linenos { color: inherit; background-color: transparent; padding-left: 5px; padding-right: 5px; }\n",
       "td.linenos .special { color: #000000; background-color: #ffffc0; padding-left: 5px; padding-right: 5px; }\n",
       "span.linenos.special { color: #000000; background-color: #ffffc0; padding-left: 5px; padding-right: 5px; }\n",
       ".output_html .hll { background-color: #ffffcc }\n",
       ".output_html { background: #f8f8f8; }\n",
       ".output_html .c { color: #3D7B7B; font-style: italic } /* Comment */\n",
       ".output_html .err { border: 1px solid #FF0000 } /* Error */\n",
       ".output_html .k { color: #008000; font-weight: bold } /* Keyword */\n",
       ".output_html .o { color: #666666 } /* Operator */\n",
       ".output_html .ch { color: #3D7B7B; font-style: italic } /* Comment.Hashbang */\n",
       ".output_html .cm { color: #3D7B7B; font-style: italic } /* Comment.Multiline */\n",
       ".output_html .cp { color: #9C6500 } /* Comment.Preproc */\n",
       ".output_html .cpf { color: #3D7B7B; font-style: italic } /* Comment.PreprocFile */\n",
       ".output_html .c1 { color: #3D7B7B; font-style: italic } /* Comment.Single */\n",
       ".output_html .cs { color: #3D7B7B; font-style: italic } /* Comment.Special */\n",
       ".output_html .gd { color: #A00000 } /* Generic.Deleted */\n",
       ".output_html .ge { font-style: italic } /* Generic.Emph */\n",
       ".output_html .ges { font-weight: bold; font-style: italic } /* Generic.EmphStrong */\n",
       ".output_html .gr { color: #E40000 } /* Generic.Error */\n",
       ".output_html .gh { color: #000080; font-weight: bold } /* Generic.Heading */\n",
       ".output_html .gi { color: #008400 } /* Generic.Inserted */\n",
       ".output_html .go { color: #717171 } /* Generic.Output */\n",
       ".output_html .gp { color: #000080; font-weight: bold } /* Generic.Prompt */\n",
       ".output_html .gs { font-weight: bold } /* Generic.Strong */\n",
       ".output_html .gu { color: #800080; font-weight: bold } /* Generic.Subheading */\n",
       ".output_html .gt { color: #0044DD } /* Generic.Traceback */\n",
       ".output_html .kc { color: #008000; font-weight: bold } /* Keyword.Constant */\n",
       ".output_html .kd { color: #008000; font-weight: bold } /* Keyword.Declaration */\n",
       ".output_html .kn { color: #008000; font-weight: bold } /* Keyword.Namespace */\n",
       ".output_html .kp { color: #008000 } /* Keyword.Pseudo */\n",
       ".output_html .kr { color: #008000; font-weight: bold } /* Keyword.Reserved */\n",
       ".output_html .kt { color: #B00040 } /* Keyword.Type */\n",
       ".output_html .m { color: #666666 } /* Literal.Number */\n",
       ".output_html .s { color: #BA2121 } /* Literal.String */\n",
       ".output_html .na { color: #687822 } /* Name.Attribute */\n",
       ".output_html .nb { color: #008000 } /* Name.Builtin */\n",
       ".output_html .nc { color: #0000FF; font-weight: bold } /* Name.Class */\n",
       ".output_html .no { color: #880000 } /* Name.Constant */\n",
       ".output_html .nd { color: #AA22FF } /* Name.Decorator */\n",
       ".output_html .ni { color: #717171; font-weight: bold } /* Name.Entity */\n",
       ".output_html .ne { color: #CB3F38; font-weight: bold } /* Name.Exception */\n",
       ".output_html .nf { color: #0000FF } /* Name.Function */\n",
       ".output_html .nl { color: #767600 } /* Name.Label */\n",
       ".output_html .nn { color: #0000FF; font-weight: bold } /* Name.Namespace */\n",
       ".output_html .nt { color: #008000; font-weight: bold } /* Name.Tag */\n",
       ".output_html .nv { color: #19177C } /* Name.Variable */\n",
       ".output_html .ow { color: #AA22FF; font-weight: bold } /* Operator.Word */\n",
       ".output_html .w { color: #bbbbbb } /* Text.Whitespace */\n",
       ".output_html .mb { color: #666666 } /* Literal.Number.Bin */\n",
       ".output_html .mf { color: #666666 } /* Literal.Number.Float */\n",
       ".output_html .mh { color: #666666 } /* Literal.Number.Hex */\n",
       ".output_html .mi { color: #666666 } /* Literal.Number.Integer */\n",
       ".output_html .mo { color: #666666 } /* Literal.Number.Oct */\n",
       ".output_html .sa { color: #BA2121 } /* Literal.String.Affix */\n",
       ".output_html .sb { color: #BA2121 } /* Literal.String.Backtick */\n",
       ".output_html .sc { color: #BA2121 } /* Literal.String.Char */\n",
       ".output_html .dl { color: #BA2121 } /* Literal.String.Delimiter */\n",
       ".output_html .sd { color: #BA2121; font-style: italic } /* Literal.String.Doc */\n",
       ".output_html .s2 { color: #BA2121 } /* Literal.String.Double */\n",
       ".output_html .se { color: #AA5D1F; font-weight: bold } /* Literal.String.Escape */\n",
       ".output_html .sh { color: #BA2121 } /* Literal.String.Heredoc */\n",
       ".output_html .si { color: #A45A77; font-weight: bold } /* Literal.String.Interpol */\n",
       ".output_html .sx { color: #008000 } /* Literal.String.Other */\n",
       ".output_html .sr { color: #A45A77 } /* Literal.String.Regex */\n",
       ".output_html .s1 { color: #BA2121 } /* Literal.String.Single */\n",
       ".output_html .ss { color: #19177C } /* Literal.String.Symbol */\n",
       ".output_html .bp { color: #008000 } /* Name.Builtin.Pseudo */\n",
       ".output_html .fm { color: #0000FF } /* Name.Function.Magic */\n",
       ".output_html .vc { color: #19177C } /* Name.Variable.Class */\n",
       ".output_html .vg { color: #19177C } /* Name.Variable.Global */\n",
       ".output_html .vi { color: #19177C } /* Name.Variable.Instance */\n",
       ".output_html .vm { color: #19177C } /* Name.Variable.Magic */\n",
       ".output_html .il { color: #666666 } /* Literal.Number.Integer.Long */</style><div class=\"highlight\"><pre><span></span><span class=\"nn\">---</span>\n",
       "<span class=\"c1\"># The MLONMCU_HOME is filled in automatically when creating the environment</span>\n",
       "<span class=\"nt\">home</span><span class=\"p\">:</span><span class=\"w\"> </span><span class=\"s\">&quot;</span><span class=\"cp\">{{</span> <span class=\"nv\">home_dir</span> <span class=\"cp\">}}</span><span class=\"s\">&quot;</span>\n",
       "<span class=\"nt\">logging</span><span class=\"p\">:</span>\n",
       "<span class=\"w\">  </span><span class=\"nt\">level</span><span class=\"p\">:</span><span class=\"w\"> </span><span class=\"l l-Scalar l-Scalar-Plain\">INFO</span>\n",
       "<span class=\"w\">  </span><span class=\"nt\">to_file</span><span class=\"p\">:</span><span class=\"w\"> </span><span class=\"l l-Scalar l-Scalar-Plain\">false</span>\n",
       "<span class=\"w\">  </span><span class=\"nt\">rotate</span><span class=\"p\">:</span><span class=\"w\"> </span><span class=\"l l-Scalar l-Scalar-Plain\">false</span>\n",
       "<span class=\"nt\">cleanup</span><span class=\"p\">:</span>\n",
       "<span class=\"w\">  </span><span class=\"nt\">auto</span><span class=\"p\">:</span><span class=\"w\"> </span><span class=\"l l-Scalar l-Scalar-Plain\">true</span>\n",
       "<span class=\"w\">  </span><span class=\"nt\">keep</span><span class=\"p\">:</span><span class=\"w\"> </span><span class=\"l l-Scalar l-Scalar-Plain\">5</span>\n",
       "<span class=\"c1\"># Default locations for certain directoriescan be changed here</span>\n",
       "<span class=\"c1\"># Non-absolute paths will always be threated relative to the MLONMCU_HOME</span>\n",
       "<span class=\"nt\">paths</span><span class=\"p\">:</span>\n",
       "<span class=\"w\">  </span><span class=\"c1\"># Where the dependencies are downloaded and installed</span>\n",
       "<span class=\"w\">  </span><span class=\"nt\">deps</span><span class=\"p\">:</span><span class=\"w\"> </span><span class=\"l l-Scalar l-Scalar-Plain\">deps</span>\n",
       "<span class=\"w\">  </span><span class=\"c1\"># If logging to file is used keep logs in this directory</span>\n",
       "<span class=\"w\">  </span><span class=\"nt\">logs</span><span class=\"p\">:</span><span class=\"w\"> </span><span class=\"l l-Scalar l-Scalar-Plain\">logs</span>\n",
       "<span class=\"w\">  </span><span class=\"c1\"># Location where reports and artifacts are written to</span>\n",
       "<span class=\"w\">  </span><span class=\"nt\">results</span><span class=\"p\">:</span><span class=\"w\"> </span><span class=\"l l-Scalar l-Scalar-Plain\">results</span>\n",
       "<span class=\"w\">  </span><span class=\"c1\"># Directory where custom extensions can be integrated</span>\n",
       "<span class=\"w\">  </span><span class=\"nt\">plugins</span><span class=\"p\">:</span><span class=\"w\"> </span><span class=\"l l-Scalar l-Scalar-Plain\">plugins</span>\n",
       "<span class=\"w\">  </span><span class=\"c1\"># Directory for intermediate build products, should be located on a large enough drive</span>\n",
       "<span class=\"w\">  </span><span class=\"nt\">temp</span><span class=\"p\">:</span><span class=\"w\"> </span><span class=\"l l-Scalar l-Scalar-Plain\">temp</span>\n",
       "<span class=\"w\">  </span><span class=\"c1\"># A collection of models which will be used to look for models</span>\n",
       "<span class=\"w\">  </span><span class=\"c1\"># The paths will be checked in the order defined here stopping at the first match</span>\n",
       "<span class=\"w\">  </span><span class=\"c1\"># Non-existant paths will be skipped without throwing an error</span>\n",
       "<span class=\"w\">  </span><span class=\"nt\">models</span><span class=\"p\">:</span>\n",
       "<span class=\"w\">    </span><span class=\"p p-Indicator\">-</span><span class=\"w\"> </span><span class=\"s\">&quot;</span><span class=\"cp\">{{</span> <span class=\"nv\">home_dir</span> <span class=\"cp\">}}</span><span class=\"s\">/models&quot;</span>\n",
       "<span class=\"c1\"># Here default clone_urls</span>\n",
       "<span class=\"nt\">repos</span><span class=\"p\">:</span>\n",
       "<span class=\"w\">  </span><span class=\"nt\">tensorflow</span><span class=\"p\">:</span>\n",
       "<span class=\"w\">    </span><span class=\"nt\">url</span><span class=\"p\">:</span><span class=\"w\"> </span><span class=\"s\">&quot;https://github.com/tensorflow/tflite-micro.git&quot;</span>\n",
       "<span class=\"w\">    </span><span class=\"nt\">ref</span><span class=\"p\">:</span><span class=\"w\"> </span><span class=\"l l-Scalar l-Scalar-Plain\">93d4b1ccc6e0d1a9062acb1d79f21505daf9d940</span>\n",
       "<span class=\"w\">  </span><span class=\"nt\">tvm</span><span class=\"p\">:</span>\n",
       "<span class=\"w\">    </span><span class=\"nt\">url</span><span class=\"p\">:</span><span class=\"w\"> </span><span class=\"s\">&quot;https://github.com/apache/tvm.git&quot;</span>\n",
       "<span class=\"w\">    </span><span class=\"nt\">ref</span><span class=\"p\">:</span><span class=\"w\"> </span><span class=\"l l-Scalar l-Scalar-Plain\">a9fcac1a47f4b57c1d9d828c7ed1d77452b02cc5</span>\n",
       "<span class=\"w\">    </span><span class=\"nt\">options</span><span class=\"p\">:</span>\n",
       "<span class=\"w\">      </span><span class=\"nt\">recursive</span><span class=\"p\">:</span><span class=\"w\"> </span><span class=\"l l-Scalar l-Scalar-Plain\">true</span>\n",
       "<span class=\"w\">  </span><span class=\"nt\">etiss</span><span class=\"p\">:</span>\n",
       "<span class=\"w\">    </span><span class=\"nt\">url</span><span class=\"p\">:</span><span class=\"w\"> </span><span class=\"s\">&quot;https://github.com/tum-ei-eda/etiss.git&quot;</span>\n",
       "<span class=\"w\">    </span><span class=\"nt\">ref</span><span class=\"p\">:</span><span class=\"w\"> </span><span class=\"l l-Scalar l-Scalar-Plain\">40c0b920cf4072adf189211ca44291534355dcfd</span>\n",
       "<span class=\"w\">  </span><span class=\"nt\">mlif</span><span class=\"p\">:</span>\n",
       "<span class=\"w\">    </span><span class=\"nt\">url</span><span class=\"p\">:</span><span class=\"w\"> </span><span class=\"s\">&quot;https://github.com/tum-ei-eda/mlonmcu-sw.git&quot;</span>\n",
       "<span class=\"w\">    </span><span class=\"nt\">ref</span><span class=\"p\">:</span><span class=\"w\"> </span><span class=\"l l-Scalar l-Scalar-Plain\">99624237110838fb564f2e6fce838f1962744635</span>\n",
       "<span class=\"w\">  </span><span class=\"nt\">tflite_pack</span><span class=\"p\">:</span>\n",
       "<span class=\"w\">    </span><span class=\"nt\">url</span><span class=\"p\">:</span><span class=\"w\"> </span><span class=\"s\">&quot;https://github.com/tum-ei-eda/tflite-pack.git&quot;</span>\n",
       "<span class=\"w\">    </span><span class=\"nt\">ref</span><span class=\"p\">:</span><span class=\"w\"> </span><span class=\"l l-Scalar l-Scalar-Plain\">2d31cafc941d3889b042af9c0a72b5f768ac4606</span>\n",
       "<span class=\"nt\">frameworks</span><span class=\"p\">:</span>\n",
       "<span class=\"w\">  </span><span class=\"nt\">default</span><span class=\"p\">:</span><span class=\"w\"> </span><span class=\"l l-Scalar l-Scalar-Plain\">tvm</span>\n",
       "<span class=\"w\">  </span><span class=\"nt\">tflm</span><span class=\"p\">:</span>\n",
       "<span class=\"w\">    </span><span class=\"nt\">enabled</span><span class=\"p\">:</span><span class=\"w\"> </span><span class=\"l l-Scalar l-Scalar-Plain\">true</span>\n",
       "<span class=\"w\">    </span><span class=\"nt\">backends</span><span class=\"p\">:</span>\n",
       "<span class=\"w\">      </span><span class=\"nt\">default</span><span class=\"p\">:</span><span class=\"w\"> </span><span class=\"l l-Scalar l-Scalar-Plain\">tflmi</span>\n",
       "<span class=\"w\">      </span><span class=\"nt\">tflmi</span><span class=\"p\">:</span>\n",
       "<span class=\"w\">        </span><span class=\"nt\">enabled</span><span class=\"p\">:</span><span class=\"w\"> </span><span class=\"l l-Scalar l-Scalar-Plain\">true</span>\n",
       "<span class=\"w\">        </span><span class=\"nt\">features</span><span class=\"p\">:</span><span class=\"w\"> </span><span class=\"p p-Indicator\">{}</span>\n",
       "<span class=\"w\">  </span><span class=\"nt\">tvm</span><span class=\"p\">:</span>\n",
       "<span class=\"w\">    </span><span class=\"nt\">enabled</span><span class=\"p\">:</span><span class=\"w\"> </span><span class=\"l l-Scalar l-Scalar-Plain\">true</span>\n",
       "<span class=\"w\">    </span><span class=\"nt\">backends</span><span class=\"p\">:</span>\n",
       "<span class=\"w\">      </span><span class=\"nt\">default</span><span class=\"p\">:</span><span class=\"w\"> </span><span class=\"l l-Scalar l-Scalar-Plain\">tvmaotplus</span>\n",
       "<span class=\"w\">      </span><span class=\"nt\">tvmaotplus</span><span class=\"p\">:</span>\n",
       "<span class=\"w\">        </span><span class=\"nt\">enabled</span><span class=\"p\">:</span><span class=\"w\"> </span><span class=\"l l-Scalar l-Scalar-Plain\">true</span>\n",
       "<span class=\"w\">        </span><span class=\"nt\">features</span><span class=\"p\">:</span><span class=\"w\"> </span><span class=\"p p-Indicator\">{}</span>\n",
       "<span class=\"w\">      </span><span class=\"nt\">tvmllvm</span><span class=\"p\">:</span>\n",
       "<span class=\"w\">        </span><span class=\"nt\">enabled</span><span class=\"p\">:</span><span class=\"w\"> </span><span class=\"l l-Scalar l-Scalar-Plain\">true</span>\n",
       "<span class=\"w\">        </span><span class=\"nt\">features</span><span class=\"p\">:</span><span class=\"w\"> </span><span class=\"p p-Indicator\">{}</span>\n",
       "<span class=\"w\">    </span><span class=\"nt\">features</span><span class=\"p\">:</span><span class=\"w\"> </span><span class=\"p p-Indicator\">{}</span>\n",
       "<span class=\"nt\">frontends</span><span class=\"p\">:</span>\n",
       "<span class=\"w\">  </span><span class=\"nt\">tflite</span><span class=\"p\">:</span>\n",
       "<span class=\"w\">    </span><span class=\"nt\">enabled</span><span class=\"p\">:</span><span class=\"w\"> </span><span class=\"l l-Scalar l-Scalar-Plain\">true</span>\n",
       "<span class=\"w\">    </span><span class=\"nt\">features</span><span class=\"p\">:</span>\n",
       "<span class=\"w\">      </span><span class=\"nt\">split_layers</span><span class=\"p\">:</span><span class=\"w\"> </span><span class=\"l l-Scalar l-Scalar-Plain\">true</span>\n",
       "<span class=\"nt\">toolchains</span><span class=\"p\">:</span>\n",
       "<span class=\"w\">  </span><span class=\"nt\">gcc</span><span class=\"p\">:</span><span class=\"w\"> </span><span class=\"l l-Scalar l-Scalar-Plain\">true</span>\n",
       "<span class=\"nt\">platforms</span><span class=\"p\">:</span>\n",
       "<span class=\"w\">  </span><span class=\"nt\">mlif</span><span class=\"p\">:</span>\n",
       "<span class=\"w\">    </span><span class=\"nt\">enabled</span><span class=\"p\">:</span><span class=\"w\"> </span><span class=\"l l-Scalar l-Scalar-Plain\">true</span>\n",
       "<span class=\"w\">    </span><span class=\"nt\">features</span><span class=\"p\">:</span>\n",
       "<span class=\"w\">      </span><span class=\"nt\">debug</span><span class=\"p\">:</span><span class=\"w\"> </span><span class=\"l l-Scalar l-Scalar-Plain\">true</span>\n",
       "<span class=\"w\">      </span><span class=\"nt\">validate</span><span class=\"p\">:</span><span class=\"w\"> </span><span class=\"l l-Scalar l-Scalar-Plain\">true</span>\n",
       "<span class=\"nt\">targets</span><span class=\"p\">:</span>\n",
       "<span class=\"w\">  </span><span class=\"nt\">default</span><span class=\"p\">:</span><span class=\"w\"> </span><span class=\"l l-Scalar l-Scalar-Plain\">host_x86</span>\n",
       "<span class=\"w\">  </span><span class=\"nt\">etiss</span><span class=\"p\">:</span>\n",
       "<span class=\"w\">    </span><span class=\"nt\">enabled</span><span class=\"p\">:</span><span class=\"w\"> </span><span class=\"l l-Scalar l-Scalar-Plain\">true</span>\n",
       "<span class=\"w\">    </span><span class=\"nt\">features</span><span class=\"p\">:</span><span class=\"w\"> </span><span class=\"p p-Indicator\">{}</span>\n",
       "<span class=\"nt\">postprocesses</span><span class=\"p\">:</span>\n",
       "<span class=\"w\">  </span><span class=\"nt\">use</span><span class=\"p\">:</span><span class=\"w\"> </span><span class=\"p p-Indicator\">[]</span>\n",
       "<span class=\"nt\">vars</span><span class=\"p\">:</span>\n",
       "<span class=\"w\">  </span><span class=\"nt\">allow_extensions</span><span class=\"p\">:</span><span class=\"w\"> </span><span class=\"l l-Scalar l-Scalar-Plain\">false</span>\n",
       "<span class=\"w\">  </span><span class=\"nt\">runs_per_stage</span><span class=\"p\">:</span><span class=\"w\"> </span><span class=\"l l-Scalar l-Scalar-Plain\">true</span>\n",
       "<span class=\"w\">  </span><span class=\"nt\">riscv_gcc.dl_url</span><span class=\"p\">:</span><span class=\"w\"> </span><span class=\"s\">&quot;https://syncandshare.lrz.de/dl/fiWBtDLWz17RBc1Yd4VDW7/GCC/default/2023.11.27/Ubuntu/20.04/rv32gc_ilp32d.tar.xz&quot;</span>\n",
       "<span class=\"nt\">flags</span><span class=\"p\">:</span><span class=\"w\"> </span><span class=\"p p-Indicator\">{}</span>\n",
       "</pre></div>\n"
      ],
      "text/latex": [
       "\\begin{Verbatim}[commandchars=\\\\\\{\\}]\n",
       "\\PY{n+nn}{\\PYZhy{}\\PYZhy{}\\PYZhy{}}\n",
       "\\PY{c+c1}{\\PYZsh{} The MLONMCU\\PYZus{}HOME is filled in automatically when creating the environment}\n",
       "\\PY{n+nt}{home}\\PY{p}{:}\\PY{+w}{ }\\PY{l+s}{\\PYZdq{}}\\PY{c+cp}{\\PYZob{}\\PYZob{}} \\PY{n+nv}{home\\PYZus{}dir} \\PY{c+cp}{\\PYZcb{}\\PYZcb{}}\\PY{l+s}{\\PYZdq{}}\n",
       "\\PY{n+nt}{logging}\\PY{p}{:}\n",
       "\\PY{+w}{  }\\PY{n+nt}{level}\\PY{p}{:}\\PY{+w}{ }\\PY{l+lScalar+lScalarPlain}{INFO}\n",
       "\\PY{+w}{  }\\PY{n+nt}{to\\PYZus{}file}\\PY{p}{:}\\PY{+w}{ }\\PY{l+lScalar+lScalarPlain}{false}\n",
       "\\PY{+w}{  }\\PY{n+nt}{rotate}\\PY{p}{:}\\PY{+w}{ }\\PY{l+lScalar+lScalarPlain}{false}\n",
       "\\PY{n+nt}{cleanup}\\PY{p}{:}\n",
       "\\PY{+w}{  }\\PY{n+nt}{auto}\\PY{p}{:}\\PY{+w}{ }\\PY{l+lScalar+lScalarPlain}{true}\n",
       "\\PY{+w}{  }\\PY{n+nt}{keep}\\PY{p}{:}\\PY{+w}{ }\\PY{l+lScalar+lScalarPlain}{5}\n",
       "\\PY{c+c1}{\\PYZsh{} Default locations for certain directoriescan be changed here}\n",
       "\\PY{c+c1}{\\PYZsh{} Non\\PYZhy{}absolute paths will always be threated relative to the MLONMCU\\PYZus{}HOME}\n",
       "\\PY{n+nt}{paths}\\PY{p}{:}\n",
       "\\PY{+w}{  }\\PY{c+c1}{\\PYZsh{} Where the dependencies are downloaded and installed}\n",
       "\\PY{+w}{  }\\PY{n+nt}{deps}\\PY{p}{:}\\PY{+w}{ }\\PY{l+lScalar+lScalarPlain}{deps}\n",
       "\\PY{+w}{  }\\PY{c+c1}{\\PYZsh{} If logging to file is used keep logs in this directory}\n",
       "\\PY{+w}{  }\\PY{n+nt}{logs}\\PY{p}{:}\\PY{+w}{ }\\PY{l+lScalar+lScalarPlain}{logs}\n",
       "\\PY{+w}{  }\\PY{c+c1}{\\PYZsh{} Location where reports and artifacts are written to}\n",
       "\\PY{+w}{  }\\PY{n+nt}{results}\\PY{p}{:}\\PY{+w}{ }\\PY{l+lScalar+lScalarPlain}{results}\n",
       "\\PY{+w}{  }\\PY{c+c1}{\\PYZsh{} Directory where custom extensions can be integrated}\n",
       "\\PY{+w}{  }\\PY{n+nt}{plugins}\\PY{p}{:}\\PY{+w}{ }\\PY{l+lScalar+lScalarPlain}{plugins}\n",
       "\\PY{+w}{  }\\PY{c+c1}{\\PYZsh{} Directory for intermediate build products, should be located on a large enough drive}\n",
       "\\PY{+w}{  }\\PY{n+nt}{temp}\\PY{p}{:}\\PY{+w}{ }\\PY{l+lScalar+lScalarPlain}{temp}\n",
       "\\PY{+w}{  }\\PY{c+c1}{\\PYZsh{} A collection of models which will be used to look for models}\n",
       "\\PY{+w}{  }\\PY{c+c1}{\\PYZsh{} The paths will be checked in the order defined here stopping at the first match}\n",
       "\\PY{+w}{  }\\PY{c+c1}{\\PYZsh{} Non\\PYZhy{}existant paths will be skipped without throwing an error}\n",
       "\\PY{+w}{  }\\PY{n+nt}{models}\\PY{p}{:}\n",
       "\\PY{+w}{    }\\PY{p+pIndicator}{\\PYZhy{}}\\PY{+w}{ }\\PY{l+s}{\\PYZdq{}}\\PY{c+cp}{\\PYZob{}\\PYZob{}} \\PY{n+nv}{home\\PYZus{}dir} \\PY{c+cp}{\\PYZcb{}\\PYZcb{}}\\PY{l+s}{/models}\\PY{l+s}{\\PYZdq{}}\n",
       "\\PY{c+c1}{\\PYZsh{} Here default clone\\PYZus{}urls}\n",
       "\\PY{n+nt}{repos}\\PY{p}{:}\n",
       "\\PY{+w}{  }\\PY{n+nt}{tensorflow}\\PY{p}{:}\n",
       "\\PY{+w}{    }\\PY{n+nt}{url}\\PY{p}{:}\\PY{+w}{ }\\PY{l+s}{\\PYZdq{}}\\PY{l+s}{https://github.com/tensorflow/tflite\\PYZhy{}micro.git}\\PY{l+s}{\\PYZdq{}}\n",
       "\\PY{+w}{    }\\PY{n+nt}{ref}\\PY{p}{:}\\PY{+w}{ }\\PY{l+lScalar+lScalarPlain}{93d4b1ccc6e0d1a9062acb1d79f21505daf9d940}\n",
       "\\PY{+w}{  }\\PY{n+nt}{tvm}\\PY{p}{:}\n",
       "\\PY{+w}{    }\\PY{n+nt}{url}\\PY{p}{:}\\PY{+w}{ }\\PY{l+s}{\\PYZdq{}}\\PY{l+s}{https://github.com/apache/tvm.git}\\PY{l+s}{\\PYZdq{}}\n",
       "\\PY{+w}{    }\\PY{n+nt}{ref}\\PY{p}{:}\\PY{+w}{ }\\PY{l+lScalar+lScalarPlain}{a9fcac1a47f4b57c1d9d828c7ed1d77452b02cc5}\n",
       "\\PY{+w}{    }\\PY{n+nt}{options}\\PY{p}{:}\n",
       "\\PY{+w}{      }\\PY{n+nt}{recursive}\\PY{p}{:}\\PY{+w}{ }\\PY{l+lScalar+lScalarPlain}{true}\n",
       "\\PY{+w}{  }\\PY{n+nt}{etiss}\\PY{p}{:}\n",
       "\\PY{+w}{    }\\PY{n+nt}{url}\\PY{p}{:}\\PY{+w}{ }\\PY{l+s}{\\PYZdq{}}\\PY{l+s}{https://github.com/tum\\PYZhy{}ei\\PYZhy{}eda/etiss.git}\\PY{l+s}{\\PYZdq{}}\n",
       "\\PY{+w}{    }\\PY{n+nt}{ref}\\PY{p}{:}\\PY{+w}{ }\\PY{l+lScalar+lScalarPlain}{40c0b920cf4072adf189211ca44291534355dcfd}\n",
       "\\PY{+w}{  }\\PY{n+nt}{mlif}\\PY{p}{:}\n",
       "\\PY{+w}{    }\\PY{n+nt}{url}\\PY{p}{:}\\PY{+w}{ }\\PY{l+s}{\\PYZdq{}}\\PY{l+s}{https://github.com/tum\\PYZhy{}ei\\PYZhy{}eda/mlonmcu\\PYZhy{}sw.git}\\PY{l+s}{\\PYZdq{}}\n",
       "\\PY{+w}{    }\\PY{n+nt}{ref}\\PY{p}{:}\\PY{+w}{ }\\PY{l+lScalar+lScalarPlain}{99624237110838fb564f2e6fce838f1962744635}\n",
       "\\PY{+w}{  }\\PY{n+nt}{tflite\\PYZus{}pack}\\PY{p}{:}\n",
       "\\PY{+w}{    }\\PY{n+nt}{url}\\PY{p}{:}\\PY{+w}{ }\\PY{l+s}{\\PYZdq{}}\\PY{l+s}{https://github.com/tum\\PYZhy{}ei\\PYZhy{}eda/tflite\\PYZhy{}pack.git}\\PY{l+s}{\\PYZdq{}}\n",
       "\\PY{+w}{    }\\PY{n+nt}{ref}\\PY{p}{:}\\PY{+w}{ }\\PY{l+lScalar+lScalarPlain}{2d31cafc941d3889b042af9c0a72b5f768ac4606}\n",
       "\\PY{n+nt}{frameworks}\\PY{p}{:}\n",
       "\\PY{+w}{  }\\PY{n+nt}{default}\\PY{p}{:}\\PY{+w}{ }\\PY{l+lScalar+lScalarPlain}{tvm}\n",
       "\\PY{+w}{  }\\PY{n+nt}{tflm}\\PY{p}{:}\n",
       "\\PY{+w}{    }\\PY{n+nt}{enabled}\\PY{p}{:}\\PY{+w}{ }\\PY{l+lScalar+lScalarPlain}{true}\n",
       "\\PY{+w}{    }\\PY{n+nt}{backends}\\PY{p}{:}\n",
       "\\PY{+w}{      }\\PY{n+nt}{default}\\PY{p}{:}\\PY{+w}{ }\\PY{l+lScalar+lScalarPlain}{tflmi}\n",
       "\\PY{+w}{      }\\PY{n+nt}{tflmi}\\PY{p}{:}\n",
       "\\PY{+w}{        }\\PY{n+nt}{enabled}\\PY{p}{:}\\PY{+w}{ }\\PY{l+lScalar+lScalarPlain}{true}\n",
       "\\PY{+w}{        }\\PY{n+nt}{features}\\PY{p}{:}\\PY{+w}{ }\\PY{p+pIndicator}{\\PYZob{}}\\PY{p+pIndicator}{\\PYZcb{}}\n",
       "\\PY{+w}{  }\\PY{n+nt}{tvm}\\PY{p}{:}\n",
       "\\PY{+w}{    }\\PY{n+nt}{enabled}\\PY{p}{:}\\PY{+w}{ }\\PY{l+lScalar+lScalarPlain}{true}\n",
       "\\PY{+w}{    }\\PY{n+nt}{backends}\\PY{p}{:}\n",
       "\\PY{+w}{      }\\PY{n+nt}{default}\\PY{p}{:}\\PY{+w}{ }\\PY{l+lScalar+lScalarPlain}{tvmaotplus}\n",
       "\\PY{+w}{      }\\PY{n+nt}{tvmaotplus}\\PY{p}{:}\n",
       "\\PY{+w}{        }\\PY{n+nt}{enabled}\\PY{p}{:}\\PY{+w}{ }\\PY{l+lScalar+lScalarPlain}{true}\n",
       "\\PY{+w}{        }\\PY{n+nt}{features}\\PY{p}{:}\\PY{+w}{ }\\PY{p+pIndicator}{\\PYZob{}}\\PY{p+pIndicator}{\\PYZcb{}}\n",
       "\\PY{+w}{      }\\PY{n+nt}{tvmllvm}\\PY{p}{:}\n",
       "\\PY{+w}{        }\\PY{n+nt}{enabled}\\PY{p}{:}\\PY{+w}{ }\\PY{l+lScalar+lScalarPlain}{true}\n",
       "\\PY{+w}{        }\\PY{n+nt}{features}\\PY{p}{:}\\PY{+w}{ }\\PY{p+pIndicator}{\\PYZob{}}\\PY{p+pIndicator}{\\PYZcb{}}\n",
       "\\PY{+w}{    }\\PY{n+nt}{features}\\PY{p}{:}\\PY{+w}{ }\\PY{p+pIndicator}{\\PYZob{}}\\PY{p+pIndicator}{\\PYZcb{}}\n",
       "\\PY{n+nt}{frontends}\\PY{p}{:}\n",
       "\\PY{+w}{  }\\PY{n+nt}{tflite}\\PY{p}{:}\n",
       "\\PY{+w}{    }\\PY{n+nt}{enabled}\\PY{p}{:}\\PY{+w}{ }\\PY{l+lScalar+lScalarPlain}{true}\n",
       "\\PY{+w}{    }\\PY{n+nt}{features}\\PY{p}{:}\n",
       "\\PY{+w}{      }\\PY{n+nt}{split\\PYZus{}layers}\\PY{p}{:}\\PY{+w}{ }\\PY{l+lScalar+lScalarPlain}{true}\n",
       "\\PY{n+nt}{toolchains}\\PY{p}{:}\n",
       "\\PY{+w}{  }\\PY{n+nt}{gcc}\\PY{p}{:}\\PY{+w}{ }\\PY{l+lScalar+lScalarPlain}{true}\n",
       "\\PY{n+nt}{platforms}\\PY{p}{:}\n",
       "\\PY{+w}{  }\\PY{n+nt}{mlif}\\PY{p}{:}\n",
       "\\PY{+w}{    }\\PY{n+nt}{enabled}\\PY{p}{:}\\PY{+w}{ }\\PY{l+lScalar+lScalarPlain}{true}\n",
       "\\PY{+w}{    }\\PY{n+nt}{features}\\PY{p}{:}\n",
       "\\PY{+w}{      }\\PY{n+nt}{debug}\\PY{p}{:}\\PY{+w}{ }\\PY{l+lScalar+lScalarPlain}{true}\n",
       "\\PY{+w}{      }\\PY{n+nt}{validate}\\PY{p}{:}\\PY{+w}{ }\\PY{l+lScalar+lScalarPlain}{true}\n",
       "\\PY{n+nt}{targets}\\PY{p}{:}\n",
       "\\PY{+w}{  }\\PY{n+nt}{default}\\PY{p}{:}\\PY{+w}{ }\\PY{l+lScalar+lScalarPlain}{host\\PYZus{}x86}\n",
       "\\PY{+w}{  }\\PY{n+nt}{etiss}\\PY{p}{:}\n",
       "\\PY{+w}{    }\\PY{n+nt}{enabled}\\PY{p}{:}\\PY{+w}{ }\\PY{l+lScalar+lScalarPlain}{true}\n",
       "\\PY{+w}{    }\\PY{n+nt}{features}\\PY{p}{:}\\PY{+w}{ }\\PY{p+pIndicator}{\\PYZob{}}\\PY{p+pIndicator}{\\PYZcb{}}\n",
       "\\PY{n+nt}{postprocesses}\\PY{p}{:}\n",
       "\\PY{+w}{  }\\PY{n+nt}{use}\\PY{p}{:}\\PY{+w}{ }\\PY{p+pIndicator}{[}\\PY{p+pIndicator}{]}\n",
       "\\PY{n+nt}{vars}\\PY{p}{:}\n",
       "\\PY{+w}{  }\\PY{n+nt}{allow\\PYZus{}extensions}\\PY{p}{:}\\PY{+w}{ }\\PY{l+lScalar+lScalarPlain}{false}\n",
       "\\PY{+w}{  }\\PY{n+nt}{runs\\PYZus{}per\\PYZus{}stage}\\PY{p}{:}\\PY{+w}{ }\\PY{l+lScalar+lScalarPlain}{true}\n",
       "\\PY{+w}{  }\\PY{n+nt}{riscv\\PYZus{}gcc.dl\\PYZus{}url}\\PY{p}{:}\\PY{+w}{ }\\PY{l+s}{\\PYZdq{}}\\PY{l+s}{https://syncandshare.lrz.de/dl/fiWBtDLWz17RBc1Yd4VDW7/GCC/default/2023.11.27/Ubuntu/20.04/rv32gc\\PYZus{}ilp32d.tar.xz}\\PY{l+s}{\\PYZdq{}}\n",
       "\\PY{n+nt}{flags}\\PY{p}{:}\\PY{+w}{ }\\PY{p+pIndicator}{\\PYZob{}}\\PY{p+pIndicator}{\\PYZcb{}}\n",
       "\\end{Verbatim}\n"
      ],
      "text/plain": [
       "---\n",
       "# The MLONMCU_HOME is filled in automatically when creating the environment\n",
       "home: \"{{ home_dir }}\"\n",
       "logging:\n",
       "  level: INFO\n",
       "  to_file: false\n",
       "  rotate: false\n",
       "cleanup:\n",
       "  auto: true\n",
       "  keep: 5\n",
       "# Default locations for certain directoriescan be changed here\n",
       "# Non-absolute paths will always be threated relative to the MLONMCU_HOME\n",
       "paths:\n",
       "  # Where the dependencies are downloaded and installed\n",
       "  deps: deps\n",
       "  # If logging to file is used keep logs in this directory\n",
       "  logs: logs\n",
       "  # Location where reports and artifacts are written to\n",
       "  results: results\n",
       "  # Directory where custom extensions can be integrated\n",
       "  plugins: plugins\n",
       "  # Directory for intermediate build products, should be located on a large enough drive\n",
       "  temp: temp\n",
       "  # A collection of models which will be used to look for models\n",
       "  # The paths will be checked in the order defined here stopping at the first match\n",
       "  # Non-existant paths will be skipped without throwing an error\n",
       "  models:\n",
       "    - \"{{ home_dir }}/models\"\n",
       "# Here default clone_urls\n",
       "repos:\n",
       "  tensorflow:\n",
       "    url: \"https://github.com/tensorflow/tflite-micro.git\"\n",
       "    ref: 93d4b1ccc6e0d1a9062acb1d79f21505daf9d940\n",
       "  tvm:\n",
       "    url: \"https://github.com/apache/tvm.git\"\n",
       "    ref: a9fcac1a47f4b57c1d9d828c7ed1d77452b02cc5\n",
       "    options:\n",
       "      recursive: true\n",
       "  etiss:\n",
       "    url: \"https://github.com/tum-ei-eda/etiss.git\"\n",
       "    ref: 40c0b920cf4072adf189211ca44291534355dcfd\n",
       "  mlif:\n",
       "    url: \"https://github.com/tum-ei-eda/mlonmcu-sw.git\"\n",
       "    ref: 99624237110838fb564f2e6fce838f1962744635\n",
       "  tflite_pack:\n",
       "    url: \"https://github.com/tum-ei-eda/tflite-pack.git\"\n",
       "    ref: 2d31cafc941d3889b042af9c0a72b5f768ac4606\n",
       "frameworks:\n",
       "  default: tvm\n",
       "  tflm:\n",
       "    enabled: true\n",
       "    backends:\n",
       "      default: tflmi\n",
       "      tflmi:\n",
       "        enabled: true\n",
       "        features: {}\n",
       "  tvm:\n",
       "    enabled: true\n",
       "    backends:\n",
       "      default: tvmaotplus\n",
       "      tvmaotplus:\n",
       "        enabled: true\n",
       "        features: {}\n",
       "      tvmllvm:\n",
       "        enabled: true\n",
       "        features: {}\n",
       "    features: {}\n",
       "frontends:\n",
       "  tflite:\n",
       "    enabled: true\n",
       "    features:\n",
       "      split_layers: true\n",
       "toolchains:\n",
       "  gcc: true\n",
       "platforms:\n",
       "  mlif:\n",
       "    enabled: true\n",
       "    features:\n",
       "      debug: true\n",
       "      validate: true\n",
       "targets:\n",
       "  default: host_x86\n",
       "  etiss:\n",
       "    enabled: true\n",
       "    features: {}\n",
       "postprocesses:\n",
       "  use: []\n",
       "vars:\n",
       "  allow_extensions: false\n",
       "  runs_per_stage: true\n",
       "  riscv_gcc.dl_url: \"https://syncandshare.lrz.de/dl/fiWBtDLWz17RBc1Yd4VDW7/GCC/default/2023.11.27/Ubuntu/20.04/rv32gc_ilp32d.tar.xz\"\n",
       "flags: {}"
      ]
     },
     "execution_count": 3,
     "metadata": {},
     "output_type": "execute_result"
    }
   ],
   "source": [
    "Code(filename=\"environment.yml.j2\")"
   ]
  },
  {
   "cell_type": "markdown",
   "id": "4d140308",
   "metadata": {
    "papermill": {
     "duration": 0.002309,
     "end_time": "2024-01-08T10:22:14.962791",
     "exception": false,
     "start_time": "2024-01-08T10:22:14.960482",
     "status": "completed"
    },
    "tags": []
   },
   "source": [
    "Do not forget to set your `MLONMCU_HOME` environment variable first if not using the default location!"
   ]
  },
  {
   "cell_type": "markdown",
   "id": "a3bac781",
   "metadata": {
    "papermill": {
     "duration": 0.003198,
     "end_time": "2024-01-08T10:22:14.968348",
     "exception": false,
     "start_time": "2024-01-08T10:22:14.965150",
     "status": "completed"
    },
    "tags": []
   },
   "source": [
    "## Usage"
   ]
  },
  {
   "cell_type": "markdown",
   "id": "1352b362",
   "metadata": {
    "papermill": {
     "duration": 0.002326,
     "end_time": "2024-01-08T10:22:14.973051",
     "exception": false,
     "start_time": "2024-01-08T10:22:14.970725",
     "status": "completed"
    },
    "tags": []
   },
   "source": [
    "*Hint*: Due to the program being build in debug mode and running one inference for each provided input-output combination, the simulation time will likely decrease by some factors. Add the `--parallel` flag to your command line to allow MLonMCU to run multiple simulations in parallel.\n",
    "\n",
    "*Hint:* We are not able to provide reference data for every model in out model zoo. If you might want to add reference data for your own models, see: TODO"
   ]
  },
  {
   "cell_type": "markdown",
   "id": "f01b54e2",
   "metadata": {
    "papermill": {
     "duration": 0.002318,
     "end_time": "2024-01-08T10:22:14.977763",
     "exception": false,
     "start_time": "2024-01-08T10:22:14.975445",
     "status": "completed"
    },
    "tags": []
   },
   "source": [
    "### A) Command Line Interface"
   ]
  },
  {
   "cell_type": "markdown",
   "id": "2b333851",
   "metadata": {
    "papermill": {
     "duration": 0.002312,
     "end_time": "2024-01-08T10:22:14.982519",
     "exception": false,
     "start_time": "2024-01-08T10:22:14.980207",
     "status": "completed"
    },
    "tags": []
   },
   "source": [
    "As an example, let's see if the `tflmi` and `tvmaotplus` backend produce different model outputs for the same model."
   ]
  },
  {
   "cell_type": "code",
   "execution_count": 11,
   "id": "43576c35",
   "metadata": {
    "papermill": {
     "duration": 396.920147,
     "end_time": "2024-01-08T10:28:51.905075",
     "exception": false,
     "start_time": "2024-01-08T10:22:14.984928",
     "status": "completed"
    },
    "tags": []
   },
   "outputs": [
    {
     "name": "stdout",
     "output_type": "stream",
     "text": [
      "INFO - Loading environment cache from file\n",
      "INFO - Successfully initialized cache\n",
      "INFO - [session-735]  Processing stage LOAD\n",
      "INFO - [session-735]  Processing stage BUILD\n",
      "INFO - [session-735]  Processing stage COMPILE\n",
      "INFO - [session-735]  Processing stage RUN\n",
      "INFO - [session-735]  Processing stage POSTPROCESS\n",
      "INFO - All runs completed successfuly!\n",
      "INFO - Postprocessing session report\n",
      "INFO - [session-735] Done processing runs\n",
      "INFO - Report:\n",
      "   Session  Run Model Frontend Framework     Backend Platform    Target  Runtime [s]  Validation  Total ROM  Total RAM  ROM read-only  ROM code  ROM misc  RAM data  RAM zero-init data                                           Features                                             Config       Postprocesses Comment     topk(n=1)     topk(n=2)\n",
      "0      735    0   aww   tflite       tvm  tvmaotplus     mlif  host_x86     0.024452        True      90161      56856          53560     34085      2516        40               56816  [gen_ref_data, set_inputs, validate_new, get_o...  {'aww.output_types': {'Identity': 'int8'}, 'aw...  [validate_outputs]       -  10/10 (100%)  10/10 (100%)\n",
      "1      735    1   aww   tflite      tflm       tflmi     mlif  host_x86     0.045762        True     147097      33720          60544     74325     12228         8               33712  [gen_ref_data, set_inputs, validate_new, get_o...  {'aww.output_types': {'Identity': 'int8'}, 'aw...  [validate_outputs]       -  10/10 (100%)  10/10 (100%)\n"
     ]
    }
   ],
   "source": [
    "!python3 -m mlonmcu.cli.main flow run aww --target host_x86 --backend tvmaotplus --backend tflmi \\\n",
    "    -f validate_new --post validate_outputs -c gen_data.number=10 \\\n",
    "    -c validate_labels.validate_metrics=\"allclose(atol=0.1,rtol=0.1);topk(n=1)\" \\\n",
    "    -c mlif.template_version=v2 -c set_inputs.interface=stdin_raw -c get_outputs.interface=stdout_raw"
   ]
  },
  {
   "cell_type": "code",
   "execution_count": 12,
   "id": "2071747d-7b44-4297-aef4-2b0100fbc746",
   "metadata": {},
   "outputs": [
    {
     "name": "stdout",
     "output_type": "stream",
     "text": [
      "INFO - Loading environment cache from file\n",
      "INFO - Successfully initialized cache\n",
      "INFO - [session-736]  Processing stage LOAD\n",
      "INFO - [session-736]  Processing stage BUILD\n",
      "INFO - [session-736]  Processing stage COMPILE\n",
      "INFO - [session-736]  Processing stage RUN\n",
      "INFO - [session-736]  Processing stage POSTPROCESS\n",
      "INFO - All runs completed successfuly!\n",
      "INFO - Postprocessing session report\n",
      "INFO - [session-736] Done processing runs\n",
      "INFO - Report:\n",
      "   Session  Run Model Frontend Framework     Backend Platform    Target  Runtime [s]  Validation  Total ROM  Total RAM  ROM read-only  ROM code  ROM misc  RAM data  RAM zero-init data                                           Features                                             Config      Postprocesses Comment topk_label(n=1)\n",
      "0      736    0   aww   tflite       tvm  tvmaotplus     mlif  host_x86     0.025166        True      90161      56856          53560     34085      2516        40               56816  [gen_ref_labels, gen_data, gen_ref_data, set_i...  {'aww.output_types': {'Identity': 'int8'}, 'aw...  [validate_labels]       -      9/10 (90%)\n",
      "1      736    1   aww   tflite      tflm       tflmi     mlif  host_x86     0.046711        True     147097      33720          60544     74325     12228         8               33712  [gen_ref_labels, gen_data, gen_ref_data, set_i...  {'aww.output_types': {'Identity': 'int8'}, 'aw...  [validate_labels]       -      9/10 (90%)\n"
     ]
    }
   ],
   "source": [
    "!python3 -m mlonmcu.cli.main flow run aww --target host_x86 --backend tvmaotplus --backend tflmi \\\n",
    "    -f validate_new -f gen_ref_labels --post validate_labels -c gen_data.number=10 \\\n",
    "    -c validate_labels.classify_metrics=\"topk_label(n=1)\" \\\n",
    "    -c mlif.template_version=v2 -c set_inputs.interface=stdin_raw -c get_outputs.interface=stdout_raw"
   ]
  },
  {
   "cell_type": "code",
   "execution_count": null,
   "id": "fda8f9fe-f739-413c-8b44-f7eae91b8d75",
   "metadata": {},
   "outputs": [],
   "source": []
  }
 ],
 "metadata": {
  "kernelspec": {
   "display_name": "Python 3 (ipykernel)",
   "language": "python",
   "name": "python3"
  },
  "language_info": {
   "codemirror_mode": {
    "name": "ipython",
    "version": 3
   },
   "file_extension": ".py",
   "mimetype": "text/x-python",
   "name": "python",
   "nbconvert_exporter": "python",
   "pygments_lexer": "ipython3",
   "version": "3.8.10"
  },
  "papermill": {
   "default_parameters": {},
   "duration": 817.548275,
   "end_time": "2024-01-08T10:35:51.576179",
   "environment_variables": {},
   "exception": null,
   "input_path": "/home/runner/work/mlonmcu/mlonmcu/ipynb/Examples/ValidateOutputs/ValidateOutputs.ipynb",
   "output_path": "/home/runner/work/mlonmcu/mlonmcu/ipynb/Examples/ValidateOutputs/ValidateOutputs.ipynb",
   "parameters": {},
   "start_time": "2024-01-08T10:22:14.027904",
   "version": "2.5.0"
  }
 },
 "nbformat": 4,
 "nbformat_minor": 5
}
