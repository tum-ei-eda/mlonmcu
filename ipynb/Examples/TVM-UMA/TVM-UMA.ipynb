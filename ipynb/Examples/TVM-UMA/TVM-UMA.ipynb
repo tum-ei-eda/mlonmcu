{
 "cells": [
  {
   "cell_type": "code",
   "execution_count": 1,
   "id": "cd15d552",
   "metadata": {
    "execution": {
     "iopub.execute_input": "2024-02-06T10:19:21.259689Z",
     "iopub.status.busy": "2024-02-06T10:19:21.259315Z",
     "iopub.status.idle": "2024-02-06T10:19:21.265582Z",
     "shell.execute_reply": "2024-02-06T10:19:21.265066Z"
    },
    "papermill": {
     "duration": 0.011888,
     "end_time": "2024-02-06T10:19:21.266946",
     "exception": false,
     "start_time": "2024-02-06T10:19:21.255058",
     "status": "completed"
    },
    "tags": []
   },
   "outputs": [],
   "source": [
    "from IPython.display import Code"
   ]
  },
  {
   "cell_type": "markdown",
   "id": "67a623c3",
   "metadata": {
    "papermill": {
     "duration": 0.002512,
     "end_time": "2024-02-06T10:19:21.272350",
     "exception": false,
     "start_time": "2024-02-06T10:19:21.269838",
     "status": "completed"
    },
    "tags": []
   },
   "source": [
    "# Example: How to target a UMA-integrated backend using MLonMCU"
   ]
  },
  {
   "cell_type": "markdown",
   "id": "1025ee11",
   "metadata": {
    "papermill": {
     "duration": 0.002456,
     "end_time": "2024-02-06T10:19:21.277364",
     "exception": false,
     "start_time": "2024-02-06T10:19:21.274908",
     "status": "completed"
    },
    "tags": []
   },
   "source": [
    "In this example you will see how to use MLonMCU to run a NN model on a custom accelerator, which has been integrated into TVM using UMA. We take Vanilla (https://tvm.apache.org/docs/tutorial/uma.html) and QVanilla, which is a quantized version of Vanilla, as our accelerator examples.  "
   ]
  },
  {
   "cell_type": "markdown",
   "id": "87fd1387",
   "metadata": {
    "papermill": {
     "duration": 0.002577,
     "end_time": "2024-02-06T10:19:21.283509",
     "exception": false,
     "start_time": "2024-02-06T10:19:21.280932",
     "status": "completed"
    },
    "tags": []
   },
   "source": [
    "## Supported components"
   ]
  },
  {
   "cell_type": "markdown",
   "id": "584a911d",
   "metadata": {
    "papermill": {
     "duration": 0.002451,
     "end_time": "2024-02-06T10:19:21.288488",
     "exception": false,
     "start_time": "2024-02-06T10:19:21.286037",
     "status": "completed"
    },
    "tags": []
   },
   "source": [
    "**Models:** Any (depends on the data-type supported by the accelerator)\n",
    "\n",
    "**Frontends:** Any (`tflite` used below)\n",
    "\n",
    "**Frameworks/Backends:** (`tvmaotplus` and `tvmaot` used below)\n",
    "\n",
    "**Platforms/Targets:** (`mlif`)\n",
    "\n",
    "**Features:** `uma_backends` and `vanilla_accelerator` "
   ]
  },
  {
   "cell_type": "markdown",
   "id": "74ce776e",
   "metadata": {
    "papermill": {
     "duration": 0.002437,
     "end_time": "2024-02-06T10:19:21.293491",
     "exception": false,
     "start_time": "2024-02-06T10:19:21.291054",
     "status": "completed"
    },
    "tags": []
   },
   "source": [
    "## Prerequisites"
   ]
  },
  {
   "cell_type": "markdown",
   "id": "18955525",
   "metadata": {
    "papermill": {
     "duration": 0.002473,
     "end_time": "2024-02-06T10:19:21.298505",
     "exception": false,
     "start_time": "2024-02-06T10:19:21.296032",
     "status": "completed"
    },
    "tags": []
   },
   "source": [
    "Set up MLonmCU as usual, i.e. initialize an environment and install all required dependencies. For creating MLonMCU environment, use the exsiting UMA template as shown in the command below:\n",
    "\n",
    "python -m mlonmcu.cli.main init /path/to/workspace -t uma\n",
    "\n",
    "The UMA template (uma.yml.j2) file is the same as the following \"environment.yml.j2\" file. As you can see, it needs  a specific patch of TVM. Moreover, you see one new library that would be cloned as \"etiss_accelerator_plugins\", which is specific to the models of the QVanilla and Vanilla accelerator simulated via ETISS plugins."
   ]
  },
  {
   "cell_type": "code",
   "execution_count": 2,
   "id": "d7dcc6a4",
   "metadata": {
    "execution": {
     "iopub.execute_input": "2024-02-06T10:19:21.304698Z",
     "iopub.status.busy": "2024-02-06T10:19:21.304213Z",
     "iopub.status.idle": "2024-02-06T10:19:21.410618Z",
     "shell.execute_reply": "2024-02-06T10:19:21.409909Z"
    },
    "papermill": {
     "duration": 0.111112,
     "end_time": "2024-02-06T10:19:21.412144",
     "exception": false,
     "start_time": "2024-02-06T10:19:21.301032",
     "status": "completed"
    },
    "tags": []
   },
   "outputs": [
    {
     "data": {
      "text/html": [
       "<style>pre { line-height: 125%; }\n",
       "td.linenos .normal { color: inherit; background-color: transparent; padding-left: 5px; padding-right: 5px; }\n",
       "span.linenos { color: inherit; background-color: transparent; padding-left: 5px; padding-right: 5px; }\n",
       "td.linenos .special { color: #000000; background-color: #ffffc0; padding-left: 5px; padding-right: 5px; }\n",
       "span.linenos.special { color: #000000; background-color: #ffffc0; padding-left: 5px; padding-right: 5px; }\n",
       ".output_html .hll { background-color: #ffffcc }\n",
       ".output_html { background: #f8f8f8; }\n",
       ".output_html .c { color: #3D7B7B; font-style: italic } /* Comment */\n",
       ".output_html .err { border: 1px solid #FF0000 } /* Error */\n",
       ".output_html .k { color: #008000; font-weight: bold } /* Keyword */\n",
       ".output_html .o { color: #666666 } /* Operator */\n",
       ".output_html .ch { color: #3D7B7B; font-style: italic } /* Comment.Hashbang */\n",
       ".output_html .cm { color: #3D7B7B; font-style: italic } /* Comment.Multiline */\n",
       ".output_html .cp { color: #9C6500 } /* Comment.Preproc */\n",
       ".output_html .cpf { color: #3D7B7B; font-style: italic } /* Comment.PreprocFile */\n",
       ".output_html .c1 { color: #3D7B7B; font-style: italic } /* Comment.Single */\n",
       ".output_html .cs { color: #3D7B7B; font-style: italic } /* Comment.Special */\n",
       ".output_html .gd { color: #A00000 } /* Generic.Deleted */\n",
       ".output_html .ge { font-style: italic } /* Generic.Emph */\n",
       ".output_html .ges { font-weight: bold; font-style: italic } /* Generic.EmphStrong */\n",
       ".output_html .gr { color: #E40000 } /* Generic.Error */\n",
       ".output_html .gh { color: #000080; font-weight: bold } /* Generic.Heading */\n",
       ".output_html .gi { color: #008400 } /* Generic.Inserted */\n",
       ".output_html .go { color: #717171 } /* Generic.Output */\n",
       ".output_html .gp { color: #000080; font-weight: bold } /* Generic.Prompt */\n",
       ".output_html .gs { font-weight: bold } /* Generic.Strong */\n",
       ".output_html .gu { color: #800080; font-weight: bold } /* Generic.Subheading */\n",
       ".output_html .gt { color: #0044DD } /* Generic.Traceback */\n",
       ".output_html .kc { color: #008000; font-weight: bold } /* Keyword.Constant */\n",
       ".output_html .kd { color: #008000; font-weight: bold } /* Keyword.Declaration */\n",
       ".output_html .kn { color: #008000; font-weight: bold } /* Keyword.Namespace */\n",
       ".output_html .kp { color: #008000 } /* Keyword.Pseudo */\n",
       ".output_html .kr { color: #008000; font-weight: bold } /* Keyword.Reserved */\n",
       ".output_html .kt { color: #B00040 } /* Keyword.Type */\n",
       ".output_html .m { color: #666666 } /* Literal.Number */\n",
       ".output_html .s { color: #BA2121 } /* Literal.String */\n",
       ".output_html .na { color: #687822 } /* Name.Attribute */\n",
       ".output_html .nb { color: #008000 } /* Name.Builtin */\n",
       ".output_html .nc { color: #0000FF; font-weight: bold } /* Name.Class */\n",
       ".output_html .no { color: #880000 } /* Name.Constant */\n",
       ".output_html .nd { color: #AA22FF } /* Name.Decorator */\n",
       ".output_html .ni { color: #717171; font-weight: bold } /* Name.Entity */\n",
       ".output_html .ne { color: #CB3F38; font-weight: bold } /* Name.Exception */\n",
       ".output_html .nf { color: #0000FF } /* Name.Function */\n",
       ".output_html .nl { color: #767600 } /* Name.Label */\n",
       ".output_html .nn { color: #0000FF; font-weight: bold } /* Name.Namespace */\n",
       ".output_html .nt { color: #008000; font-weight: bold } /* Name.Tag */\n",
       ".output_html .nv { color: #19177C } /* Name.Variable */\n",
       ".output_html .ow { color: #AA22FF; font-weight: bold } /* Operator.Word */\n",
       ".output_html .w { color: #bbbbbb } /* Text.Whitespace */\n",
       ".output_html .mb { color: #666666 } /* Literal.Number.Bin */\n",
       ".output_html .mf { color: #666666 } /* Literal.Number.Float */\n",
       ".output_html .mh { color: #666666 } /* Literal.Number.Hex */\n",
       ".output_html .mi { color: #666666 } /* Literal.Number.Integer */\n",
       ".output_html .mo { color: #666666 } /* Literal.Number.Oct */\n",
       ".output_html .sa { color: #BA2121 } /* Literal.String.Affix */\n",
       ".output_html .sb { color: #BA2121 } /* Literal.String.Backtick */\n",
       ".output_html .sc { color: #BA2121 } /* Literal.String.Char */\n",
       ".output_html .dl { color: #BA2121 } /* Literal.String.Delimiter */\n",
       ".output_html .sd { color: #BA2121; font-style: italic } /* Literal.String.Doc */\n",
       ".output_html .s2 { color: #BA2121 } /* Literal.String.Double */\n",
       ".output_html .se { color: #AA5D1F; font-weight: bold } /* Literal.String.Escape */\n",
       ".output_html .sh { color: #BA2121 } /* Literal.String.Heredoc */\n",
       ".output_html .si { color: #A45A77; font-weight: bold } /* Literal.String.Interpol */\n",
       ".output_html .sx { color: #008000 } /* Literal.String.Other */\n",
       ".output_html .sr { color: #A45A77 } /* Literal.String.Regex */\n",
       ".output_html .s1 { color: #BA2121 } /* Literal.String.Single */\n",
       ".output_html .ss { color: #19177C } /* Literal.String.Symbol */\n",
       ".output_html .bp { color: #008000 } /* Name.Builtin.Pseudo */\n",
       ".output_html .fm { color: #0000FF } /* Name.Function.Magic */\n",
       ".output_html .vc { color: #19177C } /* Name.Variable.Class */\n",
       ".output_html .vg { color: #19177C } /* Name.Variable.Global */\n",
       ".output_html .vi { color: #19177C } /* Name.Variable.Instance */\n",
       ".output_html .vm { color: #19177C } /* Name.Variable.Magic */\n",
       ".output_html .il { color: #666666 } /* Literal.Number.Integer.Long */</style><div class=\"highlight\"><pre><span></span><span class=\"nn\">---</span>\n",
       "<span class=\"c1\"># The MLONMCU_HOME is filled in automatically when creating the environment</span>\n",
       "<span class=\"nt\">home</span><span class=\"p\">:</span><span class=\"w\"> </span><span class=\"s\">&quot;</span><span class=\"cp\">{{</span> <span class=\"nv\">home_dir</span> <span class=\"cp\">}}</span><span class=\"s\">&quot;</span>\n",
       "<span class=\"nt\">logging</span><span class=\"p\">:</span>\n",
       "<span class=\"w\">  </span><span class=\"nt\">level</span><span class=\"p\">:</span><span class=\"w\"> </span><span class=\"l l-Scalar l-Scalar-Plain\">DEBUG</span>\n",
       "<span class=\"w\">  </span><span class=\"nt\">to_file</span><span class=\"p\">:</span><span class=\"w\"> </span><span class=\"l l-Scalar l-Scalar-Plain\">false</span>\n",
       "<span class=\"w\">  </span><span class=\"nt\">rotate</span><span class=\"p\">:</span><span class=\"w\"> </span><span class=\"l l-Scalar l-Scalar-Plain\">false</span>\n",
       "<span class=\"nt\">cleanup</span><span class=\"p\">:</span>\n",
       "<span class=\"w\">  </span><span class=\"nt\">auto</span><span class=\"p\">:</span><span class=\"w\"> </span><span class=\"l l-Scalar l-Scalar-Plain\">true</span>\n",
       "<span class=\"w\">  </span><span class=\"nt\">keep</span><span class=\"p\">:</span><span class=\"w\"> </span><span class=\"l l-Scalar l-Scalar-Plain\">50</span>\n",
       "<span class=\"c1\"># Default locations for certain directoriescan be changed here</span>\n",
       "<span class=\"c1\"># Non-absolute paths will always be threated relative to the MLONMCU_HOME</span>\n",
       "<span class=\"nt\">paths</span><span class=\"p\">:</span>\n",
       "<span class=\"w\">  </span><span class=\"c1\"># Where the dependencies are downloaded and installed</span>\n",
       "<span class=\"w\">  </span><span class=\"nt\">deps</span><span class=\"p\">:</span><span class=\"w\"> </span><span class=\"l l-Scalar l-Scalar-Plain\">deps</span>\n",
       "<span class=\"w\">  </span><span class=\"c1\"># If logging to file is used keep logs in this directory</span>\n",
       "<span class=\"w\">  </span><span class=\"nt\">logs</span><span class=\"p\">:</span><span class=\"w\"> </span><span class=\"l l-Scalar l-Scalar-Plain\">logs</span>\n",
       "<span class=\"w\">  </span><span class=\"c1\"># Location where reports and artifacts are written to</span>\n",
       "<span class=\"w\">  </span><span class=\"nt\">results</span><span class=\"p\">:</span><span class=\"w\"> </span><span class=\"l l-Scalar l-Scalar-Plain\">results</span>\n",
       "<span class=\"w\">  </span><span class=\"c1\"># Directory where custom extensions can be integrated</span>\n",
       "<span class=\"w\">  </span><span class=\"nt\">plugins</span><span class=\"p\">:</span><span class=\"w\"> </span><span class=\"l l-Scalar l-Scalar-Plain\">plugins</span>\n",
       "<span class=\"w\">  </span><span class=\"c1\"># Directory for intermediate build products, should be located on a large enough drive</span>\n",
       "<span class=\"w\">  </span><span class=\"nt\">temp</span><span class=\"p\">:</span><span class=\"w\"> </span><span class=\"l l-Scalar l-Scalar-Plain\">temp</span>\n",
       "<span class=\"w\">  </span><span class=\"c1\"># A collection of models which will be used to look for models</span>\n",
       "<span class=\"w\">  </span><span class=\"c1\"># The paths will be checked in the order defined here stopping at the first match</span>\n",
       "<span class=\"w\">  </span><span class=\"c1\"># Non-existant paths will be skipped without throwing an error</span>\n",
       "<span class=\"w\">  </span><span class=\"nt\">models</span><span class=\"p\">:</span>\n",
       "<span class=\"w\">    </span><span class=\"p p-Indicator\">-</span><span class=\"w\"> </span><span class=\"s\">&quot;</span><span class=\"cp\">{{</span> <span class=\"nv\">home_dir</span> <span class=\"cp\">}}</span><span class=\"s\">/models&quot;</span>\n",
       "<span class=\"w\">    </span><span class=\"p p-Indicator\">-</span><span class=\"w\"> </span><span class=\"s\">&quot;</span><span class=\"cp\">{{</span> <span class=\"nv\">config_dir</span> <span class=\"cp\">}}</span><span class=\"s\">/models&quot;</span>\n",
       "<span class=\"c1\"># Here default clone_urls</span>\n",
       "<span class=\"nt\">repos</span><span class=\"p\">:</span>\n",
       "<span class=\"w\">  </span><span class=\"nt\">tvm</span><span class=\"p\">:</span>\n",
       "<span class=\"w\">    </span><span class=\"nt\">url</span><span class=\"p\">:</span><span class=\"w\"> </span><span class=\"s\">&quot;https://github.com/tum-ei-eda/tvm.git&quot;</span>\n",
       "<span class=\"w\">    </span><span class=\"nt\">ref</span><span class=\"p\">:</span><span class=\"w\"> </span><span class=\"l l-Scalar l-Scalar-Plain\">patch_uma_tvmc</span>\n",
       "<span class=\"w\">  </span><span class=\"nt\">etiss</span><span class=\"p\">:</span>\n",
       "<span class=\"w\">    </span><span class=\"nt\">url</span><span class=\"p\">:</span><span class=\"w\"> </span><span class=\"s\">&quot;https://github.com/tum-ei-eda/etiss.git&quot;</span>\n",
       "<span class=\"w\">    </span><span class=\"nt\">ref</span><span class=\"p\">:</span><span class=\"w\"> </span><span class=\"l l-Scalar l-Scalar-Plain\">739573d5f12798074bc7d375a46c005f23f59f67</span>\n",
       "<span class=\"w\">  </span><span class=\"nt\">mlif</span><span class=\"p\">:</span>\n",
       "<span class=\"w\">    </span><span class=\"nt\">url</span><span class=\"p\">:</span><span class=\"w\"> </span><span class=\"s\">&quot;https://github.com/tum-ei-eda/mlonmcu-sw.git&quot;</span>\n",
       "<span class=\"w\">    </span><span class=\"nt\">ref</span><span class=\"p\">:</span><span class=\"w\"> </span><span class=\"l l-Scalar l-Scalar-Plain\">1bfcf3c9b90dd532011011386f3a08ad20573c09</span>\n",
       "<span class=\"w\">  </span><span class=\"nt\">etiss_accelerator_plugins</span><span class=\"p\">:</span>\n",
       "<span class=\"w\">    </span><span class=\"nt\">url</span><span class=\"p\">:</span><span class=\"w\"> </span><span class=\"s\">&quot;https://github.com/tum-ei-eda/etiss-accelerator-plugins.git&quot;</span>\n",
       "<span class=\"w\">    </span><span class=\"nt\">ref</span><span class=\"p\">:</span><span class=\"w\"> </span><span class=\"l l-Scalar l-Scalar-Plain\">main</span>\n",
       "<span class=\"c1\"># Here all supported frameworks with their specific features are defined</span>\n",
       "<span class=\"c1\"># Optionally disable unwanted or incomatible backends or features here</span>\n",
       "<span class=\"c1\"># The configured defaults are used if no backend was specified in the command line options</span>\n",
       "<span class=\"nt\">frameworks</span><span class=\"p\">:</span>\n",
       "<span class=\"w\">  </span><span class=\"nt\">default</span><span class=\"p\">:</span><span class=\"w\"> </span><span class=\"l l-Scalar l-Scalar-Plain\">tvm</span>\n",
       "<span class=\"w\">  </span><span class=\"nt\">tvm</span><span class=\"p\">:</span>\n",
       "<span class=\"w\">    </span><span class=\"nt\">enabled</span><span class=\"p\">:</span><span class=\"w\"> </span><span class=\"l l-Scalar l-Scalar-Plain\">true</span>\n",
       "<span class=\"w\">    </span><span class=\"nt\">backends</span><span class=\"p\">:</span>\n",
       "<span class=\"w\">      </span><span class=\"nt\">default</span><span class=\"p\">:</span><span class=\"w\"> </span><span class=\"l l-Scalar l-Scalar-Plain\">tvmaot</span>\n",
       "<span class=\"w\">      </span><span class=\"nt\">tvmrt</span><span class=\"p\">:</span>\n",
       "<span class=\"w\">        </span><span class=\"nt\">enabled</span><span class=\"p\">:</span><span class=\"w\"> </span><span class=\"l l-Scalar l-Scalar-Plain\">true</span>\n",
       "<span class=\"w\">        </span><span class=\"nt\">features</span><span class=\"p\">:</span>\n",
       "<span class=\"w\">          </span><span class=\"nt\">autotuned</span><span class=\"p\">:</span><span class=\"w\"> </span><span class=\"l l-Scalar l-Scalar-Plain\">true</span>\n",
       "<span class=\"w\">      </span><span class=\"nt\">tvmaot</span><span class=\"p\">:</span>\n",
       "<span class=\"w\">        </span><span class=\"nt\">enabled</span><span class=\"p\">:</span><span class=\"w\"> </span><span class=\"l l-Scalar l-Scalar-Plain\">true</span>\n",
       "<span class=\"w\">        </span><span class=\"nt\">features</span><span class=\"p\">:</span>\n",
       "<span class=\"w\">          </span><span class=\"nt\">unpacked_api</span><span class=\"p\">:</span><span class=\"w\"> </span><span class=\"l l-Scalar l-Scalar-Plain\">true</span>\n",
       "<span class=\"w\">          </span><span class=\"nt\">usmp</span><span class=\"p\">:</span><span class=\"w\"> </span><span class=\"l l-Scalar l-Scalar-Plain\">true</span>\n",
       "<span class=\"w\">          </span><span class=\"nt\">autotuned</span><span class=\"p\">:</span><span class=\"w\"> </span><span class=\"l l-Scalar l-Scalar-Plain\">true</span>\n",
       "<span class=\"w\">          </span><span class=\"nt\">uma_backends</span><span class=\"p\">:</span><span class=\"w\"> </span><span class=\"l l-Scalar l-Scalar-Plain\">true</span>\n",
       "<span class=\"w\">      </span><span class=\"nt\">tvmaotplus</span><span class=\"p\">:</span>\n",
       "<span class=\"w\">        </span><span class=\"nt\">enabled</span><span class=\"p\">:</span><span class=\"w\"> </span><span class=\"l l-Scalar l-Scalar-Plain\">true</span>\n",
       "<span class=\"w\">        </span><span class=\"nt\">features</span><span class=\"p\">:</span>\n",
       "<span class=\"w\">          </span><span class=\"nt\">autotuned</span><span class=\"p\">:</span><span class=\"w\"> </span><span class=\"l l-Scalar l-Scalar-Plain\">true</span>\n",
       "<span class=\"w\">          </span><span class=\"nt\">uma_backends</span><span class=\"p\">:</span><span class=\"w\"> </span><span class=\"l l-Scalar l-Scalar-Plain\">true</span>\n",
       "<span class=\"w\">      </span><span class=\"nt\">tvmllvm</span><span class=\"p\">:</span>\n",
       "<span class=\"w\">        </span><span class=\"nt\">enabled</span><span class=\"p\">:</span><span class=\"w\"> </span><span class=\"l l-Scalar l-Scalar-Plain\">true</span>\n",
       "<span class=\"w\">        </span><span class=\"nt\">features</span><span class=\"p\">:</span>\n",
       "<span class=\"w\">          </span><span class=\"nt\">autotuned</span><span class=\"p\">:</span><span class=\"w\"> </span><span class=\"l l-Scalar l-Scalar-Plain\">true</span>\n",
       "<span class=\"w\">    </span><span class=\"nt\">features</span><span class=\"p\">:</span>\n",
       "<span class=\"w\">      </span><span class=\"nt\">cmsisnnbyoc</span><span class=\"p\">:</span><span class=\"w\"> </span><span class=\"l l-Scalar l-Scalar-Plain\">false</span>\n",
       "<span class=\"w\">      </span><span class=\"nt\">muriscvnnbyoc</span><span class=\"p\">:</span><span class=\"w\"> </span><span class=\"l l-Scalar l-Scalar-Plain\">false</span>\n",
       "<span class=\"c1\"># Some frontends are experimental and therefore disabled here</span>\n",
       "<span class=\"c1\"># Features like packing are only available in certain environments</span>\n",
       "<span class=\"nt\">frontends</span><span class=\"p\">:</span>\n",
       "<span class=\"w\">  </span><span class=\"nt\">tflite</span><span class=\"p\">:</span>\n",
       "<span class=\"w\">    </span><span class=\"nt\">enabled</span><span class=\"p\">:</span><span class=\"w\"> </span><span class=\"l l-Scalar l-Scalar-Plain\">true</span>\n",
       "<span class=\"w\">    </span><span class=\"nt\">features</span><span class=\"p\">:</span>\n",
       "<span class=\"w\">      </span><span class=\"nt\">validate</span><span class=\"p\">:</span><span class=\"w\"> </span><span class=\"l l-Scalar l-Scalar-Plain\">true</span>\n",
       "<span class=\"w\">  </span><span class=\"nt\">relay</span><span class=\"p\">:</span>\n",
       "<span class=\"w\">    </span><span class=\"nt\">enabled</span><span class=\"p\">:</span><span class=\"w\"> </span><span class=\"l l-Scalar l-Scalar-Plain\">true</span>\n",
       "<span class=\"w\">    </span><span class=\"nt\">features</span><span class=\"p\">:</span>\n",
       "<span class=\"w\">      </span><span class=\"nt\">relayviz</span><span class=\"p\">:</span><span class=\"w\"> </span><span class=\"l l-Scalar l-Scalar-Plain\">true</span>\n",
       "<span class=\"w\">  </span><span class=\"nt\">onnx</span><span class=\"p\">:</span>\n",
       "<span class=\"w\">    </span><span class=\"nt\">enabled</span><span class=\"p\">:</span><span class=\"w\"> </span><span class=\"l l-Scalar l-Scalar-Plain\">true</span>\n",
       "<span class=\"w\">  </span><span class=\"c1\"># TODO: saved_model (TF-&gt;TFLITE), ipynb (IPYNB-&gt;?)</span>\n",
       "<span class=\"c1\"># Some targets/platforms support multiple toolchains</span>\n",
       "<span class=\"nt\">toolchains</span><span class=\"p\">:</span>\n",
       "<span class=\"w\">  </span><span class=\"nt\">gcc</span><span class=\"p\">:</span><span class=\"w\"> </span><span class=\"l l-Scalar l-Scalar-Plain\">true</span>\n",
       "<span class=\"w\">  </span><span class=\"nt\">llvm</span><span class=\"p\">:</span><span class=\"w\"> </span><span class=\"l l-Scalar l-Scalar-Plain\">true</span>\n",
       "<span class=\"c1\"># Platform extend the number of supported targets</span>\n",
       "<span class=\"nt\">platforms</span><span class=\"p\">:</span>\n",
       "<span class=\"w\">  </span><span class=\"nt\">mlif</span><span class=\"p\">:</span>\n",
       "<span class=\"w\">    </span><span class=\"nt\">enabled</span><span class=\"p\">:</span><span class=\"w\"> </span><span class=\"l l-Scalar l-Scalar-Plain\">true</span>\n",
       "<span class=\"w\">    </span><span class=\"nt\">features</span><span class=\"p\">:</span>\n",
       "<span class=\"w\">      </span><span class=\"nt\">debug</span><span class=\"p\">:</span><span class=\"w\"> </span><span class=\"l l-Scalar l-Scalar-Plain\">true</span>\n",
       "<span class=\"w\">      </span><span class=\"nt\">validate</span><span class=\"p\">:</span><span class=\"w\"> </span><span class=\"l l-Scalar l-Scalar-Plain\">true</span>\n",
       "<span class=\"w\">      </span><span class=\"nt\">benchmark</span><span class=\"p\">:</span><span class=\"w\"> </span><span class=\"l l-Scalar l-Scalar-Plain\">true</span>\n",
       "<span class=\"w\">  </span><span class=\"nt\">microtvm</span><span class=\"p\">:</span>\n",
       "<span class=\"w\">    </span><span class=\"nt\">enabled</span><span class=\"p\">:</span><span class=\"w\"> </span><span class=\"l l-Scalar l-Scalar-Plain\">true</span>\n",
       "<span class=\"w\">    </span><span class=\"nt\">features</span><span class=\"p\">:</span><span class=\"w\"> </span><span class=\"p p-Indicator\">[]</span>\n",
       "<span class=\"c1\"># List of supported targets in the environment</span>\n",
       "<span class=\"nt\">targets</span><span class=\"p\">:</span>\n",
       "<span class=\"w\">  </span><span class=\"nt\">default</span><span class=\"p\">:</span><span class=\"w\"> </span><span class=\"l l-Scalar l-Scalar-Plain\">etiss</span>\n",
       "<span class=\"w\">  </span><span class=\"nt\">etiss</span><span class=\"p\">:</span>\n",
       "<span class=\"w\">    </span><span class=\"nt\">enabled</span><span class=\"p\">:</span><span class=\"w\"> </span><span class=\"l l-Scalar l-Scalar-Plain\">true</span>\n",
       "<span class=\"w\">    </span><span class=\"nt\">features</span><span class=\"p\">:</span>\n",
       "<span class=\"w\">      </span><span class=\"nt\">gdbserver</span><span class=\"p\">:</span><span class=\"w\"> </span><span class=\"l l-Scalar l-Scalar-Plain\">true</span>\n",
       "<span class=\"w\">      </span><span class=\"nt\">etissdbg</span><span class=\"p\">:</span><span class=\"w\"> </span><span class=\"l l-Scalar l-Scalar-Plain\">true</span>\n",
       "<span class=\"w\">      </span><span class=\"nt\">trace</span><span class=\"p\">:</span><span class=\"w\"> </span><span class=\"l l-Scalar l-Scalar-Plain\">true</span>\n",
       "<span class=\"w\">      </span><span class=\"nt\">log_instrs</span><span class=\"p\">:</span><span class=\"w\"> </span><span class=\"l l-Scalar l-Scalar-Plain\">true</span>\n",
       "<span class=\"w\">      </span><span class=\"nt\">vanilla_accelerator</span><span class=\"p\">:</span><span class=\"w\"> </span><span class=\"l l-Scalar l-Scalar-Plain\">true</span>\n",
       "<span class=\"w\">      </span><span class=\"c1\"># vext: true</span>\n",
       "<span class=\"w\">      </span><span class=\"c1\"># pext: true</span>\n",
       "<span class=\"w\">  </span><span class=\"nt\">host_x86</span><span class=\"p\">:</span>\n",
       "<span class=\"w\">    </span><span class=\"nt\">enabled</span><span class=\"p\">:</span><span class=\"w\"> </span><span class=\"l l-Scalar l-Scalar-Plain\">true</span>\n",
       "<span class=\"w\">    </span><span class=\"nt\">features</span><span class=\"p\">:</span>\n",
       "<span class=\"w\">      </span><span class=\"nt\">gdbserver</span><span class=\"p\">:</span><span class=\"w\"> </span><span class=\"l l-Scalar l-Scalar-Plain\">true</span>\n",
       "<span class=\"nt\">postprocesses</span><span class=\"p\">:</span>\n",
       "<span class=\"w\">  </span><span class=\"nt\">use</span><span class=\"p\">:</span><span class=\"w\"> </span><span class=\"p p-Indicator\">[]</span>\n",
       "<span class=\"nt\">vars</span><span class=\"p\">:</span>\n",
       "<span class=\"w\">  </span><span class=\"nt\">allow_extensions</span><span class=\"p\">:</span><span class=\"w\"> </span><span class=\"l l-Scalar l-Scalar-Plain\">false</span>\n",
       "<span class=\"w\">  </span><span class=\"c1\"># tvm.make_tool: &quot;ninja&quot;</span>\n",
       "<span class=\"w\">  </span><span class=\"nt\">runs_per_stage</span><span class=\"p\">:</span><span class=\"w\"> </span><span class=\"l l-Scalar l-Scalar-Plain\">true</span>\n",
       "<span class=\"w\">  </span><span class=\"nt\">riscv_gcc.dl_url</span><span class=\"p\">:</span><span class=\"w\"> </span><span class=\"s\">&quot;https://syncandshare.lrz.de/dl/fiWBtDLWz17RBc1Yd4VDW7/GCC/default/2023.11.27/Ubuntu/20.04/rv32gc_ilp32d.tar.xz&quot;</span>\n",
       "<span class=\"nt\">flags</span><span class=\"p\">:</span><span class=\"w\"> </span><span class=\"p p-Indicator\">[]</span>\n",
       "</pre></div>\n"
      ],
      "text/latex": [
       "\\begin{Verbatim}[commandchars=\\\\\\{\\}]\n",
       "\\PY{n+nn}{\\PYZhy{}\\PYZhy{}\\PYZhy{}}\n",
       "\\PY{c+c1}{\\PYZsh{} The MLONMCU\\PYZus{}HOME is filled in automatically when creating the environment}\n",
       "\\PY{n+nt}{home}\\PY{p}{:}\\PY{+w}{ }\\PY{l+s}{\\PYZdq{}}\\PY{c+cp}{\\PYZob{}\\PYZob{}} \\PY{n+nv}{home\\PYZus{}dir} \\PY{c+cp}{\\PYZcb{}\\PYZcb{}}\\PY{l+s}{\\PYZdq{}}\n",
       "\\PY{n+nt}{logging}\\PY{p}{:}\n",
       "\\PY{+w}{  }\\PY{n+nt}{level}\\PY{p}{:}\\PY{+w}{ }\\PY{l+lScalar+lScalarPlain}{DEBUG}\n",
       "\\PY{+w}{  }\\PY{n+nt}{to\\PYZus{}file}\\PY{p}{:}\\PY{+w}{ }\\PY{l+lScalar+lScalarPlain}{false}\n",
       "\\PY{+w}{  }\\PY{n+nt}{rotate}\\PY{p}{:}\\PY{+w}{ }\\PY{l+lScalar+lScalarPlain}{false}\n",
       "\\PY{n+nt}{cleanup}\\PY{p}{:}\n",
       "\\PY{+w}{  }\\PY{n+nt}{auto}\\PY{p}{:}\\PY{+w}{ }\\PY{l+lScalar+lScalarPlain}{true}\n",
       "\\PY{+w}{  }\\PY{n+nt}{keep}\\PY{p}{:}\\PY{+w}{ }\\PY{l+lScalar+lScalarPlain}{50}\n",
       "\\PY{c+c1}{\\PYZsh{} Default locations for certain directoriescan be changed here}\n",
       "\\PY{c+c1}{\\PYZsh{} Non\\PYZhy{}absolute paths will always be threated relative to the MLONMCU\\PYZus{}HOME}\n",
       "\\PY{n+nt}{paths}\\PY{p}{:}\n",
       "\\PY{+w}{  }\\PY{c+c1}{\\PYZsh{} Where the dependencies are downloaded and installed}\n",
       "\\PY{+w}{  }\\PY{n+nt}{deps}\\PY{p}{:}\\PY{+w}{ }\\PY{l+lScalar+lScalarPlain}{deps}\n",
       "\\PY{+w}{  }\\PY{c+c1}{\\PYZsh{} If logging to file is used keep logs in this directory}\n",
       "\\PY{+w}{  }\\PY{n+nt}{logs}\\PY{p}{:}\\PY{+w}{ }\\PY{l+lScalar+lScalarPlain}{logs}\n",
       "\\PY{+w}{  }\\PY{c+c1}{\\PYZsh{} Location where reports and artifacts are written to}\n",
       "\\PY{+w}{  }\\PY{n+nt}{results}\\PY{p}{:}\\PY{+w}{ }\\PY{l+lScalar+lScalarPlain}{results}\n",
       "\\PY{+w}{  }\\PY{c+c1}{\\PYZsh{} Directory where custom extensions can be integrated}\n",
       "\\PY{+w}{  }\\PY{n+nt}{plugins}\\PY{p}{:}\\PY{+w}{ }\\PY{l+lScalar+lScalarPlain}{plugins}\n",
       "\\PY{+w}{  }\\PY{c+c1}{\\PYZsh{} Directory for intermediate build products, should be located on a large enough drive}\n",
       "\\PY{+w}{  }\\PY{n+nt}{temp}\\PY{p}{:}\\PY{+w}{ }\\PY{l+lScalar+lScalarPlain}{temp}\n",
       "\\PY{+w}{  }\\PY{c+c1}{\\PYZsh{} A collection of models which will be used to look for models}\n",
       "\\PY{+w}{  }\\PY{c+c1}{\\PYZsh{} The paths will be checked in the order defined here stopping at the first match}\n",
       "\\PY{+w}{  }\\PY{c+c1}{\\PYZsh{} Non\\PYZhy{}existant paths will be skipped without throwing an error}\n",
       "\\PY{+w}{  }\\PY{n+nt}{models}\\PY{p}{:}\n",
       "\\PY{+w}{    }\\PY{p+pIndicator}{\\PYZhy{}}\\PY{+w}{ }\\PY{l+s}{\\PYZdq{}}\\PY{c+cp}{\\PYZob{}\\PYZob{}} \\PY{n+nv}{home\\PYZus{}dir} \\PY{c+cp}{\\PYZcb{}\\PYZcb{}}\\PY{l+s}{/models}\\PY{l+s}{\\PYZdq{}}\n",
       "\\PY{+w}{    }\\PY{p+pIndicator}{\\PYZhy{}}\\PY{+w}{ }\\PY{l+s}{\\PYZdq{}}\\PY{c+cp}{\\PYZob{}\\PYZob{}} \\PY{n+nv}{config\\PYZus{}dir} \\PY{c+cp}{\\PYZcb{}\\PYZcb{}}\\PY{l+s}{/models}\\PY{l+s}{\\PYZdq{}}\n",
       "\\PY{c+c1}{\\PYZsh{} Here default clone\\PYZus{}urls}\n",
       "\\PY{n+nt}{repos}\\PY{p}{:}\n",
       "\\PY{+w}{  }\\PY{n+nt}{tvm}\\PY{p}{:}\n",
       "\\PY{+w}{    }\\PY{n+nt}{url}\\PY{p}{:}\\PY{+w}{ }\\PY{l+s}{\\PYZdq{}}\\PY{l+s}{https://github.com/tum\\PYZhy{}ei\\PYZhy{}eda/tvm.git}\\PY{l+s}{\\PYZdq{}}\n",
       "\\PY{+w}{    }\\PY{n+nt}{ref}\\PY{p}{:}\\PY{+w}{ }\\PY{l+lScalar+lScalarPlain}{patch\\PYZus{}uma\\PYZus{}tvmc}\n",
       "\\PY{+w}{  }\\PY{n+nt}{etiss}\\PY{p}{:}\n",
       "\\PY{+w}{    }\\PY{n+nt}{url}\\PY{p}{:}\\PY{+w}{ }\\PY{l+s}{\\PYZdq{}}\\PY{l+s}{https://github.com/tum\\PYZhy{}ei\\PYZhy{}eda/etiss.git}\\PY{l+s}{\\PYZdq{}}\n",
       "\\PY{+w}{    }\\PY{n+nt}{ref}\\PY{p}{:}\\PY{+w}{ }\\PY{l+lScalar+lScalarPlain}{739573d5f12798074bc7d375a46c005f23f59f67}\n",
       "\\PY{+w}{  }\\PY{n+nt}{mlif}\\PY{p}{:}\n",
       "\\PY{+w}{    }\\PY{n+nt}{url}\\PY{p}{:}\\PY{+w}{ }\\PY{l+s}{\\PYZdq{}}\\PY{l+s}{https://github.com/tum\\PYZhy{}ei\\PYZhy{}eda/mlonmcu\\PYZhy{}sw.git}\\PY{l+s}{\\PYZdq{}}\n",
       "\\PY{+w}{    }\\PY{n+nt}{ref}\\PY{p}{:}\\PY{+w}{ }\\PY{l+lScalar+lScalarPlain}{1bfcf3c9b90dd532011011386f3a08ad20573c09}\n",
       "\\PY{+w}{  }\\PY{n+nt}{etiss\\PYZus{}accelerator\\PYZus{}plugins}\\PY{p}{:}\n",
       "\\PY{+w}{    }\\PY{n+nt}{url}\\PY{p}{:}\\PY{+w}{ }\\PY{l+s}{\\PYZdq{}}\\PY{l+s}{https://github.com/tum\\PYZhy{}ei\\PYZhy{}eda/etiss\\PYZhy{}accelerator\\PYZhy{}plugins.git}\\PY{l+s}{\\PYZdq{}}\n",
       "\\PY{+w}{    }\\PY{n+nt}{ref}\\PY{p}{:}\\PY{+w}{ }\\PY{l+lScalar+lScalarPlain}{main}\n",
       "\\PY{c+c1}{\\PYZsh{} Here all supported frameworks with their specific features are defined}\n",
       "\\PY{c+c1}{\\PYZsh{} Optionally disable unwanted or incomatible backends or features here}\n",
       "\\PY{c+c1}{\\PYZsh{} The configured defaults are used if no backend was specified in the command line options}\n",
       "\\PY{n+nt}{frameworks}\\PY{p}{:}\n",
       "\\PY{+w}{  }\\PY{n+nt}{default}\\PY{p}{:}\\PY{+w}{ }\\PY{l+lScalar+lScalarPlain}{tvm}\n",
       "\\PY{+w}{  }\\PY{n+nt}{tvm}\\PY{p}{:}\n",
       "\\PY{+w}{    }\\PY{n+nt}{enabled}\\PY{p}{:}\\PY{+w}{ }\\PY{l+lScalar+lScalarPlain}{true}\n",
       "\\PY{+w}{    }\\PY{n+nt}{backends}\\PY{p}{:}\n",
       "\\PY{+w}{      }\\PY{n+nt}{default}\\PY{p}{:}\\PY{+w}{ }\\PY{l+lScalar+lScalarPlain}{tvmaot}\n",
       "\\PY{+w}{      }\\PY{n+nt}{tvmrt}\\PY{p}{:}\n",
       "\\PY{+w}{        }\\PY{n+nt}{enabled}\\PY{p}{:}\\PY{+w}{ }\\PY{l+lScalar+lScalarPlain}{true}\n",
       "\\PY{+w}{        }\\PY{n+nt}{features}\\PY{p}{:}\n",
       "\\PY{+w}{          }\\PY{n+nt}{autotuned}\\PY{p}{:}\\PY{+w}{ }\\PY{l+lScalar+lScalarPlain}{true}\n",
       "\\PY{+w}{      }\\PY{n+nt}{tvmaot}\\PY{p}{:}\n",
       "\\PY{+w}{        }\\PY{n+nt}{enabled}\\PY{p}{:}\\PY{+w}{ }\\PY{l+lScalar+lScalarPlain}{true}\n",
       "\\PY{+w}{        }\\PY{n+nt}{features}\\PY{p}{:}\n",
       "\\PY{+w}{          }\\PY{n+nt}{unpacked\\PYZus{}api}\\PY{p}{:}\\PY{+w}{ }\\PY{l+lScalar+lScalarPlain}{true}\n",
       "\\PY{+w}{          }\\PY{n+nt}{usmp}\\PY{p}{:}\\PY{+w}{ }\\PY{l+lScalar+lScalarPlain}{true}\n",
       "\\PY{+w}{          }\\PY{n+nt}{autotuned}\\PY{p}{:}\\PY{+w}{ }\\PY{l+lScalar+lScalarPlain}{true}\n",
       "\\PY{+w}{          }\\PY{n+nt}{uma\\PYZus{}backends}\\PY{p}{:}\\PY{+w}{ }\\PY{l+lScalar+lScalarPlain}{true}\n",
       "\\PY{+w}{      }\\PY{n+nt}{tvmaotplus}\\PY{p}{:}\n",
       "\\PY{+w}{        }\\PY{n+nt}{enabled}\\PY{p}{:}\\PY{+w}{ }\\PY{l+lScalar+lScalarPlain}{true}\n",
       "\\PY{+w}{        }\\PY{n+nt}{features}\\PY{p}{:}\n",
       "\\PY{+w}{          }\\PY{n+nt}{autotuned}\\PY{p}{:}\\PY{+w}{ }\\PY{l+lScalar+lScalarPlain}{true}\n",
       "\\PY{+w}{          }\\PY{n+nt}{uma\\PYZus{}backends}\\PY{p}{:}\\PY{+w}{ }\\PY{l+lScalar+lScalarPlain}{true}\n",
       "\\PY{+w}{      }\\PY{n+nt}{tvmllvm}\\PY{p}{:}\n",
       "\\PY{+w}{        }\\PY{n+nt}{enabled}\\PY{p}{:}\\PY{+w}{ }\\PY{l+lScalar+lScalarPlain}{true}\n",
       "\\PY{+w}{        }\\PY{n+nt}{features}\\PY{p}{:}\n",
       "\\PY{+w}{          }\\PY{n+nt}{autotuned}\\PY{p}{:}\\PY{+w}{ }\\PY{l+lScalar+lScalarPlain}{true}\n",
       "\\PY{+w}{    }\\PY{n+nt}{features}\\PY{p}{:}\n",
       "\\PY{+w}{      }\\PY{n+nt}{cmsisnnbyoc}\\PY{p}{:}\\PY{+w}{ }\\PY{l+lScalar+lScalarPlain}{false}\n",
       "\\PY{+w}{      }\\PY{n+nt}{muriscvnnbyoc}\\PY{p}{:}\\PY{+w}{ }\\PY{l+lScalar+lScalarPlain}{false}\n",
       "\\PY{c+c1}{\\PYZsh{} Some frontends are experimental and therefore disabled here}\n",
       "\\PY{c+c1}{\\PYZsh{} Features like packing are only available in certain environments}\n",
       "\\PY{n+nt}{frontends}\\PY{p}{:}\n",
       "\\PY{+w}{  }\\PY{n+nt}{tflite}\\PY{p}{:}\n",
       "\\PY{+w}{    }\\PY{n+nt}{enabled}\\PY{p}{:}\\PY{+w}{ }\\PY{l+lScalar+lScalarPlain}{true}\n",
       "\\PY{+w}{    }\\PY{n+nt}{features}\\PY{p}{:}\n",
       "\\PY{+w}{      }\\PY{n+nt}{validate}\\PY{p}{:}\\PY{+w}{ }\\PY{l+lScalar+lScalarPlain}{true}\n",
       "\\PY{+w}{  }\\PY{n+nt}{relay}\\PY{p}{:}\n",
       "\\PY{+w}{    }\\PY{n+nt}{enabled}\\PY{p}{:}\\PY{+w}{ }\\PY{l+lScalar+lScalarPlain}{true}\n",
       "\\PY{+w}{    }\\PY{n+nt}{features}\\PY{p}{:}\n",
       "\\PY{+w}{      }\\PY{n+nt}{relayviz}\\PY{p}{:}\\PY{+w}{ }\\PY{l+lScalar+lScalarPlain}{true}\n",
       "\\PY{+w}{  }\\PY{n+nt}{onnx}\\PY{p}{:}\n",
       "\\PY{+w}{    }\\PY{n+nt}{enabled}\\PY{p}{:}\\PY{+w}{ }\\PY{l+lScalar+lScalarPlain}{true}\n",
       "\\PY{+w}{  }\\PY{c+c1}{\\PYZsh{} TODO: saved\\PYZus{}model (TF\\PYZhy{}\\PYZgt{}TFLITE), ipynb (IPYNB\\PYZhy{}\\PYZgt{}?)}\n",
       "\\PY{c+c1}{\\PYZsh{} Some targets/platforms support multiple toolchains}\n",
       "\\PY{n+nt}{toolchains}\\PY{p}{:}\n",
       "\\PY{+w}{  }\\PY{n+nt}{gcc}\\PY{p}{:}\\PY{+w}{ }\\PY{l+lScalar+lScalarPlain}{true}\n",
       "\\PY{+w}{  }\\PY{n+nt}{llvm}\\PY{p}{:}\\PY{+w}{ }\\PY{l+lScalar+lScalarPlain}{true}\n",
       "\\PY{c+c1}{\\PYZsh{} Platform extend the number of supported targets}\n",
       "\\PY{n+nt}{platforms}\\PY{p}{:}\n",
       "\\PY{+w}{  }\\PY{n+nt}{mlif}\\PY{p}{:}\n",
       "\\PY{+w}{    }\\PY{n+nt}{enabled}\\PY{p}{:}\\PY{+w}{ }\\PY{l+lScalar+lScalarPlain}{true}\n",
       "\\PY{+w}{    }\\PY{n+nt}{features}\\PY{p}{:}\n",
       "\\PY{+w}{      }\\PY{n+nt}{debug}\\PY{p}{:}\\PY{+w}{ }\\PY{l+lScalar+lScalarPlain}{true}\n",
       "\\PY{+w}{      }\\PY{n+nt}{validate}\\PY{p}{:}\\PY{+w}{ }\\PY{l+lScalar+lScalarPlain}{true}\n",
       "\\PY{+w}{      }\\PY{n+nt}{benchmark}\\PY{p}{:}\\PY{+w}{ }\\PY{l+lScalar+lScalarPlain}{true}\n",
       "\\PY{+w}{  }\\PY{n+nt}{microtvm}\\PY{p}{:}\n",
       "\\PY{+w}{    }\\PY{n+nt}{enabled}\\PY{p}{:}\\PY{+w}{ }\\PY{l+lScalar+lScalarPlain}{true}\n",
       "\\PY{+w}{    }\\PY{n+nt}{features}\\PY{p}{:}\\PY{+w}{ }\\PY{p+pIndicator}{[}\\PY{p+pIndicator}{]}\n",
       "\\PY{c+c1}{\\PYZsh{} List of supported targets in the environment}\n",
       "\\PY{n+nt}{targets}\\PY{p}{:}\n",
       "\\PY{+w}{  }\\PY{n+nt}{default}\\PY{p}{:}\\PY{+w}{ }\\PY{l+lScalar+lScalarPlain}{etiss}\n",
       "\\PY{+w}{  }\\PY{n+nt}{etiss}\\PY{p}{:}\n",
       "\\PY{+w}{    }\\PY{n+nt}{enabled}\\PY{p}{:}\\PY{+w}{ }\\PY{l+lScalar+lScalarPlain}{true}\n",
       "\\PY{+w}{    }\\PY{n+nt}{features}\\PY{p}{:}\n",
       "\\PY{+w}{      }\\PY{n+nt}{gdbserver}\\PY{p}{:}\\PY{+w}{ }\\PY{l+lScalar+lScalarPlain}{true}\n",
       "\\PY{+w}{      }\\PY{n+nt}{etissdbg}\\PY{p}{:}\\PY{+w}{ }\\PY{l+lScalar+lScalarPlain}{true}\n",
       "\\PY{+w}{      }\\PY{n+nt}{trace}\\PY{p}{:}\\PY{+w}{ }\\PY{l+lScalar+lScalarPlain}{true}\n",
       "\\PY{+w}{      }\\PY{n+nt}{log\\PYZus{}instrs}\\PY{p}{:}\\PY{+w}{ }\\PY{l+lScalar+lScalarPlain}{true}\n",
       "\\PY{+w}{      }\\PY{n+nt}{vanilla\\PYZus{}accelerator}\\PY{p}{:}\\PY{+w}{ }\\PY{l+lScalar+lScalarPlain}{true}\n",
       "\\PY{+w}{      }\\PY{c+c1}{\\PYZsh{} vext: true}\n",
       "\\PY{+w}{      }\\PY{c+c1}{\\PYZsh{} pext: true}\n",
       "\\PY{+w}{  }\\PY{n+nt}{host\\PYZus{}x86}\\PY{p}{:}\n",
       "\\PY{+w}{    }\\PY{n+nt}{enabled}\\PY{p}{:}\\PY{+w}{ }\\PY{l+lScalar+lScalarPlain}{true}\n",
       "\\PY{+w}{    }\\PY{n+nt}{features}\\PY{p}{:}\n",
       "\\PY{+w}{      }\\PY{n+nt}{gdbserver}\\PY{p}{:}\\PY{+w}{ }\\PY{l+lScalar+lScalarPlain}{true}\n",
       "\\PY{n+nt}{postprocesses}\\PY{p}{:}\n",
       "\\PY{+w}{  }\\PY{n+nt}{use}\\PY{p}{:}\\PY{+w}{ }\\PY{p+pIndicator}{[}\\PY{p+pIndicator}{]}\n",
       "\\PY{n+nt}{vars}\\PY{p}{:}\n",
       "\\PY{+w}{  }\\PY{n+nt}{allow\\PYZus{}extensions}\\PY{p}{:}\\PY{+w}{ }\\PY{l+lScalar+lScalarPlain}{false}\n",
       "\\PY{+w}{  }\\PY{c+c1}{\\PYZsh{} tvm.make\\PYZus{}tool: \\PYZdq{}ninja\\PYZdq{}}\n",
       "\\PY{+w}{  }\\PY{n+nt}{runs\\PYZus{}per\\PYZus{}stage}\\PY{p}{:}\\PY{+w}{ }\\PY{l+lScalar+lScalarPlain}{true}\n",
       "\\PY{+w}{  }\\PY{n+nt}{riscv\\PYZus{}gcc.dl\\PYZus{}url}\\PY{p}{:}\\PY{+w}{ }\\PY{l+s}{\\PYZdq{}}\\PY{l+s}{https://syncandshare.lrz.de/dl/fiWBtDLWz17RBc1Yd4VDW7/GCC/default/2023.11.27/Ubuntu/20.04/rv32gc\\PYZus{}ilp32d.tar.xz}\\PY{l+s}{\\PYZdq{}}\n",
       "\\PY{n+nt}{flags}\\PY{p}{:}\\PY{+w}{ }\\PY{p+pIndicator}{[}\\PY{p+pIndicator}{]}\n",
       "\\end{Verbatim}\n"
      ],
      "text/plain": [
       "---\n",
       "# The MLONMCU_HOME is filled in automatically when creating the environment\n",
       "home: \"{{ home_dir }}\"\n",
       "logging:\n",
       "  level: DEBUG\n",
       "  to_file: false\n",
       "  rotate: false\n",
       "cleanup:\n",
       "  auto: true\n",
       "  keep: 50\n",
       "# Default locations for certain directoriescan be changed here\n",
       "# Non-absolute paths will always be threated relative to the MLONMCU_HOME\n",
       "paths:\n",
       "  # Where the dependencies are downloaded and installed\n",
       "  deps: deps\n",
       "  # If logging to file is used keep logs in this directory\n",
       "  logs: logs\n",
       "  # Location where reports and artifacts are written to\n",
       "  results: results\n",
       "  # Directory where custom extensions can be integrated\n",
       "  plugins: plugins\n",
       "  # Directory for intermediate build products, should be located on a large enough drive\n",
       "  temp: temp\n",
       "  # A collection of models which will be used to look for models\n",
       "  # The paths will be checked in the order defined here stopping at the first match\n",
       "  # Non-existant paths will be skipped without throwing an error\n",
       "  models:\n",
       "    - \"{{ home_dir }}/models\"\n",
       "    - \"{{ config_dir }}/models\"\n",
       "# Here default clone_urls\n",
       "repos:\n",
       "  tvm:\n",
       "    url: \"https://github.com/tum-ei-eda/tvm.git\"\n",
       "    ref: patch_uma_tvmc\n",
       "  etiss:\n",
       "    url: \"https://github.com/tum-ei-eda/etiss.git\"\n",
       "    ref: 739573d5f12798074bc7d375a46c005f23f59f67\n",
       "  mlif:\n",
       "    url: \"https://github.com/tum-ei-eda/mlonmcu-sw.git\"\n",
       "    ref: 1bfcf3c9b90dd532011011386f3a08ad20573c09\n",
       "  etiss_accelerator_plugins:\n",
       "    url: \"https://github.com/tum-ei-eda/etiss-accelerator-plugins.git\"\n",
       "    ref: main\n",
       "# Here all supported frameworks with their specific features are defined\n",
       "# Optionally disable unwanted or incomatible backends or features here\n",
       "# The configured defaults are used if no backend was specified in the command line options\n",
       "frameworks:\n",
       "  default: tvm\n",
       "  tvm:\n",
       "    enabled: true\n",
       "    backends:\n",
       "      default: tvmaot\n",
       "      tvmrt:\n",
       "        enabled: true\n",
       "        features:\n",
       "          autotuned: true\n",
       "      tvmaot:\n",
       "        enabled: true\n",
       "        features:\n",
       "          unpacked_api: true\n",
       "          usmp: true\n",
       "          autotuned: true\n",
       "          uma_backends: true\n",
       "      tvmaotplus:\n",
       "        enabled: true\n",
       "        features:\n",
       "          autotuned: true\n",
       "          uma_backends: true\n",
       "      tvmllvm:\n",
       "        enabled: true\n",
       "        features:\n",
       "          autotuned: true\n",
       "    features:\n",
       "      cmsisnnbyoc: false\n",
       "      muriscvnnbyoc: false\n",
       "# Some frontends are experimental and therefore disabled here\n",
       "# Features like packing are only available in certain environments\n",
       "frontends:\n",
       "  tflite:\n",
       "    enabled: true\n",
       "    features:\n",
       "      validate: true\n",
       "  relay:\n",
       "    enabled: true\n",
       "    features:\n",
       "      relayviz: true\n",
       "  onnx:\n",
       "    enabled: true\n",
       "  # TODO: saved_model (TF->TFLITE), ipynb (IPYNB->?)\n",
       "# Some targets/platforms support multiple toolchains\n",
       "toolchains:\n",
       "  gcc: true\n",
       "  llvm: true\n",
       "# Platform extend the number of supported targets\n",
       "platforms:\n",
       "  mlif:\n",
       "    enabled: true\n",
       "    features:\n",
       "      debug: true\n",
       "      validate: true\n",
       "      benchmark: true\n",
       "  microtvm:\n",
       "    enabled: true\n",
       "    features: []\n",
       "# List of supported targets in the environment\n",
       "targets:\n",
       "  default: etiss\n",
       "  etiss:\n",
       "    enabled: true\n",
       "    features:\n",
       "      gdbserver: true\n",
       "      etissdbg: true\n",
       "      trace: true\n",
       "      log_instrs: true\n",
       "      vanilla_accelerator: true\n",
       "      # vext: true\n",
       "      # pext: true\n",
       "  host_x86:\n",
       "    enabled: true\n",
       "    features:\n",
       "      gdbserver: true\n",
       "postprocesses:\n",
       "  use: []\n",
       "vars:\n",
       "  allow_extensions: false\n",
       "  # tvm.make_tool: \"ninja\"\n",
       "  runs_per_stage: true\n",
       "  riscv_gcc.dl_url: \"https://syncandshare.lrz.de/dl/fiWBtDLWz17RBc1Yd4VDW7/GCC/default/2023.11.27/Ubuntu/20.04/rv32gc_ilp32d.tar.xz\"\n",
       "flags: []"
      ]
     },
     "execution_count": 2,
     "metadata": {},
     "output_type": "execute_result"
    }
   ],
   "source": [
    "Code(filename=\"environment.yml.j2\")"
   ]
  },
  {
   "cell_type": "markdown",
   "id": "4d140308",
   "metadata": {
    "papermill": {
     "duration": 0.003197,
     "end_time": "2024-02-06T10:19:21.418740",
     "exception": false,
     "start_time": "2024-02-06T10:19:21.415543",
     "status": "completed"
    },
    "tags": []
   },
   "source": [
    "Do not forget to set your `MLONMCU_HOME` environment variable first if not using the default location!"
   ]
  },
  {
   "cell_type": "markdown",
   "id": "a3bac781",
   "metadata": {
    "papermill": {
     "duration": 0.003003,
     "end_time": "2024-02-06T10:19:21.424915",
     "exception": false,
     "start_time": "2024-02-06T10:19:21.421912",
     "status": "completed"
    },
    "tags": []
   },
   "source": [
    "## Usage"
   ]
  },
  {
   "cell_type": "markdown",
   "id": "d709a12b",
   "metadata": {
    "papermill": {
     "duration": 0.003077,
     "end_time": "2024-02-06T10:19:21.431092",
     "exception": false,
     "start_time": "2024-02-06T10:19:21.428015",
     "status": "completed"
    },
    "tags": []
   },
   "source": [
    "The UMA backends for Vanilla and QVanilla have been added into MLonMCU resources (mlonmcu/resources/frameworks/tvm/tvmc_extension). So you can easily use them as the TVM backends in MLonMCU. This directory and the defined name for each backend should be passed as `uma_dir` and `uma_target` attributes of `uma_backends` feature. \n",
    "\n",
    "Here you can find three examples based on the accelerator models. \n",
    "The first one is targeting Vanilla as a hardcoded C model, similar to the UMA documentation example.\n",
    "The simulated models of Vanilla and QVanilla have been also developed, which act as memeory-mapped pheripherals for ETISS target. Thus, the other two examples shows how to use the ETISS plugins to offload the patterns."
   ]
  },
  {
   "cell_type": "markdown",
   "id": "2b333851",
   "metadata": {
    "papermill": {
     "duration": 0.00302,
     "end_time": "2024-02-06T10:19:21.437273",
     "exception": false,
     "start_time": "2024-02-06T10:19:21.434253",
     "status": "completed"
    },
    "tags": []
   },
   "source": [
    "### A) Vanilla as a hardcoded C model."
   ]
  },
  {
   "cell_type": "markdown",
   "id": "0263ee6a",
   "metadata": {
    "papermill": {
     "duration": 0.003043,
     "end_time": "2024-02-06T10:19:21.443407",
     "exception": false,
     "start_time": "2024-02-06T10:19:21.440364",
     "status": "completed"
    },
    "tags": []
   },
   "source": [
    "You can take umatest.tflite model as a float model for testing Vanilla accelerator.\n",
    "\n",
    "`uma_backends.uma_dir`= $(pwd)/../../../resources/frameworks/tvm\n",
    "\n",
    "`uma_backends.uma_target`=vanilla_accelerator"
   ]
  },
  {
   "cell_type": "code",
   "execution_count": 3,
   "id": "43576c35",
   "metadata": {
    "execution": {
     "iopub.execute_input": "2024-02-06T10:19:21.450855Z",
     "iopub.status.busy": "2024-02-06T10:19:21.450340Z",
     "iopub.status.idle": "2024-02-06T10:19:27.728999Z",
     "shell.execute_reply": "2024-02-06T10:19:27.728254Z"
    },
    "papermill": {
     "duration": 6.284038,
     "end_time": "2024-02-06T10:19:27.730571",
     "exception": false,
     "start_time": "2024-02-06T10:19:21.446533",
     "status": "completed"
    },
    "tags": []
   },
   "outputs": [
    {
     "name": "stdout",
     "output_type": "stream",
     "text": [
      "INFO - Loading environment cache from file\r\n",
      "INFO - Successfully initialized cache\r\n"
     ]
    },
    {
     "name": "stdout",
     "output_type": "stream",
     "text": [
      "INFO -  Processing stage LOAD\r\n",
      "INFO -  Processing stage BUILD\r\n"
     ]
    },
    {
     "name": "stdout",
     "output_type": "stream",
     "text": [
      "INFO -  Processing stage COMPILE\r\n"
     ]
    },
    {
     "name": "stdout",
     "output_type": "stream",
     "text": [
      "INFO -  Processing stage RUN\r\n"
     ]
    },
    {
     "name": "stdout",
     "output_type": "stream",
     "text": [
      "INFO - All runs completed successfuly!\r\n",
      "INFO - Postprocessing session report\r\n",
      "INFO - Done processing runs\r\n"
     ]
    },
    {
     "name": "stdout",
     "output_type": "stream",
     "text": [
      "INFO - Report:\r\n",
      "   Session  Run    Model Frontend Framework     Backend Platform Target  Total Cycles  Total Instructions  Total CPI  Total ROM  Total RAM  ROM read-only  ROM code  ROM misc  RAM data  RAM zero-init data  Validation        Features                                             Config Postprocesses Comment\r\n",
      "0        0    0  umatest   tflite       tvm  tvmaotplus     mlif  etiss       4055888             4055888        1.0     281524     223556         237960     43552        12      1728              221828        True  [uma_backends]  {'umatest.metadata_path': 'definition.yml', 'u...            []       -\r\n"
     ]
    }
   ],
   "source": [
    "!python3 -m mlonmcu.cli.main flow run umatest --backend tvmaotplus --target etiss -c tvmaotplus.desired_layout=NCHW -f uma_backends -c uma_backends.uma_dir=$(pwd)/../../../resources/frameworks/tvm -c uma_backends.uma_target=vanilla_accelerator"
   ]
  },
  {
   "cell_type": "markdown",
   "id": "b11b34dc",
   "metadata": {
    "papermill": {
     "duration": 0.003521,
     "end_time": "2024-02-06T10:19:27.737942",
     "exception": false,
     "start_time": "2024-02-06T10:19:27.734421",
     "status": "completed"
    },
    "tags": []
   },
   "source": [
    "### B) Vanilla as an ETISS plugin."
   ]
  },
  {
   "cell_type": "markdown",
   "id": "60574ac4",
   "metadata": {
    "papermill": {
     "duration": 0.003467,
     "end_time": "2024-02-06T10:19:27.744825",
     "exception": false,
     "start_time": "2024-02-06T10:19:27.741358",
     "status": "completed"
    },
    "tags": []
   },
   "source": [
    "The file named `conv2dnchw.cc` in the UMA backend structure for each accelerator is the accelerator interface, which can be a hardcoded implementation of the supported operators (like the previous example) or for instance a dirver for configuration of the plugin's register interface. You can find both interface types (conv2dnchw.cc & conv2dnchw1.cc) in the directory, so please make sure which one is called (simply interchange the names, if needed).\n",
    "\n",
    "For using the respective plugin in ETISS, we need to use `vanilla_accelerator` feature of ETISS target and its `plugin_name` attribute to pass the name of the plugin.\n",
    "\n",
    "`uma_backends.uma_dir` = $(pwd)/../../../resources/frameworks/tvm\n",
    "\n",
    "`uma_backends.uma_target` = vanilla_accelerator\n",
    "\n",
    "`vanilla_accelerator.plugin_name` = VanillaAccelerator"
   ]
  },
  {
   "cell_type": "code",
   "execution_count": 4,
   "id": "53c89e22",
   "metadata": {
    "execution": {
     "iopub.execute_input": "2024-02-06T10:19:27.753220Z",
     "iopub.status.busy": "2024-02-06T10:19:27.752653Z",
     "iopub.status.idle": "2024-02-06T10:19:32.516904Z",
     "shell.execute_reply": "2024-02-06T10:19:32.516226Z"
    },
    "papermill": {
     "duration": 4.770655,
     "end_time": "2024-02-06T10:19:32.518876",
     "exception": false,
     "start_time": "2024-02-06T10:19:27.748221",
     "status": "completed"
    },
    "tags": []
   },
   "outputs": [
    {
     "name": "stdout",
     "output_type": "stream",
     "text": [
      "INFO - Loading environment cache from file\r\n",
      "INFO - Successfully initialized cache\r\n"
     ]
    },
    {
     "name": "stdout",
     "output_type": "stream",
     "text": [
      "INFO - [session-1]  Processing stage LOAD\r\n",
      "INFO - [session-1]  Processing stage BUILD\r\n"
     ]
    },
    {
     "name": "stdout",
     "output_type": "stream",
     "text": [
      "INFO - [session-1]  Processing stage COMPILE\r\n"
     ]
    },
    {
     "name": "stdout",
     "output_type": "stream",
     "text": [
      "INFO - [session-1]  Processing stage RUN\r\n"
     ]
    },
    {
     "name": "stdout",
     "output_type": "stream",
     "text": [
      "=== Setting up configurations ===\r\n",
      "Initializer::loadIni(): Ini sucessfully loaded /tmp/TVM-UMA-IfkK/workspace/deps/install/etiss/examples/base.ini\r\n",
      "Initializer::loadIni(): Ini sucessfully loaded /tmp/etiss_dynamic_5TPkyAMzRN.ini\r\n",
      "Initializer::loadIni(): Ini sucessfully loaded /tmp/tmp743vde_b/custom.ini\r\n",
      "  Load Configs from .ini files:\r\n",
      "ETISS: Info: Created new config container: global\r\n",
      "ETISS: Info:   [BoolConfigurations]\r\n",
      "ETISS: Info:     arch.enable_semihosting=true,\r\n",
      "ETISS: Info:     arch.or1k.ignore_sr_iee=false,\r\n",
      "ETISS: Info:     etiss.enable_dmi=true,\r\n",
      "ETISS: Info:     etiss.load_integrated_libraries=true,\r\n",
      "ETISS: Info:     etiss.log_pc=false,\r\n",
      "ETISS: Info:     jit.debug=false,\r\n",
      "ETISS: Info:     jit.gcc.cleanup=true,\r\n",
      "ETISS: Info:     jit.verify=false,\r\n",
      "ETISS: Info:     testing=false,\r\n",
      "ETISS: Info:   [IntConfigurations]\r\n",
      "ETISS: Warning:     arch.cpu_cycle_time_ps=31250,31250,   Multi values. Take only LAST one!\r\n",
      "ETISS: Info:     arch.or1k.if_stall_cycles=0,\r\n",
      "ETISS: Info:     arch.rv32imacfdpv.mstatus_fs=1,\r\n",
      "ETISS: Info:     etiss.max_block_size=100,\r\n",
      "ETISS: Info:     ETISS::CPU_quantum_ps=100000,\r\n",
      "ETISS: Info:     ETISS::sim_mode=0,\r\n",
      "ETISS: Info:     ETISS::write_pc_trace_from_time_us=0,\r\n",
      "ETISS: Info:     ETISS::write_pc_trace_until_time_us=3000000,\r\n",
      "ETISS: Warning:     simple_mem_system.memseg_length_00=0x00080000,8388608,   Multi values. Take only LAST one!\r\n",
      "ETISS: Warning:     simple_mem_system.memseg_length_01=0x00080000,67108864,   Multi values. Take only LAST one!\r\n",
      "ETISS: Warning:     simple_mem_system.memseg_origin_00=0x00000000,0,   Multi values. Take only LAST one!\r\n",
      "ETISS: Warning:     simple_mem_system.memseg_origin_01=0x00080000,8388608,   Multi values. Take only LAST one!\r\n",
      "ETISS: Info:     vp::simulation_time_us=20000000,\r\n",
      "ETISS: Info:   [StringConfigurations]\r\n",
      "ETISS: Info:     arch.cpu=RV32IMACFD,\r\n",
      "ETISS: Info:     etiss.output_path_prefix=,\r\n",
      "ETISS: Info:     jit.type=TCCJIT,\r\n",
      "ETISS: Info:     vp.elf_file=/tmp/TVM-UMA-IfkK/workspace/temp/sessions/1/runs/0/generic_mlonmcu,\r\n",
      "=== Finished setting up configurations ===\r\n",
      "\r\n",
      "=== Setting up test system ===\r\n",
      "  Setting up Memory\r\n",
      "ETISS: Info: New Memory segment added: 1 - [0x00000000007fffff - 0x0000000000000000]\r\n",
      "ETISS: Info: New Memory segment added: 2 - [0x00000000047fffff - 0x0000000000800000]\r\n",
      "ETISS: Info: Assuming CPU architecture RV32IMACFD as set in configuration file. ELF architecture field will be ignored\r\n",
      "ETISS: Info: Initialized the memory segment 1 - RWX[0x0000000000000000 - 0x0000000000044bab] from ELF-file\r\n",
      "ETISS: Info: Initialized the memory segment 2 - RW[0x0000000000800000 - 0x000000000083695f] from ELF-file\r\n",
      "  Setting up CPUCore\r\n",
      "  CPU start address: 0xb8\r\n",
      "=== Finished Setting up test system ===\r\n",
      "\r\n",
      "=== Setting up plug-ins ===\r\n",
      "ETISS: Info:   Adding Plugin VanillaAccelerator\r\n",
      "\r\n",
      "ETISS: Info: Plugin \"VanillaAccelerator\" loaded via library interface \"VanillaAccelerator\"\r\n",
      "\r\n",
      "ETISS: Info:   Adding Plugin Logger\r\n",
      "\r\n",
      "ETISS: Info: plugin.logger.logaddr not set on the command line. Checking in .ini file.\r\n",
      "ETISS: Info:     options[plugin.logger.logaddr] = 0x80000000\r\n",
      "\r\n",
      "\r\n",
      "ETISS: Info: plugin.logger.logmask not set on the command line. Checking in .ini file.\r\n",
      "ETISS: Info:     options[plugin.logger.logmask] = 0x80000000\r\n",
      "\r\n",
      "\r\n",
      "ETISS: Info: Plugin \"Logger\" loaded via library interface \"ETISSINCLUDED\"\r\n",
      "\r\n",
      "ETISS: Info:  Adding JIT \"TCCJIT\"\r\n",
      "=== Setting up plug-ins ===\r\n",
      "\r\n",
      "\r\n",
      "=== Simulation start ===\r\n",
      "ETISS: Info: Init Plugin InterruptHandler{COROUTINE}\r\n",
      "ETISS: Info: Init Plugin VanillaAccelerator{SYSTEMWRAPPER}\r\n",
      "ETISS: Info: Init Plugin Logger{SYSTEMWRAPPER}\r\n"
     ]
    },
    {
     "name": "stdout",
     "output_type": "stream",
     "text": [
      "Program start.\r\n",
      "# Setup Cycles: 42\r\n",
      "# Setup Instructions: 42\r\n",
      "# Run Cycles: 4055654\r\n",
      "# Run Instructions: 4055654\r\n",
      "# Total Cycles: 4055888\r\n",
      "# Total Instructions: 4055888\r\n",
      "Program finish.\r\n",
      "MLONMCU EXIT: 0\r\n",
      "CPU Time: 0.129764s    Simulation Time: 0.477722s\r\n",
      "CPU Cycles (estimated): 4.15245e+06\r\n",
      "MIPS (estimated): 8.69219\r\n",
      "=== Simulation end ===\r\n",
      "\r\n",
      "CPU0 exited with exception: 0x80000000: Finished cpu execution. This is the proper way to exit from etiss::CPUCore::execute.\r\n"
     ]
    },
    {
     "name": "stdout",
     "output_type": "stream",
     "text": [
      "warning: ignored: .eh_frame / size: 4\r\n",
      "warning: ignored: .fini_array / size: 4\r\n",
      "heap starts at: 0x836960\r\n",
      "=== Results ===\r\n",
      "ROM usage:        281.5 kB (0x44bb4)\r\n",
      "  read-only data: 238.0 kB (0x3a188)\r\n",
      "  code:           43.6 kB (0xaa20)\r\n",
      "  other required: 12 Bytes (0xc)\r\n",
      "RAM usage:        223.6 kB (0x36944) [stack and heap usage not included]\r\n",
      "  data:           1.7 kB (0x6c0)\r\n",
      "  zero-init data: 221.8 kB (0x36284)\r\n",
      "  stack:          unknown [missing trace file]\r\n",
      "  heap:           unknown [missing trace file]\r\n"
     ]
    },
    {
     "name": "stdout",
     "output_type": "stream",
     "text": [
      "INFO - All runs completed successfuly!\r\n"
     ]
    },
    {
     "name": "stdout",
     "output_type": "stream",
     "text": [
      "INFO - Postprocessing session report\r\n",
      "INFO - [session-1] Done processing runs\r\n",
      "INFO - Report:\r\n",
      "   Session  Run    Model Frontend Framework     Backend Platform Target  Total Cycles  Total Instructions  Total CPI  Total ROM  Total RAM  ROM read-only  ROM code  ROM misc  RAM data  RAM zero-init data  Validation                             Features                                             Config Postprocesses Comment\r\n",
      "0        1    0  umatest   tflite       tvm  tvmaotplus     mlif  etiss       4055888             4055888        1.0     281524     223556         237960     43552        12      1728              221828        True  [uma_backends, vanilla_accelerator]  {'umatest.metadata_path': 'definition.yml', 'u...            []       -\r\n"
     ]
    }
   ],
   "source": [
    "!python3 -m mlonmcu.cli.main flow run umatest.tflite --backend tvmaotplus --target etiss -c tvmaotplus.desired_layout=NCHW -f uma_backends -c uma_backends.uma_dir=$(pwd)/../../../resources/frameworks/tvm -c uma_backends.uma_target=vanilla_accelerator -c etiss.print_outputs=1 -f vanilla_accelerator -c vanilla_accelerator.plugin_name=VanillaAccelerator"
   ]
  },
  {
   "cell_type": "markdown",
   "id": "3ce078e8",
   "metadata": {
    "papermill": {
     "duration": 0.004026,
     "end_time": "2024-02-06T10:19:32.527245",
     "exception": false,
     "start_time": "2024-02-06T10:19:32.523219",
     "status": "completed"
    },
    "tags": []
   },
   "source": [
    "Now you can see that the simulation starts with initializing VanillaAccelerator."
   ]
  },
  {
   "cell_type": "markdown",
   "id": "cf38ca13",
   "metadata": {
    "papermill": {
     "duration": 0.003796,
     "end_time": "2024-02-06T10:19:32.535079",
     "exception": false,
     "start_time": "2024-02-06T10:19:32.531283",
     "status": "completed"
    },
    "tags": []
   },
   "source": [
    "### C) QVanilla as an ETISS plugin."
   ]
  },
  {
   "cell_type": "markdown",
   "id": "fb05548e",
   "metadata": {
    "papermill": {
     "duration": 0.003808,
     "end_time": "2024-02-06T10:19:32.542749",
     "exception": false,
     "start_time": "2024-02-06T10:19:32.538941",
     "status": "completed"
    },
    "tags": []
   },
   "source": [
    "As stated before, QVanilla is a quantized version of Vanilla that can perform the quantized conv2d and bias addition. Similar to Vanilla, the convoluation needs to have stride one and same padding features. This accelerator has been implemented in ETISS as a zero-cycle model (QVanillaAccelerator) and a model with timing considerations (QVanillaAcceleratorT). \n",
    "\n",
    "Please make sure that you are using the right interface (conv2dnchw.cc) to configure the registers of the respective plugin.\n",
    "\n",
    "Here, we use a very small model named qnn_model.tflite to test the flow, but you feel free to use the existing quantized models in MLonMCU such as aww, vww, resnet or any other model that contains such supported operators by QVanilla.\n",
    "\n",
    "`uma_backends.uma_dir` = $(pwd)/../../../resources/frameworks/tvm\n",
    "\n",
    "`uma_backends.uma_target` = q_vanilla_accelerator\n",
    "\n",
    "`vanilla_accelerator.plugin_name` = QVanillaAccelerator/QVanillaAcceleratorT"
   ]
  },
  {
   "cell_type": "code",
   "execution_count": 5,
   "id": "f55bf357",
   "metadata": {
    "execution": {
     "iopub.execute_input": "2024-02-06T10:19:32.551826Z",
     "iopub.status.busy": "2024-02-06T10:19:32.551375Z",
     "iopub.status.idle": "2024-02-06T10:19:37.505575Z",
     "shell.execute_reply": "2024-02-06T10:19:37.504895Z"
    },
    "papermill": {
     "duration": 4.96093,
     "end_time": "2024-02-06T10:19:37.507564",
     "exception": false,
     "start_time": "2024-02-06T10:19:32.546634",
     "status": "completed"
    },
    "tags": []
   },
   "outputs": [
    {
     "name": "stdout",
     "output_type": "stream",
     "text": [
      "INFO - Loading environment cache from file\r\n",
      "INFO - Successfully initialized cache\r\n"
     ]
    },
    {
     "name": "stdout",
     "output_type": "stream",
     "text": [
      "INFO - [session-2]  Processing stage LOAD\r\n",
      "INFO - [session-2]  Processing stage BUILD\r\n"
     ]
    },
    {
     "name": "stdout",
     "output_type": "stream",
     "text": [
      "INFO - [session-2]  Processing stage COMPILE\r\n"
     ]
    },
    {
     "name": "stdout",
     "output_type": "stream",
     "text": [
      "INFO - [session-2]  Processing stage RUN\r\n",
      "=== Setting up configurations ===\r\n",
      "Initializer::loadIni(): Ini sucessfully loaded /tmp/TVM-UMA-IfkK/workspace/deps/install/etiss/examples/base.ini\r\n",
      "Initializer::loadIni(): Ini sucessfully loaded /tmp/etiss_dynamic_z55P0ayTsd.ini\r\n",
      "Initializer::loadIni(): Ini sucessfully loaded /tmp/tmpe9ocuare/custom.ini\r\n",
      "  Load Configs from .ini files:\r\n",
      "ETISS: Info: Created new config container: global\r\n",
      "ETISS: Info:   [BoolConfigurations]\r\n",
      "ETISS: Info:     arch.enable_semihosting=true,\r\n",
      "ETISS: Info:     arch.or1k.ignore_sr_iee=false,\r\n",
      "ETISS: Info:     etiss.enable_dmi=true,\r\n",
      "ETISS: Info:     etiss.load_integrated_libraries=true,\r\n",
      "ETISS: Info:     etiss.log_pc=false,\r\n",
      "ETISS: Info:     jit.debug=false,\r\n",
      "ETISS: Info:     jit.gcc.cleanup=true,\r\n",
      "ETISS: Info:     jit.verify=false,\r\n",
      "ETISS: Info:     testing=false,\r\n",
      "ETISS: Info:   [IntConfigurations]\r\n",
      "ETISS: Warning:     arch.cpu_cycle_time_ps=31250,31250,   Multi values. Take only LAST one!\r\n",
      "ETISS: Info:     arch.or1k.if_stall_cycles=0,\r\n",
      "ETISS: Info:     arch.rv32imacfdpv.mstatus_fs=1,\r\n",
      "ETISS: Info:     etiss.max_block_size=100,\r\n",
      "ETISS: Info:     ETISS::CPU_quantum_ps=100000,\r\n",
      "ETISS: Info:     ETISS::sim_mode=0,\r\n",
      "ETISS: Info:     ETISS::write_pc_trace_from_time_us=0,\r\n",
      "ETISS: Info:     ETISS::write_pc_trace_until_time_us=3000000,\r\n",
      "ETISS: Warning:     simple_mem_system.memseg_length_00=0x00080000,8388608,   Multi values. Take only LAST one!\r\n",
      "ETISS: Warning:     simple_mem_system.memseg_length_01=0x00080000,67108864,   Multi values. Take only LAST one!\r\n",
      "ETISS: Warning:     simple_mem_system.memseg_origin_00=0x00000000,0,   Multi values. Take only LAST one!\r\n",
      "ETISS: Warning:     simple_mem_system.memseg_origin_01=0x00080000,8388608,   Multi values. Take only LAST one!\r\n",
      "ETISS: Info:     vp::simulation_time_us=20000000,\r\n",
      "ETISS: Info:   [StringConfigurations]\r\n",
      "ETISS: Info:     arch.cpu=RV32IMACFD,\r\n",
      "ETISS: Info:     etiss.output_path_prefix=,\r\n",
      "ETISS: Info:     jit.type=TCCJIT,\r\n",
      "ETISS: Info:     vp.elf_file=/tmp/TVM-UMA-IfkK/workspace/temp/sessions/2/runs/0/generic_mlonmcu,\r\n",
      "=== Finished setting up configurations ===\r\n",
      "\r\n",
      "=== Setting up test system ===\r\n",
      "  Setting up Memory\r\n",
      "ETISS: Info: New Memory segment added: 1 - [0x00000000007fffff - 0x0000000000000000]\r\n",
      "ETISS: Info: New Memory segment added: 2 - [0x00000000047fffff - 0x0000000000800000]\r\n",
      "ETISS: Info: Assuming CPU architecture RV32IMACFD as set in configuration file. ELF architecture field will be ignored\r\n",
      "ETISS: Info: Initialized the memory segment 1 - RWX[0x0000000000000000 - 0x000000000003c503] from ELF-file\r\n",
      "ETISS: Info: Initialized the memory segment 2 - RW[0x0000000000800000 - 0x000000000080575f] from ELF-file\r\n",
      "  Setting up CPUCore\r\n",
      "  CPU start address: 0xb8\r\n",
      "=== Finished Setting up test system ===\r\n",
      "\r\n",
      "=== Setting up plug-ins ===\r\n",
      "ETISS: Info:   Adding Plugin QVanillaAcceleratorT\r\n",
      "\r\n",
      "ETISS: Info: Plugin \"QVanillaAcceleratorT\" loaded via library interface \"QVanillaAcceleratorT\"\r\n",
      "\r\n",
      "ETISS: Info:   Adding Plugin Logger\r\n",
      "\r\n",
      "ETISS: Info: plugin.logger.logaddr not set on the command line. Checking in .ini file.\r\n",
      "ETISS: Info:     options[plugin.logger.logaddr] = 0x80000000\r\n",
      "\r\n",
      "\r\n",
      "ETISS: Info: plugin.logger.logmask not set on the command line. Checking in .ini file.\r\n",
      "ETISS: Info:     options[plugin.logger.logmask] = 0x80000000\r\n",
      "\r\n",
      "\r\n",
      "ETISS: Info: Plugin \"Logger\" loaded via library interface \"ETISSINCLUDED\"\r\n",
      "\r\n",
      "ETISS: Info:  Adding JIT \"TCCJIT\"\r\n",
      "=== Setting up plug-ins ===\r\n",
      "\r\n",
      "\r\n",
      "=== Simulation start ===\r\n",
      "ETISS: Info: Init Plugin InterruptHandler{COROUTINE}\r\n",
      "ETISS: Info: Init Plugin QVanillaAcceleratorT{COROUTINE,SYSTEMWRAPPER}\r\n",
      "ETISS: Info: Init Plugin Logger{SYSTEMWRAPPER}\r\n"
     ]
    },
    {
     "name": "stdout",
     "output_type": "stream",
     "text": [
      "Program start.\r\n",
      "start time= 311593750\r\n",
      "start cpu cycle= 9971\r\n"
     ]
    },
    {
     "name": "stdout",
     "output_type": "stream",
     "text": [
      "# Setup Cycles: 42\r\n",
      "# Setup Instructions: 42\r\n",
      "# Run Cycles: 527029\r\n",
      "# Run Instructions: 527029\r\n",
      "# Total Cycles: 527262\r\n",
      "# Total Instructions: 527262\r\n",
      "Program finish.\r\n",
      "MLONMCU EXIT: 0\r\n",
      "CPU Time: 0.0171297s    Simulation Time: 0.367881s\r\n",
      "CPU Cycles (estimated): 548150\r\n",
      "MIPS (estimated): 1.49002\r\n",
      "=== Simulation end ===\r\n",
      "\r\n",
      "CPU0 exited with exception: 0x80000000: Finished cpu execution. This is the proper way to exit from etiss::CPUCore::execute.\r\n"
     ]
    },
    {
     "name": "stdout",
     "output_type": "stream",
     "text": [
      "warning: ignored: .eh_frame / size: 4\r\n",
      "warning: ignored: .fini_array / size: 4\r\n",
      "heap starts at: 0x805760\r\n",
      "=== Results ===\r\n",
      "ROM usage:        247.1 kB (0x3c50c)\r\n",
      "  read-only data: 204.2 kB (0x31dd0)\r\n",
      "  code:           42.8 kB (0xa730)\r\n",
      "  other required: 12 Bytes (0xc)\r\n",
      "RAM usage:        22.3 kB (0x5744) [stack and heap usage not included]\r\n",
      "  data:           1.7 kB (0x6c0)\r\n",
      "  zero-init data: 20.6 kB (0x5084)\r\n",
      "  stack:          unknown [missing trace file]\r\n",
      "  heap:           unknown [missing trace file]\r\n"
     ]
    },
    {
     "name": "stdout",
     "output_type": "stream",
     "text": [
      "INFO - All runs completed successfuly!\r\n",
      "INFO - Postprocessing session report\r\n",
      "INFO - [session-2] Done processing runs\r\n",
      "INFO - Report:\r\n",
      "   Session  Run      Model Frontend Framework     Backend Platform Target  Total Cycles  Total Instructions  Total CPI  Total ROM  Total RAM  ROM read-only  ROM code  ROM misc  RAM data  RAM zero-init data  Validation                             Features                                             Config Postprocesses Comment\r\n",
      "0        2    0  qnn_model   tflite       tvm  tvmaotplus     mlif  etiss        527262              527262        1.0     247052      22340         204240     42800        12      1728               20612        True  [vanilla_accelerator, uma_backends]  {'qnn_model.metadata_path': 'definition.yml', ...            []       -\r\n"
     ]
    }
   ],
   "source": [
    "!python3 -m mlonmcu.cli.main flow run qnn_model.tflite --backend tvmaotplus --target etiss -c tvmaotplus.desired_layout=NCHW -f uma_backends -c uma_backends.uma_dir=$(pwd)/../../../resources/frameworks/tvm -c uma_backends.uma_target=q_vanilla_accelerator -c etiss.print_outputs=1 -f vanilla_accelerator -c vanilla_accelerator.plugin_name=QVanillaAcceleratorT"
   ]
  }
 ],
 "metadata": {
  "kernelspec": {
   "display_name": "Python 3 (ipykernel)",
   "language": "python",
   "name": "python3"
  },
  "language_info": {
   "codemirror_mode": {
    "name": "ipython",
    "version": 3
   },
   "file_extension": ".py",
   "mimetype": "text/x-python",
   "name": "python",
   "nbconvert_exporter": "python",
   "pygments_lexer": "ipython3",
   "version": "3.8.18"
  },
  "papermill": {
   "default_parameters": {},
   "duration": 18.111786,
   "end_time": "2024-02-06T10:19:37.628707",
   "environment_variables": {},
   "exception": null,
   "input_path": "/home/runner/work/mlonmcu/mlonmcu/ipynb/Examples/TVM-UMA/TVM-UMA.ipynb",
   "output_path": "/home/runner/work/mlonmcu/mlonmcu/ipynb/Examples/TVM-UMA/TVM-UMA.ipynb",
   "parameters": {},
   "start_time": "2024-02-06T10:19:19.516921",
   "version": "2.5.0"
  }
 },
 "nbformat": 4,
 "nbformat_minor": 5
}